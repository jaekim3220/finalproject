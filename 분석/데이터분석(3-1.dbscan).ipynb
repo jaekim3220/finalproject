{
 "cells": [
  {
   "cell_type": "markdown",
   "metadata": {},
   "source": [
    "## 패키지 참조"
   ]
  },
  {
   "cell_type": "code",
   "execution_count": 1,
   "metadata": {},
   "outputs": [],
   "source": [
    "from pandas import DataFrame,read_csv,read_excel,merge,melt,pivot_table\n",
    "import numpy\n",
    "from matplotlib import pyplot as plt\n",
    "import seaborn as sb\n",
    "import sys\n",
    "from sklearn.preprocessing import MinMaxScaler,StandardScaler\n",
    "from sklearn.cluster import KMeans\n",
    "from sklearn.cluster import DBSCAN\n",
    "from sklearn.metrics import silhouette_score\n",
    "from factor_analyzer.factor_analyzer import calculate_kmo"
   ]
  },
  {
   "cell_type": "markdown",
   "metadata": {},
   "source": [
    "## 폰트세팅"
   ]
  },
  {
   "cell_type": "code",
   "execution_count": 2,
   "metadata": {},
   "outputs": [],
   "source": [
    "plt.rcParams[\"font.family\"] = 'AppleGothic' if sys.platform == 'darwin' else 'Malgun Gothic'\n",
    "plt.rcParams[\"font.size\"] = 12\n",
    "plt.rcParams[\"figure.figsize\"] = (8, 5)\n",
    "plt.rcParams[\"axes.unicode_minus\"] = False"
   ]
  },
  {
   "cell_type": "markdown",
   "metadata": {},
   "source": [
    "## 데이터"
   ]
  },
  {
   "cell_type": "code",
   "execution_count": 3,
   "metadata": {},
   "outputs": [
    {
     "data": {
      "text/html": [
       "<div>\n",
       "<style scoped>\n",
       "    .dataframe tbody tr th:only-of-type {\n",
       "        vertical-align: middle;\n",
       "    }\n",
       "\n",
       "    .dataframe tbody tr th {\n",
       "        vertical-align: top;\n",
       "    }\n",
       "\n",
       "    .dataframe thead th {\n",
       "        text-align: right;\n",
       "    }\n",
       "</style>\n",
       "<table border=\"1\" class=\"dataframe\">\n",
       "  <thead>\n",
       "    <tr style=\"text-align: right;\">\n",
       "      <th></th>\n",
       "      <th>시도명</th>\n",
       "      <th>시군구코드</th>\n",
       "      <th>시군구명</th>\n",
       "      <th>행정동코드</th>\n",
       "      <th>행정동코드_수정</th>\n",
       "      <th>읍면동명</th>\n",
       "      <th>생성일자</th>\n",
       "      <th>말소일자</th>\n",
       "      <th>지하철역_수</th>\n",
       "      <th>의료기관_수</th>\n",
       "      <th>...</th>\n",
       "      <th>세대당공원면적minmax</th>\n",
       "      <th>수변점수</th>\n",
       "      <th>행정동별버스정류장수</th>\n",
       "      <th>행정동별유통업체수</th>\n",
       "      <th>공공자전거대여소수</th>\n",
       "      <th>인구밀도</th>\n",
       "      <th>여가생활지수minmax</th>\n",
       "      <th>사회적약자_지원_인프라_밀집도minmax</th>\n",
       "      <th>접근성지수minmax</th>\n",
       "      <th>환경자족성지수minmax</th>\n",
       "    </tr>\n",
       "  </thead>\n",
       "  <tbody>\n",
       "    <tr>\n",
       "      <th>0</th>\n",
       "      <td>서울특별시</td>\n",
       "      <td>11110</td>\n",
       "      <td>종로구</td>\n",
       "      <td>1111051500</td>\n",
       "      <td>11110515</td>\n",
       "      <td>청운효자동</td>\n",
       "      <td>20081101</td>\n",
       "      <td>0</td>\n",
       "      <td>0</td>\n",
       "      <td>11</td>\n",
       "      <td>...</td>\n",
       "      <td>0.352898</td>\n",
       "      <td>0</td>\n",
       "      <td>32</td>\n",
       "      <td>0</td>\n",
       "      <td>3</td>\n",
       "      <td>4552.529183</td>\n",
       "      <td>0.002648</td>\n",
       "      <td>0.068435</td>\n",
       "      <td>0.114798</td>\n",
       "      <td>0.212495</td>\n",
       "    </tr>\n",
       "    <tr>\n",
       "      <th>1</th>\n",
       "      <td>서울특별시</td>\n",
       "      <td>11110</td>\n",
       "      <td>종로구</td>\n",
       "      <td>1111053000</td>\n",
       "      <td>11110530</td>\n",
       "      <td>사직동</td>\n",
       "      <td>19880423</td>\n",
       "      <td>0</td>\n",
       "      <td>2</td>\n",
       "      <td>75</td>\n",
       "      <td>...</td>\n",
       "      <td>0.063554</td>\n",
       "      <td>0</td>\n",
       "      <td>27</td>\n",
       "      <td>0</td>\n",
       "      <td>12</td>\n",
       "      <td>7611.382114</td>\n",
       "      <td>0.006464</td>\n",
       "      <td>0.041923</td>\n",
       "      <td>0.333275</td>\n",
       "      <td>0.038269</td>\n",
       "    </tr>\n",
       "  </tbody>\n",
       "</table>\n",
       "<p>2 rows × 37 columns</p>\n",
       "</div>"
      ],
      "text/plain": [
       "     시도명  시군구코드 시군구명       행정동코드  행정동코드_수정   읍면동명      생성일자  말소일자  지하철역_수  \\\n",
       "0  서울특별시  11110  종로구  1111051500  11110515  청운효자동  20081101     0       0   \n",
       "1  서울특별시  11110  종로구  1111053000  11110530    사직동  19880423     0       2   \n",
       "\n",
       "   의료기관_수  ...  세대당공원면적minmax  수변점수  행정동별버스정류장수  행정동별유통업체수  공공자전거대여소수  \\\n",
       "0      11  ...       0.352898     0          32          0          3   \n",
       "1      75  ...       0.063554     0          27          0         12   \n",
       "\n",
       "          인구밀도  여가생활지수minmax  사회적약자_지원_인프라_밀집도minmax  접근성지수minmax  \\\n",
       "0  4552.529183      0.002648                0.068435     0.114798   \n",
       "1  7611.382114      0.006464                0.041923     0.333275   \n",
       "\n",
       "   환경자족성지수minmax  \n",
       "0       0.212495  \n",
       "1       0.038269  \n",
       "\n",
       "[2 rows x 37 columns]"
      ]
     },
     "execution_count": 3,
     "metadata": {},
     "output_type": "execute_result"
    }
   ],
   "source": [
    "origin=read_excel('행정동병합최종_반포본동.xlsx')\n",
    "origin.head(2)"
   ]
  },
  {
   "cell_type": "markdown",
   "metadata": {},
   "source": [
    "### 분석에 필요한 변수만 추출\n",
    "\n",
    "`읍면동`, `지수` 추출"
   ]
  },
  {
   "cell_type": "code",
   "execution_count": 4,
   "metadata": {},
   "outputs": [
    {
     "data": {
      "text/html": [
       "<div>\n",
       "<style scoped>\n",
       "    .dataframe tbody tr th:only-of-type {\n",
       "        vertical-align: middle;\n",
       "    }\n",
       "\n",
       "    .dataframe tbody tr th {\n",
       "        vertical-align: top;\n",
       "    }\n",
       "\n",
       "    .dataframe thead th {\n",
       "        text-align: right;\n",
       "    }\n",
       "</style>\n",
       "<table border=\"1\" class=\"dataframe\">\n",
       "  <thead>\n",
       "    <tr style=\"text-align: right;\">\n",
       "      <th></th>\n",
       "      <th>읍면동명</th>\n",
       "      <th>환경자족성지수minmax</th>\n",
       "      <th>여가생활지수minmax</th>\n",
       "      <th>사회적약자_지원_인프라_밀집도minmax</th>\n",
       "      <th>접근성지수minmax</th>\n",
       "    </tr>\n",
       "  </thead>\n",
       "  <tbody>\n",
       "    <tr>\n",
       "      <th>0</th>\n",
       "      <td>청운효자동</td>\n",
       "      <td>0.212495</td>\n",
       "      <td>0.002648</td>\n",
       "      <td>0.068435</td>\n",
       "      <td>0.114798</td>\n",
       "    </tr>\n",
       "    <tr>\n",
       "      <th>1</th>\n",
       "      <td>사직동</td>\n",
       "      <td>0.038269</td>\n",
       "      <td>0.006464</td>\n",
       "      <td>0.041923</td>\n",
       "      <td>0.333275</td>\n",
       "    </tr>\n",
       "  </tbody>\n",
       "</table>\n",
       "</div>"
      ],
      "text/plain": [
       "    읍면동명  환경자족성지수minmax  여가생활지수minmax  사회적약자_지원_인프라_밀집도minmax  접근성지수minmax\n",
       "0  청운효자동       0.212495      0.002648                0.068435     0.114798\n",
       "1    사직동       0.038269      0.006464                0.041923     0.333275"
      ]
     },
     "execution_count": 4,
     "metadata": {},
     "output_type": "execute_result"
    }
   ],
   "source": [
    "origin1=origin.filter(['읍면동명','환경자족성지수minmax','여가생활지수minmax','사회적약자_지원_인프라_밀집도minmax','접근성지수minmax'])\n",
    "origin1.head(2)"
   ]
  },
  {
   "cell_type": "markdown",
   "metadata": {},
   "source": [
    "### 이상치/결측치 확인 및 처리"
   ]
  },
  {
   "cell_type": "code",
   "execution_count": 5,
   "metadata": {},
   "outputs": [
    {
     "data": {
      "text/plain": [
       "읍면동명                      0\n",
       "환경자족성지수minmax             0\n",
       "여가생활지수minmax              1\n",
       "사회적약자_지원_인프라_밀집도minmax    0\n",
       "접근성지수minmax               0\n",
       "dtype: int64"
      ]
     },
     "execution_count": 5,
     "metadata": {},
     "output_type": "execute_result"
    }
   ],
   "source": [
    "origin1.isna().sum()"
   ]
  },
  {
   "cell_type": "code",
   "execution_count": 6,
   "metadata": {},
   "outputs": [
    {
     "data": {
      "text/plain": [
       "읍면동명                      0\n",
       "환경자족성지수minmax             0\n",
       "여가생활지수minmax              0\n",
       "사회적약자_지원_인프라_밀집도minmax    0\n",
       "접근성지수minmax               0\n",
       "dtype: int64"
      ]
     },
     "execution_count": 6,
     "metadata": {},
     "output_type": "execute_result"
    }
   ],
   "source": [
    "origin2=origin1.copy()\n",
    "origin2=origin1.fillna(0)\n",
    "origin2.isna().sum()"
   ]
  },
  {
   "cell_type": "code",
   "execution_count": 7,
   "metadata": {},
   "outputs": [
    {
     "data": {
      "text/html": [
       "<div>\n",
       "<style scoped>\n",
       "    .dataframe tbody tr th:only-of-type {\n",
       "        vertical-align: middle;\n",
       "    }\n",
       "\n",
       "    .dataframe tbody tr th {\n",
       "        vertical-align: top;\n",
       "    }\n",
       "\n",
       "    .dataframe thead th {\n",
       "        text-align: right;\n",
       "    }\n",
       "</style>\n",
       "<table border=\"1\" class=\"dataframe\">\n",
       "  <thead>\n",
       "    <tr style=\"text-align: right;\">\n",
       "      <th></th>\n",
       "      <th>읍면동명</th>\n",
       "      <th>환경자족성지수minmax</th>\n",
       "      <th>여가생활지수minmax</th>\n",
       "      <th>사회적약자_지원_인프라_밀집도minmax</th>\n",
       "      <th>접근성지수minmax</th>\n",
       "    </tr>\n",
       "  </thead>\n",
       "  <tbody>\n",
       "    <tr>\n",
       "      <th>0</th>\n",
       "      <td>청운효자동</td>\n",
       "      <td>0.212495</td>\n",
       "      <td>0.002648</td>\n",
       "      <td>0.068435</td>\n",
       "      <td>0.114798</td>\n",
       "    </tr>\n",
       "    <tr>\n",
       "      <th>1</th>\n",
       "      <td>사직동</td>\n",
       "      <td>0.038269</td>\n",
       "      <td>0.006464</td>\n",
       "      <td>0.041923</td>\n",
       "      <td>0.333275</td>\n",
       "    </tr>\n",
       "  </tbody>\n",
       "</table>\n",
       "</div>"
      ],
      "text/plain": [
       "    읍면동명  환경자족성지수minmax  여가생활지수minmax  사회적약자_지원_인프라_밀집도minmax  접근성지수minmax\n",
       "0  청운효자동       0.212495      0.002648                0.068435     0.114798\n",
       "1    사직동       0.038269      0.006464                0.041923     0.333275"
      ]
     },
     "execution_count": 7,
     "metadata": {},
     "output_type": "execute_result"
    }
   ],
   "source": [
    "origin2.head(2)"
   ]
  },
  {
   "cell_type": "markdown",
   "metadata": {},
   "source": [
    "## #1. `환경자족성지수 - 여가생활지수`"
   ]
  },
  {
   "cell_type": "markdown",
   "metadata": {},
   "source": [
    "### 변수 추출"
   ]
  },
  {
   "cell_type": "code",
   "execution_count": 8,
   "metadata": {},
   "outputs": [
    {
     "data": {
      "text/html": [
       "<div>\n",
       "<style scoped>\n",
       "    .dataframe tbody tr th:only-of-type {\n",
       "        vertical-align: middle;\n",
       "    }\n",
       "\n",
       "    .dataframe tbody tr th {\n",
       "        vertical-align: top;\n",
       "    }\n",
       "\n",
       "    .dataframe thead th {\n",
       "        text-align: right;\n",
       "    }\n",
       "</style>\n",
       "<table border=\"1\" class=\"dataframe\">\n",
       "  <thead>\n",
       "    <tr style=\"text-align: right;\">\n",
       "      <th></th>\n",
       "      <th>읍면동명</th>\n",
       "      <th>환경자족성지수minmax</th>\n",
       "      <th>여가생활지수minmax</th>\n",
       "      <th>사회적약자_지원_인프라_밀집도minmax</th>\n",
       "      <th>접근성지수minmax</th>\n",
       "    </tr>\n",
       "  </thead>\n",
       "  <tbody>\n",
       "    <tr>\n",
       "      <th>0</th>\n",
       "      <td>청운효자동</td>\n",
       "      <td>0.212495</td>\n",
       "      <td>0.002648</td>\n",
       "      <td>0.068435</td>\n",
       "      <td>0.114798</td>\n",
       "    </tr>\n",
       "    <tr>\n",
       "      <th>1</th>\n",
       "      <td>사직동</td>\n",
       "      <td>0.038269</td>\n",
       "      <td>0.006464</td>\n",
       "      <td>0.041923</td>\n",
       "      <td>0.333275</td>\n",
       "    </tr>\n",
       "    <tr>\n",
       "      <th>2</th>\n",
       "      <td>삼청동</td>\n",
       "      <td>0.602143</td>\n",
       "      <td>0.005332</td>\n",
       "      <td>0.090426</td>\n",
       "      <td>0.342620</td>\n",
       "    </tr>\n",
       "    <tr>\n",
       "      <th>3</th>\n",
       "      <td>부암동</td>\n",
       "      <td>0.602143</td>\n",
       "      <td>0.001699</td>\n",
       "      <td>0.067935</td>\n",
       "      <td>0.157400</td>\n",
       "    </tr>\n",
       "    <tr>\n",
       "      <th>4</th>\n",
       "      <td>평창동</td>\n",
       "      <td>0.602861</td>\n",
       "      <td>0.000529</td>\n",
       "      <td>0.073234</td>\n",
       "      <td>0.135935</td>\n",
       "    </tr>\n",
       "  </tbody>\n",
       "</table>\n",
       "</div>"
      ],
      "text/plain": [
       "    읍면동명  환경자족성지수minmax  여가생활지수minmax  사회적약자_지원_인프라_밀집도minmax  접근성지수minmax\n",
       "0  청운효자동       0.212495      0.002648                0.068435     0.114798\n",
       "1    사직동       0.038269      0.006464                0.041923     0.333275\n",
       "2    삼청동       0.602143      0.005332                0.090426     0.342620\n",
       "3    부암동       0.602143      0.001699                0.067935     0.157400\n",
       "4    평창동       0.602861      0.000529                0.073234     0.135935"
      ]
     },
     "execution_count": 8,
     "metadata": {},
     "output_type": "execute_result"
    }
   ],
   "source": [
    "origin2.head()"
   ]
  },
  {
   "cell_type": "code",
   "execution_count": 9,
   "metadata": {},
   "outputs": [
    {
     "data": {
      "text/plain": [
       "array([[2.12494728e-01, 2.64751750e-03],\n",
       "       [3.82685661e-02, 6.46393211e-03],\n",
       "       [6.02142889e-01, 5.33216587e-03],\n",
       "       [6.02142889e-01, 1.69869928e-03],\n",
       "       [6.02860542e-01, 5.28773115e-04]])"
      ]
     },
     "execution_count": 9,
     "metadata": {},
     "output_type": "execute_result"
    }
   ],
   "source": [
    "origin3=origin2.copy()\n",
    "X = origin3.iloc[:,[1,2]].values # x값으로 환경자족성지수,여가생활지수 지정\n",
    "X[:5]"
   ]
  },
  {
   "cell_type": "markdown",
   "metadata": {},
   "source": [
    "### DBSCAN 모델 구축\n",
    "\n",
    "DBSCAN 구현 파라미터\n",
    "\n",
    "| 파라미터 | 설명 |\n",
    "| -- | -- |\n",
    "| `eps` | 하나의 샘플에 대한 다른 샘플과의 최대 거리 |\n",
    "| `min_samples` | MinPts. 핵심 포인트로 간주할 포인트에 대한 이웃의 샘플 수 |"
   ]
  },
  {
   "cell_type": "code",
   "execution_count": 10,
   "metadata": {},
   "outputs": [
    {
     "data": {
      "text/html": [
       "<style>#sk-container-id-1 {color: black;}#sk-container-id-1 pre{padding: 0;}#sk-container-id-1 div.sk-toggleable {background-color: white;}#sk-container-id-1 label.sk-toggleable__label {cursor: pointer;display: block;width: 100%;margin-bottom: 0;padding: 0.3em;box-sizing: border-box;text-align: center;}#sk-container-id-1 label.sk-toggleable__label-arrow:before {content: \"▸\";float: left;margin-right: 0.25em;color: #696969;}#sk-container-id-1 label.sk-toggleable__label-arrow:hover:before {color: black;}#sk-container-id-1 div.sk-estimator:hover label.sk-toggleable__label-arrow:before {color: black;}#sk-container-id-1 div.sk-toggleable__content {max-height: 0;max-width: 0;overflow: hidden;text-align: left;background-color: #f0f8ff;}#sk-container-id-1 div.sk-toggleable__content pre {margin: 0.2em;color: black;border-radius: 0.25em;background-color: #f0f8ff;}#sk-container-id-1 input.sk-toggleable__control:checked~div.sk-toggleable__content {max-height: 200px;max-width: 100%;overflow: auto;}#sk-container-id-1 input.sk-toggleable__control:checked~label.sk-toggleable__label-arrow:before {content: \"▾\";}#sk-container-id-1 div.sk-estimator input.sk-toggleable__control:checked~label.sk-toggleable__label {background-color: #d4ebff;}#sk-container-id-1 div.sk-label input.sk-toggleable__control:checked~label.sk-toggleable__label {background-color: #d4ebff;}#sk-container-id-1 input.sk-hidden--visually {border: 0;clip: rect(1px 1px 1px 1px);clip: rect(1px, 1px, 1px, 1px);height: 1px;margin: -1px;overflow: hidden;padding: 0;position: absolute;width: 1px;}#sk-container-id-1 div.sk-estimator {font-family: monospace;background-color: #f0f8ff;border: 1px dotted black;border-radius: 0.25em;box-sizing: border-box;margin-bottom: 0.5em;}#sk-container-id-1 div.sk-estimator:hover {background-color: #d4ebff;}#sk-container-id-1 div.sk-parallel-item::after {content: \"\";width: 100%;border-bottom: 1px solid gray;flex-grow: 1;}#sk-container-id-1 div.sk-label:hover label.sk-toggleable__label {background-color: #d4ebff;}#sk-container-id-1 div.sk-serial::before {content: \"\";position: absolute;border-left: 1px solid gray;box-sizing: border-box;top: 0;bottom: 0;left: 50%;z-index: 0;}#sk-container-id-1 div.sk-serial {display: flex;flex-direction: column;align-items: center;background-color: white;padding-right: 0.2em;padding-left: 0.2em;position: relative;}#sk-container-id-1 div.sk-item {position: relative;z-index: 1;}#sk-container-id-1 div.sk-parallel {display: flex;align-items: stretch;justify-content: center;background-color: white;position: relative;}#sk-container-id-1 div.sk-item::before, #sk-container-id-1 div.sk-parallel-item::before {content: \"\";position: absolute;border-left: 1px solid gray;box-sizing: border-box;top: 0;bottom: 0;left: 50%;z-index: -1;}#sk-container-id-1 div.sk-parallel-item {display: flex;flex-direction: column;z-index: 1;position: relative;background-color: white;}#sk-container-id-1 div.sk-parallel-item:first-child::after {align-self: flex-end;width: 50%;}#sk-container-id-1 div.sk-parallel-item:last-child::after {align-self: flex-start;width: 50%;}#sk-container-id-1 div.sk-parallel-item:only-child::after {width: 0;}#sk-container-id-1 div.sk-dashed-wrapped {border: 1px dashed gray;margin: 0 0.4em 0.5em 0.4em;box-sizing: border-box;padding-bottom: 0.4em;background-color: white;}#sk-container-id-1 div.sk-label label {font-family: monospace;font-weight: bold;display: inline-block;line-height: 1.2em;}#sk-container-id-1 div.sk-label-container {text-align: center;}#sk-container-id-1 div.sk-container {/* jupyter's `normalize.less` sets `[hidden] { display: none; }` but bootstrap.min.css set `[hidden] { display: none !important; }` so we also need the `!important` here to be able to override the default hidden behavior on the sphinx rendered scikit-learn.org. See: https://github.com/scikit-learn/scikit-learn/issues/21755 */display: inline-block !important;position: relative;}#sk-container-id-1 div.sk-text-repr-fallback {display: none;}</style><div id=\"sk-container-id-1\" class=\"sk-top-container\"><div class=\"sk-text-repr-fallback\"><pre>DBSCAN(eps=0.03, leaf_size=10, metric=&#x27;chebyshev&#x27;)</pre><b>In a Jupyter environment, please rerun this cell to show the HTML representation or trust the notebook. <br />On GitHub, the HTML representation is unable to render, please try loading this page with nbviewer.org.</b></div><div class=\"sk-container\" hidden><div class=\"sk-item\"><div class=\"sk-estimator sk-toggleable\"><input class=\"sk-toggleable__control sk-hidden--visually\" id=\"sk-estimator-id-1\" type=\"checkbox\" checked><label for=\"sk-estimator-id-1\" class=\"sk-toggleable__label sk-toggleable__label-arrow\">DBSCAN</label><div class=\"sk-toggleable__content\"><pre>DBSCAN(eps=0.03, leaf_size=10, metric=&#x27;chebyshev&#x27;)</pre></div></div></div></div></div>"
      ],
      "text/plain": [
       "DBSCAN(eps=0.03, leaf_size=10, metric='chebyshev')"
      ]
     },
     "execution_count": 10,
     "metadata": {},
     "output_type": "execute_result"
    }
   ],
   "source": [
    "dbscan=DBSCAN(eps=0.03,min_samples=5,leaf_size=10,metric='chebyshev')\n",
    "dbscan.fit(X)"
   ]
  },
  {
   "cell_type": "markdown",
   "metadata": {},
   "source": [
    "### 군집 결과"
   ]
  },
  {
   "cell_type": "code",
   "execution_count": 11,
   "metadata": {},
   "outputs": [
    {
     "data": {
      "text/plain": [
       "array([ 0,  1,  2,  2,  2,  1,  1,  1, -1,  1,  1,  1, -1,  1,  1,  3,  2,\n",
       "        1, -1,  1,  1,  1, -1,  1, -1,  1,  1,  1,  0,  1, -1,  1,  1,  1,\n",
       "        1,  1,  1,  2,  1,  4,  2,  2,  2, -1,  1,  2,  2,  2,  0,  2,  2,\n",
       "        2,  2, -1,  2,  5,  1,  2,  2,  2,  2,  2,  2,  2,  2,  5,  2,  2,\n",
       "        4,  2,  0,  2,  3,  2,  2,  2,  6,  6,  2,  2,  2, -1,  3,  2,  2,\n",
       "        2,  2,  2, -1,  2,  2,  2,  2,  2, -1,  2,  2,  2,  4,  3,  2,  3,\n",
       "        2,  2,  2,  2,  4,  2,  2,  1,  1,  1,  1, -1,  2,  2,  1,  1,  1,\n",
       "        1,  1,  2,  1,  2,  5,  5,  2,  2,  1,  4,  1,  1,  1,  2,  8,  2,\n",
       "        1,  2,  2,  7,  2,  2,  2,  2,  2,  2,  2,  2,  2,  2,  9,  2,  2,\n",
       "        2,  2,  2,  3,  2,  0,  2, -1,  1, -1,  2,  2,  1,  2,  0,  2,  2,\n",
       "        2,  2,  2,  2,  2,  2,  2,  5,  2,  2,  2,  2,  2,  2,  1,  1,  1,\n",
       "        7,  2,  2,  2,  3,  2,  8,  2,  2,  2,  2,  1,  1,  2,  2,  2,  6,\n",
       "        2,  2,  2,  2,  2,  2,  2,  2,  2,  8,  2,  2, -1,  1,  2,  1,  1,\n",
       "        1,  1,  1,  1,  3,  1,  2,  9,  1,  2,  2,  2, -1,  1,  4,  1,  1,\n",
       "        1,  1,  1,  1,  1,  2,  2,  2,  1,  1,  1,  2,  2,  2,  2,  2,  2,\n",
       "        2,  4,  2,  0,  2,  2,  2, -1,  2,  2,  2,  2,  3,  0,  1,  2,  2,\n",
       "        9,  2,  2,  2,  3,  2,  2,  2,  2,  2,  2,  2,  3,  2,  2,  2, -1,\n",
       "        2,  2,  2,  2,  2,  2,  2,  2,  2,  1,  8,  1, -1,  0,  2,  2,  2,\n",
       "        2, -1,  3,  2,  2,  2,  2,  2,  9,  2,  2,  2,  2,  2,  4,  2,  2,\n",
       "        3,  3,  1,  1,  1,  1,  2,  6,  2,  2,  0,  2,  1,  1,  1,  1, -1,\n",
       "        2,  1,  1,  5,  2,  2,  1,  2,  2,  1,  1,  1,  3,  2,  2,  2,  2,\n",
       "        2,  2,  7,  2,  2,  2,  2,  2,  7,  2,  2,  5,  7,  8,  2,  1,  1,\n",
       "        2,  2,  1,  2,  3,  6,  2,  3,  2,  2,  2,  2,  2,  2,  2,  2,  2,\n",
       "        2,  1,  0,  2,  3,  1,  2,  1,  2,  0,  9,  1,  5,  1],\n",
       "      dtype=int64)"
      ]
     },
     "execution_count": 11,
     "metadata": {},
     "output_type": "execute_result"
    }
   ],
   "source": [
    "cluster_label=dbscan.labels_\n",
    "cluster_label"
   ]
  },
  {
   "cell_type": "markdown",
   "metadata": {},
   "source": [
    "### 군집 결과 데이터 통합"
   ]
  },
  {
   "cell_type": "code",
   "execution_count": 12,
   "metadata": {},
   "outputs": [
    {
     "data": {
      "text/html": [
       "<div>\n",
       "<style scoped>\n",
       "    .dataframe tbody tr th:only-of-type {\n",
       "        vertical-align: middle;\n",
       "    }\n",
       "\n",
       "    .dataframe tbody tr th {\n",
       "        vertical-align: top;\n",
       "    }\n",
       "\n",
       "    .dataframe thead th {\n",
       "        text-align: right;\n",
       "    }\n",
       "</style>\n",
       "<table border=\"1\" class=\"dataframe\">\n",
       "  <thead>\n",
       "    <tr style=\"text-align: right;\">\n",
       "      <th></th>\n",
       "      <th>읍면동명</th>\n",
       "      <th>환경자족성지수minmax</th>\n",
       "      <th>여가생활지수minmax</th>\n",
       "      <th>사회적약자_지원_인프라_밀집도minmax</th>\n",
       "      <th>접근성지수minmax</th>\n",
       "      <th>cluster_id</th>\n",
       "    </tr>\n",
       "  </thead>\n",
       "  <tbody>\n",
       "    <tr>\n",
       "      <th>0</th>\n",
       "      <td>청운효자동</td>\n",
       "      <td>0.212495</td>\n",
       "      <td>0.002648</td>\n",
       "      <td>0.068435</td>\n",
       "      <td>0.114798</td>\n",
       "      <td>0</td>\n",
       "    </tr>\n",
       "    <tr>\n",
       "      <th>1</th>\n",
       "      <td>사직동</td>\n",
       "      <td>0.038269</td>\n",
       "      <td>0.006464</td>\n",
       "      <td>0.041923</td>\n",
       "      <td>0.333275</td>\n",
       "      <td>1</td>\n",
       "    </tr>\n",
       "    <tr>\n",
       "      <th>2</th>\n",
       "      <td>삼청동</td>\n",
       "      <td>0.602143</td>\n",
       "      <td>0.005332</td>\n",
       "      <td>0.090426</td>\n",
       "      <td>0.342620</td>\n",
       "      <td>2</td>\n",
       "    </tr>\n",
       "    <tr>\n",
       "      <th>3</th>\n",
       "      <td>부암동</td>\n",
       "      <td>0.602143</td>\n",
       "      <td>0.001699</td>\n",
       "      <td>0.067935</td>\n",
       "      <td>0.157400</td>\n",
       "      <td>2</td>\n",
       "    </tr>\n",
       "    <tr>\n",
       "      <th>4</th>\n",
       "      <td>평창동</td>\n",
       "      <td>0.602861</td>\n",
       "      <td>0.000529</td>\n",
       "      <td>0.073234</td>\n",
       "      <td>0.135935</td>\n",
       "      <td>2</td>\n",
       "    </tr>\n",
       "  </tbody>\n",
       "</table>\n",
       "</div>"
      ],
      "text/plain": [
       "    읍면동명  환경자족성지수minmax  여가생활지수minmax  사회적약자_지원_인프라_밀집도minmax  접근성지수minmax  \\\n",
       "0  청운효자동       0.212495      0.002648                0.068435     0.114798   \n",
       "1    사직동       0.038269      0.006464                0.041923     0.333275   \n",
       "2    삼청동       0.602143      0.005332                0.090426     0.342620   \n",
       "3    부암동       0.602143      0.001699                0.067935     0.157400   \n",
       "4    평창동       0.602861      0.000529                0.073234     0.135935   \n",
       "\n",
       "   cluster_id  \n",
       "0           0  \n",
       "1           1  \n",
       "2           2  \n",
       "3           2  \n",
       "4           2  "
      ]
     },
     "execution_count": 12,
     "metadata": {},
     "output_type": "execute_result"
    }
   ],
   "source": [
    "origin3['cluster_id'] = cluster_label\n",
    "origin3.head()"
   ]
  },
  {
   "cell_type": "markdown",
   "metadata": {},
   "source": [
    "### 군집 결과 시각화"
   ]
  },
  {
   "cell_type": "code",
   "execution_count": 13,
   "metadata": {},
   "outputs": [
    {
     "data": {
      "image/png": "[encoded data removed]",
      "text/plain": [
       "<Figure size 1000x500 with 1 Axes>"
      ]
     },
     "metadata": {},
     "output_type": "display_data"
    }
   ],
   "source": [
    "plt.figure(figsize=(10,5))\n",
    "sb.scatterplot(data=origin3,x='여가생활지수minmax',y='환경자족성지수minmax',hue=cluster_label,palette='Set1')\n",
    "plt.grid()\n",
    "plt.show()\n",
    "plt.close()"
   ]
  },
  {
   "cell_type": "markdown",
   "metadata": {},
   "source": [
    "### 수동 voting을 위한 xlsx 파일 생성"
   ]
  },
  {
   "cell_type": "code",
   "execution_count": 56,
   "metadata": {},
   "outputs": [
    {
     "data": {
      "text/html": [
       "<div>\n",
       "<style scoped>\n",
       "    .dataframe tbody tr th:only-of-type {\n",
       "        vertical-align: middle;\n",
       "    }\n",
       "\n",
       "    .dataframe tbody tr th {\n",
       "        vertical-align: top;\n",
       "    }\n",
       "\n",
       "    .dataframe thead th {\n",
       "        text-align: right;\n",
       "    }\n",
       "</style>\n",
       "<table border=\"1\" class=\"dataframe\">\n",
       "  <thead>\n",
       "    <tr style=\"text-align: right;\">\n",
       "      <th></th>\n",
       "      <th>읍면동명</th>\n",
       "      <th>환경자족성지수minmax</th>\n",
       "      <th>여가생활지수minmax</th>\n",
       "      <th>사회적약자_지원_인프라_밀집도minmax</th>\n",
       "      <th>접근성지수minmax</th>\n",
       "      <th>cluster_id</th>\n",
       "    </tr>\n",
       "  </thead>\n",
       "  <tbody>\n",
       "    <tr>\n",
       "      <th>8</th>\n",
       "      <td>종로1.2.3.4가동</td>\n",
       "      <td>0.063833</td>\n",
       "      <td>0.069040</td>\n",
       "      <td>0.206536</td>\n",
       "      <td>0.831703</td>\n",
       "      <td>-1</td>\n",
       "    </tr>\n",
       "    <tr>\n",
       "      <th>12</th>\n",
       "      <td>창신제1동</td>\n",
       "      <td>0.000000</td>\n",
       "      <td>0.263260</td>\n",
       "      <td>0.061943</td>\n",
       "      <td>0.161153</td>\n",
       "      <td>-1</td>\n",
       "    </tr>\n",
       "    <tr>\n",
       "      <th>18</th>\n",
       "      <td>회현동</td>\n",
       "      <td>0.000000</td>\n",
       "      <td>0.294433</td>\n",
       "      <td>0.155671</td>\n",
       "      <td>0.722658</td>\n",
       "      <td>-1</td>\n",
       "    </tr>\n",
       "    <tr>\n",
       "      <th>22</th>\n",
       "      <td>광희동</td>\n",
       "      <td>0.001183</td>\n",
       "      <td>0.467260</td>\n",
       "      <td>0.051345</td>\n",
       "      <td>0.358815</td>\n",
       "      <td>-1</td>\n",
       "    </tr>\n",
       "    <tr>\n",
       "      <th>24</th>\n",
       "      <td>신당동</td>\n",
       "      <td>0.301071</td>\n",
       "      <td>1.000000</td>\n",
       "      <td>0.031490</td>\n",
       "      <td>0.235243</td>\n",
       "      <td>-1</td>\n",
       "    </tr>\n",
       "  </tbody>\n",
       "</table>\n",
       "</div>"
      ],
      "text/plain": [
       "           읍면동명  환경자족성지수minmax  여가생활지수minmax  사회적약자_지원_인프라_밀집도minmax  \\\n",
       "8   종로1.2.3.4가동       0.063833      0.069040                0.206536   \n",
       "12        창신제1동       0.000000      0.263260                0.061943   \n",
       "18          회현동       0.000000      0.294433                0.155671   \n",
       "22          광희동       0.001183      0.467260                0.051345   \n",
       "24          신당동       0.301071      1.000000                0.031490   \n",
       "\n",
       "    접근성지수minmax  cluster_id  \n",
       "8      0.831703          -1  \n",
       "12     0.161153          -1  \n",
       "18     0.722658          -1  \n",
       "22     0.358815          -1  \n",
       "24     0.235243          -1  "
      ]
     },
     "execution_count": 56,
     "metadata": {},
     "output_type": "execute_result"
    }
   ],
   "source": [
    "origin3[origin3['cluster_id']==-1]\n",
    "origin3_final=DataFrame(origin3[origin3['cluster_id']==-1])\n",
    "origin3_final.head()"
   ]
  },
  {
   "cell_type": "code",
   "execution_count": 57,
   "metadata": {},
   "outputs": [],
   "source": [
    "origin3_final.to_excel('./교집합결과/여가생활,환경자족성지수voting2.xlsx')"
   ]
  },
  {
   "cell_type": "code",
   "execution_count": null,
   "metadata": {},
   "outputs": [],
   "source": []
  },
  {
   "cell_type": "markdown",
   "metadata": {},
   "source": [
    "## #2. `환경자족성지수 - 사회적약자지수`"
   ]
  },
  {
   "cell_type": "markdown",
   "metadata": {},
   "source": [
    "### 변수 추출"
   ]
  },
  {
   "cell_type": "code",
   "execution_count": 16,
   "metadata": {},
   "outputs": [
    {
     "data": {
      "text/html": [
       "<div>\n",
       "<style scoped>\n",
       "    .dataframe tbody tr th:only-of-type {\n",
       "        vertical-align: middle;\n",
       "    }\n",
       "\n",
       "    .dataframe tbody tr th {\n",
       "        vertical-align: top;\n",
       "    }\n",
       "\n",
       "    .dataframe thead th {\n",
       "        text-align: right;\n",
       "    }\n",
       "</style>\n",
       "<table border=\"1\" class=\"dataframe\">\n",
       "  <thead>\n",
       "    <tr style=\"text-align: right;\">\n",
       "      <th></th>\n",
       "      <th>읍면동명</th>\n",
       "      <th>환경자족성지수minmax</th>\n",
       "      <th>여가생활지수minmax</th>\n",
       "      <th>사회적약자_지원_인프라_밀집도minmax</th>\n",
       "      <th>접근성지수minmax</th>\n",
       "    </tr>\n",
       "  </thead>\n",
       "  <tbody>\n",
       "    <tr>\n",
       "      <th>0</th>\n",
       "      <td>청운효자동</td>\n",
       "      <td>0.212495</td>\n",
       "      <td>0.002648</td>\n",
       "      <td>0.068435</td>\n",
       "      <td>0.114798</td>\n",
       "    </tr>\n",
       "    <tr>\n",
       "      <th>1</th>\n",
       "      <td>사직동</td>\n",
       "      <td>0.038269</td>\n",
       "      <td>0.006464</td>\n",
       "      <td>0.041923</td>\n",
       "      <td>0.333275</td>\n",
       "    </tr>\n",
       "    <tr>\n",
       "      <th>2</th>\n",
       "      <td>삼청동</td>\n",
       "      <td>0.602143</td>\n",
       "      <td>0.005332</td>\n",
       "      <td>0.090426</td>\n",
       "      <td>0.342620</td>\n",
       "    </tr>\n",
       "    <tr>\n",
       "      <th>3</th>\n",
       "      <td>부암동</td>\n",
       "      <td>0.602143</td>\n",
       "      <td>0.001699</td>\n",
       "      <td>0.067935</td>\n",
       "      <td>0.157400</td>\n",
       "    </tr>\n",
       "    <tr>\n",
       "      <th>4</th>\n",
       "      <td>평창동</td>\n",
       "      <td>0.602861</td>\n",
       "      <td>0.000529</td>\n",
       "      <td>0.073234</td>\n",
       "      <td>0.135935</td>\n",
       "    </tr>\n",
       "  </tbody>\n",
       "</table>\n",
       "</div>"
      ],
      "text/plain": [
       "    읍면동명  환경자족성지수minmax  여가생활지수minmax  사회적약자_지원_인프라_밀집도minmax  접근성지수minmax\n",
       "0  청운효자동       0.212495      0.002648                0.068435     0.114798\n",
       "1    사직동       0.038269      0.006464                0.041923     0.333275\n",
       "2    삼청동       0.602143      0.005332                0.090426     0.342620\n",
       "3    부암동       0.602143      0.001699                0.067935     0.157400\n",
       "4    평창동       0.602861      0.000529                0.073234     0.135935"
      ]
     },
     "execution_count": 16,
     "metadata": {},
     "output_type": "execute_result"
    }
   ],
   "source": [
    "origin2.head()"
   ]
  },
  {
   "cell_type": "code",
   "execution_count": 17,
   "metadata": {},
   "outputs": [
    {
     "data": {
      "text/plain": [
       "array([[0.21249473, 0.06843491],\n",
       "       [0.03826857, 0.04192329],\n",
       "       [0.60214289, 0.09042634],\n",
       "       [0.60214289, 0.06793525],\n",
       "       [0.60286054, 0.0732343 ]])"
      ]
     },
     "execution_count": 17,
     "metadata": {},
     "output_type": "execute_result"
    }
   ],
   "source": [
    "origin4=origin2.copy()\n",
    "Y = origin4.iloc[:,[1,3]].values # x값으로 환경자족성지수,사회적약자지수 지정\n",
    "Y[:5]"
   ]
  },
  {
   "cell_type": "markdown",
   "metadata": {},
   "source": [
    "### DBSCAN 모델 구축\n",
    "\n",
    "DBSCAN 구현 파라미터\n",
    "\n",
    "| 파라미터 | 설명 |\n",
    "| -- | -- |\n",
    "| `eps` | 하나의 샘플에 대한 다른 샘플과의 최대 거리 |\n",
    "| `min_samples` | MinPts. 핵심 포인트로 간주할 포인트에 대한 이웃의 샘플 수 |"
   ]
  },
  {
   "cell_type": "code",
   "execution_count": 18,
   "metadata": {},
   "outputs": [
    {
     "data": {
      "text/html": [
       "<style>#sk-container-id-2 {color: black;}#sk-container-id-2 pre{padding: 0;}#sk-container-id-2 div.sk-toggleable {background-color: white;}#sk-container-id-2 label.sk-toggleable__label {cursor: pointer;display: block;width: 100%;margin-bottom: 0;padding: 0.3em;box-sizing: border-box;text-align: center;}#sk-container-id-2 label.sk-toggleable__label-arrow:before {content: \"▸\";float: left;margin-right: 0.25em;color: #696969;}#sk-container-id-2 label.sk-toggleable__label-arrow:hover:before {color: black;}#sk-container-id-2 div.sk-estimator:hover label.sk-toggleable__label-arrow:before {color: black;}#sk-container-id-2 div.sk-toggleable__content {max-height: 0;max-width: 0;overflow: hidden;text-align: left;background-color: #f0f8ff;}#sk-container-id-2 div.sk-toggleable__content pre {margin: 0.2em;color: black;border-radius: 0.25em;background-color: #f0f8ff;}#sk-container-id-2 input.sk-toggleable__control:checked~div.sk-toggleable__content {max-height: 200px;max-width: 100%;overflow: auto;}#sk-container-id-2 input.sk-toggleable__control:checked~label.sk-toggleable__label-arrow:before {content: \"▾\";}#sk-container-id-2 div.sk-estimator input.sk-toggleable__control:checked~label.sk-toggleable__label {background-color: #d4ebff;}#sk-container-id-2 div.sk-label input.sk-toggleable__control:checked~label.sk-toggleable__label {background-color: #d4ebff;}#sk-container-id-2 input.sk-hidden--visually {border: 0;clip: rect(1px 1px 1px 1px);clip: rect(1px, 1px, 1px, 1px);height: 1px;margin: -1px;overflow: hidden;padding: 0;position: absolute;width: 1px;}#sk-container-id-2 div.sk-estimator {font-family: monospace;background-color: #f0f8ff;border: 1px dotted black;border-radius: 0.25em;box-sizing: border-box;margin-bottom: 0.5em;}#sk-container-id-2 div.sk-estimator:hover {background-color: #d4ebff;}#sk-container-id-2 div.sk-parallel-item::after {content: \"\";width: 100%;border-bottom: 1px solid gray;flex-grow: 1;}#sk-container-id-2 div.sk-label:hover label.sk-toggleable__label {background-color: #d4ebff;}#sk-container-id-2 div.sk-serial::before {content: \"\";position: absolute;border-left: 1px solid gray;box-sizing: border-box;top: 0;bottom: 0;left: 50%;z-index: 0;}#sk-container-id-2 div.sk-serial {display: flex;flex-direction: column;align-items: center;background-color: white;padding-right: 0.2em;padding-left: 0.2em;position: relative;}#sk-container-id-2 div.sk-item {position: relative;z-index: 1;}#sk-container-id-2 div.sk-parallel {display: flex;align-items: stretch;justify-content: center;background-color: white;position: relative;}#sk-container-id-2 div.sk-item::before, #sk-container-id-2 div.sk-parallel-item::before {content: \"\";position: absolute;border-left: 1px solid gray;box-sizing: border-box;top: 0;bottom: 0;left: 50%;z-index: -1;}#sk-container-id-2 div.sk-parallel-item {display: flex;flex-direction: column;z-index: 1;position: relative;background-color: white;}#sk-container-id-2 div.sk-parallel-item:first-child::after {align-self: flex-end;width: 50%;}#sk-container-id-2 div.sk-parallel-item:last-child::after {align-self: flex-start;width: 50%;}#sk-container-id-2 div.sk-parallel-item:only-child::after {width: 0;}#sk-container-id-2 div.sk-dashed-wrapped {border: 1px dashed gray;margin: 0 0.4em 0.5em 0.4em;box-sizing: border-box;padding-bottom: 0.4em;background-color: white;}#sk-container-id-2 div.sk-label label {font-family: monospace;font-weight: bold;display: inline-block;line-height: 1.2em;}#sk-container-id-2 div.sk-label-container {text-align: center;}#sk-container-id-2 div.sk-container {/* jupyter's `normalize.less` sets `[hidden] { display: none; }` but bootstrap.min.css set `[hidden] { display: none !important; }` so we also need the `!important` here to be able to override the default hidden behavior on the sphinx rendered scikit-learn.org. See: https://github.com/scikit-learn/scikit-learn/issues/21755 */display: inline-block !important;position: relative;}#sk-container-id-2 div.sk-text-repr-fallback {display: none;}</style><div id=\"sk-container-id-2\" class=\"sk-top-container\"><div class=\"sk-text-repr-fallback\"><pre>DBSCAN(eps=0.03, leaf_size=10, metric=&#x27;chebyshev&#x27;)</pre><b>In a Jupyter environment, please rerun this cell to show the HTML representation or trust the notebook. <br />On GitHub, the HTML representation is unable to render, please try loading this page with nbviewer.org.</b></div><div class=\"sk-container\" hidden><div class=\"sk-item\"><div class=\"sk-estimator sk-toggleable\"><input class=\"sk-toggleable__control sk-hidden--visually\" id=\"sk-estimator-id-2\" type=\"checkbox\" checked><label for=\"sk-estimator-id-2\" class=\"sk-toggleable__label sk-toggleable__label-arrow\">DBSCAN</label><div class=\"sk-toggleable__content\"><pre>DBSCAN(eps=0.03, leaf_size=10, metric=&#x27;chebyshev&#x27;)</pre></div></div></div></div></div>"
      ],
      "text/plain": [
       "DBSCAN(eps=0.03, leaf_size=10, metric='chebyshev')"
      ]
     },
     "execution_count": 18,
     "metadata": {},
     "output_type": "execute_result"
    }
   ],
   "source": [
    "dbscan1=DBSCAN(eps=0.03,min_samples=5,leaf_size=10,metric='chebyshev')\n",
    "dbscan1.fit(Y)"
   ]
  },
  {
   "cell_type": "markdown",
   "metadata": {},
   "source": [
    "### 군집 결과"
   ]
  },
  {
   "cell_type": "code",
   "execution_count": 19,
   "metadata": {},
   "outputs": [
    {
     "data": {
      "text/plain": [
       "array([ 0,  1,  2,  2,  2,  1,  1,  1, -1,  1,  1,  1,  1,  1,  1,  3,  2,\n",
       "       -1,  1, -1,  1,  1,  1, -1,  3,  1,  1,  1,  0,  1,  2,  1,  1,  1,\n",
       "        1,  1,  1,  2,  1,  4,  2,  2,  2,  1,  1,  2,  2,  2,  0,  2,  2,\n",
       "        2,  2,  3,  2,  5,  1,  2,  2,  2,  2,  2,  2,  2,  2,  5,  2,  2,\n",
       "        4,  2,  0,  2,  3,  2,  2,  2,  6,  6,  2,  2,  2,  7,  3,  2,  2,\n",
       "        2,  2,  2,  4,  2,  2,  2,  2,  2, -1,  2,  2,  2,  4,  3,  2,  3,\n",
       "        2,  2,  2,  2,  4,  2,  2,  1,  1,  1,  1,  1,  2,  2,  1,  1,  1,\n",
       "        1,  1,  2,  1,  2,  5,  5,  2,  2,  1,  4,  1,  1,  1,  2, -1,  2,\n",
       "        1,  2,  2,  7,  2,  2,  2,  2,  2,  2,  2,  2,  2,  2,  8,  2,  2,\n",
       "        2,  2,  2,  3,  2,  0,  2, -1,  1, -1,  2,  2,  1,  2,  0,  2,  2,\n",
       "        2,  2,  2,  2,  2,  2,  2,  5,  2,  2,  2,  2,  2,  2,  1,  1,  1,\n",
       "        7,  2,  2,  2,  3,  2, -1,  2,  2,  2,  2,  1,  1,  2,  2,  2,  6,\n",
       "        2,  2,  2,  2,  2,  2,  2,  2,  2, -1,  2,  2,  6,  1,  2,  1,  1,\n",
       "        1,  1,  1,  1,  3,  1,  2,  8,  1,  2,  2,  2,  0,  1,  4,  1,  1,\n",
       "        1,  1,  1,  1,  1,  2,  2,  2,  1,  1,  1,  2,  2,  2,  2,  2,  2,\n",
       "        2,  4,  2,  0,  2,  2,  2,  2,  2,  2,  2,  2,  3,  0,  1,  2,  2,\n",
       "        8,  2,  2,  2,  3,  2,  2,  2,  2,  2,  2,  2,  3,  2,  2,  2,  7,\n",
       "        2,  2,  2,  2,  2,  2,  2,  2,  2,  1, -1,  1,  4,  0,  2,  2,  2,\n",
       "        2,  0,  3,  2,  2,  2,  2,  2,  8,  2,  2,  2,  2,  2,  4,  2,  2,\n",
       "        3,  3,  1,  1,  1,  1,  2,  6,  2,  2,  0,  2,  1,  1,  1,  1, -1,\n",
       "       -1,  1,  1,  5,  2,  2,  1,  2,  2,  1,  1,  1,  3,  2,  2,  2,  2,\n",
       "        2,  2,  7,  2,  2,  2,  2,  2,  7,  2,  2,  5,  7, -1,  2,  1,  1,\n",
       "        2,  2,  1,  2,  3,  6,  2,  3,  2,  2,  2,  2,  2,  2,  2,  2,  2,\n",
       "        2,  1,  0,  2,  3,  1,  2,  1,  2,  0,  8,  1, -1,  1],\n",
       "      dtype=int64)"
      ]
     },
     "execution_count": 19,
     "metadata": {},
     "output_type": "execute_result"
    }
   ],
   "source": [
    "cluster_label1=dbscan1.labels_\n",
    "cluster_label1"
   ]
  },
  {
   "cell_type": "markdown",
   "metadata": {},
   "source": [
    "### 군집 결과 데이터 통합"
   ]
  },
  {
   "cell_type": "code",
   "execution_count": 20,
   "metadata": {},
   "outputs": [
    {
     "data": {
      "text/html": [
       "<div>\n",
       "<style scoped>\n",
       "    .dataframe tbody tr th:only-of-type {\n",
       "        vertical-align: middle;\n",
       "    }\n",
       "\n",
       "    .dataframe tbody tr th {\n",
       "        vertical-align: top;\n",
       "    }\n",
       "\n",
       "    .dataframe thead th {\n",
       "        text-align: right;\n",
       "    }\n",
       "</style>\n",
       "<table border=\"1\" class=\"dataframe\">\n",
       "  <thead>\n",
       "    <tr style=\"text-align: right;\">\n",
       "      <th></th>\n",
       "      <th>읍면동명</th>\n",
       "      <th>환경자족성지수minmax</th>\n",
       "      <th>여가생활지수minmax</th>\n",
       "      <th>사회적약자_지원_인프라_밀집도minmax</th>\n",
       "      <th>접근성지수minmax</th>\n",
       "      <th>cluster_id</th>\n",
       "    </tr>\n",
       "  </thead>\n",
       "  <tbody>\n",
       "    <tr>\n",
       "      <th>0</th>\n",
       "      <td>청운효자동</td>\n",
       "      <td>0.212495</td>\n",
       "      <td>0.002648</td>\n",
       "      <td>0.068435</td>\n",
       "      <td>0.114798</td>\n",
       "      <td>0</td>\n",
       "    </tr>\n",
       "    <tr>\n",
       "      <th>1</th>\n",
       "      <td>사직동</td>\n",
       "      <td>0.038269</td>\n",
       "      <td>0.006464</td>\n",
       "      <td>0.041923</td>\n",
       "      <td>0.333275</td>\n",
       "      <td>1</td>\n",
       "    </tr>\n",
       "    <tr>\n",
       "      <th>2</th>\n",
       "      <td>삼청동</td>\n",
       "      <td>0.602143</td>\n",
       "      <td>0.005332</td>\n",
       "      <td>0.090426</td>\n",
       "      <td>0.342620</td>\n",
       "      <td>2</td>\n",
       "    </tr>\n",
       "    <tr>\n",
       "      <th>3</th>\n",
       "      <td>부암동</td>\n",
       "      <td>0.602143</td>\n",
       "      <td>0.001699</td>\n",
       "      <td>0.067935</td>\n",
       "      <td>0.157400</td>\n",
       "      <td>2</td>\n",
       "    </tr>\n",
       "    <tr>\n",
       "      <th>4</th>\n",
       "      <td>평창동</td>\n",
       "      <td>0.602861</td>\n",
       "      <td>0.000529</td>\n",
       "      <td>0.073234</td>\n",
       "      <td>0.135935</td>\n",
       "      <td>2</td>\n",
       "    </tr>\n",
       "  </tbody>\n",
       "</table>\n",
       "</div>"
      ],
      "text/plain": [
       "    읍면동명  환경자족성지수minmax  여가생활지수minmax  사회적약자_지원_인프라_밀집도minmax  접근성지수minmax  \\\n",
       "0  청운효자동       0.212495      0.002648                0.068435     0.114798   \n",
       "1    사직동       0.038269      0.006464                0.041923     0.333275   \n",
       "2    삼청동       0.602143      0.005332                0.090426     0.342620   \n",
       "3    부암동       0.602143      0.001699                0.067935     0.157400   \n",
       "4    평창동       0.602861      0.000529                0.073234     0.135935   \n",
       "\n",
       "   cluster_id  \n",
       "0           0  \n",
       "1           1  \n",
       "2           2  \n",
       "3           2  \n",
       "4           2  "
      ]
     },
     "execution_count": 20,
     "metadata": {},
     "output_type": "execute_result"
    }
   ],
   "source": [
    "origin4['cluster_id'] = cluster_label1\n",
    "origin4.head()"
   ]
  },
  {
   "cell_type": "markdown",
   "metadata": {},
   "source": [
    "### 군집 결과 시각화"
   ]
  },
  {
   "cell_type": "code",
   "execution_count": 21,
   "metadata": {},
   "outputs": [
    {
     "data": {
      "image/png": "[encoded data removed]",
      "text/plain": [
       "<Figure size 1000x500 with 1 Axes>"
      ]
     },
     "metadata": {},
     "output_type": "display_data"
    }
   ],
   "source": [
    "plt.figure(figsize=(10,5))\n",
    "sb.scatterplot(data=origin4,x='사회적약자_지원_인프라_밀집도minmax',y='환경자족성지수minmax',hue=cluster_label1,palette='Set1')\n",
    "plt.grid()\n",
    "plt.show()\n",
    "plt.close()"
   ]
  },
  {
   "cell_type": "markdown",
   "metadata": {},
   "source": [
    "### 수동 voting을 위한 xlsx 파일 생성"
   ]
  },
  {
   "cell_type": "code",
   "execution_count": 22,
   "metadata": {},
   "outputs": [
    {
     "data": {
      "text/html": [
       "<div>\n",
       "<style scoped>\n",
       "    .dataframe tbody tr th:only-of-type {\n",
       "        vertical-align: middle;\n",
       "    }\n",
       "\n",
       "    .dataframe tbody tr th {\n",
       "        vertical-align: top;\n",
       "    }\n",
       "\n",
       "    .dataframe thead th {\n",
       "        text-align: right;\n",
       "    }\n",
       "</style>\n",
       "<table border=\"1\" class=\"dataframe\">\n",
       "  <thead>\n",
       "    <tr style=\"text-align: right;\">\n",
       "      <th></th>\n",
       "      <th>읍면동명</th>\n",
       "      <th>환경자족성지수minmax</th>\n",
       "      <th>여가생활지수minmax</th>\n",
       "      <th>사회적약자_지원_인프라_밀집도minmax</th>\n",
       "      <th>접근성지수minmax</th>\n",
       "      <th>cluster_id</th>\n",
       "    </tr>\n",
       "  </thead>\n",
       "  <tbody>\n",
       "    <tr>\n",
       "      <th>8</th>\n",
       "      <td>종로1.2.3.4가동</td>\n",
       "      <td>0.063833</td>\n",
       "      <td>0.069040</td>\n",
       "      <td>0.206536</td>\n",
       "      <td>0.831703</td>\n",
       "      <td>-1</td>\n",
       "    </tr>\n",
       "    <tr>\n",
       "      <th>17</th>\n",
       "      <td>소공동</td>\n",
       "      <td>0.009355</td>\n",
       "      <td>0.085553</td>\n",
       "      <td>0.331262</td>\n",
       "      <td>0.811509</td>\n",
       "      <td>-1</td>\n",
       "    </tr>\n",
       "    <tr>\n",
       "      <th>19</th>\n",
       "      <td>명동</td>\n",
       "      <td>0.003588</td>\n",
       "      <td>0.158472</td>\n",
       "      <td>0.445774</td>\n",
       "      <td>1.000000</td>\n",
       "      <td>-1</td>\n",
       "    </tr>\n",
       "    <tr>\n",
       "      <th>23</th>\n",
       "      <td>을지로동</td>\n",
       "      <td>0.007869</td>\n",
       "      <td>0.161512</td>\n",
       "      <td>0.193060</td>\n",
       "      <td>0.715484</td>\n",
       "      <td>-1</td>\n",
       "    </tr>\n",
       "    <tr>\n",
       "      <th>94</th>\n",
       "      <td>면목제4동</td>\n",
       "      <td>0.949815</td>\n",
       "      <td>0.003249</td>\n",
       "      <td>0.050509</td>\n",
       "      <td>0.074074</td>\n",
       "      <td>-1</td>\n",
       "    </tr>\n",
       "  </tbody>\n",
       "</table>\n",
       "</div>"
      ],
      "text/plain": [
       "           읍면동명  환경자족성지수minmax  여가생활지수minmax  사회적약자_지원_인프라_밀집도minmax  \\\n",
       "8   종로1.2.3.4가동       0.063833      0.069040                0.206536   \n",
       "17          소공동       0.009355      0.085553                0.331262   \n",
       "19           명동       0.003588      0.158472                0.445774   \n",
       "23         을지로동       0.007869      0.161512                0.193060   \n",
       "94        면목제4동       0.949815      0.003249                0.050509   \n",
       "\n",
       "    접근성지수minmax  cluster_id  \n",
       "8      0.831703          -1  \n",
       "17     0.811509          -1  \n",
       "19     1.000000          -1  \n",
       "23     0.715484          -1  \n",
       "94     0.074074          -1  "
      ]
     },
     "execution_count": 22,
     "metadata": {},
     "output_type": "execute_result"
    }
   ],
   "source": [
    "origin4_final=DataFrame(origin4[origin4['cluster_id']==-1])\n",
    "origin4_final.head()"
   ]
  },
  {
   "cell_type": "code",
   "execution_count": 58,
   "metadata": {},
   "outputs": [],
   "source": [
    "origin4_final.to_excel('./교집합결과/사회적약자,환경자족성지수voting2.xlsx')"
   ]
  },
  {
   "cell_type": "code",
   "execution_count": null,
   "metadata": {},
   "outputs": [],
   "source": []
  },
  {
   "cell_type": "markdown",
   "metadata": {},
   "source": [
    "## #.3 `환경자족성지수 - 접근성지수`"
   ]
  },
  {
   "cell_type": "markdown",
   "metadata": {},
   "source": [
    "### 변수 추출"
   ]
  },
  {
   "cell_type": "code",
   "execution_count": 24,
   "metadata": {},
   "outputs": [
    {
     "data": {
      "text/html": [
       "<div>\n",
       "<style scoped>\n",
       "    .dataframe tbody tr th:only-of-type {\n",
       "        vertical-align: middle;\n",
       "    }\n",
       "\n",
       "    .dataframe tbody tr th {\n",
       "        vertical-align: top;\n",
       "    }\n",
       "\n",
       "    .dataframe thead th {\n",
       "        text-align: right;\n",
       "    }\n",
       "</style>\n",
       "<table border=\"1\" class=\"dataframe\">\n",
       "  <thead>\n",
       "    <tr style=\"text-align: right;\">\n",
       "      <th></th>\n",
       "      <th>읍면동명</th>\n",
       "      <th>환경자족성지수minmax</th>\n",
       "      <th>여가생활지수minmax</th>\n",
       "      <th>사회적약자_지원_인프라_밀집도minmax</th>\n",
       "      <th>접근성지수minmax</th>\n",
       "    </tr>\n",
       "  </thead>\n",
       "  <tbody>\n",
       "    <tr>\n",
       "      <th>0</th>\n",
       "      <td>청운효자동</td>\n",
       "      <td>0.212495</td>\n",
       "      <td>0.002648</td>\n",
       "      <td>0.068435</td>\n",
       "      <td>0.114798</td>\n",
       "    </tr>\n",
       "    <tr>\n",
       "      <th>1</th>\n",
       "      <td>사직동</td>\n",
       "      <td>0.038269</td>\n",
       "      <td>0.006464</td>\n",
       "      <td>0.041923</td>\n",
       "      <td>0.333275</td>\n",
       "    </tr>\n",
       "    <tr>\n",
       "      <th>2</th>\n",
       "      <td>삼청동</td>\n",
       "      <td>0.602143</td>\n",
       "      <td>0.005332</td>\n",
       "      <td>0.090426</td>\n",
       "      <td>0.342620</td>\n",
       "    </tr>\n",
       "    <tr>\n",
       "      <th>3</th>\n",
       "      <td>부암동</td>\n",
       "      <td>0.602143</td>\n",
       "      <td>0.001699</td>\n",
       "      <td>0.067935</td>\n",
       "      <td>0.157400</td>\n",
       "    </tr>\n",
       "    <tr>\n",
       "      <th>4</th>\n",
       "      <td>평창동</td>\n",
       "      <td>0.602861</td>\n",
       "      <td>0.000529</td>\n",
       "      <td>0.073234</td>\n",
       "      <td>0.135935</td>\n",
       "    </tr>\n",
       "  </tbody>\n",
       "</table>\n",
       "</div>"
      ],
      "text/plain": [
       "    읍면동명  환경자족성지수minmax  여가생활지수minmax  사회적약자_지원_인프라_밀집도minmax  접근성지수minmax\n",
       "0  청운효자동       0.212495      0.002648                0.068435     0.114798\n",
       "1    사직동       0.038269      0.006464                0.041923     0.333275\n",
       "2    삼청동       0.602143      0.005332                0.090426     0.342620\n",
       "3    부암동       0.602143      0.001699                0.067935     0.157400\n",
       "4    평창동       0.602861      0.000529                0.073234     0.135935"
      ]
     },
     "execution_count": 24,
     "metadata": {},
     "output_type": "execute_result"
    }
   ],
   "source": [
    "origin2.head()"
   ]
  },
  {
   "cell_type": "code",
   "execution_count": 25,
   "metadata": {},
   "outputs": [
    {
     "data": {
      "text/plain": [
       "array([[0.21249473, 0.11479751],\n",
       "       [0.03826857, 0.33327467],\n",
       "       [0.60214289, 0.34262014],\n",
       "       [0.60214289, 0.15739974],\n",
       "       [0.60286054, 0.13593454]])"
      ]
     },
     "execution_count": 25,
     "metadata": {},
     "output_type": "execute_result"
    }
   ],
   "source": [
    "origin5=origin2.copy()\n",
    "Z = origin5.iloc[:,[1,4]].values # x값으로 환경자족성지수,접근성지수 지정\n",
    "Z[:5]"
   ]
  },
  {
   "cell_type": "markdown",
   "metadata": {},
   "source": [
    "### DBSCAN 모델 구축\n",
    "\n",
    "DBSCAN 구현 파라미터\n",
    "\n",
    "| 파라미터 | 설명 |\n",
    "| -- | -- |\n",
    "| `eps` | 하나의 샘플에 대한 다른 샘플과의 최대 거리 |\n",
    "| `min_samples` | MinPts. 핵심 포인트로 간주할 포인트에 대한 이웃의 샘플 수 |"
   ]
  },
  {
   "cell_type": "code",
   "execution_count": 26,
   "metadata": {},
   "outputs": [
    {
     "data": {
      "text/html": [
       "<style>#sk-container-id-3 {color: black;}#sk-container-id-3 pre{padding: 0;}#sk-container-id-3 div.sk-toggleable {background-color: white;}#sk-container-id-3 label.sk-toggleable__label {cursor: pointer;display: block;width: 100%;margin-bottom: 0;padding: 0.3em;box-sizing: border-box;text-align: center;}#sk-container-id-3 label.sk-toggleable__label-arrow:before {content: \"▸\";float: left;margin-right: 0.25em;color: #696969;}#sk-container-id-3 label.sk-toggleable__label-arrow:hover:before {color: black;}#sk-container-id-3 div.sk-estimator:hover label.sk-toggleable__label-arrow:before {color: black;}#sk-container-id-3 div.sk-toggleable__content {max-height: 0;max-width: 0;overflow: hidden;text-align: left;background-color: #f0f8ff;}#sk-container-id-3 div.sk-toggleable__content pre {margin: 0.2em;color: black;border-radius: 0.25em;background-color: #f0f8ff;}#sk-container-id-3 input.sk-toggleable__control:checked~div.sk-toggleable__content {max-height: 200px;max-width: 100%;overflow: auto;}#sk-container-id-3 input.sk-toggleable__control:checked~label.sk-toggleable__label-arrow:before {content: \"▾\";}#sk-container-id-3 div.sk-estimator input.sk-toggleable__control:checked~label.sk-toggleable__label {background-color: #d4ebff;}#sk-container-id-3 div.sk-label input.sk-toggleable__control:checked~label.sk-toggleable__label {background-color: #d4ebff;}#sk-container-id-3 input.sk-hidden--visually {border: 0;clip: rect(1px 1px 1px 1px);clip: rect(1px, 1px, 1px, 1px);height: 1px;margin: -1px;overflow: hidden;padding: 0;position: absolute;width: 1px;}#sk-container-id-3 div.sk-estimator {font-family: monospace;background-color: #f0f8ff;border: 1px dotted black;border-radius: 0.25em;box-sizing: border-box;margin-bottom: 0.5em;}#sk-container-id-3 div.sk-estimator:hover {background-color: #d4ebff;}#sk-container-id-3 div.sk-parallel-item::after {content: \"\";width: 100%;border-bottom: 1px solid gray;flex-grow: 1;}#sk-container-id-3 div.sk-label:hover label.sk-toggleable__label {background-color: #d4ebff;}#sk-container-id-3 div.sk-serial::before {content: \"\";position: absolute;border-left: 1px solid gray;box-sizing: border-box;top: 0;bottom: 0;left: 50%;z-index: 0;}#sk-container-id-3 div.sk-serial {display: flex;flex-direction: column;align-items: center;background-color: white;padding-right: 0.2em;padding-left: 0.2em;position: relative;}#sk-container-id-3 div.sk-item {position: relative;z-index: 1;}#sk-container-id-3 div.sk-parallel {display: flex;align-items: stretch;justify-content: center;background-color: white;position: relative;}#sk-container-id-3 div.sk-item::before, #sk-container-id-3 div.sk-parallel-item::before {content: \"\";position: absolute;border-left: 1px solid gray;box-sizing: border-box;top: 0;bottom: 0;left: 50%;z-index: -1;}#sk-container-id-3 div.sk-parallel-item {display: flex;flex-direction: column;z-index: 1;position: relative;background-color: white;}#sk-container-id-3 div.sk-parallel-item:first-child::after {align-self: flex-end;width: 50%;}#sk-container-id-3 div.sk-parallel-item:last-child::after {align-self: flex-start;width: 50%;}#sk-container-id-3 div.sk-parallel-item:only-child::after {width: 0;}#sk-container-id-3 div.sk-dashed-wrapped {border: 1px dashed gray;margin: 0 0.4em 0.5em 0.4em;box-sizing: border-box;padding-bottom: 0.4em;background-color: white;}#sk-container-id-3 div.sk-label label {font-family: monospace;font-weight: bold;display: inline-block;line-height: 1.2em;}#sk-container-id-3 div.sk-label-container {text-align: center;}#sk-container-id-3 div.sk-container {/* jupyter's `normalize.less` sets `[hidden] { display: none; }` but bootstrap.min.css set `[hidden] { display: none !important; }` so we also need the `!important` here to be able to override the default hidden behavior on the sphinx rendered scikit-learn.org. See: https://github.com/scikit-learn/scikit-learn/issues/21755 */display: inline-block !important;position: relative;}#sk-container-id-3 div.sk-text-repr-fallback {display: none;}</style><div id=\"sk-container-id-3\" class=\"sk-top-container\"><div class=\"sk-text-repr-fallback\"><pre>DBSCAN(eps=0.04, leaf_size=20, metric=&#x27;chebyshev&#x27;, min_samples=20)</pre><b>In a Jupyter environment, please rerun this cell to show the HTML representation or trust the notebook. <br />On GitHub, the HTML representation is unable to render, please try loading this page with nbviewer.org.</b></div><div class=\"sk-container\" hidden><div class=\"sk-item\"><div class=\"sk-estimator sk-toggleable\"><input class=\"sk-toggleable__control sk-hidden--visually\" id=\"sk-estimator-id-3\" type=\"checkbox\" checked><label for=\"sk-estimator-id-3\" class=\"sk-toggleable__label sk-toggleable__label-arrow\">DBSCAN</label><div class=\"sk-toggleable__content\"><pre>DBSCAN(eps=0.04, leaf_size=20, metric=&#x27;chebyshev&#x27;, min_samples=20)</pre></div></div></div></div></div>"
      ],
      "text/plain": [
       "DBSCAN(eps=0.04, leaf_size=20, metric='chebyshev', min_samples=20)"
      ]
     },
     "execution_count": 26,
     "metadata": {},
     "output_type": "execute_result"
    }
   ],
   "source": [
    "dbscan2=DBSCAN(eps=0.04,min_samples=20,leaf_size=20,metric='chebyshev')\n",
    "dbscan2.fit(Z)"
   ]
  },
  {
   "cell_type": "markdown",
   "metadata": {},
   "source": [
    "### 군집 결과"
   ]
  },
  {
   "cell_type": "code",
   "execution_count": 27,
   "metadata": {},
   "outputs": [
    {
     "data": {
      "text/plain": [
       "array([-1, -1, -1,  0,  0,  1,  1, -1, -1, -1, -1,  1,  1,  1,  1, -1,  0,\n",
       "       -1, -1, -1, -1, -1, -1, -1, -1,  1,  1,  1, -1,  1,  0,  1,  1,  1,\n",
       "       -1,  1,  1,  0,  1, -1, -1,  0,  0,  1,  1,  0,  0,  0, -1,  0,  0,\n",
       "        0,  0, -1,  0, -1,  1,  0,  0,  0,  0,  0, -1,  0,  0, -1,  0,  0,\n",
       "       -1,  0, -1,  0, -1,  0,  0,  0, -1, -1,  0,  0,  0, -1, -1,  0,  0,\n",
       "        0,  0,  0, -1,  0,  0,  0,  0,  0, -1,  0,  0,  0, -1, -1,  0, -1,\n",
       "        0,  0,  0,  0, -1,  0,  0,  1,  1,  1,  1,  1,  0,  0,  1,  1,  1,\n",
       "        1,  1,  0,  1,  0, -1, -1,  0,  0,  1, -1,  1,  1,  1,  0, -1,  0,\n",
       "        1,  0,  0, -1,  0,  0,  0,  0,  0,  0,  0,  0,  0,  0, -1,  0,  0,\n",
       "        0,  0,  0, -1,  0, -1,  0, -1,  1, -1,  0,  0,  1,  0, -1,  0,  0,\n",
       "        0,  0,  0,  0,  0,  0,  0, -1,  0,  0,  0,  0,  0,  0,  1,  1, -1,\n",
       "       -1,  0,  0,  0, -1,  0, -1,  0,  0,  0,  0,  1,  1,  0,  0,  0, -1,\n",
       "        0,  0,  0,  0,  0,  0,  0,  0,  0, -1,  0,  0, -1,  1,  0,  1,  1,\n",
       "        1,  1,  1,  1, -1,  1,  0, -1,  1,  0,  0,  0, -1,  1, -1,  1,  1,\n",
       "        1,  1,  1,  1,  1, -1,  0,  0,  1,  1,  1,  0,  0,  0,  0,  0,  0,\n",
       "        0, -1,  0, -1,  0,  0,  0,  0,  0,  0, -1,  0, -1, -1,  1,  0,  0,\n",
       "       -1,  0,  0, -1, -1,  0,  0,  0,  0,  0,  0,  0, -1,  0,  0,  0, -1,\n",
       "        0,  0,  0,  0,  0,  0,  0,  0,  0,  1, -1,  1, -1, -1,  0,  0,  0,\n",
       "        0, -1, -1,  0,  0,  0,  0,  0, -1,  0,  0,  0,  0,  0, -1,  0,  0,\n",
       "       -1, -1,  1,  1,  1,  1,  0, -1,  0,  0, -1,  0,  1,  1,  1,  1, -1,\n",
       "        0,  1,  1, -1,  0, -1,  1,  0,  0,  1,  1,  1, -1,  0,  0,  0,  0,\n",
       "        0,  0, -1,  0,  0,  0,  0,  0, -1,  0,  0, -1, -1, -1,  0,  1,  1,\n",
       "        0,  0,  1,  0, -1, -1,  0, -1,  0,  0,  0,  0,  0,  0,  0,  0,  0,\n",
       "        0,  1, -1,  0, -1,  1,  0,  1,  0, -1, -1,  1, -1,  1],\n",
       "      dtype=int64)"
      ]
     },
     "execution_count": 27,
     "metadata": {},
     "output_type": "execute_result"
    }
   ],
   "source": [
    "cluster_label2=dbscan2.labels_\n",
    "cluster_label2"
   ]
  },
  {
   "cell_type": "markdown",
   "metadata": {},
   "source": [
    "### 군집 결과 데이터 통합"
   ]
  },
  {
   "cell_type": "code",
   "execution_count": 28,
   "metadata": {},
   "outputs": [
    {
     "data": {
      "text/html": [
       "<div>\n",
       "<style scoped>\n",
       "    .dataframe tbody tr th:only-of-type {\n",
       "        vertical-align: middle;\n",
       "    }\n",
       "\n",
       "    .dataframe tbody tr th {\n",
       "        vertical-align: top;\n",
       "    }\n",
       "\n",
       "    .dataframe thead th {\n",
       "        text-align: right;\n",
       "    }\n",
       "</style>\n",
       "<table border=\"1\" class=\"dataframe\">\n",
       "  <thead>\n",
       "    <tr style=\"text-align: right;\">\n",
       "      <th></th>\n",
       "      <th>읍면동명</th>\n",
       "      <th>환경자족성지수minmax</th>\n",
       "      <th>여가생활지수minmax</th>\n",
       "      <th>사회적약자_지원_인프라_밀집도minmax</th>\n",
       "      <th>접근성지수minmax</th>\n",
       "      <th>cluster_id</th>\n",
       "    </tr>\n",
       "  </thead>\n",
       "  <tbody>\n",
       "    <tr>\n",
       "      <th>0</th>\n",
       "      <td>청운효자동</td>\n",
       "      <td>0.212495</td>\n",
       "      <td>0.002648</td>\n",
       "      <td>0.068435</td>\n",
       "      <td>0.114798</td>\n",
       "      <td>-1</td>\n",
       "    </tr>\n",
       "    <tr>\n",
       "      <th>1</th>\n",
       "      <td>사직동</td>\n",
       "      <td>0.038269</td>\n",
       "      <td>0.006464</td>\n",
       "      <td>0.041923</td>\n",
       "      <td>0.333275</td>\n",
       "      <td>-1</td>\n",
       "    </tr>\n",
       "    <tr>\n",
       "      <th>2</th>\n",
       "      <td>삼청동</td>\n",
       "      <td>0.602143</td>\n",
       "      <td>0.005332</td>\n",
       "      <td>0.090426</td>\n",
       "      <td>0.342620</td>\n",
       "      <td>-1</td>\n",
       "    </tr>\n",
       "    <tr>\n",
       "      <th>3</th>\n",
       "      <td>부암동</td>\n",
       "      <td>0.602143</td>\n",
       "      <td>0.001699</td>\n",
       "      <td>0.067935</td>\n",
       "      <td>0.157400</td>\n",
       "      <td>0</td>\n",
       "    </tr>\n",
       "    <tr>\n",
       "      <th>4</th>\n",
       "      <td>평창동</td>\n",
       "      <td>0.602861</td>\n",
       "      <td>0.000529</td>\n",
       "      <td>0.073234</td>\n",
       "      <td>0.135935</td>\n",
       "      <td>0</td>\n",
       "    </tr>\n",
       "  </tbody>\n",
       "</table>\n",
       "</div>"
      ],
      "text/plain": [
       "    읍면동명  환경자족성지수minmax  여가생활지수minmax  사회적약자_지원_인프라_밀집도minmax  접근성지수minmax  \\\n",
       "0  청운효자동       0.212495      0.002648                0.068435     0.114798   \n",
       "1    사직동       0.038269      0.006464                0.041923     0.333275   \n",
       "2    삼청동       0.602143      0.005332                0.090426     0.342620   \n",
       "3    부암동       0.602143      0.001699                0.067935     0.157400   \n",
       "4    평창동       0.602861      0.000529                0.073234     0.135935   \n",
       "\n",
       "   cluster_id  \n",
       "0          -1  \n",
       "1          -1  \n",
       "2          -1  \n",
       "3           0  \n",
       "4           0  "
      ]
     },
     "execution_count": 28,
     "metadata": {},
     "output_type": "execute_result"
    }
   ],
   "source": [
    "origin5['cluster_id'] = cluster_label2\n",
    "origin5.head()"
   ]
  },
  {
   "cell_type": "markdown",
   "metadata": {},
   "source": [
    "### 군집 결과 시각화"
   ]
  },
  {
   "cell_type": "code",
   "execution_count": 29,
   "metadata": {},
   "outputs": [
    {
     "data": {
      "image/png": "[encoded data removed]",
      "text/plain": [
       "<Figure size 1000x500 with 1 Axes>"
      ]
     },
     "metadata": {},
     "output_type": "display_data"
    }
   ],
   "source": [
    "plt.figure(figsize=(10,5))\n",
    "sb.scatterplot(data=origin5,x='접근성지수minmax',y='환경자족성지수minmax',hue=cluster_label2,palette='Set1')\n",
    "plt.grid()\n",
    "plt.show()\n",
    "plt.close()"
   ]
  },
  {
   "cell_type": "markdown",
   "metadata": {},
   "source": [
    "### 수동 voting을 위한 xlsx 파일 생"
   ]
  },
  {
   "cell_type": "code",
   "execution_count": 30,
   "metadata": {},
   "outputs": [
    {
     "data": {
      "text/html": [
       "<div>\n",
       "<style scoped>\n",
       "    .dataframe tbody tr th:only-of-type {\n",
       "        vertical-align: middle;\n",
       "    }\n",
       "\n",
       "    .dataframe tbody tr th {\n",
       "        vertical-align: top;\n",
       "    }\n",
       "\n",
       "    .dataframe thead th {\n",
       "        text-align: right;\n",
       "    }\n",
       "</style>\n",
       "<table border=\"1\" class=\"dataframe\">\n",
       "  <thead>\n",
       "    <tr style=\"text-align: right;\">\n",
       "      <th></th>\n",
       "      <th>읍면동명</th>\n",
       "      <th>환경자족성지수minmax</th>\n",
       "      <th>여가생활지수minmax</th>\n",
       "      <th>사회적약자_지원_인프라_밀집도minmax</th>\n",
       "      <th>접근성지수minmax</th>\n",
       "      <th>cluster_id</th>\n",
       "    </tr>\n",
       "  </thead>\n",
       "  <tbody>\n",
       "    <tr>\n",
       "      <th>0</th>\n",
       "      <td>청운효자동</td>\n",
       "      <td>0.212495</td>\n",
       "      <td>0.002648</td>\n",
       "      <td>0.068435</td>\n",
       "      <td>0.114798</td>\n",
       "      <td>-1</td>\n",
       "    </tr>\n",
       "    <tr>\n",
       "      <th>1</th>\n",
       "      <td>사직동</td>\n",
       "      <td>0.038269</td>\n",
       "      <td>0.006464</td>\n",
       "      <td>0.041923</td>\n",
       "      <td>0.333275</td>\n",
       "      <td>-1</td>\n",
       "    </tr>\n",
       "    <tr>\n",
       "      <th>2</th>\n",
       "      <td>삼청동</td>\n",
       "      <td>0.602143</td>\n",
       "      <td>0.005332</td>\n",
       "      <td>0.090426</td>\n",
       "      <td>0.342620</td>\n",
       "      <td>-1</td>\n",
       "    </tr>\n",
       "    <tr>\n",
       "      <th>7</th>\n",
       "      <td>가회동</td>\n",
       "      <td>0.003047</td>\n",
       "      <td>0.003559</td>\n",
       "      <td>0.078064</td>\n",
       "      <td>0.266902</td>\n",
       "      <td>-1</td>\n",
       "    </tr>\n",
       "    <tr>\n",
       "      <th>8</th>\n",
       "      <td>종로1.2.3.4가동</td>\n",
       "      <td>0.063833</td>\n",
       "      <td>0.069040</td>\n",
       "      <td>0.206536</td>\n",
       "      <td>0.831703</td>\n",
       "      <td>-1</td>\n",
       "    </tr>\n",
       "  </tbody>\n",
       "</table>\n",
       "</div>"
      ],
      "text/plain": [
       "          읍면동명  환경자족성지수minmax  여가생활지수minmax  사회적약자_지원_인프라_밀집도minmax  \\\n",
       "0        청운효자동       0.212495      0.002648                0.068435   \n",
       "1          사직동       0.038269      0.006464                0.041923   \n",
       "2          삼청동       0.602143      0.005332                0.090426   \n",
       "7          가회동       0.003047      0.003559                0.078064   \n",
       "8  종로1.2.3.4가동       0.063833      0.069040                0.206536   \n",
       "\n",
       "   접근성지수minmax  cluster_id  \n",
       "0     0.114798          -1  \n",
       "1     0.333275          -1  \n",
       "2     0.342620          -1  \n",
       "7     0.266902          -1  \n",
       "8     0.831703          -1  "
      ]
     },
     "execution_count": 30,
     "metadata": {},
     "output_type": "execute_result"
    }
   ],
   "source": [
    "origin5_final=DataFrame(origin5[origin5['cluster_id']==-1])\n",
    "origin5_final.head()"
   ]
  },
  {
   "cell_type": "code",
   "execution_count": 59,
   "metadata": {},
   "outputs": [],
   "source": [
    "origin5_final.to_excel('./교집합결과/접근성지수,환경자족성지수voting2.xlsx')"
   ]
  },
  {
   "cell_type": "markdown",
   "metadata": {},
   "source": [
    "## #4. `여가생활지수 - 사회적약자지수`"
   ]
  },
  {
   "cell_type": "markdown",
   "metadata": {},
   "source": [
    "### 변수 추출"
   ]
  },
  {
   "cell_type": "code",
   "execution_count": 32,
   "metadata": {},
   "outputs": [
    {
     "data": {
      "text/html": [
       "<div>\n",
       "<style scoped>\n",
       "    .dataframe tbody tr th:only-of-type {\n",
       "        vertical-align: middle;\n",
       "    }\n",
       "\n",
       "    .dataframe tbody tr th {\n",
       "        vertical-align: top;\n",
       "    }\n",
       "\n",
       "    .dataframe thead th {\n",
       "        text-align: right;\n",
       "    }\n",
       "</style>\n",
       "<table border=\"1\" class=\"dataframe\">\n",
       "  <thead>\n",
       "    <tr style=\"text-align: right;\">\n",
       "      <th></th>\n",
       "      <th>읍면동명</th>\n",
       "      <th>환경자족성지수minmax</th>\n",
       "      <th>여가생활지수minmax</th>\n",
       "      <th>사회적약자_지원_인프라_밀집도minmax</th>\n",
       "      <th>접근성지수minmax</th>\n",
       "    </tr>\n",
       "  </thead>\n",
       "  <tbody>\n",
       "    <tr>\n",
       "      <th>0</th>\n",
       "      <td>청운효자동</td>\n",
       "      <td>0.212495</td>\n",
       "      <td>0.002648</td>\n",
       "      <td>0.068435</td>\n",
       "      <td>0.114798</td>\n",
       "    </tr>\n",
       "    <tr>\n",
       "      <th>1</th>\n",
       "      <td>사직동</td>\n",
       "      <td>0.038269</td>\n",
       "      <td>0.006464</td>\n",
       "      <td>0.041923</td>\n",
       "      <td>0.333275</td>\n",
       "    </tr>\n",
       "    <tr>\n",
       "      <th>2</th>\n",
       "      <td>삼청동</td>\n",
       "      <td>0.602143</td>\n",
       "      <td>0.005332</td>\n",
       "      <td>0.090426</td>\n",
       "      <td>0.342620</td>\n",
       "    </tr>\n",
       "    <tr>\n",
       "      <th>3</th>\n",
       "      <td>부암동</td>\n",
       "      <td>0.602143</td>\n",
       "      <td>0.001699</td>\n",
       "      <td>0.067935</td>\n",
       "      <td>0.157400</td>\n",
       "    </tr>\n",
       "    <tr>\n",
       "      <th>4</th>\n",
       "      <td>평창동</td>\n",
       "      <td>0.602861</td>\n",
       "      <td>0.000529</td>\n",
       "      <td>0.073234</td>\n",
       "      <td>0.135935</td>\n",
       "    </tr>\n",
       "  </tbody>\n",
       "</table>\n",
       "</div>"
      ],
      "text/plain": [
       "    읍면동명  환경자족성지수minmax  여가생활지수minmax  사회적약자_지원_인프라_밀집도minmax  접근성지수minmax\n",
       "0  청운효자동       0.212495      0.002648                0.068435     0.114798\n",
       "1    사직동       0.038269      0.006464                0.041923     0.333275\n",
       "2    삼청동       0.602143      0.005332                0.090426     0.342620\n",
       "3    부암동       0.602143      0.001699                0.067935     0.157400\n",
       "4    평창동       0.602861      0.000529                0.073234     0.135935"
      ]
     },
     "execution_count": 32,
     "metadata": {},
     "output_type": "execute_result"
    }
   ],
   "source": [
    "origin2.head()"
   ]
  },
  {
   "cell_type": "code",
   "execution_count": 33,
   "metadata": {},
   "outputs": [
    {
     "data": {
      "text/plain": [
       "array([[0.00264752, 0.06843491],\n",
       "       [0.00646393, 0.04192329],\n",
       "       [0.00533217, 0.09042634],\n",
       "       [0.0016987 , 0.06793525],\n",
       "       [0.00052877, 0.0732343 ]])"
      ]
     },
     "execution_count": 33,
     "metadata": {},
     "output_type": "execute_result"
    }
   ],
   "source": [
    "origin6=origin2.copy()\n",
    "XX = origin6.iloc[:,[2,3]].values #x값으로 여가생활지수,사회적약자지수 지정\n",
    "XX[:5]"
   ]
  },
  {
   "cell_type": "markdown",
   "metadata": {},
   "source": [
    "### DBSCAN 모델 구축\n",
    "\n",
    "DBSCAN 구현 파라미터\n",
    "\n",
    "| 파라미터 | 설명 |\n",
    "| -- | -- |\n",
    "| `eps` | 하나의 샘플에 대한 다른 샘플과의 최대 거리 |\n",
    "| `min_samples` | MinPts. 핵심 포인트로 간주할 포인트에 대한 이웃의 샘플 수 |"
   ]
  },
  {
   "cell_type": "code",
   "execution_count": 34,
   "metadata": {},
   "outputs": [
    {
     "data": {
      "text/html": [
       "<style>#sk-container-id-4 {color: black;}#sk-container-id-4 pre{padding: 0;}#sk-container-id-4 div.sk-toggleable {background-color: white;}#sk-container-id-4 label.sk-toggleable__label {cursor: pointer;display: block;width: 100%;margin-bottom: 0;padding: 0.3em;box-sizing: border-box;text-align: center;}#sk-container-id-4 label.sk-toggleable__label-arrow:before {content: \"▸\";float: left;margin-right: 0.25em;color: #696969;}#sk-container-id-4 label.sk-toggleable__label-arrow:hover:before {color: black;}#sk-container-id-4 div.sk-estimator:hover label.sk-toggleable__label-arrow:before {color: black;}#sk-container-id-4 div.sk-toggleable__content {max-height: 0;max-width: 0;overflow: hidden;text-align: left;background-color: #f0f8ff;}#sk-container-id-4 div.sk-toggleable__content pre {margin: 0.2em;color: black;border-radius: 0.25em;background-color: #f0f8ff;}#sk-container-id-4 input.sk-toggleable__control:checked~div.sk-toggleable__content {max-height: 200px;max-width: 100%;overflow: auto;}#sk-container-id-4 input.sk-toggleable__control:checked~label.sk-toggleable__label-arrow:before {content: \"▾\";}#sk-container-id-4 div.sk-estimator input.sk-toggleable__control:checked~label.sk-toggleable__label {background-color: #d4ebff;}#sk-container-id-4 div.sk-label input.sk-toggleable__control:checked~label.sk-toggleable__label {background-color: #d4ebff;}#sk-container-id-4 input.sk-hidden--visually {border: 0;clip: rect(1px 1px 1px 1px);clip: rect(1px, 1px, 1px, 1px);height: 1px;margin: -1px;overflow: hidden;padding: 0;position: absolute;width: 1px;}#sk-container-id-4 div.sk-estimator {font-family: monospace;background-color: #f0f8ff;border: 1px dotted black;border-radius: 0.25em;box-sizing: border-box;margin-bottom: 0.5em;}#sk-container-id-4 div.sk-estimator:hover {background-color: #d4ebff;}#sk-container-id-4 div.sk-parallel-item::after {content: \"\";width: 100%;border-bottom: 1px solid gray;flex-grow: 1;}#sk-container-id-4 div.sk-label:hover label.sk-toggleable__label {background-color: #d4ebff;}#sk-container-id-4 div.sk-serial::before {content: \"\";position: absolute;border-left: 1px solid gray;box-sizing: border-box;top: 0;bottom: 0;left: 50%;z-index: 0;}#sk-container-id-4 div.sk-serial {display: flex;flex-direction: column;align-items: center;background-color: white;padding-right: 0.2em;padding-left: 0.2em;position: relative;}#sk-container-id-4 div.sk-item {position: relative;z-index: 1;}#sk-container-id-4 div.sk-parallel {display: flex;align-items: stretch;justify-content: center;background-color: white;position: relative;}#sk-container-id-4 div.sk-item::before, #sk-container-id-4 div.sk-parallel-item::before {content: \"\";position: absolute;border-left: 1px solid gray;box-sizing: border-box;top: 0;bottom: 0;left: 50%;z-index: -1;}#sk-container-id-4 div.sk-parallel-item {display: flex;flex-direction: column;z-index: 1;position: relative;background-color: white;}#sk-container-id-4 div.sk-parallel-item:first-child::after {align-self: flex-end;width: 50%;}#sk-container-id-4 div.sk-parallel-item:last-child::after {align-self: flex-start;width: 50%;}#sk-container-id-4 div.sk-parallel-item:only-child::after {width: 0;}#sk-container-id-4 div.sk-dashed-wrapped {border: 1px dashed gray;margin: 0 0.4em 0.5em 0.4em;box-sizing: border-box;padding-bottom: 0.4em;background-color: white;}#sk-container-id-4 div.sk-label label {font-family: monospace;font-weight: bold;display: inline-block;line-height: 1.2em;}#sk-container-id-4 div.sk-label-container {text-align: center;}#sk-container-id-4 div.sk-container {/* jupyter's `normalize.less` sets `[hidden] { display: none; }` but bootstrap.min.css set `[hidden] { display: none !important; }` so we also need the `!important` here to be able to override the default hidden behavior on the sphinx rendered scikit-learn.org. See: https://github.com/scikit-learn/scikit-learn/issues/21755 */display: inline-block !important;position: relative;}#sk-container-id-4 div.sk-text-repr-fallback {display: none;}</style><div id=\"sk-container-id-4\" class=\"sk-top-container\"><div class=\"sk-text-repr-fallback\"><pre>DBSCAN(eps=0.04, leaf_size=20, metric=&#x27;chebyshev&#x27;, min_samples=20)</pre><b>In a Jupyter environment, please rerun this cell to show the HTML representation or trust the notebook. <br />On GitHub, the HTML representation is unable to render, please try loading this page with nbviewer.org.</b></div><div class=\"sk-container\" hidden><div class=\"sk-item\"><div class=\"sk-estimator sk-toggleable\"><input class=\"sk-toggleable__control sk-hidden--visually\" id=\"sk-estimator-id-4\" type=\"checkbox\" checked><label for=\"sk-estimator-id-4\" class=\"sk-toggleable__label sk-toggleable__label-arrow\">DBSCAN</label><div class=\"sk-toggleable__content\"><pre>DBSCAN(eps=0.04, leaf_size=20, metric=&#x27;chebyshev&#x27;, min_samples=20)</pre></div></div></div></div></div>"
      ],
      "text/plain": [
       "DBSCAN(eps=0.04, leaf_size=20, metric='chebyshev', min_samples=20)"
      ]
     },
     "execution_count": 34,
     "metadata": {},
     "output_type": "execute_result"
    }
   ],
   "source": [
    "dbscan3=DBSCAN(eps=0.04,min_samples=20,leaf_size=20,metric='chebyshev')\n",
    "dbscan3.fit(XX)"
   ]
  },
  {
   "cell_type": "markdown",
   "metadata": {},
   "source": [
    "### 군집 결과"
   ]
  },
  {
   "cell_type": "code",
   "execution_count": 35,
   "metadata": {},
   "outputs": [
    {
     "data": {
      "text/plain": [
       "array([ 0,  0,  0,  0,  0,  0,  0,  0, -1, -1,  0,  0, -1,  0,  0,  0,  0,\n",
       "       -1, -1, -1,  0,  0, -1, -1, -1,  0,  0,  0,  0,  0, -1,  0,  0,  0,\n",
       "        0,  0,  0,  0,  0,  0,  0,  0,  0,  0,  0,  0,  0,  0,  0,  0,  0,\n",
       "        0,  0, -1,  0,  0,  0,  0,  0,  0,  0,  0,  0,  0,  0,  0,  0,  0,\n",
       "        0,  0,  0,  0,  0,  0,  0,  0,  0,  0,  0,  0,  0,  0,  0,  0,  0,\n",
       "        0,  0,  0,  0,  0,  0,  0,  0,  0,  0,  0,  0,  0,  0,  0,  0,  0,\n",
       "        0,  0,  0,  0,  0,  0,  0,  0,  0,  0,  0, -1,  0,  0,  0,  0,  0,\n",
       "        0,  0,  0,  0,  0,  0,  0,  0,  0,  0,  0,  0,  0,  0,  0,  0,  0,\n",
       "        0,  0,  0,  0,  0,  0,  0,  0,  0,  0,  0,  0,  0,  0,  0,  0,  0,\n",
       "        0,  0,  0,  0,  0,  0,  0,  0,  0,  0, -1,  0,  0,  0,  0,  0,  0,\n",
       "        0,  0,  0,  0,  0,  0,  0,  0,  0,  0,  0,  0,  0,  0,  0,  0,  0,\n",
       "        0,  0,  0,  0,  0,  0,  0,  0,  0,  0,  0,  0,  0,  0,  0,  0,  0,\n",
       "        0,  0,  0,  0,  0,  0,  0,  0,  0,  0,  0,  0,  0,  0,  0,  0,  0,\n",
       "        0,  0,  0,  0,  0,  0,  0,  0,  0,  0,  0,  0,  0,  0,  0,  0,  0,\n",
       "        0,  0,  0,  0,  0,  0,  0,  0,  0,  0,  0,  0,  0,  0,  0,  0,  0,\n",
       "        0,  0,  0,  0,  0,  0,  0,  0,  0,  0,  0,  0,  0,  0,  0,  0,  0,\n",
       "        0,  0,  0,  0,  0,  0,  0,  0,  0,  0,  0,  0,  0,  0,  0,  0,  0,\n",
       "        0,  0,  0,  0,  0,  0,  0,  0,  0,  0,  0,  0,  0,  0,  0,  0,  0,\n",
       "        0, -1,  0,  0,  0,  0,  0,  0,  0,  0,  0,  0,  0,  0,  0,  0,  0,\n",
       "        0,  0,  0,  0,  0,  0,  0,  0,  0,  0,  0,  0,  0,  0,  0,  0,  0,\n",
       "       -1,  0,  0,  0,  0,  0,  0,  0,  0,  0,  0,  0,  0,  0,  0,  0,  0,\n",
       "        0,  0,  0,  0,  0,  0,  0,  0,  0,  0,  0,  0,  0,  0,  0,  0,  0,\n",
       "        0,  0,  0,  0,  0,  0,  0,  0,  0,  0,  0,  0,  0,  0,  0,  0,  0,\n",
       "        0,  0,  0,  0,  0,  0,  0,  0,  0,  0,  0,  0, -1,  0],\n",
       "      dtype=int64)"
      ]
     },
     "execution_count": 35,
     "metadata": {},
     "output_type": "execute_result"
    }
   ],
   "source": [
    "cluster_label3=dbscan3.labels_\n",
    "cluster_label3"
   ]
  },
  {
   "cell_type": "markdown",
   "metadata": {},
   "source": [
    "### 군집 결과 데이터 통합"
   ]
  },
  {
   "cell_type": "code",
   "execution_count": 36,
   "metadata": {},
   "outputs": [
    {
     "data": {
      "text/html": [
       "<div>\n",
       "<style scoped>\n",
       "    .dataframe tbody tr th:only-of-type {\n",
       "        vertical-align: middle;\n",
       "    }\n",
       "\n",
       "    .dataframe tbody tr th {\n",
       "        vertical-align: top;\n",
       "    }\n",
       "\n",
       "    .dataframe thead th {\n",
       "        text-align: right;\n",
       "    }\n",
       "</style>\n",
       "<table border=\"1\" class=\"dataframe\">\n",
       "  <thead>\n",
       "    <tr style=\"text-align: right;\">\n",
       "      <th></th>\n",
       "      <th>읍면동명</th>\n",
       "      <th>환경자족성지수minmax</th>\n",
       "      <th>여가생활지수minmax</th>\n",
       "      <th>사회적약자_지원_인프라_밀집도minmax</th>\n",
       "      <th>접근성지수minmax</th>\n",
       "      <th>cluster_id</th>\n",
       "    </tr>\n",
       "  </thead>\n",
       "  <tbody>\n",
       "    <tr>\n",
       "      <th>0</th>\n",
       "      <td>청운효자동</td>\n",
       "      <td>0.212495</td>\n",
       "      <td>0.002648</td>\n",
       "      <td>0.068435</td>\n",
       "      <td>0.114798</td>\n",
       "      <td>0</td>\n",
       "    </tr>\n",
       "    <tr>\n",
       "      <th>1</th>\n",
       "      <td>사직동</td>\n",
       "      <td>0.038269</td>\n",
       "      <td>0.006464</td>\n",
       "      <td>0.041923</td>\n",
       "      <td>0.333275</td>\n",
       "      <td>0</td>\n",
       "    </tr>\n",
       "    <tr>\n",
       "      <th>2</th>\n",
       "      <td>삼청동</td>\n",
       "      <td>0.602143</td>\n",
       "      <td>0.005332</td>\n",
       "      <td>0.090426</td>\n",
       "      <td>0.342620</td>\n",
       "      <td>0</td>\n",
       "    </tr>\n",
       "    <tr>\n",
       "      <th>3</th>\n",
       "      <td>부암동</td>\n",
       "      <td>0.602143</td>\n",
       "      <td>0.001699</td>\n",
       "      <td>0.067935</td>\n",
       "      <td>0.157400</td>\n",
       "      <td>0</td>\n",
       "    </tr>\n",
       "    <tr>\n",
       "      <th>4</th>\n",
       "      <td>평창동</td>\n",
       "      <td>0.602861</td>\n",
       "      <td>0.000529</td>\n",
       "      <td>0.073234</td>\n",
       "      <td>0.135935</td>\n",
       "      <td>0</td>\n",
       "    </tr>\n",
       "  </tbody>\n",
       "</table>\n",
       "</div>"
      ],
      "text/plain": [
       "    읍면동명  환경자족성지수minmax  여가생활지수minmax  사회적약자_지원_인프라_밀집도minmax  접근성지수minmax  \\\n",
       "0  청운효자동       0.212495      0.002648                0.068435     0.114798   \n",
       "1    사직동       0.038269      0.006464                0.041923     0.333275   \n",
       "2    삼청동       0.602143      0.005332                0.090426     0.342620   \n",
       "3    부암동       0.602143      0.001699                0.067935     0.157400   \n",
       "4    평창동       0.602861      0.000529                0.073234     0.135935   \n",
       "\n",
       "   cluster_id  \n",
       "0           0  \n",
       "1           0  \n",
       "2           0  \n",
       "3           0  \n",
       "4           0  "
      ]
     },
     "execution_count": 36,
     "metadata": {},
     "output_type": "execute_result"
    }
   ],
   "source": [
    "origin6['cluster_id'] = cluster_label3\n",
    "origin6.head()"
   ]
  },
  {
   "cell_type": "markdown",
   "metadata": {},
   "source": [
    "### 군집 결과 시각화"
   ]
  },
  {
   "cell_type": "code",
   "execution_count": 37,
   "metadata": {},
   "outputs": [
    {
     "data": {
      "image/png": "[encoded data removed]",
      "text/plain": [
       "<Figure size 1000x500 with 1 Axes>"
      ]
     },
     "metadata": {},
     "output_type": "display_data"
    }
   ],
   "source": [
    "plt.figure(figsize=(10,5))\n",
    "sb.scatterplot(data=origin6,x='여가생활지수minmax',y='사회적약자_지원_인프라_밀집도minmax',hue=cluster_label3,palette='Set1')\n",
    "plt.grid()\n",
    "plt.show()\n",
    "plt.close()"
   ]
  },
  {
   "cell_type": "markdown",
   "metadata": {},
   "source": [
    "> 여기서는 이상치(`군집 -1`)를  선정한다. <br/> 분석의 척도가 될 지수가 긍정적인 장소를 추출해 시범 사업지로 선정할 계획."
   ]
  },
  {
   "cell_type": "markdown",
   "metadata": {},
   "source": [
    "### 수동 voting을 위한 xlsx 파일 생성"
   ]
  },
  {
   "cell_type": "code",
   "execution_count": 38,
   "metadata": {},
   "outputs": [
    {
     "data": {
      "text/html": [
       "<div>\n",
       "<style scoped>\n",
       "    .dataframe tbody tr th:only-of-type {\n",
       "        vertical-align: middle;\n",
       "    }\n",
       "\n",
       "    .dataframe tbody tr th {\n",
       "        vertical-align: top;\n",
       "    }\n",
       "\n",
       "    .dataframe thead th {\n",
       "        text-align: right;\n",
       "    }\n",
       "</style>\n",
       "<table border=\"1\" class=\"dataframe\">\n",
       "  <thead>\n",
       "    <tr style=\"text-align: right;\">\n",
       "      <th></th>\n",
       "      <th>읍면동명</th>\n",
       "      <th>환경자족성지수minmax</th>\n",
       "      <th>여가생활지수minmax</th>\n",
       "      <th>사회적약자_지원_인프라_밀집도minmax</th>\n",
       "      <th>접근성지수minmax</th>\n",
       "      <th>cluster_id</th>\n",
       "    </tr>\n",
       "  </thead>\n",
       "  <tbody>\n",
       "    <tr>\n",
       "      <th>8</th>\n",
       "      <td>종로1.2.3.4가동</td>\n",
       "      <td>0.063833</td>\n",
       "      <td>0.069040</td>\n",
       "      <td>0.206536</td>\n",
       "      <td>0.831703</td>\n",
       "      <td>-1</td>\n",
       "    </tr>\n",
       "    <tr>\n",
       "      <th>9</th>\n",
       "      <td>종로5.6가동</td>\n",
       "      <td>0.000617</td>\n",
       "      <td>0.162506</td>\n",
       "      <td>0.180645</td>\n",
       "      <td>0.395959</td>\n",
       "      <td>-1</td>\n",
       "    </tr>\n",
       "    <tr>\n",
       "      <th>12</th>\n",
       "      <td>창신제1동</td>\n",
       "      <td>0.000000</td>\n",
       "      <td>0.263260</td>\n",
       "      <td>0.061943</td>\n",
       "      <td>0.161153</td>\n",
       "      <td>-1</td>\n",
       "    </tr>\n",
       "    <tr>\n",
       "      <th>17</th>\n",
       "      <td>소공동</td>\n",
       "      <td>0.009355</td>\n",
       "      <td>0.085553</td>\n",
       "      <td>0.331262</td>\n",
       "      <td>0.811509</td>\n",
       "      <td>-1</td>\n",
       "    </tr>\n",
       "    <tr>\n",
       "      <th>18</th>\n",
       "      <td>회현동</td>\n",
       "      <td>0.000000</td>\n",
       "      <td>0.294433</td>\n",
       "      <td>0.155671</td>\n",
       "      <td>0.722658</td>\n",
       "      <td>-1</td>\n",
       "    </tr>\n",
       "  </tbody>\n",
       "</table>\n",
       "</div>"
      ],
      "text/plain": [
       "           읍면동명  환경자족성지수minmax  여가생활지수minmax  사회적약자_지원_인프라_밀집도minmax  \\\n",
       "8   종로1.2.3.4가동       0.063833      0.069040                0.206536   \n",
       "9       종로5.6가동       0.000617      0.162506                0.180645   \n",
       "12        창신제1동       0.000000      0.263260                0.061943   \n",
       "17          소공동       0.009355      0.085553                0.331262   \n",
       "18          회현동       0.000000      0.294433                0.155671   \n",
       "\n",
       "    접근성지수minmax  cluster_id  \n",
       "8      0.831703          -1  \n",
       "9      0.395959          -1  \n",
       "12     0.161153          -1  \n",
       "17     0.811509          -1  \n",
       "18     0.722658          -1  "
      ]
     },
     "execution_count": 38,
     "metadata": {},
     "output_type": "execute_result"
    }
   ],
   "source": [
    "origin6_final=DataFrame(origin6[origin6['cluster_id']==-1])\n",
    "origin6_final.head()"
   ]
  },
  {
   "cell_type": "code",
   "execution_count": 60,
   "metadata": {},
   "outputs": [],
   "source": [
    "origin6_final.to_excel('./교집합결과/여가생활,사회적약자voting2.xlsx')"
   ]
  },
  {
   "cell_type": "markdown",
   "metadata": {},
   "source": [
    "## #5. `여가생활지수 - 접근성지수`"
   ]
  },
  {
   "cell_type": "markdown",
   "metadata": {},
   "source": [
    "### 변수 추출"
   ]
  },
  {
   "cell_type": "code",
   "execution_count": 40,
   "metadata": {},
   "outputs": [
    {
     "data": {
      "text/html": [
       "<div>\n",
       "<style scoped>\n",
       "    .dataframe tbody tr th:only-of-type {\n",
       "        vertical-align: middle;\n",
       "    }\n",
       "\n",
       "    .dataframe tbody tr th {\n",
       "        vertical-align: top;\n",
       "    }\n",
       "\n",
       "    .dataframe thead th {\n",
       "        text-align: right;\n",
       "    }\n",
       "</style>\n",
       "<table border=\"1\" class=\"dataframe\">\n",
       "  <thead>\n",
       "    <tr style=\"text-align: right;\">\n",
       "      <th></th>\n",
       "      <th>읍면동명</th>\n",
       "      <th>환경자족성지수minmax</th>\n",
       "      <th>여가생활지수minmax</th>\n",
       "      <th>사회적약자_지원_인프라_밀집도minmax</th>\n",
       "      <th>접근성지수minmax</th>\n",
       "    </tr>\n",
       "  </thead>\n",
       "  <tbody>\n",
       "    <tr>\n",
       "      <th>0</th>\n",
       "      <td>청운효자동</td>\n",
       "      <td>0.212495</td>\n",
       "      <td>0.002648</td>\n",
       "      <td>0.068435</td>\n",
       "      <td>0.114798</td>\n",
       "    </tr>\n",
       "    <tr>\n",
       "      <th>1</th>\n",
       "      <td>사직동</td>\n",
       "      <td>0.038269</td>\n",
       "      <td>0.006464</td>\n",
       "      <td>0.041923</td>\n",
       "      <td>0.333275</td>\n",
       "    </tr>\n",
       "    <tr>\n",
       "      <th>2</th>\n",
       "      <td>삼청동</td>\n",
       "      <td>0.602143</td>\n",
       "      <td>0.005332</td>\n",
       "      <td>0.090426</td>\n",
       "      <td>0.342620</td>\n",
       "    </tr>\n",
       "    <tr>\n",
       "      <th>3</th>\n",
       "      <td>부암동</td>\n",
       "      <td>0.602143</td>\n",
       "      <td>0.001699</td>\n",
       "      <td>0.067935</td>\n",
       "      <td>0.157400</td>\n",
       "    </tr>\n",
       "    <tr>\n",
       "      <th>4</th>\n",
       "      <td>평창동</td>\n",
       "      <td>0.602861</td>\n",
       "      <td>0.000529</td>\n",
       "      <td>0.073234</td>\n",
       "      <td>0.135935</td>\n",
       "    </tr>\n",
       "  </tbody>\n",
       "</table>\n",
       "</div>"
      ],
      "text/plain": [
       "    읍면동명  환경자족성지수minmax  여가생활지수minmax  사회적약자_지원_인프라_밀집도minmax  접근성지수minmax\n",
       "0  청운효자동       0.212495      0.002648                0.068435     0.114798\n",
       "1    사직동       0.038269      0.006464                0.041923     0.333275\n",
       "2    삼청동       0.602143      0.005332                0.090426     0.342620\n",
       "3    부암동       0.602143      0.001699                0.067935     0.157400\n",
       "4    평창동       0.602861      0.000529                0.073234     0.135935"
      ]
     },
     "execution_count": 40,
     "metadata": {},
     "output_type": "execute_result"
    }
   ],
   "source": [
    "origin2.head()"
   ]
  },
  {
   "cell_type": "code",
   "execution_count": 41,
   "metadata": {},
   "outputs": [
    {
     "data": {
      "text/plain": [
       "array([[0.00264752, 0.11479751],\n",
       "       [0.00646393, 0.33327467],\n",
       "       [0.00533217, 0.34262014],\n",
       "       [0.0016987 , 0.15739974],\n",
       "       [0.00052877, 0.13593454]])"
      ]
     },
     "execution_count": 41,
     "metadata": {},
     "output_type": "execute_result"
    }
   ],
   "source": [
    "origin7=origin2.copy()\n",
    "YY = origin7.iloc[:,[2,4]].values #x값으로 여가생활지수,접근성지수 지정\n",
    "YY[:5]"
   ]
  },
  {
   "cell_type": "markdown",
   "metadata": {},
   "source": [
    "### DBSCAN 모델 구축\n",
    "\n",
    "DBSCAN 구현 파라미터\n",
    "\n",
    "| 파라미터 | 설명 |\n",
    "| -- | -- |\n",
    "| `eps` | 하나의 샘플에 대한 다른 샘플과의 최대 거리 |\n",
    "| `min_samples` | MinPts. 핵심 포인트로 간주할 포인트에 대한 이웃의 샘플 수 |"
   ]
  },
  {
   "cell_type": "code",
   "execution_count": 42,
   "metadata": {},
   "outputs": [
    {
     "data": {
      "text/html": [
       "<style>#sk-container-id-5 {color: black;}#sk-container-id-5 pre{padding: 0;}#sk-container-id-5 div.sk-toggleable {background-color: white;}#sk-container-id-5 label.sk-toggleable__label {cursor: pointer;display: block;width: 100%;margin-bottom: 0;padding: 0.3em;box-sizing: border-box;text-align: center;}#sk-container-id-5 label.sk-toggleable__label-arrow:before {content: \"▸\";float: left;margin-right: 0.25em;color: #696969;}#sk-container-id-5 label.sk-toggleable__label-arrow:hover:before {color: black;}#sk-container-id-5 div.sk-estimator:hover label.sk-toggleable__label-arrow:before {color: black;}#sk-container-id-5 div.sk-toggleable__content {max-height: 0;max-width: 0;overflow: hidden;text-align: left;background-color: #f0f8ff;}#sk-container-id-5 div.sk-toggleable__content pre {margin: 0.2em;color: black;border-radius: 0.25em;background-color: #f0f8ff;}#sk-container-id-5 input.sk-toggleable__control:checked~div.sk-toggleable__content {max-height: 200px;max-width: 100%;overflow: auto;}#sk-container-id-5 input.sk-toggleable__control:checked~label.sk-toggleable__label-arrow:before {content: \"▾\";}#sk-container-id-5 div.sk-estimator input.sk-toggleable__control:checked~label.sk-toggleable__label {background-color: #d4ebff;}#sk-container-id-5 div.sk-label input.sk-toggleable__control:checked~label.sk-toggleable__label {background-color: #d4ebff;}#sk-container-id-5 input.sk-hidden--visually {border: 0;clip: rect(1px 1px 1px 1px);clip: rect(1px, 1px, 1px, 1px);height: 1px;margin: -1px;overflow: hidden;padding: 0;position: absolute;width: 1px;}#sk-container-id-5 div.sk-estimator {font-family: monospace;background-color: #f0f8ff;border: 1px dotted black;border-radius: 0.25em;box-sizing: border-box;margin-bottom: 0.5em;}#sk-container-id-5 div.sk-estimator:hover {background-color: #d4ebff;}#sk-container-id-5 div.sk-parallel-item::after {content: \"\";width: 100%;border-bottom: 1px solid gray;flex-grow: 1;}#sk-container-id-5 div.sk-label:hover label.sk-toggleable__label {background-color: #d4ebff;}#sk-container-id-5 div.sk-serial::before {content: \"\";position: absolute;border-left: 1px solid gray;box-sizing: border-box;top: 0;bottom: 0;left: 50%;z-index: 0;}#sk-container-id-5 div.sk-serial {display: flex;flex-direction: column;align-items: center;background-color: white;padding-right: 0.2em;padding-left: 0.2em;position: relative;}#sk-container-id-5 div.sk-item {position: relative;z-index: 1;}#sk-container-id-5 div.sk-parallel {display: flex;align-items: stretch;justify-content: center;background-color: white;position: relative;}#sk-container-id-5 div.sk-item::before, #sk-container-id-5 div.sk-parallel-item::before {content: \"\";position: absolute;border-left: 1px solid gray;box-sizing: border-box;top: 0;bottom: 0;left: 50%;z-index: -1;}#sk-container-id-5 div.sk-parallel-item {display: flex;flex-direction: column;z-index: 1;position: relative;background-color: white;}#sk-container-id-5 div.sk-parallel-item:first-child::after {align-self: flex-end;width: 50%;}#sk-container-id-5 div.sk-parallel-item:last-child::after {align-self: flex-start;width: 50%;}#sk-container-id-5 div.sk-parallel-item:only-child::after {width: 0;}#sk-container-id-5 div.sk-dashed-wrapped {border: 1px dashed gray;margin: 0 0.4em 0.5em 0.4em;box-sizing: border-box;padding-bottom: 0.4em;background-color: white;}#sk-container-id-5 div.sk-label label {font-family: monospace;font-weight: bold;display: inline-block;line-height: 1.2em;}#sk-container-id-5 div.sk-label-container {text-align: center;}#sk-container-id-5 div.sk-container {/* jupyter's `normalize.less` sets `[hidden] { display: none; }` but bootstrap.min.css set `[hidden] { display: none !important; }` so we also need the `!important` here to be able to override the default hidden behavior on the sphinx rendered scikit-learn.org. See: https://github.com/scikit-learn/scikit-learn/issues/21755 */display: inline-block !important;position: relative;}#sk-container-id-5 div.sk-text-repr-fallback {display: none;}</style><div id=\"sk-container-id-5\" class=\"sk-top-container\"><div class=\"sk-text-repr-fallback\"><pre>DBSCAN(eps=0.03, leaf_size=10, metric=&#x27;chebyshev&#x27;)</pre><b>In a Jupyter environment, please rerun this cell to show the HTML representation or trust the notebook. <br />On GitHub, the HTML representation is unable to render, please try loading this page with nbviewer.org.</b></div><div class=\"sk-container\" hidden><div class=\"sk-item\"><div class=\"sk-estimator sk-toggleable\"><input class=\"sk-toggleable__control sk-hidden--visually\" id=\"sk-estimator-id-5\" type=\"checkbox\" checked><label for=\"sk-estimator-id-5\" class=\"sk-toggleable__label sk-toggleable__label-arrow\">DBSCAN</label><div class=\"sk-toggleable__content\"><pre>DBSCAN(eps=0.03, leaf_size=10, metric=&#x27;chebyshev&#x27;)</pre></div></div></div></div></div>"
      ],
      "text/plain": [
       "DBSCAN(eps=0.03, leaf_size=10, metric='chebyshev')"
      ]
     },
     "execution_count": 42,
     "metadata": {},
     "output_type": "execute_result"
    }
   ],
   "source": [
    "dbscan4=DBSCAN(eps=0.03,min_samples=5,leaf_size=10,metric='chebyshev')\n",
    "dbscan4.fit(YY)"
   ]
  },
  {
   "cell_type": "markdown",
   "metadata": {},
   "source": [
    "### 군집 결과"
   ]
  },
  {
   "cell_type": "code",
   "execution_count": 43,
   "metadata": {},
   "outputs": [
    {
     "data": {
      "text/plain": [
       "array([ 0, -1, -1,  0,  0,  0,  0, -1, -1, -1, -1,  0, -1,  0,  0,  0,  0,\n",
       "       -1, -1, -1, -1, -1, -1, -1, -1,  0,  0,  0,  0,  0, -1,  0,  0,  0,\n",
       "       -1,  0,  0,  0,  0,  0, -1,  0,  0,  0,  0,  0,  0,  0,  0,  0,  0,\n",
       "        0, -1, -1,  0,  0,  0,  0,  0,  0,  0,  0,  0,  0,  0,  0,  0,  0,\n",
       "        0,  0,  0,  0,  0,  0,  0,  0,  0,  0,  0,  0,  0,  0,  0,  0,  0,\n",
       "        0,  0,  0,  0,  0,  0,  0,  0,  0,  0,  0,  0,  0,  0,  0,  0,  0,\n",
       "        0,  0,  0,  0,  0,  0,  0,  0,  0,  0,  0, -1,  0,  0,  0,  0,  0,\n",
       "        0,  0,  0,  0,  0,  0,  0,  0,  0,  0,  0,  0,  0,  0,  0,  0,  0,\n",
       "        0,  0,  0,  0,  0,  0,  0,  0,  0,  0,  0,  0,  0,  0,  0,  0,  0,\n",
       "        0,  0,  0,  0,  0,  0,  0,  0,  0,  0, -1,  0,  0,  0,  0,  0,  0,\n",
       "        0,  0,  0,  0,  0,  0,  0,  0,  0,  0,  0,  0,  0,  0,  0,  0,  0,\n",
       "        0,  0,  0,  0,  0,  0,  0,  0,  0,  0,  0,  0,  0,  0,  0,  0,  0,\n",
       "        0,  0, -1,  0,  0,  0,  0,  0,  0,  0,  0,  0,  0,  0,  0,  0,  0,\n",
       "        0,  0,  0,  0,  0,  0,  0,  0,  0,  0,  0,  0,  0,  0,  0,  0,  0,\n",
       "        0,  0,  0,  0,  0,  0,  0,  0,  0,  0,  0,  0,  0,  0,  0,  0,  0,\n",
       "        0,  0,  0,  0,  0,  0,  0,  0,  0,  0, -1,  0,  0,  0,  0,  0,  0,\n",
       "        0,  0,  0, -1,  0,  0,  0,  0,  0,  0,  0,  0,  0,  0,  0,  0,  0,\n",
       "        0,  0,  0,  0,  0,  0,  0,  0,  0,  0,  0,  0,  0,  0,  0,  0,  0,\n",
       "        0, -1,  0,  0,  0,  0,  0,  0,  0,  0,  0,  0,  0,  0,  0,  0,  0,\n",
       "        0,  0,  0,  0,  0,  0,  0,  0,  0,  0,  0,  0,  0,  0,  0,  0,  0,\n",
       "        0,  0,  0,  0,  0, -1,  0,  0,  0,  0,  0,  0,  0,  0,  0,  0,  0,\n",
       "        0,  0,  0,  0,  0,  0,  0,  0,  0,  0,  0,  0,  0,  0,  0,  0,  0,\n",
       "        0,  0,  0,  0,  0,  0,  0,  0,  0,  0,  0,  0,  0,  0,  0,  0,  0,\n",
       "        0,  0,  0,  0,  0,  0,  0,  0,  0,  0,  0,  0,  0,  0],\n",
       "      dtype=int64)"
      ]
     },
     "execution_count": 43,
     "metadata": {},
     "output_type": "execute_result"
    }
   ],
   "source": [
    "cluster_label4=dbscan4.labels_\n",
    "cluster_label4"
   ]
  },
  {
   "cell_type": "markdown",
   "metadata": {},
   "source": [
    "### 군집 결과 데이터 통합"
   ]
  },
  {
   "cell_type": "code",
   "execution_count": 44,
   "metadata": {},
   "outputs": [
    {
     "data": {
      "text/html": [
       "<div>\n",
       "<style scoped>\n",
       "    .dataframe tbody tr th:only-of-type {\n",
       "        vertical-align: middle;\n",
       "    }\n",
       "\n",
       "    .dataframe tbody tr th {\n",
       "        vertical-align: top;\n",
       "    }\n",
       "\n",
       "    .dataframe thead th {\n",
       "        text-align: right;\n",
       "    }\n",
       "</style>\n",
       "<table border=\"1\" class=\"dataframe\">\n",
       "  <thead>\n",
       "    <tr style=\"text-align: right;\">\n",
       "      <th></th>\n",
       "      <th>읍면동명</th>\n",
       "      <th>환경자족성지수minmax</th>\n",
       "      <th>여가생활지수minmax</th>\n",
       "      <th>사회적약자_지원_인프라_밀집도minmax</th>\n",
       "      <th>접근성지수minmax</th>\n",
       "      <th>cluster_id</th>\n",
       "    </tr>\n",
       "  </thead>\n",
       "  <tbody>\n",
       "    <tr>\n",
       "      <th>0</th>\n",
       "      <td>청운효자동</td>\n",
       "      <td>0.212495</td>\n",
       "      <td>0.002648</td>\n",
       "      <td>0.068435</td>\n",
       "      <td>0.114798</td>\n",
       "      <td>0</td>\n",
       "    </tr>\n",
       "    <tr>\n",
       "      <th>1</th>\n",
       "      <td>사직동</td>\n",
       "      <td>0.038269</td>\n",
       "      <td>0.006464</td>\n",
       "      <td>0.041923</td>\n",
       "      <td>0.333275</td>\n",
       "      <td>-1</td>\n",
       "    </tr>\n",
       "    <tr>\n",
       "      <th>2</th>\n",
       "      <td>삼청동</td>\n",
       "      <td>0.602143</td>\n",
       "      <td>0.005332</td>\n",
       "      <td>0.090426</td>\n",
       "      <td>0.342620</td>\n",
       "      <td>-1</td>\n",
       "    </tr>\n",
       "    <tr>\n",
       "      <th>3</th>\n",
       "      <td>부암동</td>\n",
       "      <td>0.602143</td>\n",
       "      <td>0.001699</td>\n",
       "      <td>0.067935</td>\n",
       "      <td>0.157400</td>\n",
       "      <td>0</td>\n",
       "    </tr>\n",
       "    <tr>\n",
       "      <th>4</th>\n",
       "      <td>평창동</td>\n",
       "      <td>0.602861</td>\n",
       "      <td>0.000529</td>\n",
       "      <td>0.073234</td>\n",
       "      <td>0.135935</td>\n",
       "      <td>0</td>\n",
       "    </tr>\n",
       "  </tbody>\n",
       "</table>\n",
       "</div>"
      ],
      "text/plain": [
       "    읍면동명  환경자족성지수minmax  여가생활지수minmax  사회적약자_지원_인프라_밀집도minmax  접근성지수minmax  \\\n",
       "0  청운효자동       0.212495      0.002648                0.068435     0.114798   \n",
       "1    사직동       0.038269      0.006464                0.041923     0.333275   \n",
       "2    삼청동       0.602143      0.005332                0.090426     0.342620   \n",
       "3    부암동       0.602143      0.001699                0.067935     0.157400   \n",
       "4    평창동       0.602861      0.000529                0.073234     0.135935   \n",
       "\n",
       "   cluster_id  \n",
       "0           0  \n",
       "1          -1  \n",
       "2          -1  \n",
       "3           0  \n",
       "4           0  "
      ]
     },
     "execution_count": 44,
     "metadata": {},
     "output_type": "execute_result"
    }
   ],
   "source": [
    "origin7['cluster_id'] = cluster_label4\n",
    "origin7.head()"
   ]
  },
  {
   "cell_type": "markdown",
   "metadata": {},
   "source": [
    "### 군집 결과 시각화"
   ]
  },
  {
   "cell_type": "code",
   "execution_count": 45,
   "metadata": {},
   "outputs": [
    {
     "data": {
      "image/png": "[encoded data removed]",
      "text/plain": [
       "<Figure size 1000x500 with 1 Axes>"
      ]
     },
     "metadata": {},
     "output_type": "display_data"
    }
   ],
   "source": [
    "plt.figure(figsize=(10,5))\n",
    "sb.scatterplot(data=origin7,x='여가생활지수minmax',y='접근성지수minmax',hue=cluster_label4,palette='Set1')\n",
    "plt.grid()\n",
    "plt.show()\n",
    "plt.close()"
   ]
  },
  {
   "cell_type": "markdown",
   "metadata": {},
   "source": [
    "> 여기서는 이상치(`군집 -1`)를  선정한다. <br/> 비록 데이터가 산개되어 있지만 군집 `0`보다 각 지수 값이 보다 상위에 포진해있는 만큼 최적의 입지 후보군이 될 수 있다고 판단."
   ]
  },
  {
   "cell_type": "markdown",
   "metadata": {},
   "source": [
    "### 수동 voting을 위한 xlsx 파일 생성"
   ]
  },
  {
   "cell_type": "code",
   "execution_count": 46,
   "metadata": {},
   "outputs": [
    {
     "data": {
      "text/html": [
       "<div>\n",
       "<style scoped>\n",
       "    .dataframe tbody tr th:only-of-type {\n",
       "        vertical-align: middle;\n",
       "    }\n",
       "\n",
       "    .dataframe tbody tr th {\n",
       "        vertical-align: top;\n",
       "    }\n",
       "\n",
       "    .dataframe thead th {\n",
       "        text-align: right;\n",
       "    }\n",
       "</style>\n",
       "<table border=\"1\" class=\"dataframe\">\n",
       "  <thead>\n",
       "    <tr style=\"text-align: right;\">\n",
       "      <th></th>\n",
       "      <th>읍면동명</th>\n",
       "      <th>환경자족성지수minmax</th>\n",
       "      <th>여가생활지수minmax</th>\n",
       "      <th>사회적약자_지원_인프라_밀집도minmax</th>\n",
       "      <th>접근성지수minmax</th>\n",
       "      <th>cluster_id</th>\n",
       "    </tr>\n",
       "  </thead>\n",
       "  <tbody>\n",
       "    <tr>\n",
       "      <th>1</th>\n",
       "      <td>사직동</td>\n",
       "      <td>0.038269</td>\n",
       "      <td>0.006464</td>\n",
       "      <td>0.041923</td>\n",
       "      <td>0.333275</td>\n",
       "      <td>-1</td>\n",
       "    </tr>\n",
       "    <tr>\n",
       "      <th>2</th>\n",
       "      <td>삼청동</td>\n",
       "      <td>0.602143</td>\n",
       "      <td>0.005332</td>\n",
       "      <td>0.090426</td>\n",
       "      <td>0.342620</td>\n",
       "      <td>-1</td>\n",
       "    </tr>\n",
       "    <tr>\n",
       "      <th>7</th>\n",
       "      <td>가회동</td>\n",
       "      <td>0.003047</td>\n",
       "      <td>0.003559</td>\n",
       "      <td>0.078064</td>\n",
       "      <td>0.266902</td>\n",
       "      <td>-1</td>\n",
       "    </tr>\n",
       "    <tr>\n",
       "      <th>8</th>\n",
       "      <td>종로1.2.3.4가동</td>\n",
       "      <td>0.063833</td>\n",
       "      <td>0.069040</td>\n",
       "      <td>0.206536</td>\n",
       "      <td>0.831703</td>\n",
       "      <td>-1</td>\n",
       "    </tr>\n",
       "    <tr>\n",
       "      <th>9</th>\n",
       "      <td>종로5.6가동</td>\n",
       "      <td>0.000617</td>\n",
       "      <td>0.162506</td>\n",
       "      <td>0.180645</td>\n",
       "      <td>0.395959</td>\n",
       "      <td>-1</td>\n",
       "    </tr>\n",
       "  </tbody>\n",
       "</table>\n",
       "</div>"
      ],
      "text/plain": [
       "          읍면동명  환경자족성지수minmax  여가생활지수minmax  사회적약자_지원_인프라_밀집도minmax  \\\n",
       "1          사직동       0.038269      0.006464                0.041923   \n",
       "2          삼청동       0.602143      0.005332                0.090426   \n",
       "7          가회동       0.003047      0.003559                0.078064   \n",
       "8  종로1.2.3.4가동       0.063833      0.069040                0.206536   \n",
       "9      종로5.6가동       0.000617      0.162506                0.180645   \n",
       "\n",
       "   접근성지수minmax  cluster_id  \n",
       "1     0.333275          -1  \n",
       "2     0.342620          -1  \n",
       "7     0.266902          -1  \n",
       "8     0.831703          -1  \n",
       "9     0.395959          -1  "
      ]
     },
     "execution_count": 46,
     "metadata": {},
     "output_type": "execute_result"
    }
   ],
   "source": [
    "origin7_1final=DataFrame(origin7[origin7['cluster_id']==-1])\n",
    "origin7_1final.head()"
   ]
  },
  {
   "cell_type": "code",
   "execution_count": 61,
   "metadata": {},
   "outputs": [],
   "source": [
    "origin7_1final.to_excel('./교집합결과/여가생활,접근성지수voting2.xlsx')"
   ]
  },
  {
   "cell_type": "markdown",
   "metadata": {},
   "source": [
    "## #6. `사회적약자지수 - 접근성지수`"
   ]
  },
  {
   "cell_type": "markdown",
   "metadata": {},
   "source": [
    "### 변수 추출"
   ]
  },
  {
   "cell_type": "code",
   "execution_count": 48,
   "metadata": {},
   "outputs": [
    {
     "data": {
      "text/html": [
       "<div>\n",
       "<style scoped>\n",
       "    .dataframe tbody tr th:only-of-type {\n",
       "        vertical-align: middle;\n",
       "    }\n",
       "\n",
       "    .dataframe tbody tr th {\n",
       "        vertical-align: top;\n",
       "    }\n",
       "\n",
       "    .dataframe thead th {\n",
       "        text-align: right;\n",
       "    }\n",
       "</style>\n",
       "<table border=\"1\" class=\"dataframe\">\n",
       "  <thead>\n",
       "    <tr style=\"text-align: right;\">\n",
       "      <th></th>\n",
       "      <th>읍면동명</th>\n",
       "      <th>환경자족성지수minmax</th>\n",
       "      <th>여가생활지수minmax</th>\n",
       "      <th>사회적약자_지원_인프라_밀집도minmax</th>\n",
       "      <th>접근성지수minmax</th>\n",
       "    </tr>\n",
       "  </thead>\n",
       "  <tbody>\n",
       "    <tr>\n",
       "      <th>0</th>\n",
       "      <td>청운효자동</td>\n",
       "      <td>0.212495</td>\n",
       "      <td>0.002648</td>\n",
       "      <td>0.068435</td>\n",
       "      <td>0.114798</td>\n",
       "    </tr>\n",
       "    <tr>\n",
       "      <th>1</th>\n",
       "      <td>사직동</td>\n",
       "      <td>0.038269</td>\n",
       "      <td>0.006464</td>\n",
       "      <td>0.041923</td>\n",
       "      <td>0.333275</td>\n",
       "    </tr>\n",
       "    <tr>\n",
       "      <th>2</th>\n",
       "      <td>삼청동</td>\n",
       "      <td>0.602143</td>\n",
       "      <td>0.005332</td>\n",
       "      <td>0.090426</td>\n",
       "      <td>0.342620</td>\n",
       "    </tr>\n",
       "    <tr>\n",
       "      <th>3</th>\n",
       "      <td>부암동</td>\n",
       "      <td>0.602143</td>\n",
       "      <td>0.001699</td>\n",
       "      <td>0.067935</td>\n",
       "      <td>0.157400</td>\n",
       "    </tr>\n",
       "    <tr>\n",
       "      <th>4</th>\n",
       "      <td>평창동</td>\n",
       "      <td>0.602861</td>\n",
       "      <td>0.000529</td>\n",
       "      <td>0.073234</td>\n",
       "      <td>0.135935</td>\n",
       "    </tr>\n",
       "  </tbody>\n",
       "</table>\n",
       "</div>"
      ],
      "text/plain": [
       "    읍면동명  환경자족성지수minmax  여가생활지수minmax  사회적약자_지원_인프라_밀집도minmax  접근성지수minmax\n",
       "0  청운효자동       0.212495      0.002648                0.068435     0.114798\n",
       "1    사직동       0.038269      0.006464                0.041923     0.333275\n",
       "2    삼청동       0.602143      0.005332                0.090426     0.342620\n",
       "3    부암동       0.602143      0.001699                0.067935     0.157400\n",
       "4    평창동       0.602861      0.000529                0.073234     0.135935"
      ]
     },
     "execution_count": 48,
     "metadata": {},
     "output_type": "execute_result"
    }
   ],
   "source": [
    "origin2.head()"
   ]
  },
  {
   "cell_type": "code",
   "execution_count": 49,
   "metadata": {},
   "outputs": [
    {
     "data": {
      "text/plain": [
       "array([[0.06843491, 0.11479751],\n",
       "       [0.04192329, 0.33327467],\n",
       "       [0.09042634, 0.34262014],\n",
       "       [0.06793525, 0.15739974],\n",
       "       [0.0732343 , 0.13593454]])"
      ]
     },
     "execution_count": 49,
     "metadata": {},
     "output_type": "execute_result"
    }
   ],
   "source": [
    "origin8=origin2.copy()\n",
    "ZZ = origin8.iloc[:,[3,4]].values #x값으로 사회적약자지수, 접근성지수 지정\n",
    "ZZ[:5]"
   ]
  },
  {
   "cell_type": "markdown",
   "metadata": {},
   "source": [
    "### DBSCAN 모델 구축\n",
    "\n",
    "DBSCAN 구현 파라미터\n",
    "\n",
    "| 파라미터 | 설명 |\n",
    "| -- | -- |\n",
    "| `eps` | 하나의 샘플에 대한 다른 샘플과의 최대 거리 |\n",
    "| `min_samples` | MinPts. 핵심 포인트로 간주할 포인트에 대한 이웃의 샘플 수 |"
   ]
  },
  {
   "cell_type": "code",
   "execution_count": 50,
   "metadata": {},
   "outputs": [
    {
     "data": {
      "text/html": [
       "<style>#sk-container-id-6 {color: black;}#sk-container-id-6 pre{padding: 0;}#sk-container-id-6 div.sk-toggleable {background-color: white;}#sk-container-id-6 label.sk-toggleable__label {cursor: pointer;display: block;width: 100%;margin-bottom: 0;padding: 0.3em;box-sizing: border-box;text-align: center;}#sk-container-id-6 label.sk-toggleable__label-arrow:before {content: \"▸\";float: left;margin-right: 0.25em;color: #696969;}#sk-container-id-6 label.sk-toggleable__label-arrow:hover:before {color: black;}#sk-container-id-6 div.sk-estimator:hover label.sk-toggleable__label-arrow:before {color: black;}#sk-container-id-6 div.sk-toggleable__content {max-height: 0;max-width: 0;overflow: hidden;text-align: left;background-color: #f0f8ff;}#sk-container-id-6 div.sk-toggleable__content pre {margin: 0.2em;color: black;border-radius: 0.25em;background-color: #f0f8ff;}#sk-container-id-6 input.sk-toggleable__control:checked~div.sk-toggleable__content {max-height: 200px;max-width: 100%;overflow: auto;}#sk-container-id-6 input.sk-toggleable__control:checked~label.sk-toggleable__label-arrow:before {content: \"▾\";}#sk-container-id-6 div.sk-estimator input.sk-toggleable__control:checked~label.sk-toggleable__label {background-color: #d4ebff;}#sk-container-id-6 div.sk-label input.sk-toggleable__control:checked~label.sk-toggleable__label {background-color: #d4ebff;}#sk-container-id-6 input.sk-hidden--visually {border: 0;clip: rect(1px 1px 1px 1px);clip: rect(1px, 1px, 1px, 1px);height: 1px;margin: -1px;overflow: hidden;padding: 0;position: absolute;width: 1px;}#sk-container-id-6 div.sk-estimator {font-family: monospace;background-color: #f0f8ff;border: 1px dotted black;border-radius: 0.25em;box-sizing: border-box;margin-bottom: 0.5em;}#sk-container-id-6 div.sk-estimator:hover {background-color: #d4ebff;}#sk-container-id-6 div.sk-parallel-item::after {content: \"\";width: 100%;border-bottom: 1px solid gray;flex-grow: 1;}#sk-container-id-6 div.sk-label:hover label.sk-toggleable__label {background-color: #d4ebff;}#sk-container-id-6 div.sk-serial::before {content: \"\";position: absolute;border-left: 1px solid gray;box-sizing: border-box;top: 0;bottom: 0;left: 50%;z-index: 0;}#sk-container-id-6 div.sk-serial {display: flex;flex-direction: column;align-items: center;background-color: white;padding-right: 0.2em;padding-left: 0.2em;position: relative;}#sk-container-id-6 div.sk-item {position: relative;z-index: 1;}#sk-container-id-6 div.sk-parallel {display: flex;align-items: stretch;justify-content: center;background-color: white;position: relative;}#sk-container-id-6 div.sk-item::before, #sk-container-id-6 div.sk-parallel-item::before {content: \"\";position: absolute;border-left: 1px solid gray;box-sizing: border-box;top: 0;bottom: 0;left: 50%;z-index: -1;}#sk-container-id-6 div.sk-parallel-item {display: flex;flex-direction: column;z-index: 1;position: relative;background-color: white;}#sk-container-id-6 div.sk-parallel-item:first-child::after {align-self: flex-end;width: 50%;}#sk-container-id-6 div.sk-parallel-item:last-child::after {align-self: flex-start;width: 50%;}#sk-container-id-6 div.sk-parallel-item:only-child::after {width: 0;}#sk-container-id-6 div.sk-dashed-wrapped {border: 1px dashed gray;margin: 0 0.4em 0.5em 0.4em;box-sizing: border-box;padding-bottom: 0.4em;background-color: white;}#sk-container-id-6 div.sk-label label {font-family: monospace;font-weight: bold;display: inline-block;line-height: 1.2em;}#sk-container-id-6 div.sk-label-container {text-align: center;}#sk-container-id-6 div.sk-container {/* jupyter's `normalize.less` sets `[hidden] { display: none; }` but bootstrap.min.css set `[hidden] { display: none !important; }` so we also need the `!important` here to be able to override the default hidden behavior on the sphinx rendered scikit-learn.org. See: https://github.com/scikit-learn/scikit-learn/issues/21755 */display: inline-block !important;position: relative;}#sk-container-id-6 div.sk-text-repr-fallback {display: none;}</style><div id=\"sk-container-id-6\" class=\"sk-top-container\"><div class=\"sk-text-repr-fallback\"><pre>DBSCAN(eps=0.04, leaf_size=10, metric=&#x27;chebyshev&#x27;, min_samples=10)</pre><b>In a Jupyter environment, please rerun this cell to show the HTML representation or trust the notebook. <br />On GitHub, the HTML representation is unable to render, please try loading this page with nbviewer.org.</b></div><div class=\"sk-container\" hidden><div class=\"sk-item\"><div class=\"sk-estimator sk-toggleable\"><input class=\"sk-toggleable__control sk-hidden--visually\" id=\"sk-estimator-id-6\" type=\"checkbox\" checked><label for=\"sk-estimator-id-6\" class=\"sk-toggleable__label sk-toggleable__label-arrow\">DBSCAN</label><div class=\"sk-toggleable__content\"><pre>DBSCAN(eps=0.04, leaf_size=10, metric=&#x27;chebyshev&#x27;, min_samples=10)</pre></div></div></div></div></div>"
      ],
      "text/plain": [
       "DBSCAN(eps=0.04, leaf_size=10, metric='chebyshev', min_samples=10)"
      ]
     },
     "execution_count": 50,
     "metadata": {},
     "output_type": "execute_result"
    }
   ],
   "source": [
    "dbscan5=DBSCAN(eps=0.04,min_samples=10,leaf_size=10,metric='chebyshev')\n",
    "dbscan5.fit(ZZ)"
   ]
  },
  {
   "cell_type": "markdown",
   "metadata": {},
   "source": [
    "### 군집 결과"
   ]
  },
  {
   "cell_type": "code",
   "execution_count": 51,
   "metadata": {},
   "outputs": [
    {
     "data": {
      "text/plain": [
       "array([ 0, -1, -1,  0,  0,  0,  0, -1, -1, -1,  0,  0,  0,  0,  0,  0,  0,\n",
       "       -1, -1, -1, -1, -1, -1, -1, -1,  0,  0,  0,  0,  0,  0,  0,  0,  0,\n",
       "       -1,  0,  0,  0,  0,  0, -1,  0,  0,  0,  0,  0,  0,  0,  0,  0,  0,\n",
       "        0,  0,  0,  0,  0,  0,  0,  0,  0,  0,  0,  0,  0,  0,  0,  0,  0,\n",
       "        0,  0,  0,  0,  0,  0,  0,  0,  0,  0,  0,  0,  0,  0,  0,  0,  0,\n",
       "        0,  0,  0,  0,  0,  0,  0,  0,  0,  0,  0,  0,  0,  0,  0,  0,  0,\n",
       "        0,  0,  0,  0,  0,  0,  0,  0,  0,  0,  0,  0,  0,  0,  0,  0,  0,\n",
       "        0,  0,  0,  0,  0,  0,  0,  0,  0,  0,  0,  0,  0,  0,  0,  0,  0,\n",
       "        0,  0,  0,  0,  0,  0,  0,  0,  0,  0,  0,  0,  0,  0,  0,  0,  0,\n",
       "        0,  0,  0,  0,  0,  0,  0,  0,  0,  0,  0,  0,  0,  0,  0,  0,  0,\n",
       "        0,  0,  0,  0,  0,  0,  0,  0,  0,  0,  0,  0,  0,  0,  0,  0,  0,\n",
       "        0,  0,  0,  0,  0,  0,  0,  0,  0,  0,  0,  0,  0,  0,  0,  0,  0,\n",
       "        0,  0,  0,  0,  0,  0,  0,  0,  0,  0,  0,  0,  0,  0,  0,  0,  0,\n",
       "        0,  0,  0,  0,  0,  0,  0,  0,  0,  0,  0,  0,  0,  0,  0,  0,  0,\n",
       "        0,  0,  0,  0,  0,  0,  0,  0,  0,  0,  0,  0,  0,  0,  0,  0,  0,\n",
       "        0,  0,  0,  0,  0,  0,  0,  0,  0,  0, -1,  0,  0,  0,  0,  0,  0,\n",
       "        0,  0,  0, -1,  0,  0,  0,  0,  0,  0,  0,  0,  0,  0,  0,  0,  0,\n",
       "        0,  0,  0,  0,  0,  0,  0,  0,  0,  0,  0,  0,  0,  0,  0,  0,  0,\n",
       "        0,  0,  0,  0,  0,  0,  0,  0,  0,  0,  0,  0,  0,  0,  0,  0,  0,\n",
       "        0,  0,  0,  0,  0,  0,  0,  0,  0,  0,  0,  0,  0,  0,  0,  0,  0,\n",
       "       -1,  0,  0,  0,  0, -1,  0,  0,  0,  0,  0,  0,  0,  0,  0,  0,  0,\n",
       "        0,  0,  0,  0,  0,  0,  0,  0,  0,  0,  0,  0,  0,  0,  0,  0,  0,\n",
       "        0,  0,  0,  0,  0,  0,  0,  0,  0,  0,  0,  0,  0,  0,  0,  0,  0,\n",
       "        0,  0,  0,  0,  0,  0,  0,  0,  0,  0,  0,  0, -1,  0],\n",
       "      dtype=int64)"
      ]
     },
     "execution_count": 51,
     "metadata": {},
     "output_type": "execute_result"
    }
   ],
   "source": [
    "cluster_label5=dbscan5.labels_\n",
    "cluster_label5"
   ]
  },
  {
   "cell_type": "markdown",
   "metadata": {},
   "source": [
    "### 군집 결과 데이터 통합"
   ]
  },
  {
   "cell_type": "code",
   "execution_count": 52,
   "metadata": {},
   "outputs": [
    {
     "data": {
      "text/html": [
       "<div>\n",
       "<style scoped>\n",
       "    .dataframe tbody tr th:only-of-type {\n",
       "        vertical-align: middle;\n",
       "    }\n",
       "\n",
       "    .dataframe tbody tr th {\n",
       "        vertical-align: top;\n",
       "    }\n",
       "\n",
       "    .dataframe thead th {\n",
       "        text-align: right;\n",
       "    }\n",
       "</style>\n",
       "<table border=\"1\" class=\"dataframe\">\n",
       "  <thead>\n",
       "    <tr style=\"text-align: right;\">\n",
       "      <th></th>\n",
       "      <th>읍면동명</th>\n",
       "      <th>환경자족성지수minmax</th>\n",
       "      <th>여가생활지수minmax</th>\n",
       "      <th>사회적약자_지원_인프라_밀집도minmax</th>\n",
       "      <th>접근성지수minmax</th>\n",
       "      <th>cluster_id</th>\n",
       "    </tr>\n",
       "  </thead>\n",
       "  <tbody>\n",
       "    <tr>\n",
       "      <th>0</th>\n",
       "      <td>청운효자동</td>\n",
       "      <td>0.212495</td>\n",
       "      <td>0.002648</td>\n",
       "      <td>0.068435</td>\n",
       "      <td>0.114798</td>\n",
       "      <td>0</td>\n",
       "    </tr>\n",
       "    <tr>\n",
       "      <th>1</th>\n",
       "      <td>사직동</td>\n",
       "      <td>0.038269</td>\n",
       "      <td>0.006464</td>\n",
       "      <td>0.041923</td>\n",
       "      <td>0.333275</td>\n",
       "      <td>-1</td>\n",
       "    </tr>\n",
       "    <tr>\n",
       "      <th>2</th>\n",
       "      <td>삼청동</td>\n",
       "      <td>0.602143</td>\n",
       "      <td>0.005332</td>\n",
       "      <td>0.090426</td>\n",
       "      <td>0.342620</td>\n",
       "      <td>-1</td>\n",
       "    </tr>\n",
       "    <tr>\n",
       "      <th>3</th>\n",
       "      <td>부암동</td>\n",
       "      <td>0.602143</td>\n",
       "      <td>0.001699</td>\n",
       "      <td>0.067935</td>\n",
       "      <td>0.157400</td>\n",
       "      <td>0</td>\n",
       "    </tr>\n",
       "    <tr>\n",
       "      <th>4</th>\n",
       "      <td>평창동</td>\n",
       "      <td>0.602861</td>\n",
       "      <td>0.000529</td>\n",
       "      <td>0.073234</td>\n",
       "      <td>0.135935</td>\n",
       "      <td>0</td>\n",
       "    </tr>\n",
       "    <tr>\n",
       "      <th>...</th>\n",
       "      <td>...</td>\n",
       "      <td>...</td>\n",
       "      <td>...</td>\n",
       "      <td>...</td>\n",
       "      <td>...</td>\n",
       "      <td>...</td>\n",
       "    </tr>\n",
       "    <tr>\n",
       "      <th>400</th>\n",
       "      <td>성내제2동</td>\n",
       "      <td>0.240970</td>\n",
       "      <td>0.045969</td>\n",
       "      <td>0.060776</td>\n",
       "      <td>0.108987</td>\n",
       "      <td>0</td>\n",
       "    </tr>\n",
       "    <tr>\n",
       "      <th>401</th>\n",
       "      <td>성내제3동</td>\n",
       "      <td>0.542149</td>\n",
       "      <td>0.041755</td>\n",
       "      <td>0.075533</td>\n",
       "      <td>0.079180</td>\n",
       "      <td>0</td>\n",
       "    </tr>\n",
       "    <tr>\n",
       "      <th>402</th>\n",
       "      <td>길동</td>\n",
       "      <td>0.002587</td>\n",
       "      <td>0.029283</td>\n",
       "      <td>0.057210</td>\n",
       "      <td>0.064183</td>\n",
       "      <td>0</td>\n",
       "    </tr>\n",
       "    <tr>\n",
       "      <th>403</th>\n",
       "      <td>둔촌제1동</td>\n",
       "      <td>0.421500</td>\n",
       "      <td>0.000000</td>\n",
       "      <td>1.000000</td>\n",
       "      <td>0.000000</td>\n",
       "      <td>-1</td>\n",
       "    </tr>\n",
       "    <tr>\n",
       "      <th>404</th>\n",
       "      <td>둔촌제2동</td>\n",
       "      <td>0.037085</td>\n",
       "      <td>0.000766</td>\n",
       "      <td>0.087391</td>\n",
       "      <td>0.103550</td>\n",
       "      <td>0</td>\n",
       "    </tr>\n",
       "  </tbody>\n",
       "</table>\n",
       "<p>405 rows × 6 columns</p>\n",
       "</div>"
      ],
      "text/plain": [
       "      읍면동명  환경자족성지수minmax  여가생활지수minmax  사회적약자_지원_인프라_밀집도minmax  접근성지수minmax  \\\n",
       "0    청운효자동       0.212495      0.002648                0.068435     0.114798   \n",
       "1      사직동       0.038269      0.006464                0.041923     0.333275   \n",
       "2      삼청동       0.602143      0.005332                0.090426     0.342620   \n",
       "3      부암동       0.602143      0.001699                0.067935     0.157400   \n",
       "4      평창동       0.602861      0.000529                0.073234     0.135935   \n",
       "..     ...            ...           ...                     ...          ...   \n",
       "400  성내제2동       0.240970      0.045969                0.060776     0.108987   \n",
       "401  성내제3동       0.542149      0.041755                0.075533     0.079180   \n",
       "402     길동       0.002587      0.029283                0.057210     0.064183   \n",
       "403  둔촌제1동       0.421500      0.000000                1.000000     0.000000   \n",
       "404  둔촌제2동       0.037085      0.000766                0.087391     0.103550   \n",
       "\n",
       "     cluster_id  \n",
       "0             0  \n",
       "1            -1  \n",
       "2            -1  \n",
       "3             0  \n",
       "4             0  \n",
       "..          ...  \n",
       "400           0  \n",
       "401           0  \n",
       "402           0  \n",
       "403          -1  \n",
       "404           0  \n",
       "\n",
       "[405 rows x 6 columns]"
      ]
     },
     "execution_count": 52,
     "metadata": {},
     "output_type": "execute_result"
    }
   ],
   "source": [
    "origin8['cluster_id'] = cluster_label5\n",
    "origin8"
   ]
  },
  {
   "cell_type": "markdown",
   "metadata": {},
   "source": [
    "### 군집 결과 시각화"
   ]
  },
  {
   "cell_type": "code",
   "execution_count": 53,
   "metadata": {},
   "outputs": [
    {
     "data": {
      "image/png": "[encoded data removed]",
      "text/plain": [
       "<Figure size 1000x500 with 1 Axes>"
      ]
     },
     "metadata": {},
     "output_type": "display_data"
    }
   ],
   "source": [
    "plt.figure(figsize=(10,5))\n",
    "sb.scatterplot(data=origin8,x='사회적약자_지원_인프라_밀집도minmax',y='접근성지수minmax',hue=cluster_label5,palette='Set1')\n",
    "plt.grid()\n",
    "plt.show()\n",
    "plt.close()"
   ]
  },
  {
   "cell_type": "markdown",
   "metadata": {},
   "source": [
    "> 여기서는 이상치(`군집 -1`)를  선정한다. <br/> 비록 데이터가 산개되어 있지만 군집 `0`보다 각 지수 값이 보다 상위에 포진해있는 만큼 최적의 입지 후보군이 될 수 있다고 판단."
   ]
  },
  {
   "cell_type": "markdown",
   "metadata": {},
   "source": [
    "### 수동 voting을 위한 xlsx 파일 생성"
   ]
  },
  {
   "cell_type": "code",
   "execution_count": 54,
   "metadata": {},
   "outputs": [
    {
     "data": {
      "text/html": [
       "<div>\n",
       "<style scoped>\n",
       "    .dataframe tbody tr th:only-of-type {\n",
       "        vertical-align: middle;\n",
       "    }\n",
       "\n",
       "    .dataframe tbody tr th {\n",
       "        vertical-align: top;\n",
       "    }\n",
       "\n",
       "    .dataframe thead th {\n",
       "        text-align: right;\n",
       "    }\n",
       "</style>\n",
       "<table border=\"1\" class=\"dataframe\">\n",
       "  <thead>\n",
       "    <tr style=\"text-align: right;\">\n",
       "      <th></th>\n",
       "      <th>읍면동명</th>\n",
       "      <th>환경자족성지수minmax</th>\n",
       "      <th>여가생활지수minmax</th>\n",
       "      <th>사회적약자_지원_인프라_밀집도minmax</th>\n",
       "      <th>접근성지수minmax</th>\n",
       "      <th>cluster_id</th>\n",
       "    </tr>\n",
       "  </thead>\n",
       "  <tbody>\n",
       "    <tr>\n",
       "      <th>1</th>\n",
       "      <td>사직동</td>\n",
       "      <td>0.038269</td>\n",
       "      <td>0.006464</td>\n",
       "      <td>0.041923</td>\n",
       "      <td>0.333275</td>\n",
       "      <td>-1</td>\n",
       "    </tr>\n",
       "    <tr>\n",
       "      <th>2</th>\n",
       "      <td>삼청동</td>\n",
       "      <td>0.602143</td>\n",
       "      <td>0.005332</td>\n",
       "      <td>0.090426</td>\n",
       "      <td>0.342620</td>\n",
       "      <td>-1</td>\n",
       "    </tr>\n",
       "    <tr>\n",
       "      <th>7</th>\n",
       "      <td>가회동</td>\n",
       "      <td>0.003047</td>\n",
       "      <td>0.003559</td>\n",
       "      <td>0.078064</td>\n",
       "      <td>0.266902</td>\n",
       "      <td>-1</td>\n",
       "    </tr>\n",
       "    <tr>\n",
       "      <th>8</th>\n",
       "      <td>종로1.2.3.4가동</td>\n",
       "      <td>0.063833</td>\n",
       "      <td>0.069040</td>\n",
       "      <td>0.206536</td>\n",
       "      <td>0.831703</td>\n",
       "      <td>-1</td>\n",
       "    </tr>\n",
       "    <tr>\n",
       "      <th>9</th>\n",
       "      <td>종로5.6가동</td>\n",
       "      <td>0.000617</td>\n",
       "      <td>0.162506</td>\n",
       "      <td>0.180645</td>\n",
       "      <td>0.395959</td>\n",
       "      <td>-1</td>\n",
       "    </tr>\n",
       "  </tbody>\n",
       "</table>\n",
       "</div>"
      ],
      "text/plain": [
       "          읍면동명  환경자족성지수minmax  여가생활지수minmax  사회적약자_지원_인프라_밀집도minmax  \\\n",
       "1          사직동       0.038269      0.006464                0.041923   \n",
       "2          삼청동       0.602143      0.005332                0.090426   \n",
       "7          가회동       0.003047      0.003559                0.078064   \n",
       "8  종로1.2.3.4가동       0.063833      0.069040                0.206536   \n",
       "9      종로5.6가동       0.000617      0.162506                0.180645   \n",
       "\n",
       "   접근성지수minmax  cluster_id  \n",
       "1     0.333275          -1  \n",
       "2     0.342620          -1  \n",
       "7     0.266902          -1  \n",
       "8     0.831703          -1  \n",
       "9     0.395959          -1  "
      ]
     },
     "execution_count": 54,
     "metadata": {},
     "output_type": "execute_result"
    }
   ],
   "source": [
    "origin8_final=DataFrame(origin8[origin8['cluster_id']==-1])\n",
    "origin8_final.head()"
   ]
  },
  {
   "cell_type": "code",
   "execution_count": 62,
   "metadata": {},
   "outputs": [],
   "source": [
    "origin8_final.to_excel('./교집합결과/사회적약자,접근성지수voting2.xlsx')"
   ]
  },
  {
   "cell_type": "markdown",
   "metadata": {},
   "source": [
    "> - DBSCAN의 경우 이상치에 민감하다.\n",
    "> - 파라미터를 전부 같은 값으로 설정하고 군집모델을 실행했을 때 <br/> 일부는 적절하게 분리가 됐지만 일부는 한 개의 군집만 판별하고 나머지는 전부 이상치로 판단하였다.\n",
    "> - 이상치라 하더라도 데이터 분석 결과 군집이 특정 지역에 몰려있거나 두 지수 모두 하위권에 분포할 경우, `두 지수중 하나라도 상위권에 분포한 이상치를 후보군으로 선정` 한다. <br/> ==> 적절한 데이터(군집)으로 판단한다.\n",
    ">    - 이유는 `어떤 한 지수라도 높아야 보행일상권 대상에 포함이 되기 때문`\n",
    "> - 결론적으로 KMeans로 추출한 `행정동과 DBSCAN으로 추출한 지수가 높은 행정동을 비교`해 `지수가 높은 행정동을 중심으로 최적의 입지 후보지라고 판단`."
   ]
  }
 ],
 "metadata": {
  "kernelspec": {
   "display_name": "Python 3",
   "language": "python",
   "name": "python3"
  },
  "language_info": {
   "codemirror_mode": {
    "name": "ipython",
    "version": 3
   },
   "file_extension": ".py",
   "mimetype": "text/x-python",
   "name": "python",
   "nbconvert_exporter": "python",
   "pygments_lexer": "ipython3",
   "version": "3.9.13"
  }
 },
 "nbformat": 4,
 "nbformat_minor": 2
}
