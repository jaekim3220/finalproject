{
 "cells": [
  {
   "cell_type": "markdown",
   "metadata": {},
   "source": [
    "## 패키지 참조"
   ]
  },
  {
   "cell_type": "code",
   "execution_count": null,
   "metadata": {},
   "outputs": [],
   "source": [
    "from pandas import DataFrame,read_csv,read_excel,merge,melt,pivot_table\n",
    "import numpy\n",
    "from matplotlib import pyplot as plt\n",
    "import seaborn as sb\n",
    "import sys\n",
    "from sklearn.preprocessing import MinMaxScaler,StandardScaler\n",
    "from sklearn.cluster import KMeans\n",
    "from sklearn.cluster import DBSCAN\n",
    "from sklearn.metrics import silhouette_score\n",
    "from factor_analyzer.factor_analyzer import calculate_kmo"
   ]
  },
  {
   "cell_type": "markdown",
   "metadata": {},
   "source": [
    "## 폰트세팅"
   ]
  },
  {
   "cell_type": "code",
   "execution_count": null,
   "metadata": {},
   "outputs": [],
   "source": [
    "plt.rcParams[\"font.family\"] = 'AppleGothic' if sys.platform == 'darwin' else 'Malgun Gothic'\n",
    "plt.rcParams[\"font.size\"] = 12\n",
    "plt.rcParams[\"figure.figsize\"] = (8, 5)\n",
    "plt.rcParams[\"axes.unicode_minus\"] = False"
   ]
  },
  {
   "cell_type": "markdown",
   "metadata": {},
   "source": [
    "## 데이터"
   ]
  },
  {
   "cell_type": "code",
   "execution_count": null,
   "metadata": {},
   "outputs": [],
   "source": [
    "origin=read_excel('행정동병합최종(반포본동).xlsx')\n",
    "origin.head(2)"
   ]
  },
  {
   "cell_type": "markdown",
   "metadata": {},
   "source": [
    "### 분석에 필요한 변수만 추출\n",
    "\n",
    "`읍면동`, `지수` 추출"
   ]
  },
  {
   "cell_type": "code",
   "execution_count": null,
   "metadata": {},
   "outputs": [],
   "source": [
    "origin1=origin.filter(['읍면동명','환경자족성지수minmax','여가생활지수minmax','사회적약자_지원_인프라_밀집도minmax','접근성지수minmax'])\n",
    "origin1.head(2)"
   ]
  },
  {
   "cell_type": "markdown",
   "metadata": {},
   "source": [
    "### 이상치/결측치 확인 및 처리"
   ]
  },
  {
   "cell_type": "code",
   "execution_count": null,
   "metadata": {},
   "outputs": [],
   "source": [
    "origin1.isna().sum()"
   ]
  },
  {
   "cell_type": "code",
   "execution_count": null,
   "metadata": {},
   "outputs": [],
   "source": [
    "origin2=origin1.copy()\n",
    "origin2=origin1.fillna(0)\n",
    "origin2.isna().sum()"
   ]
  },
  {
   "cell_type": "code",
   "execution_count": null,
   "metadata": {},
   "outputs": [],
   "source": [
    "origin2.head(2)"
   ]
  },
  {
   "cell_type": "markdown",
   "metadata": {},
   "source": [
    "## #1. `환경자족성지수 - 여가생활지수`"
   ]
  },
  {
   "cell_type": "markdown",
   "metadata": {},
   "source": [
    "### 변수 추출"
   ]
  },
  {
   "cell_type": "code",
   "execution_count": null,
   "metadata": {},
   "outputs": [],
   "source": [
    "origin2.head()"
   ]
  },
  {
   "cell_type": "code",
   "execution_count": null,
   "metadata": {},
   "outputs": [],
   "source": [
    "origin3=origin2.copy()\n",
    "X = origin3.iloc[:,[1,2]].values # x값으로 환경자족성지수,여가생활지수 지정\n",
    "X[:5]"
   ]
  },
  {
   "cell_type": "markdown",
   "metadata": {},
   "source": [
    "### DBSCAN 모델 구축\n",
    "\n",
    "DBSCAN 구현 파라미터\n",
    "\n",
    "| 파라미터 | 설명 |\n",
    "| -- | -- |\n",
    "| `eps` | 하나의 샘플에 대한 다른 샘플과의 최대 거리 |\n",
    "| `min_samples` | MinPts. 핵심 포인트로 간주할 포인트에 대한 이웃의 샘플 수 |"
   ]
  },
  {
   "cell_type": "code",
   "execution_count": null,
   "metadata": {},
   "outputs": [],
   "source": [
    "dbscan=DBSCAN(eps=0.03,min_samples=5,leaf_size=10,metric='chebyshev')\n",
    "dbscan.fit(X)"
   ]
  },
  {
   "cell_type": "markdown",
   "metadata": {},
   "source": [
    "### 군집 결과"
   ]
  },
  {
   "cell_type": "code",
   "execution_count": null,
   "metadata": {},
   "outputs": [],
   "source": [
    "cluster_label=dbscan.labels_\n",
    "cluster_label"
   ]
  },
  {
   "cell_type": "markdown",
   "metadata": {},
   "source": [
    "### 군집 결과 데이터 통합"
   ]
  },
  {
   "cell_type": "code",
   "execution_count": null,
   "metadata": {},
   "outputs": [],
   "source": [
    "origin3['cluster_id'] = cluster_label\n",
    "origin3.head()"
   ]
  },
  {
   "cell_type": "markdown",
   "metadata": {},
   "source": [
    "### 군집 결과 시각화"
   ]
  },
  {
   "cell_type": "code",
   "execution_count": null,
   "metadata": {},
   "outputs": [],
   "source": [
    "plt.figure(figsize=(10,5))\n",
    "sb.scatterplot(data=origin3,x='여가생활지수minmax',y='환경자족성지수minmax',hue=cluster_label,palette='Set1')\n",
    "plt.grid()\n",
    "plt.show()\n",
    "plt.close()"
   ]
  },
  {
   "cell_type": "markdown",
   "metadata": {},
   "source": [
    "### 수동 voting을 위한 xlsx 파일 생성"
   ]
  },
  {
   "cell_type": "code",
   "execution_count": null,
   "metadata": {},
   "outputs": [],
   "source": [
    "origin3[origin3['cluster_id']==-1]\n",
    "origin3_final=DataFrame(origin3[origin3['cluster_id']==-1])\n",
    "origin3_final.head()"
   ]
  },
  {
   "cell_type": "code",
   "execution_count": null,
   "metadata": {},
   "outputs": [],
   "source": [
    "origin3_final.to_excel('./교집합결과/여가생활,환경자족성지수voting2.xlsx')"
   ]
  },
  {
   "cell_type": "code",
   "execution_count": null,
   "metadata": {},
   "outputs": [],
   "source": []
  },
  {
   "cell_type": "markdown",
   "metadata": {},
   "source": [
    "## #2. `환경자족성지수 - 사회적약자지수`"
   ]
  },
  {
   "cell_type": "markdown",
   "metadata": {},
   "source": [
    "### 변수 추출"
   ]
  },
  {
   "cell_type": "code",
   "execution_count": null,
   "metadata": {},
   "outputs": [],
   "source": [
    "origin2.head()"
   ]
  },
  {
   "cell_type": "code",
   "execution_count": null,
   "metadata": {},
   "outputs": [],
   "source": [
    "origin4=origin2.copy()\n",
    "Y = origin4.iloc[:,[1,3]].values # x값으로 환경자족성지수,사회적약자지수 지정\n",
    "Y[:5]"
   ]
  },
  {
   "cell_type": "markdown",
   "metadata": {},
   "source": [
    "### DBSCAN 모델 구축\n",
    "\n",
    "DBSCAN 구현 파라미터\n",
    "\n",
    "| 파라미터 | 설명 |\n",
    "| -- | -- |\n",
    "| `eps` | 하나의 샘플에 대한 다른 샘플과의 최대 거리 |\n",
    "| `min_samples` | MinPts. 핵심 포인트로 간주할 포인트에 대한 이웃의 샘플 수 |"
   ]
  },
  {
   "cell_type": "code",
   "execution_count": null,
   "metadata": {},
   "outputs": [],
   "source": [
    "dbscan1=DBSCAN(eps=0.03,min_samples=5,leaf_size=10,metric='chebyshev')\n",
    "dbscan1.fit(Y)"
   ]
  },
  {
   "cell_type": "markdown",
   "metadata": {},
   "source": [
    "### 군집 결과"
   ]
  },
  {
   "cell_type": "code",
   "execution_count": null,
   "metadata": {},
   "outputs": [],
   "source": [
    "cluster_label1=dbscan1.labels_\n",
    "cluster_label1"
   ]
  },
  {
   "cell_type": "markdown",
   "metadata": {},
   "source": [
    "### 군집 결과 데이터 통합"
   ]
  },
  {
   "cell_type": "code",
   "execution_count": null,
   "metadata": {},
   "outputs": [],
   "source": [
    "origin4['cluster_id'] = cluster_label1\n",
    "origin4.head()"
   ]
  },
  {
   "cell_type": "markdown",
   "metadata": {},
   "source": [
    "### 군집 결과 시각화"
   ]
  },
  {
   "cell_type": "code",
   "execution_count": null,
   "metadata": {},
   "outputs": [],
   "source": [
    "plt.figure(figsize=(10,5))\n",
    "sb.scatterplot(data=origin4,x='사회적약자_지원_인프라_밀집도minmax',y='환경자족성지수minmax',hue=cluster_label1,palette='Set1')\n",
    "plt.grid()\n",
    "plt.show()\n",
    "plt.close()"
   ]
  },
  {
   "cell_type": "markdown",
   "metadata": {},
   "source": [
    "### 수동 voting을 위한 xlsx 파일 생성"
   ]
  },
  {
   "cell_type": "code",
   "execution_count": null,
   "metadata": {},
   "outputs": [],
   "source": [
    "origin4_final=DataFrame(origin4[origin4['cluster_id']==-1])\n",
    "origin4_final.head()"
   ]
  },
  {
   "cell_type": "code",
   "execution_count": null,
   "metadata": {},
   "outputs": [],
   "source": [
    "origin4_final.to_excel('./교집합결과/사회적약자,환경자족성지수voting2.xlsx')"
   ]
  },
  {
   "cell_type": "code",
   "execution_count": null,
   "metadata": {},
   "outputs": [],
   "source": []
  },
  {
   "cell_type": "markdown",
   "metadata": {},
   "source": [
    "## #.3 `환경자족성지수 - 접근성지수`"
   ]
  },
  {
   "cell_type": "markdown",
   "metadata": {},
   "source": [
    "### 변수 추출"
   ]
  },
  {
   "cell_type": "code",
   "execution_count": null,
   "metadata": {},
   "outputs": [],
   "source": [
    "origin2.head()"
   ]
  },
  {
   "cell_type": "code",
   "execution_count": null,
   "metadata": {},
   "outputs": [],
   "source": [
    "origin5=origin2.copy()\n",
    "Z = origin5.iloc[:,[1,4]].values # x값으로 환경자족성지수,접근성지수 지정\n",
    "Z[:5]"
   ]
  },
  {
   "cell_type": "markdown",
   "metadata": {},
   "source": [
    "### DBSCAN 모델 구축\n",
    "\n",
    "DBSCAN 구현 파라미터\n",
    "\n",
    "| 파라미터 | 설명 |\n",
    "| -- | -- |\n",
    "| `eps` | 하나의 샘플에 대한 다른 샘플과의 최대 거리 |\n",
    "| `min_samples` | MinPts. 핵심 포인트로 간주할 포인트에 대한 이웃의 샘플 수 |"
   ]
  },
  {
   "cell_type": "code",
   "execution_count": null,
   "metadata": {},
   "outputs": [],
   "source": [
    "dbscan2=DBSCAN(eps=0.05,min_samples=20,leaf_size=20,metric='chebyshev')\n",
    "dbscan2.fit(Z)"
   ]
  },
  {
   "cell_type": "markdown",
   "metadata": {},
   "source": [
    "### 군집 결과"
   ]
  },
  {
   "cell_type": "code",
   "execution_count": null,
   "metadata": {},
   "outputs": [],
   "source": [
    "cluster_label2=dbscan2.labels_\n",
    "cluster_label2"
   ]
  },
  {
   "cell_type": "markdown",
   "metadata": {},
   "source": [
    "### 군집 결과 데이터 통합"
   ]
  },
  {
   "cell_type": "code",
   "execution_count": null,
   "metadata": {},
   "outputs": [],
   "source": [
    "origin5['cluster_id'] = cluster_label2\n",
    "origin5.head()"
   ]
  },
  {
   "cell_type": "markdown",
   "metadata": {},
   "source": [
    "### 군집 결과 시각화"
   ]
  },
  {
   "cell_type": "code",
   "execution_count": null,
   "metadata": {},
   "outputs": [],
   "source": [
    "plt.figure(figsize=(10,5))\n",
    "sb.scatterplot(data=origin5,x='접근성지수minmax',y='환경자족성지수minmax',hue=cluster_label2,palette='Set1')\n",
    "plt.grid()\n",
    "plt.show()\n",
    "plt.close()"
   ]
  },
  {
   "cell_type": "markdown",
   "metadata": {},
   "source": [
    "### 수동 voting을 위한 xlsx 파일 생"
   ]
  },
  {
   "cell_type": "code",
   "execution_count": null,
   "metadata": {},
   "outputs": [],
   "source": [
    "len(origin5[origin5['cluster_id']==-1])"
   ]
  },
  {
   "cell_type": "code",
   "execution_count": null,
   "metadata": {},
   "outputs": [],
   "source": [
    "origin5_final=DataFrame(origin5[origin5['cluster_id']==-1])\n",
    "origin5_final.head()"
   ]
  },
  {
   "cell_type": "code",
   "execution_count": null,
   "metadata": {},
   "outputs": [],
   "source": [
    "origin5_final.to_excel('./교집합결과/접근성지수,환경자족성지수voting2.xlsx')"
   ]
  },
  {
   "cell_type": "markdown",
   "metadata": {},
   "source": [
    "## #4. `여가생활지수 - 사회적약자지수`"
   ]
  },
  {
   "cell_type": "markdown",
   "metadata": {},
   "source": [
    "### 변수 추출"
   ]
  },
  {
   "cell_type": "code",
   "execution_count": null,
   "metadata": {},
   "outputs": [],
   "source": [
    "origin2.head()"
   ]
  },
  {
   "cell_type": "code",
   "execution_count": null,
   "metadata": {},
   "outputs": [],
   "source": [
    "origin6=origin2.copy()\n",
    "XX = origin6.iloc[:,[2,3]].values #x값으로 여가생활지수,사회적약자지수 지정\n",
    "XX[:5]"
   ]
  },
  {
   "cell_type": "markdown",
   "metadata": {},
   "source": [
    "### DBSCAN 모델 구축\n",
    "\n",
    "DBSCAN 구현 파라미터\n",
    "\n",
    "| 파라미터 | 설명 |\n",
    "| -- | -- |\n",
    "| `eps` | 하나의 샘플에 대한 다른 샘플과의 최대 거리 |\n",
    "| `min_samples` | MinPts. 핵심 포인트로 간주할 포인트에 대한 이웃의 샘플 수 |"
   ]
  },
  {
   "cell_type": "code",
   "execution_count": null,
   "metadata": {},
   "outputs": [],
   "source": [
    "dbscan3=DBSCAN(eps=0.04,min_samples=20,leaf_size=20,metric='chebyshev')\n",
    "dbscan3.fit(XX)"
   ]
  },
  {
   "cell_type": "markdown",
   "metadata": {},
   "source": [
    "### 군집 결과"
   ]
  },
  {
   "cell_type": "code",
   "execution_count": null,
   "metadata": {},
   "outputs": [],
   "source": [
    "cluster_label3=dbscan3.labels_\n",
    "cluster_label3"
   ]
  },
  {
   "cell_type": "markdown",
   "metadata": {},
   "source": [
    "### 군집 결과 데이터 통합"
   ]
  },
  {
   "cell_type": "code",
   "execution_count": null,
   "metadata": {},
   "outputs": [],
   "source": [
    "origin6['cluster_id'] = cluster_label3\n",
    "origin6.head()"
   ]
  },
  {
   "cell_type": "markdown",
   "metadata": {},
   "source": [
    "### 군집 결과 시각화"
   ]
  },
  {
   "cell_type": "code",
   "execution_count": null,
   "metadata": {},
   "outputs": [],
   "source": [
    "plt.figure(figsize=(10,5))\n",
    "sb.scatterplot(data=origin6,x='여가생활지수minmax',y='사회적약자_지원_인프라_밀집도minmax',hue=cluster_label3,palette='Set1')\n",
    "plt.grid()\n",
    "plt.show()\n",
    "plt.close()"
   ]
  },
  {
   "cell_type": "markdown",
   "metadata": {},
   "source": [
    "> 여기서는 이상치(`군집 -1`)를  선정한다. <br/> 분석의 척도가 될 지수가 긍정적인 장소를 추출해 시범 사업지로 선정할 계획."
   ]
  },
  {
   "cell_type": "markdown",
   "metadata": {},
   "source": [
    "### 수동 voting을 위한 xlsx 파일 생성"
   ]
  },
  {
   "cell_type": "code",
   "execution_count": null,
   "metadata": {},
   "outputs": [],
   "source": [
    "origin6_final=DataFrame(origin6[origin6['cluster_id']==-1])\n",
    "origin6_final.head()"
   ]
  },
  {
   "cell_type": "code",
   "execution_count": null,
   "metadata": {},
   "outputs": [],
   "source": [
    "origin6_final.to_excel('./교집합결과/여가생활,사회적약자voting2.xlsx')"
   ]
  },
  {
   "cell_type": "markdown",
   "metadata": {},
   "source": [
    "## #5. `여가생활지수 - 접근성지수`"
   ]
  },
  {
   "cell_type": "markdown",
   "metadata": {},
   "source": [
    "### 변수 추출"
   ]
  },
  {
   "cell_type": "code",
   "execution_count": null,
   "metadata": {},
   "outputs": [],
   "source": [
    "origin2.head()"
   ]
  },
  {
   "cell_type": "code",
   "execution_count": null,
   "metadata": {},
   "outputs": [],
   "source": [
    "origin7=origin2.copy()\n",
    "YY = origin7.iloc[:,[2,4]].values #x값으로 여가생활지수,접근성지수 지정\n",
    "YY[:5]"
   ]
  },
  {
   "cell_type": "markdown",
   "metadata": {},
   "source": [
    "### DBSCAN 모델 구축\n",
    "\n",
    "DBSCAN 구현 파라미터\n",
    "\n",
    "| 파라미터 | 설명 |\n",
    "| -- | -- |\n",
    "| `eps` | 하나의 샘플에 대한 다른 샘플과의 최대 거리 |\n",
    "| `min_samples` | MinPts. 핵심 포인트로 간주할 포인트에 대한 이웃의 샘플 수 |"
   ]
  },
  {
   "cell_type": "code",
   "execution_count": null,
   "metadata": {},
   "outputs": [],
   "source": [
    "dbscan4=DBSCAN(eps=0.03,min_samples=5,leaf_size=10,metric='chebyshev')\n",
    "dbscan4.fit(YY)"
   ]
  },
  {
   "cell_type": "markdown",
   "metadata": {},
   "source": [
    "### 군집 결과"
   ]
  },
  {
   "cell_type": "code",
   "execution_count": null,
   "metadata": {},
   "outputs": [],
   "source": [
    "cluster_label4=dbscan4.labels_\n",
    "cluster_label4"
   ]
  },
  {
   "cell_type": "markdown",
   "metadata": {},
   "source": [
    "### 군집 결과 데이터 통합"
   ]
  },
  {
   "cell_type": "code",
   "execution_count": null,
   "metadata": {},
   "outputs": [],
   "source": [
    "origin7['cluster_id'] = cluster_label4\n",
    "origin7.head()"
   ]
  },
  {
   "cell_type": "markdown",
   "metadata": {},
   "source": [
    "### 군집 결과 시각화"
   ]
  },
  {
   "cell_type": "code",
   "execution_count": null,
   "metadata": {},
   "outputs": [],
   "source": [
    "plt.figure(figsize=(10,5))\n",
    "sb.scatterplot(data=origin7,x='여가생활지수minmax',y='접근성지수minmax',hue=cluster_label4,palette='Set1')\n",
    "plt.grid()\n",
    "plt.show()\n",
    "plt.close()"
   ]
  },
  {
   "cell_type": "markdown",
   "metadata": {},
   "source": [
    "> 여기서는 이상치(`군집 -1`)를  선정한다. <br/> 비록 데이터가 산개되어 있지만 군집 `0`보다 각 지수 값이 보다 상위에 포진해있는 만큼 최적의 입지 후보군이 될 수 있다고 판단."
   ]
  },
  {
   "cell_type": "markdown",
   "metadata": {},
   "source": [
    "### 수동 voting을 위한 xlsx 파일 생성"
   ]
  },
  {
   "cell_type": "code",
   "execution_count": null,
   "metadata": {},
   "outputs": [],
   "source": [
    "origin7_1final=DataFrame(origin7[origin7['cluster_id']==-1])\n",
    "origin7_1final.head()"
   ]
  },
  {
   "cell_type": "code",
   "execution_count": null,
   "metadata": {},
   "outputs": [],
   "source": [
    "origin7_1final.to_excel('./교집합결과/여가생활,접근성지수voting2.xlsx')"
   ]
  },
  {
   "cell_type": "markdown",
   "metadata": {},
   "source": [
    "## #6. `사회적약자지수 - 접근성지수`"
   ]
  },
  {
   "cell_type": "markdown",
   "metadata": {},
   "source": [
    "### 변수 추출"
   ]
  },
  {
   "cell_type": "code",
   "execution_count": null,
   "metadata": {},
   "outputs": [],
   "source": [
    "origin2.head()"
   ]
  },
  {
   "cell_type": "code",
   "execution_count": null,
   "metadata": {},
   "outputs": [],
   "source": [
    "origin8=origin2.copy()\n",
    "ZZ = origin8.iloc[:,[3,4]].values #x값으로 사회적약자지수, 접근성지수 지정\n",
    "ZZ[:5]"
   ]
  },
  {
   "cell_type": "markdown",
   "metadata": {},
   "source": [
    "### DBSCAN 모델 구축\n",
    "\n",
    "DBSCAN 구현 파라미터\n",
    "\n",
    "| 파라미터 | 설명 |\n",
    "| -- | -- |\n",
    "| `eps` | 하나의 샘플에 대한 다른 샘플과의 최대 거리 |\n",
    "| `min_samples` | MinPts. 핵심 포인트로 간주할 포인트에 대한 이웃의 샘플 수 |"
   ]
  },
  {
   "cell_type": "code",
   "execution_count": null,
   "metadata": {},
   "outputs": [],
   "source": [
    "dbscan5=DBSCAN(eps=0.04,min_samples=10,leaf_size=10,metric='chebyshev')\n",
    "dbscan5.fit(ZZ)"
   ]
  },
  {
   "cell_type": "markdown",
   "metadata": {},
   "source": [
    "### 군집 결과"
   ]
  },
  {
   "cell_type": "code",
   "execution_count": null,
   "metadata": {},
   "outputs": [],
   "source": [
    "cluster_label5=dbscan5.labels_\n",
    "cluster_label5"
   ]
  },
  {
   "cell_type": "markdown",
   "metadata": {},
   "source": [
    "### 군집 결과 데이터 통합"
   ]
  },
  {
   "cell_type": "code",
   "execution_count": null,
   "metadata": {},
   "outputs": [],
   "source": [
    "origin8['cluster_id'] = cluster_label5\n",
    "origin8"
   ]
  },
  {
   "cell_type": "markdown",
   "metadata": {},
   "source": [
    "### 군집 결과 시각화"
   ]
  },
  {
   "cell_type": "code",
   "execution_count": null,
   "metadata": {},
   "outputs": [],
   "source": [
    "plt.figure(figsize=(10,5))\n",
    "sb.scatterplot(data=origin8,x='사회적약자_지원_인프라_밀집도minmaxminmax',y='접근성지수minmax',hue=cluster_label5,palette='Set1')\n",
    "plt.grid()\n",
    "plt.show()\n",
    "plt.close()"
   ]
  },
  {
   "cell_type": "markdown",
   "metadata": {},
   "source": [
    "> 여기서는 이상치(`군집 -1`)를  선정한다. <br/> 비록 데이터가 산개되어 있지만 군집 `0`보다 각 지수 값이 보다 상위에 포진해있는 만큼 최적의 입지 후보군이 될 수 있다고 판단."
   ]
  },
  {
   "cell_type": "markdown",
   "metadata": {},
   "source": [
    "### 수동 voting을 위한 xlsx 파일 생성"
   ]
  },
  {
   "cell_type": "code",
   "execution_count": null,
   "metadata": {},
   "outputs": [],
   "source": [
    "origin8_final=DataFrame(origin8[origin8['cluster_id']==-1])\n",
    "origin8_final.head()"
   ]
  },
  {
   "cell_type": "code",
   "execution_count": null,
   "metadata": {},
   "outputs": [],
   "source": [
    "origin8_final.to_excel('./교집합결과/사회적약자,접근성지수voting2.xlsx')"
   ]
  },
  {
   "cell_type": "markdown",
   "metadata": {},
   "source": [
    "> - DBSCAN의 경우 이상치에 민감하다.\n",
    "> - 파라미터를 전부 같은 값으로 설정하고 군집모델을 실행했을 때 <br/> 일부는 적절하게 분리가 됐지만 일부는 한 개의 군집만 판별하고 나머지는 전부 이상치로 판단하였다.\n",
    "> - 이상치라 하더라도 데이터 분석 결과 군집이 특정 지역에 몰려있거나 두 지수 모두 하위권에 분포할 경우, `두 지수중 하나라도 상위권에 분포한 이상치를 후보군으로 선정` 한다. <br/> ==> 적절한 데이터(군집)으로 판단한다.\n",
    ">    - 이유는 `어떤 한 지수라도 높아야 보행일상권 대상에 포함이 되기 때문`\n",
    "> - 결론적으로 KMeans로 추출한 `행정동과 DBSCAN으로 추출한 지수가 높은 행정동을 비교`해 `지수가 높은 행정동을 중심으로 최적의 입지 후보지라고 판단`."
   ]
  }
 ],
 "metadata": {
  "kernelspec": {
   "display_name": "Python 3",
   "language": "python",
   "name": "python3"
  },
  "language_info": {
   "codemirror_mode": {
    "name": "ipython",
    "version": 3
   },
   "file_extension": ".py",
   "mimetype": "text/x-python",
   "name": "python",
   "nbconvert_exporter": "python",
   "pygments_lexer": "ipython3",
   "version": "3.9.13"
  }
 },
 "nbformat": 4,
 "nbformat_minor": 2
}
