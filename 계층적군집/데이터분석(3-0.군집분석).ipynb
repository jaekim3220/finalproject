{
 "cells": [
  {
   "cell_type": "markdown",
   "metadata": {},
   "source": [
    "# 군집분석\n",
    "\n",
    "엘보우 차트를 통해 K 값을 설정하더라도 주관인 만큼 (+-1~2) 정도의 여유를 잡을 것"
   ]
  },
  {
   "cell_type": "markdown",
   "metadata": {},
   "source": [
    "## 패키지 참조"
   ]
  },
  {
   "cell_type": "code",
   "execution_count": 96,
   "metadata": {},
   "outputs": [],
   "source": [
    "from pandas import DataFrame,read_csv,read_excel,merge,melt,pivot_table, concat\n",
    "import numpy as np\n",
    "from matplotlib import pyplot as plt\n",
    "import seaborn as sb\n",
    "import sys\n",
    "from sklearn.preprocessing import MinMaxScaler,StandardScaler\n",
    "from sklearn.cluster import KMeans\n",
    "from sklearn.metrics import silhouette_score,silhouette_samples\n",
    "from factor_analyzer.factor_analyzer import calculate_kmo\n",
    "\n",
    "import matplotlib.cm as cm\n",
    "from sklearn.metrics import homogeneity_score, completeness_score \n",
    "from sklearn.metrics import v_measure_score, adjusted_rand_score\n",
    "from scipy.spatial import ConvexHull"
   ]
  },
  {
   "cell_type": "markdown",
   "metadata": {},
   "source": [
    "## 폰트세팅"
   ]
  },
  {
   "cell_type": "code",
   "execution_count": 2,
   "metadata": {},
   "outputs": [],
   "source": [
    "plt.rcParams[\"font.family\"] = 'AppleGothic' if sys.platform == 'darwin' else 'Malgun Gothic'\n",
    "plt.rcParams[\"font.size\"] = 12\n",
    "plt.rcParams[\"figure.figsize\"] = (8, 5)\n",
    "plt.rcParams[\"axes.unicode_minus\"] = False"
   ]
  },
  {
   "cell_type": "markdown",
   "metadata": {},
   "source": [
    "## 데이터"
   ]
  },
  {
   "cell_type": "code",
   "execution_count": 3,
   "metadata": {},
   "outputs": [
    {
     "data": {
      "text/html": [
       "<div>\n",
       "<style scoped>\n",
       "    .dataframe tbody tr th:only-of-type {\n",
       "        vertical-align: middle;\n",
       "    }\n",
       "\n",
       "    .dataframe tbody tr th {\n",
       "        vertical-align: top;\n",
       "    }\n",
       "\n",
       "    .dataframe thead th {\n",
       "        text-align: right;\n",
       "    }\n",
       "</style>\n",
       "<table border=\"1\" class=\"dataframe\">\n",
       "  <thead>\n",
       "    <tr style=\"text-align: right;\">\n",
       "      <th></th>\n",
       "      <th>시도명</th>\n",
       "      <th>시군구코드</th>\n",
       "      <th>시군구명</th>\n",
       "      <th>행정동코드</th>\n",
       "      <th>행정동코드_수정</th>\n",
       "      <th>읍면동명</th>\n",
       "      <th>생성일자</th>\n",
       "      <th>말소일자</th>\n",
       "      <th>지하철역_수</th>\n",
       "      <th>의료기관_수</th>\n",
       "      <th>...</th>\n",
       "      <th>세대당공원면적minmax</th>\n",
       "      <th>수변점수</th>\n",
       "      <th>행정동별버스정류장수</th>\n",
       "      <th>행정동별유통업체수</th>\n",
       "      <th>공공자전거대여소수</th>\n",
       "      <th>인구밀도</th>\n",
       "      <th>여가생활지수minmax</th>\n",
       "      <th>사회적약자_지원_인프라_밀집도minmax</th>\n",
       "      <th>접근성지수minmax</th>\n",
       "      <th>환경자족성지수minmax</th>\n",
       "    </tr>\n",
       "  </thead>\n",
       "  <tbody>\n",
       "    <tr>\n",
       "      <th>0</th>\n",
       "      <td>서울특별시</td>\n",
       "      <td>11110</td>\n",
       "      <td>종로구</td>\n",
       "      <td>1111051500</td>\n",
       "      <td>11110515</td>\n",
       "      <td>청운효자동</td>\n",
       "      <td>20081101</td>\n",
       "      <td>0</td>\n",
       "      <td>0</td>\n",
       "      <td>11</td>\n",
       "      <td>...</td>\n",
       "      <td>0.352898</td>\n",
       "      <td>0</td>\n",
       "      <td>32</td>\n",
       "      <td>0</td>\n",
       "      <td>3</td>\n",
       "      <td>4552.529183</td>\n",
       "      <td>0.002648</td>\n",
       "      <td>0.068435</td>\n",
       "      <td>0.114798</td>\n",
       "      <td>0.212495</td>\n",
       "    </tr>\n",
       "    <tr>\n",
       "      <th>1</th>\n",
       "      <td>서울특별시</td>\n",
       "      <td>11110</td>\n",
       "      <td>종로구</td>\n",
       "      <td>1111053000</td>\n",
       "      <td>11110530</td>\n",
       "      <td>사직동</td>\n",
       "      <td>19880423</td>\n",
       "      <td>0</td>\n",
       "      <td>2</td>\n",
       "      <td>75</td>\n",
       "      <td>...</td>\n",
       "      <td>0.063554</td>\n",
       "      <td>0</td>\n",
       "      <td>27</td>\n",
       "      <td>0</td>\n",
       "      <td>12</td>\n",
       "      <td>7611.382114</td>\n",
       "      <td>0.006464</td>\n",
       "      <td>0.041923</td>\n",
       "      <td>0.333275</td>\n",
       "      <td>0.038269</td>\n",
       "    </tr>\n",
       "  </tbody>\n",
       "</table>\n",
       "<p>2 rows × 37 columns</p>\n",
       "</div>"
      ],
      "text/plain": [
       "     시도명  시군구코드 시군구명       행정동코드  행정동코드_수정   읍면동명      생성일자  말소일자  지하철역_수  \\\n",
       "0  서울특별시  11110  종로구  1111051500  11110515  청운효자동  20081101     0       0   \n",
       "1  서울특별시  11110  종로구  1111053000  11110530    사직동  19880423     0       2   \n",
       "\n",
       "   의료기관_수  ...  세대당공원면적minmax  수변점수  행정동별버스정류장수  행정동별유통업체수  공공자전거대여소수  \\\n",
       "0      11  ...       0.352898     0          32          0          3   \n",
       "1      75  ...       0.063554     0          27          0         12   \n",
       "\n",
       "          인구밀도  여가생활지수minmax  사회적약자_지원_인프라_밀집도minmax  접근성지수minmax  \\\n",
       "0  4552.529183      0.002648                0.068435     0.114798   \n",
       "1  7611.382114      0.006464                0.041923     0.333275   \n",
       "\n",
       "   환경자족성지수minmax  \n",
       "0       0.212495  \n",
       "1       0.038269  \n",
       "\n",
       "[2 rows x 37 columns]"
      ]
     },
     "execution_count": 3,
     "metadata": {},
     "output_type": "execute_result"
    }
   ],
   "source": [
    "origin=read_excel('행정동병합최종_반포본동.xlsx')\n",
    "origin.head(2)"
   ]
  },
  {
   "cell_type": "code",
   "execution_count": 4,
   "metadata": {},
   "outputs": [
    {
     "data": {
      "text/plain": [
       "Index(['시도명', '시군구코드', '시군구명', '행정동코드', '행정동코드_수정', '읍면동명', '생성일자', '말소일자',\n",
       "       '지하철역_수', '의료기관_수', '사회복지시설_수', '계(명)', '면적 (k㎡)', '구성비 (%)',\n",
       "       '행정동별_공원수', '공공체육시설_수', '문화시설_수', '학교_수', '사업체_수', '개소 (공영+민영)',\n",
       "       '면수 (공영+민영)', '하천및한강여부', '아동인구(0~9세)', '노인인구(65세이상)', '장애인_인구',\n",
       "       '세대당공원면적', '보육시설수', '세대당공원면적minmax', '수변점수', '행정동별버스정류장수', '행정동별유통업체수',\n",
       "       '공공자전거대여소수', '인구밀도', '여가생활지수minmax', '사회적약자_지원_인프라_밀집도minmax',\n",
       "       '접근성지수minmax', '환경자족성지수minmax'],\n",
       "      dtype='object')"
      ]
     },
     "execution_count": 4,
     "metadata": {},
     "output_type": "execute_result"
    }
   ],
   "source": [
    "origin.columns"
   ]
  },
  {
   "cell_type": "markdown",
   "metadata": {},
   "source": [
    "### 분석에 필요한 `읍면동명` 및 `지수` 변수 추출 "
   ]
  },
  {
   "cell_type": "code",
   "execution_count": 5,
   "metadata": {},
   "outputs": [
    {
     "data": {
      "text/html": [
       "<div>\n",
       "<style scoped>\n",
       "    .dataframe tbody tr th:only-of-type {\n",
       "        vertical-align: middle;\n",
       "    }\n",
       "\n",
       "    .dataframe tbody tr th {\n",
       "        vertical-align: top;\n",
       "    }\n",
       "\n",
       "    .dataframe thead th {\n",
       "        text-align: right;\n",
       "    }\n",
       "</style>\n",
       "<table border=\"1\" class=\"dataframe\">\n",
       "  <thead>\n",
       "    <tr style=\"text-align: right;\">\n",
       "      <th></th>\n",
       "      <th>읍면동명</th>\n",
       "      <th>여가생활지수minmax</th>\n",
       "      <th>사회적약자_지원_인프라_밀집도minmax</th>\n",
       "      <th>접근성지수minmax</th>\n",
       "      <th>환경자족성지수minmax</th>\n",
       "    </tr>\n",
       "  </thead>\n",
       "  <tbody>\n",
       "    <tr>\n",
       "      <th>0</th>\n",
       "      <td>청운효자동</td>\n",
       "      <td>0.002648</td>\n",
       "      <td>0.068435</td>\n",
       "      <td>0.114798</td>\n",
       "      <td>0.212495</td>\n",
       "    </tr>\n",
       "    <tr>\n",
       "      <th>1</th>\n",
       "      <td>사직동</td>\n",
       "      <td>0.006464</td>\n",
       "      <td>0.041923</td>\n",
       "      <td>0.333275</td>\n",
       "      <td>0.038269</td>\n",
       "    </tr>\n",
       "  </tbody>\n",
       "</table>\n",
       "</div>"
      ],
      "text/plain": [
       "    읍면동명  여가생활지수minmax  사회적약자_지원_인프라_밀집도minmax  접근성지수minmax  환경자족성지수minmax\n",
       "0  청운효자동      0.002648                0.068435     0.114798       0.212495\n",
       "1    사직동      0.006464                0.041923     0.333275       0.038269"
      ]
     },
     "execution_count": 5,
     "metadata": {},
     "output_type": "execute_result"
    }
   ],
   "source": [
    "origin1=origin.filter(['읍면동명','여가생활지수minmax', '사회적약자_지원_인프라_밀집도minmax', '접근성지수minmax', '환경자족성지수minmax'])\n",
    "origin1.head(2)"
   ]
  },
  {
   "cell_type": "markdown",
   "metadata": {},
   "source": [
    "### 데이터 확인 및 전처리\n",
    "\n",
    "실제 측정된 데이터인 만큼 결측치는 0 값으로 처리"
   ]
  },
  {
   "cell_type": "code",
   "execution_count": 6,
   "metadata": {},
   "outputs": [
    {
     "data": {
      "text/plain": [
       "읍면동명                      0\n",
       "여가생활지수minmax              1\n",
       "사회적약자_지원_인프라_밀집도minmax    0\n",
       "접근성지수minmax               0\n",
       "환경자족성지수minmax             0\n",
       "dtype: int64"
      ]
     },
     "execution_count": 6,
     "metadata": {},
     "output_type": "execute_result"
    }
   ],
   "source": [
    "origin1.isna().sum()"
   ]
  },
  {
   "cell_type": "code",
   "execution_count": 7,
   "metadata": {},
   "outputs": [
    {
     "data": {
      "text/plain": [
       "읍면동명                      0\n",
       "여가생활지수minmax              0\n",
       "사회적약자_지원_인프라_밀집도minmax    0\n",
       "접근성지수minmax               0\n",
       "환경자족성지수minmax             0\n",
       "dtype: int64"
      ]
     },
     "execution_count": 7,
     "metadata": {},
     "output_type": "execute_result"
    }
   ],
   "source": [
    "origin2=origin1.fillna(0)\n",
    "origin2.isna().sum()"
   ]
  },
  {
   "cell_type": "code",
   "execution_count": 8,
   "metadata": {},
   "outputs": [
    {
     "data": {
      "text/html": [
       "<div>\n",
       "<style scoped>\n",
       "    .dataframe tbody tr th:only-of-type {\n",
       "        vertical-align: middle;\n",
       "    }\n",
       "\n",
       "    .dataframe tbody tr th {\n",
       "        vertical-align: top;\n",
       "    }\n",
       "\n",
       "    .dataframe thead th {\n",
       "        text-align: right;\n",
       "    }\n",
       "</style>\n",
       "<table border=\"1\" class=\"dataframe\">\n",
       "  <thead>\n",
       "    <tr style=\"text-align: right;\">\n",
       "      <th></th>\n",
       "      <th>읍면동명</th>\n",
       "      <th>여가생활지수minmax</th>\n",
       "      <th>사회적약자_지원_인프라_밀집도minmax</th>\n",
       "      <th>접근성지수minmax</th>\n",
       "      <th>환경자족성지수minmax</th>\n",
       "    </tr>\n",
       "  </thead>\n",
       "  <tbody>\n",
       "    <tr>\n",
       "      <th>0</th>\n",
       "      <td>청운효자동</td>\n",
       "      <td>0.002648</td>\n",
       "      <td>0.068435</td>\n",
       "      <td>0.114798</td>\n",
       "      <td>0.212495</td>\n",
       "    </tr>\n",
       "    <tr>\n",
       "      <th>1</th>\n",
       "      <td>사직동</td>\n",
       "      <td>0.006464</td>\n",
       "      <td>0.041923</td>\n",
       "      <td>0.333275</td>\n",
       "      <td>0.038269</td>\n",
       "    </tr>\n",
       "  </tbody>\n",
       "</table>\n",
       "</div>"
      ],
      "text/plain": [
       "    읍면동명  여가생활지수minmax  사회적약자_지원_인프라_밀집도minmax  접근성지수minmax  환경자족성지수minmax\n",
       "0  청운효자동      0.002648                0.068435     0.114798       0.212495\n",
       "1    사직동      0.006464                0.041923     0.333275       0.038269"
      ]
     },
     "execution_count": 8,
     "metadata": {},
     "output_type": "execute_result"
    }
   ],
   "source": [
    "origin2.head(2)"
   ]
  },
  {
   "cell_type": "markdown",
   "metadata": {},
   "source": [
    "## 군집분석 수행"
   ]
  },
  {
   "cell_type": "markdown",
   "metadata": {},
   "source": [
    "### #1. `환경자족성지수 - 여가생활지수`"
   ]
  },
  {
   "cell_type": "markdown",
   "metadata": {},
   "source": [
    "#### 지수 추출"
   ]
  },
  {
   "cell_type": "code",
   "execution_count": 9,
   "metadata": {},
   "outputs": [
    {
     "data": {
      "text/plain": [
       "Index(['읍면동명', '여가생활지수minmax', '사회적약자_지원_인프라_밀집도minmax', '접근성지수minmax',\n",
       "       '환경자족성지수minmax'],\n",
       "      dtype='object')"
      ]
     },
     "execution_count": 9,
     "metadata": {},
     "output_type": "execute_result"
    }
   ],
   "source": [
    "origin2.columns"
   ]
  },
  {
   "cell_type": "code",
   "execution_count": 10,
   "metadata": {},
   "outputs": [
    {
     "data": {
      "text/plain": [
       "array([[2.64751750e-03, 2.12494728e-01],\n",
       "       [6.46393211e-03, 3.82685661e-02],\n",
       "       [5.33216587e-03, 6.02142889e-01],\n",
       "       [1.69869928e-03, 6.02142889e-01],\n",
       "       [5.28773115e-04, 6.02860542e-01]])"
      ]
     },
     "execution_count": 10,
     "metadata": {},
     "output_type": "execute_result"
    }
   ],
   "source": [
    "origin3=origin2.copy()\n",
    "# X값으로 공원면적,여가생활지수 지정\n",
    "# 전체 행에서 index 1, -1 column만 추출\n",
    "X = origin3.iloc[:,[1, -1]].values \n",
    "# 5개까지만 보이게\n",
    "X[:5] "
   ]
  },
  {
   "cell_type": "markdown",
   "metadata": {},
   "source": [
    "#### 엘보우 메소드로 최적의 k값 예상\n",
    "\n",
    "`Inertia`\n",
    "\n",
    "KMeans 클러스터링의 성능 지표\n",
    "\n",
    "각 샘플과 중점이 이동하는 자취 사이의 평균 제곱거리 측정 값\n",
    "\n",
    "Inertia 값은 클러스터 수와 반비례 관계\n",
    "\n",
    "클러스터 수를 늘려가면서 반복적으로 실행하면 값이 점점 작아진다\n",
    "\n",
    "클러스터 수가 늘어감에 Inertia가 급격히 감소하고 어느 지점부터는 완만하게 감소하는 지점이 생기는데 이 지점이 최적 클러스터 수를 의미(=엘보우(Elbow))"
   ]
  },
  {
   "cell_type": "code",
   "execution_count": 11,
   "metadata": {},
   "outputs": [
    {
     "data": {
      "text/plain": [
       "<Axes: >"
      ]
     },
     "execution_count": 11,
     "metadata": {},
     "output_type": "execute_result"
    },
    {
     "data": {
      "image/png": "[encoded data removed]",
      "text/plain": [
       "<Figure size 800x500 with 1 Axes>"
      ]
     },
     "metadata": {},
     "output_type": "display_data"
    }
   ],
   "source": [
    "inertia = []\n",
    "\n",
    "for k in range(1,11):\n",
    "    kmeans = KMeans(n_clusters=k,n_init=10,max_iter=100).fit(X)\n",
    "    value = kmeans.inertia_\n",
    "    inertia.append(value)\n",
    "\n",
    "DataFrame(inertia).plot()"
   ]
  },
  {
   "cell_type": "markdown",
   "metadata": {},
   "source": [
    "> 엘보우 그래프 확인 결과 4개에서부터 완만히 떨어지는것으로 추정되어 군집수는 4개로 결정"
   ]
  },
  {
   "cell_type": "markdown",
   "metadata": {},
   "source": [
    "#### 실루엣 계수로 k값에 따른 차이 확인\n",
    "\n",
    "`실루엣 점수(계수)`\n",
    "\n",
    "각 군집간의 거리가 얼마나 효율적으로 분리됐는지를 나타내는 지표\n",
    "\n",
    "효율적 분리 : 어떤 한 점이 다른 군집과는 멀리 떨어져 있고, 동일 군집끼리는 서로 가깝게 잘 뭉쳐있음을 의미\n",
    "\n",
    "개별 데이터가 같은 군집과는 얼마나 가깝고, 다른 군집의 데이터와는 얼마나 멀리 분리되어 있는가를 나타내는 값\n",
    "\n",
    "sklearn은 전체 실루엣 점수의 평균값을 반환하는 `silhouette_score()` 함수를 제공\n",
    "\n",
    "리턴값은 `-1~1`의 범위를 가지며 1에 가까울 수록 좋은 군집으로 판단\n",
    "\n",
    "`0`인 경우는 클러스터가 겹치는 것을 의미\n",
    "\n",
    "음수값은 일반적으로 샘플이 잘못된 클러스터에 할당되었음을 의미\n",
    "\n",
    "> 실루엣 방법은 점수가 나오는 만큼 비교적 더 정확함"
   ]
  },
  {
   "cell_type": "code",
   "execution_count": 12,
   "metadata": {},
   "outputs": [],
   "source": [
    "origin3_3=origin3.drop('읍면동명',axis=1)"
   ]
  },
  {
   "cell_type": "code",
   "execution_count": 13,
   "metadata": {},
   "outputs": [
    {
     "data": {
      "text/plain": [
       "[0.7123356936016162,\n",
       " 0.7249582977596429,\n",
       " 0.6490569087450664,\n",
       " 0.656291920039098,\n",
       " 0.5772686212205201,\n",
       " 0.6494944393167901,\n",
       " 0.5128621379022289,\n",
       " 0.4810819686370849,\n",
       " 0.5016185008298019]"
      ]
     },
     "execution_count": 13,
     "metadata": {},
     "output_type": "execute_result"
    }
   ],
   "source": [
    "score_list=[]\n",
    "\n",
    "for k in range(2,11):\n",
    "    kmeans=KMeans(n_clusters=k,n_init=10,max_iter=100)\n",
    "    kmeans.fit(origin3_3)\n",
    "    y_pred=kmeans.predict(origin3_3)\n",
    "    score=silhouette_score(origin3_3,y_pred)\n",
    "    score_list.append(score)\n",
    "\n",
    "score_list"
   ]
  },
  {
   "cell_type": "code",
   "execution_count": 14,
   "metadata": {},
   "outputs": [
    {
     "data": {
      "image/png": "[encoded data removed]",
      "text/plain": [
       "<Figure size 1000x500 with 1 Axes>"
      ]
     },
     "metadata": {},
     "output_type": "display_data"
    }
   ],
   "source": [
    "plt.figure(figsize=(10,5))\n",
    "sb.lineplot(x=range(2,11),y=score_list,marker='o')\n",
    "plt.title('실루엣 스코어 그래프')\n",
    "plt.xlabel('군집 수')\n",
    "plt.ylabel('실루엣 스코어')\n",
    "plt.grid()\n",
    "plt.show()\n",
    "plt.close()"
   ]
  },
  {
   "cell_type": "markdown",
   "metadata": {},
   "source": [
    "> 실루엣 스코어 확인 결과 마찬가지로 4로 설정하는게 가장 좋은 점수가 나옴. <br/> 추가 분석 결과 군집을 6으로 나눈 경우 더 이상적인 지역 분포를 나타내므로 K=6으로 설정"
   ]
  },
  {
   "cell_type": "markdown",
   "metadata": {},
   "source": [
    "#### `n_clusters=6`으로 KMeans 군집 군석을 진행\n",
    "\n",
    "n_clusters : 군집의 갯수, n_init : 초기 중심위치 수, random_state : 시드 값 고정(재현성)"
   ]
  },
  {
   "cell_type": "code",
   "execution_count": 15,
   "metadata": {},
   "outputs": [
    {
     "data": {
      "text/html": [
       "<div>\n",
       "<style scoped>\n",
       "    .dataframe tbody tr th:only-of-type {\n",
       "        vertical-align: middle;\n",
       "    }\n",
       "\n",
       "    .dataframe tbody tr th {\n",
       "        vertical-align: top;\n",
       "    }\n",
       "\n",
       "    .dataframe thead th {\n",
       "        text-align: right;\n",
       "    }\n",
       "</style>\n",
       "<table border=\"1\" class=\"dataframe\">\n",
       "  <thead>\n",
       "    <tr style=\"text-align: right;\">\n",
       "      <th></th>\n",
       "      <th>읍면동명</th>\n",
       "      <th>여가생활지수minmax</th>\n",
       "      <th>사회적약자_지원_인프라_밀집도minmax</th>\n",
       "      <th>접근성지수minmax</th>\n",
       "      <th>환경자족성지수minmax</th>\n",
       "      <th>cluster_id</th>\n",
       "    </tr>\n",
       "  </thead>\n",
       "  <tbody>\n",
       "    <tr>\n",
       "      <th>0</th>\n",
       "      <td>청운효자동</td>\n",
       "      <td>0.002648</td>\n",
       "      <td>0.068435</td>\n",
       "      <td>0.114798</td>\n",
       "      <td>0.212495</td>\n",
       "      <td>5</td>\n",
       "    </tr>\n",
       "    <tr>\n",
       "      <th>1</th>\n",
       "      <td>사직동</td>\n",
       "      <td>0.006464</td>\n",
       "      <td>0.041923</td>\n",
       "      <td>0.333275</td>\n",
       "      <td>0.038269</td>\n",
       "      <td>1</td>\n",
       "    </tr>\n",
       "    <tr>\n",
       "      <th>2</th>\n",
       "      <td>삼청동</td>\n",
       "      <td>0.005332</td>\n",
       "      <td>0.090426</td>\n",
       "      <td>0.342620</td>\n",
       "      <td>0.602143</td>\n",
       "      <td>2</td>\n",
       "    </tr>\n",
       "    <tr>\n",
       "      <th>3</th>\n",
       "      <td>부암동</td>\n",
       "      <td>0.001699</td>\n",
       "      <td>0.067935</td>\n",
       "      <td>0.157400</td>\n",
       "      <td>0.602143</td>\n",
       "      <td>2</td>\n",
       "    </tr>\n",
       "    <tr>\n",
       "      <th>4</th>\n",
       "      <td>평창동</td>\n",
       "      <td>0.000529</td>\n",
       "      <td>0.073234</td>\n",
       "      <td>0.135935</td>\n",
       "      <td>0.602861</td>\n",
       "      <td>2</td>\n",
       "    </tr>\n",
       "  </tbody>\n",
       "</table>\n",
       "</div>"
      ],
      "text/plain": [
       "    읍면동명  여가생활지수minmax  사회적약자_지원_인프라_밀집도minmax  접근성지수minmax  환경자족성지수minmax  \\\n",
       "0  청운효자동      0.002648                0.068435     0.114798       0.212495   \n",
       "1    사직동      0.006464                0.041923     0.333275       0.038269   \n",
       "2    삼청동      0.005332                0.090426     0.342620       0.602143   \n",
       "3    부암동      0.001699                0.067935     0.157400       0.602143   \n",
       "4    평창동      0.000529                0.073234     0.135935       0.602861   \n",
       "\n",
       "   cluster_id  \n",
       "0           5  \n",
       "1           1  \n",
       "2           2  \n",
       "3           2  \n",
       "4           2  "
      ]
     },
     "execution_count": 15,
     "metadata": {},
     "output_type": "execute_result"
    }
   ],
   "source": [
    "kmeans = KMeans(n_clusters=6,n_init=10,max_iter=100).fit(X)\n",
    "origin3['cluster_id'] = kmeans.labels_\n",
    "origin3.head()"
   ]
  },
  {
   "cell_type": "code",
   "execution_count": 16,
   "metadata": {},
   "outputs": [
    {
     "name": "stderr",
     "output_type": "stream",
     "text": [
      "c:\\Users\\jehyu\\AppData\\Local\\Programs\\Python\\Python39\\lib\\site-packages\\seaborn\\axisgrid.py:118: UserWarning: The figure layout has changed to tight\n",
      "  self._figure.tight_layout(*args, **kwargs)\n"
     ]
    },
    {
     "data": {
      "image/png": "[encoded data removed]",
      "text/plain": [
       "<Figure size 583.958x500 with 1 Axes>"
      ]
     },
     "metadata": {},
     "output_type": "display_data"
    }
   ],
   "source": [
    "sb.lmplot(x='여가생활지수minmax', y='환경자족성지수minmax', data=origin3, \n",
    "          fit_reg=False, scatter_kws={\"s\": 30}, hue=\"cluster_id\")\n",
    "plt.title(\"여가생활지수와 환경자족성지수\")\n",
    "plt.grid()"
   ]
  },
  {
   "cell_type": "markdown",
   "metadata": {},
   "source": [
    "> - 군집 분류는 기본적으로 서로 잘 모여있는게 이상적이나 우리 조는 특정 변수를 조합하여 만든 파생지수이므로 서로 몰려있으면서 수치가 높은 값을 찾아야 하는게 목표\n",
    "> - 군집 확인 결과 비대칭적으로 몰려있는 것을 확인할 수 있음. <br>\n",
    "> - 환경자족서지수가 가장 높은 군집 `0`과 비교적 환경자족성지수와 문화시민지수 모두 긍정적인 `4`번 군집을 분석에 사용."
   ]
  },
  {
   "cell_type": "markdown",
   "metadata": {},
   "source": [
    "> 이상적인 군집은 사분면을 기준으로 확실히 구분되며 몰려있는 것이다.<br>\n",
    "다만, 현재 분석 결과에서 여가생확지수 분포는 비슷하게 도출되었다.<br>\n",
    "따라서 환경자족성지수가 높으면서 여가생활지수가 긍정적인 군집 `3`을 이상적인 지역으로 선정."
   ]
  },
  {
   "cell_type": "markdown",
   "metadata": {},
   "source": [
    "### 수동 voting을 위한 xlsx 파일 생성"
   ]
  },
  {
   "cell_type": "code",
   "execution_count": 78,
   "metadata": {},
   "outputs": [
    {
     "data": {
      "text/html": [
       "<div>\n",
       "<style scoped>\n",
       "    .dataframe tbody tr th:only-of-type {\n",
       "        vertical-align: middle;\n",
       "    }\n",
       "\n",
       "    .dataframe tbody tr th {\n",
       "        vertical-align: top;\n",
       "    }\n",
       "\n",
       "    .dataframe thead th {\n",
       "        text-align: right;\n",
       "    }\n",
       "</style>\n",
       "<table border=\"1\" class=\"dataframe\">\n",
       "  <thead>\n",
       "    <tr style=\"text-align: right;\">\n",
       "      <th></th>\n",
       "      <th>읍면동명</th>\n",
       "      <th>여가생활지수minmax</th>\n",
       "      <th>사회적약자_지원_인프라_밀집도minmax</th>\n",
       "      <th>접근성지수minmax</th>\n",
       "      <th>환경자족성지수minmax</th>\n",
       "      <th>cluster_id</th>\n",
       "    </tr>\n",
       "  </thead>\n",
       "  <tbody>\n",
       "    <tr>\n",
       "      <th>22</th>\n",
       "      <td>광희동</td>\n",
       "      <td>0.467260</td>\n",
       "      <td>0.051345</td>\n",
       "      <td>0.358815</td>\n",
       "      <td>0.001183</td>\n",
       "      <td>4</td>\n",
       "    </tr>\n",
       "    <tr>\n",
       "      <th>24</th>\n",
       "      <td>신당동</td>\n",
       "      <td>1.000000</td>\n",
       "      <td>0.031490</td>\n",
       "      <td>0.235243</td>\n",
       "      <td>0.301071</td>\n",
       "      <td>4</td>\n",
       "    </tr>\n",
       "    <tr>\n",
       "      <th>30</th>\n",
       "      <td>황학동</td>\n",
       "      <td>0.595757</td>\n",
       "      <td>0.041701</td>\n",
       "      <td>0.048504</td>\n",
       "      <td>0.602244</td>\n",
       "      <td>4</td>\n",
       "    </tr>\n",
       "    <tr>\n",
       "      <th>307</th>\n",
       "      <td>청림동</td>\n",
       "      <td>0.572641</td>\n",
       "      <td>0.073658</td>\n",
       "      <td>0.027165</td>\n",
       "      <td>0.240857</td>\n",
       "      <td>4</td>\n",
       "    </tr>\n",
       "  </tbody>\n",
       "</table>\n",
       "</div>"
      ],
      "text/plain": [
       "    읍면동명  여가생활지수minmax  사회적약자_지원_인프라_밀집도minmax  접근성지수minmax  환경자족성지수minmax  \\\n",
       "22   광희동      0.467260                0.051345     0.358815       0.001183   \n",
       "24   신당동      1.000000                0.031490     0.235243       0.301071   \n",
       "30   황학동      0.595757                0.041701     0.048504       0.602244   \n",
       "307  청림동      0.572641                0.073658     0.027165       0.240857   \n",
       "\n",
       "     cluster_id  \n",
       "22            4  \n",
       "24            4  \n",
       "30            4  \n",
       "307           4  "
      ]
     },
     "execution_count": 78,
     "metadata": {},
     "output_type": "execute_result"
    }
   ],
   "source": [
    "origin3[origin3['cluster_id']==0]\n",
    "origin3[origin3['cluster_id']==4]"
   ]
  },
  {
   "cell_type": "code",
   "execution_count": 73,
   "metadata": {},
   "outputs": [
    {
     "data": {
      "text/plain": [
       "13"
      ]
     },
     "execution_count": 73,
     "metadata": {},
     "output_type": "execute_result"
    }
   ],
   "source": [
    "origin3_final = origin3[(origin3['cluster_id'] == 0) | (origin3['cluster_id'] == 4)]\n",
    "len(origin3_final)"
   ]
  },
  {
   "cell_type": "code",
   "execution_count": 80,
   "metadata": {},
   "outputs": [],
   "source": [
    "origin3_final.to_excel('./교집합결과/여가생활,환경자족성지수voting1.xlsx')"
   ]
  },
  {
   "cell_type": "markdown",
   "metadata": {},
   "source": [
    "### #2. `환경자족성지수 - 사회적약자_지원_인프라_밀집도`"
   ]
  },
  {
   "cell_type": "markdown",
   "metadata": {},
   "source": [
    "#### 지수 추출"
   ]
  },
  {
   "cell_type": "code",
   "execution_count": 86,
   "metadata": {},
   "outputs": [
    {
     "data": {
      "text/html": [
       "<div>\n",
       "<style scoped>\n",
       "    .dataframe tbody tr th:only-of-type {\n",
       "        vertical-align: middle;\n",
       "    }\n",
       "\n",
       "    .dataframe tbody tr th {\n",
       "        vertical-align: top;\n",
       "    }\n",
       "\n",
       "    .dataframe thead th {\n",
       "        text-align: right;\n",
       "    }\n",
       "</style>\n",
       "<table border=\"1\" class=\"dataframe\">\n",
       "  <thead>\n",
       "    <tr style=\"text-align: right;\">\n",
       "      <th></th>\n",
       "      <th>읍면동명</th>\n",
       "      <th>여가생활지수minmax</th>\n",
       "      <th>사회적약자_지원_인프라_밀집도minmax</th>\n",
       "      <th>접근성지수minmax</th>\n",
       "      <th>환경자족성지수minmax</th>\n",
       "    </tr>\n",
       "  </thead>\n",
       "  <tbody>\n",
       "    <tr>\n",
       "      <th>0</th>\n",
       "      <td>청운효자동</td>\n",
       "      <td>0.002648</td>\n",
       "      <td>0.068435</td>\n",
       "      <td>0.114798</td>\n",
       "      <td>0.212495</td>\n",
       "    </tr>\n",
       "    <tr>\n",
       "      <th>1</th>\n",
       "      <td>사직동</td>\n",
       "      <td>0.006464</td>\n",
       "      <td>0.041923</td>\n",
       "      <td>0.333275</td>\n",
       "      <td>0.038269</td>\n",
       "    </tr>\n",
       "    <tr>\n",
       "      <th>2</th>\n",
       "      <td>삼청동</td>\n",
       "      <td>0.005332</td>\n",
       "      <td>0.090426</td>\n",
       "      <td>0.342620</td>\n",
       "      <td>0.602143</td>\n",
       "    </tr>\n",
       "    <tr>\n",
       "      <th>3</th>\n",
       "      <td>부암동</td>\n",
       "      <td>0.001699</td>\n",
       "      <td>0.067935</td>\n",
       "      <td>0.157400</td>\n",
       "      <td>0.602143</td>\n",
       "    </tr>\n",
       "    <tr>\n",
       "      <th>4</th>\n",
       "      <td>평창동</td>\n",
       "      <td>0.000529</td>\n",
       "      <td>0.073234</td>\n",
       "      <td>0.135935</td>\n",
       "      <td>0.602861</td>\n",
       "    </tr>\n",
       "  </tbody>\n",
       "</table>\n",
       "</div>"
      ],
      "text/plain": [
       "    읍면동명  여가생활지수minmax  사회적약자_지원_인프라_밀집도minmax  접근성지수minmax  환경자족성지수minmax\n",
       "0  청운효자동      0.002648                0.068435     0.114798       0.212495\n",
       "1    사직동      0.006464                0.041923     0.333275       0.038269\n",
       "2    삼청동      0.005332                0.090426     0.342620       0.602143\n",
       "3    부암동      0.001699                0.067935     0.157400       0.602143\n",
       "4    평창동      0.000529                0.073234     0.135935       0.602861"
      ]
     },
     "execution_count": 86,
     "metadata": {},
     "output_type": "execute_result"
    }
   ],
   "source": [
    "origin2.head()"
   ]
  },
  {
   "cell_type": "code",
   "execution_count": 87,
   "metadata": {},
   "outputs": [
    {
     "data": {
      "text/plain": [
       "array([[0.21249473, 0.06843491],\n",
       "       [0.03826857, 0.04192329],\n",
       "       [0.60214289, 0.09042634],\n",
       "       [0.60214289, 0.06793525],\n",
       "       [0.60286054, 0.0732343 ]])"
      ]
     },
     "execution_count": 87,
     "metadata": {},
     "output_type": "execute_result"
    }
   ],
   "source": [
    "origin4=origin2.copy()\n",
    "Y = origin4.iloc[:,[-1,2]].values # x값으로 환경자족성지수,사회적약자지수 지정\n",
    "Y[:5]"
   ]
  },
  {
   "cell_type": "markdown",
   "metadata": {},
   "source": [
    "#### 엘보우 메소드로 최적의 k값 예상"
   ]
  },
  {
   "cell_type": "code",
   "execution_count": 88,
   "metadata": {},
   "outputs": [
    {
     "data": {
      "text/plain": [
       "<Axes: >"
      ]
     },
     "execution_count": 88,
     "metadata": {},
     "output_type": "execute_result"
    },
    {
     "data": {
      "image/png": "[encoded data removed]",
      "text/plain": [
       "<Figure size 800x500 with 1 Axes>"
      ]
     },
     "metadata": {},
     "output_type": "display_data"
    }
   ],
   "source": [
    "inertia = []\n",
    "\n",
    "for k in range(1,11):\n",
    "    kmeans = KMeans(n_clusters=k,n_init=10,max_iter=100).fit(Y)\n",
    "    value = kmeans.inertia_\n",
    "    inertia.append(value)\n",
    "\n",
    "DataFrame(inertia).plot()"
   ]
  },
  {
   "cell_type": "markdown",
   "metadata": {},
   "source": [
    "> 엘보우 그래프 확인 결과 분석가 판단하에 3개에서 완만하게 떨어지는것으로 판단하여 군집수는 3개로 결정함. <br/> 추가분석 결과 K=4일 경우 더 이상적인 군집을 형성."
   ]
  },
  {
   "cell_type": "markdown",
   "metadata": {},
   "source": [
    "#### 실루엣 스코어로 최적의 k값 예상"
   ]
  },
  {
   "cell_type": "code",
   "execution_count": 89,
   "metadata": {},
   "outputs": [],
   "source": [
    "origin4_4=origin4.drop('읍면동명',axis=1)"
   ]
  },
  {
   "cell_type": "code",
   "execution_count": 90,
   "metadata": {},
   "outputs": [
    {
     "name": "stdout",
     "output_type": "stream",
     "text": [
      "실루엣 점수: 0.649\n"
     ]
    },
    {
     "data": {
      "image/png": "[encoded data removed]",
      "text/plain": [
       "<Figure size 1000x500 with 1 Axes>"
      ]
     },
     "metadata": {},
     "output_type": "display_data"
    }
   ],
   "source": [
    "kmeans=KMeans(n_clusters=4,n_init=10,max_iter=100)\n",
    "kmeans.fit(origin4_4)\n",
    "y_pred=kmeans.predict(origin4_4)\n",
    "score=silhouette_score(origin4_4,y_pred)\n",
    "\n",
    "print(\"실루엣 점수: {0:.3f}\".format(score))\n",
    "\n",
    "score_list1=[]\n",
    "\n",
    "for k in range(2,11):\n",
    "    kmeans=KMeans(n_clusters=k,n_init=10,max_iter=100)\n",
    "    kmeans.fit(origin4_4)\n",
    "    y_pred=kmeans.predict(origin4_4)\n",
    "    score=silhouette_score(origin4_4,y_pred)\n",
    "    score_list1.append(score)\n",
    "\n",
    "score_list1\n",
    "\n",
    "plt.figure(figsize=(10,5))\n",
    "sb.lineplot(x=range(2,11),y=score_list1,marker='o')\n",
    "plt.title('silhouette score graph')\n",
    "plt.xlabel('number of cluster')\n",
    "plt.ylabel('sil')\n",
    "plt.grid()\n",
    "plt.show()\n",
    "plt.close()"
   ]
  },
  {
   "cell_type": "markdown",
   "metadata": {},
   "source": [
    "> 실루엣 스코어 확인 결과 마찬가지로 군집을 4개로 설정했을 때 가장 높은 점수가 추출. <br/> 다만, 군집을 4개로 설정한 경우 각 군집별로 필요 이상의 변수가 포함됨을 확인해 군집 수를 6으로 결정."
   ]
  },
  {
   "cell_type": "markdown",
   "metadata": {},
   "source": [
    "#### `n_clusters=6`으로 KMeans 군집 군석을 진행"
   ]
  },
  {
   "cell_type": "code",
   "execution_count": 91,
   "metadata": {},
   "outputs": [
    {
     "data": {
      "text/html": [
       "<div>\n",
       "<style scoped>\n",
       "    .dataframe tbody tr th:only-of-type {\n",
       "        vertical-align: middle;\n",
       "    }\n",
       "\n",
       "    .dataframe tbody tr th {\n",
       "        vertical-align: top;\n",
       "    }\n",
       "\n",
       "    .dataframe thead th {\n",
       "        text-align: right;\n",
       "    }\n",
       "</style>\n",
       "<table border=\"1\" class=\"dataframe\">\n",
       "  <thead>\n",
       "    <tr style=\"text-align: right;\">\n",
       "      <th></th>\n",
       "      <th>읍면동명</th>\n",
       "      <th>여가생활지수minmax</th>\n",
       "      <th>사회적약자_지원_인프라_밀집도minmax</th>\n",
       "      <th>접근성지수minmax</th>\n",
       "      <th>환경자족성지수minmax</th>\n",
       "      <th>cluster_id</th>\n",
       "    </tr>\n",
       "  </thead>\n",
       "  <tbody>\n",
       "    <tr>\n",
       "      <th>0</th>\n",
       "      <td>청운효자동</td>\n",
       "      <td>0.002648</td>\n",
       "      <td>0.068435</td>\n",
       "      <td>0.114798</td>\n",
       "      <td>0.212495</td>\n",
       "      <td>3</td>\n",
       "    </tr>\n",
       "    <tr>\n",
       "      <th>1</th>\n",
       "      <td>사직동</td>\n",
       "      <td>0.006464</td>\n",
       "      <td>0.041923</td>\n",
       "      <td>0.333275</td>\n",
       "      <td>0.038269</td>\n",
       "      <td>1</td>\n",
       "    </tr>\n",
       "    <tr>\n",
       "      <th>2</th>\n",
       "      <td>삼청동</td>\n",
       "      <td>0.005332</td>\n",
       "      <td>0.090426</td>\n",
       "      <td>0.342620</td>\n",
       "      <td>0.602143</td>\n",
       "      <td>2</td>\n",
       "    </tr>\n",
       "    <tr>\n",
       "      <th>3</th>\n",
       "      <td>부암동</td>\n",
       "      <td>0.001699</td>\n",
       "      <td>0.067935</td>\n",
       "      <td>0.157400</td>\n",
       "      <td>0.602143</td>\n",
       "      <td>2</td>\n",
       "    </tr>\n",
       "    <tr>\n",
       "      <th>4</th>\n",
       "      <td>평창동</td>\n",
       "      <td>0.000529</td>\n",
       "      <td>0.073234</td>\n",
       "      <td>0.135935</td>\n",
       "      <td>0.602861</td>\n",
       "      <td>2</td>\n",
       "    </tr>\n",
       "  </tbody>\n",
       "</table>\n",
       "</div>"
      ],
      "text/plain": [
       "    읍면동명  여가생활지수minmax  사회적약자_지원_인프라_밀집도minmax  접근성지수minmax  환경자족성지수minmax  \\\n",
       "0  청운효자동      0.002648                0.068435     0.114798       0.212495   \n",
       "1    사직동      0.006464                0.041923     0.333275       0.038269   \n",
       "2    삼청동      0.005332                0.090426     0.342620       0.602143   \n",
       "3    부암동      0.001699                0.067935     0.157400       0.602143   \n",
       "4    평창동      0.000529                0.073234     0.135935       0.602861   \n",
       "\n",
       "   cluster_id  \n",
       "0           3  \n",
       "1           1  \n",
       "2           2  \n",
       "3           2  \n",
       "4           2  "
      ]
     },
     "execution_count": 91,
     "metadata": {},
     "output_type": "execute_result"
    }
   ],
   "source": [
    "kmeans = KMeans(n_clusters=6,n_init=10,max_iter=100).fit(Y) #군집 6개로 나누겠다\n",
    "origin4['cluster_id'] = kmeans.labels_\n",
    "origin4.head()"
   ]
  },
  {
   "cell_type": "code",
   "execution_count": 92,
   "metadata": {},
   "outputs": [
    {
     "name": "stderr",
     "output_type": "stream",
     "text": [
      "c:\\Users\\jehyu\\AppData\\Local\\Programs\\Python\\Python39\\lib\\site-packages\\seaborn\\axisgrid.py:118: UserWarning: The figure layout has changed to tight\n",
      "  self._figure.tight_layout(*args, **kwargs)\n"
     ]
    },
    {
     "data": {
      "image/png": "[encoded data removed]",
      "text/plain": [
       "<Figure size 583.958x500 with 1 Axes>"
      ]
     },
     "metadata": {},
     "output_type": "display_data"
    }
   ],
   "source": [
    "sb.lmplot(x='사회적약자_지원_인프라_밀집도minmax', y='환경자족성지수minmax', data=origin4, \n",
    "          fit_reg=False, scatter_kws={\"s\": 30}, hue=\"cluster_id\")\n",
    "plt.title(\"환경자족성지수와 사회적약자지수\")\n",
    "plt.grid()"
   ]
  },
  {
   "cell_type": "markdown",
   "metadata": {},
   "source": [
    "> - 군집 확인 결과 데이터가 수직으로 분포되어있는 것을 확인. \n",
    "> - 지수가 비교적 긍정적인 `3,`, `5` 선정"
   ]
  },
  {
   "cell_type": "markdown",
   "metadata": {},
   "source": [
    "### 수동 voting을 위한 xlsx 파일 생성"
   ]
  },
  {
   "cell_type": "code",
   "execution_count": 116,
   "metadata": {},
   "outputs": [],
   "source": [
    "# origin4_final = origin4[(origin4['cluster_id'] == 3) | (origin4['cluster_id'] == 5)]"
   ]
  },
  {
   "cell_type": "code",
   "execution_count": 97,
   "metadata": {},
   "outputs": [
    {
     "data": {
      "text/html": [
       "<div>\n",
       "<style scoped>\n",
       "    .dataframe tbody tr th:only-of-type {\n",
       "        vertical-align: middle;\n",
       "    }\n",
       "\n",
       "    .dataframe tbody tr th {\n",
       "        vertical-align: top;\n",
       "    }\n",
       "\n",
       "    .dataframe thead th {\n",
       "        text-align: right;\n",
       "    }\n",
       "</style>\n",
       "<table border=\"1\" class=\"dataframe\">\n",
       "  <thead>\n",
       "    <tr style=\"text-align: right;\">\n",
       "      <th></th>\n",
       "      <th>읍면동명</th>\n",
       "      <th>여가생활지수minmax</th>\n",
       "      <th>사회적약자_지원_인프라_밀집도minmax</th>\n",
       "      <th>접근성지수minmax</th>\n",
       "      <th>환경자족성지수minmax</th>\n",
       "      <th>cluster_id</th>\n",
       "    </tr>\n",
       "  </thead>\n",
       "  <tbody>\n",
       "    <tr>\n",
       "      <th>0</th>\n",
       "      <td>청운효자동</td>\n",
       "      <td>0.002648</td>\n",
       "      <td>0.068435</td>\n",
       "      <td>0.114798</td>\n",
       "      <td>0.212495</td>\n",
       "      <td>3</td>\n",
       "    </tr>\n",
       "    <tr>\n",
       "      <th>24</th>\n",
       "      <td>신당동</td>\n",
       "      <td>1.000000</td>\n",
       "      <td>0.031490</td>\n",
       "      <td>0.235243</td>\n",
       "      <td>0.301071</td>\n",
       "      <td>3</td>\n",
       "    </tr>\n",
       "    <tr>\n",
       "      <th>28</th>\n",
       "      <td>신당5동</td>\n",
       "      <td>0.002298</td>\n",
       "      <td>0.042112</td>\n",
       "      <td>0.044088</td>\n",
       "      <td>0.242790</td>\n",
       "      <td>3</td>\n",
       "    </tr>\n",
       "    <tr>\n",
       "      <th>39</th>\n",
       "      <td>용문동</td>\n",
       "      <td>0.000000</td>\n",
       "      <td>0.055576</td>\n",
       "      <td>0.069764</td>\n",
       "      <td>0.180819</td>\n",
       "      <td>3</td>\n",
       "    </tr>\n",
       "    <tr>\n",
       "      <th>48</th>\n",
       "      <td>왕십리제2동</td>\n",
       "      <td>0.000000</td>\n",
       "      <td>0.054749</td>\n",
       "      <td>0.052393</td>\n",
       "      <td>0.243778</td>\n",
       "      <td>3</td>\n",
       "    </tr>\n",
       "  </tbody>\n",
       "</table>\n",
       "</div>"
      ],
      "text/plain": [
       "      읍면동명  여가생활지수minmax  사회적약자_지원_인프라_밀집도minmax  접근성지수minmax  환경자족성지수minmax  \\\n",
       "0    청운효자동      0.002648                0.068435     0.114798       0.212495   \n",
       "24     신당동      1.000000                0.031490     0.235243       0.301071   \n",
       "28    신당5동      0.002298                0.042112     0.044088       0.242790   \n",
       "39     용문동      0.000000                0.055576     0.069764       0.180819   \n",
       "48  왕십리제2동      0.000000                0.054749     0.052393       0.243778   \n",
       "\n",
       "    cluster_id  \n",
       "0            3  \n",
       "24           3  \n",
       "28           3  \n",
       "39           3  \n",
       "48           3  "
      ]
     },
     "execution_count": 97,
     "metadata": {},
     "output_type": "execute_result"
    }
   ],
   "source": [
    "origin4_final = concat([origin4[origin4['cluster_id'] == 3], origin4[origin4['cluster_id'] == 5]])\n",
    "origin4_final.head()"
   ]
  },
  {
   "cell_type": "code",
   "execution_count": 98,
   "metadata": {},
   "outputs": [],
   "source": [
    "origin4_final.to_excel('./교집합결과/사회적약자,환경자족성지수voting1.xlsx')"
   ]
  },
  {
   "cell_type": "markdown",
   "metadata": {},
   "source": [
    "### #3. `환경자족성지수 - 접근성지수`"
   ]
  },
  {
   "cell_type": "markdown",
   "metadata": {},
   "source": [
    "#### 지수 추출"
   ]
  },
  {
   "cell_type": "code",
   "execution_count": 28,
   "metadata": {},
   "outputs": [
    {
     "data": {
      "text/html": [
       "<div>\n",
       "<style scoped>\n",
       "    .dataframe tbody tr th:only-of-type {\n",
       "        vertical-align: middle;\n",
       "    }\n",
       "\n",
       "    .dataframe tbody tr th {\n",
       "        vertical-align: top;\n",
       "    }\n",
       "\n",
       "    .dataframe thead th {\n",
       "        text-align: right;\n",
       "    }\n",
       "</style>\n",
       "<table border=\"1\" class=\"dataframe\">\n",
       "  <thead>\n",
       "    <tr style=\"text-align: right;\">\n",
       "      <th></th>\n",
       "      <th>읍면동명</th>\n",
       "      <th>여가생활지수minmax</th>\n",
       "      <th>사회적약자_지원_인프라_밀집도minmax</th>\n",
       "      <th>접근성지수minmax</th>\n",
       "      <th>환경자족성지수minmax</th>\n",
       "    </tr>\n",
       "  </thead>\n",
       "  <tbody>\n",
       "    <tr>\n",
       "      <th>0</th>\n",
       "      <td>청운효자동</td>\n",
       "      <td>0.002648</td>\n",
       "      <td>0.068435</td>\n",
       "      <td>0.114798</td>\n",
       "      <td>0.212495</td>\n",
       "    </tr>\n",
       "    <tr>\n",
       "      <th>1</th>\n",
       "      <td>사직동</td>\n",
       "      <td>0.006464</td>\n",
       "      <td>0.041923</td>\n",
       "      <td>0.333275</td>\n",
       "      <td>0.038269</td>\n",
       "    </tr>\n",
       "    <tr>\n",
       "      <th>2</th>\n",
       "      <td>삼청동</td>\n",
       "      <td>0.005332</td>\n",
       "      <td>0.090426</td>\n",
       "      <td>0.342620</td>\n",
       "      <td>0.602143</td>\n",
       "    </tr>\n",
       "    <tr>\n",
       "      <th>3</th>\n",
       "      <td>부암동</td>\n",
       "      <td>0.001699</td>\n",
       "      <td>0.067935</td>\n",
       "      <td>0.157400</td>\n",
       "      <td>0.602143</td>\n",
       "    </tr>\n",
       "    <tr>\n",
       "      <th>4</th>\n",
       "      <td>평창동</td>\n",
       "      <td>0.000529</td>\n",
       "      <td>0.073234</td>\n",
       "      <td>0.135935</td>\n",
       "      <td>0.602861</td>\n",
       "    </tr>\n",
       "  </tbody>\n",
       "</table>\n",
       "</div>"
      ],
      "text/plain": [
       "    읍면동명  여가생활지수minmax  사회적약자_지원_인프라_밀집도minmax  접근성지수minmax  환경자족성지수minmax\n",
       "0  청운효자동      0.002648                0.068435     0.114798       0.212495\n",
       "1    사직동      0.006464                0.041923     0.333275       0.038269\n",
       "2    삼청동      0.005332                0.090426     0.342620       0.602143\n",
       "3    부암동      0.001699                0.067935     0.157400       0.602143\n",
       "4    평창동      0.000529                0.073234     0.135935       0.602861"
      ]
     },
     "execution_count": 28,
     "metadata": {},
     "output_type": "execute_result"
    }
   ],
   "source": [
    "origin2.head()"
   ]
  },
  {
   "cell_type": "code",
   "execution_count": 29,
   "metadata": {},
   "outputs": [
    {
     "data": {
      "text/plain": [
       "array([[0.21249473, 0.11479751],\n",
       "       [0.03826857, 0.33327467],\n",
       "       [0.60214289, 0.34262014],\n",
       "       [0.60214289, 0.15739974],\n",
       "       [0.60286054, 0.13593454]])"
      ]
     },
     "execution_count": 29,
     "metadata": {},
     "output_type": "execute_result"
    }
   ],
   "source": [
    "origin5=origin2.copy()\n",
    "Z = origin5.iloc[:,[-1,-2]].values # x값으로 환경자족성지수,접근성지수 지정\n",
    "Z[:5]"
   ]
  },
  {
   "cell_type": "markdown",
   "metadata": {},
   "source": [
    "#### 엘보우 메소드로 최적의 k값 예상"
   ]
  },
  {
   "cell_type": "code",
   "execution_count": 30,
   "metadata": {},
   "outputs": [
    {
     "data": {
      "text/plain": [
       "<Axes: >"
      ]
     },
     "execution_count": 30,
     "metadata": {},
     "output_type": "execute_result"
    },
    {
     "data": {
      "image/png": "[encoded data removed]",
      "text/plain": [
       "<Figure size 800x500 with 1 Axes>"
      ]
     },
     "metadata": {},
     "output_type": "display_data"
    }
   ],
   "source": [
    "inertia = []\n",
    "\n",
    "for k in range(1,11):\n",
    "    kmeans = KMeans(n_clusters=k,n_init=10,max_iter=100).fit(Z)\n",
    "    value = kmeans.inertia_\n",
    "    inertia.append(value)\n",
    "\n",
    "DataFrame(inertia).plot()"
   ]
  },
  {
   "cell_type": "markdown",
   "metadata": {},
   "source": [
    "> 엘보우 그래프 확인 결과 4개에서 완만히 떨어지는 것으로 판단하여 군집수는 4개로 결정"
   ]
  },
  {
   "cell_type": "markdown",
   "metadata": {},
   "source": [
    "#### 실루엣 스코어로 최적의 k값 예상"
   ]
  },
  {
   "cell_type": "code",
   "execution_count": 31,
   "metadata": {},
   "outputs": [],
   "source": [
    "origin5_5=origin5.drop('읍면동명',axis=1)"
   ]
  },
  {
   "cell_type": "code",
   "execution_count": 32,
   "metadata": {},
   "outputs": [
    {
     "name": "stdout",
     "output_type": "stream",
     "text": [
      "실루엣 점수: 0.649\n"
     ]
    },
    {
     "data": {
      "image/png": "[encoded data removed]",
      "text/plain": [
       "<Figure size 1000x500 with 1 Axes>"
      ]
     },
     "metadata": {},
     "output_type": "display_data"
    }
   ],
   "source": [
    "# n_clusters : 군집의 갯수, n_init : 초기 중심위치 수\n",
    "kmeans=KMeans(n_clusters=4,n_init=10,max_iter=100)\n",
    "kmeans.fit(origin5_5)\n",
    "y_pred=kmeans.predict(origin5_5)\n",
    "score=silhouette_score(origin5_5,y_pred)\n",
    "\n",
    "print(\"실루엣 점수: {0:.3f}\".format(score))\n",
    "\n",
    "score_list2=[]\n",
    "\n",
    "for k in range(2,11):\n",
    "    kmeans=KMeans(n_clusters=k,n_init=10,max_iter=100)\n",
    "    kmeans.fit(origin5_5)\n",
    "    y_pred=kmeans.predict(origin5_5)\n",
    "    score=silhouette_score(origin5_5,y_pred)\n",
    "    score_list2.append(score)\n",
    "\n",
    "score_list2\n",
    "\n",
    "plt.figure(figsize=(10,5))\n",
    "sb.lineplot(x=range(2,11),y=score_list2,marker='o')\n",
    "plt.title('silhouette score graph')\n",
    "plt.xlabel('number of cluster')\n",
    "plt.ylabel('sil')\n",
    "plt.grid()\n",
    "plt.show()\n",
    "plt.close()"
   ]
  },
  {
   "cell_type": "markdown",
   "metadata": {},
   "source": [
    "> 실루엣 스코어 확인 결과 군집을 3으로 설정했을 때 가장 높은 점수가 나옴. <br/> 군집을 3개로 설정한 경우 각 군집별로 필요 이상의 지역 변수가 포함됨을 확인해 군집 수를 6으로 결정."
   ]
  },
  {
   "cell_type": "markdown",
   "metadata": {},
   "source": [
    "#### `n_clusters=6`으로 KMeans 군집 군석을 진행"
   ]
  },
  {
   "cell_type": "code",
   "execution_count": 33,
   "metadata": {},
   "outputs": [
    {
     "data": {
      "text/html": [
       "<div>\n",
       "<style scoped>\n",
       "    .dataframe tbody tr th:only-of-type {\n",
       "        vertical-align: middle;\n",
       "    }\n",
       "\n",
       "    .dataframe tbody tr th {\n",
       "        vertical-align: top;\n",
       "    }\n",
       "\n",
       "    .dataframe thead th {\n",
       "        text-align: right;\n",
       "    }\n",
       "</style>\n",
       "<table border=\"1\" class=\"dataframe\">\n",
       "  <thead>\n",
       "    <tr style=\"text-align: right;\">\n",
       "      <th></th>\n",
       "      <th>읍면동명</th>\n",
       "      <th>여가생활지수minmax</th>\n",
       "      <th>사회적약자_지원_인프라_밀집도minmax</th>\n",
       "      <th>접근성지수minmax</th>\n",
       "      <th>환경자족성지수minmax</th>\n",
       "      <th>cluster_id</th>\n",
       "    </tr>\n",
       "  </thead>\n",
       "  <tbody>\n",
       "    <tr>\n",
       "      <th>0</th>\n",
       "      <td>청운효자동</td>\n",
       "      <td>0.002648</td>\n",
       "      <td>0.068435</td>\n",
       "      <td>0.114798</td>\n",
       "      <td>0.212495</td>\n",
       "      <td>3</td>\n",
       "    </tr>\n",
       "    <tr>\n",
       "      <th>1</th>\n",
       "      <td>사직동</td>\n",
       "      <td>0.006464</td>\n",
       "      <td>0.041923</td>\n",
       "      <td>0.333275</td>\n",
       "      <td>0.038269</td>\n",
       "      <td>1</td>\n",
       "    </tr>\n",
       "    <tr>\n",
       "      <th>2</th>\n",
       "      <td>삼청동</td>\n",
       "      <td>0.005332</td>\n",
       "      <td>0.090426</td>\n",
       "      <td>0.342620</td>\n",
       "      <td>0.602143</td>\n",
       "      <td>4</td>\n",
       "    </tr>\n",
       "    <tr>\n",
       "      <th>3</th>\n",
       "      <td>부암동</td>\n",
       "      <td>0.001699</td>\n",
       "      <td>0.067935</td>\n",
       "      <td>0.157400</td>\n",
       "      <td>0.602143</td>\n",
       "      <td>4</td>\n",
       "    </tr>\n",
       "    <tr>\n",
       "      <th>4</th>\n",
       "      <td>평창동</td>\n",
       "      <td>0.000529</td>\n",
       "      <td>0.073234</td>\n",
       "      <td>0.135935</td>\n",
       "      <td>0.602861</td>\n",
       "      <td>0</td>\n",
       "    </tr>\n",
       "  </tbody>\n",
       "</table>\n",
       "</div>"
      ],
      "text/plain": [
       "    읍면동명  여가생활지수minmax  사회적약자_지원_인프라_밀집도minmax  접근성지수minmax  환경자족성지수minmax  \\\n",
       "0  청운효자동      0.002648                0.068435     0.114798       0.212495   \n",
       "1    사직동      0.006464                0.041923     0.333275       0.038269   \n",
       "2    삼청동      0.005332                0.090426     0.342620       0.602143   \n",
       "3    부암동      0.001699                0.067935     0.157400       0.602143   \n",
       "4    평창동      0.000529                0.073234     0.135935       0.602861   \n",
       "\n",
       "   cluster_id  \n",
       "0           3  \n",
       "1           1  \n",
       "2           4  \n",
       "3           4  \n",
       "4           0  "
      ]
     },
     "execution_count": 33,
     "metadata": {},
     "output_type": "execute_result"
    }
   ],
   "source": [
    "kmeans = KMeans(n_clusters=6,n_init=10,max_iter=100).fit(Z) #군집 4개로 나누겠다\n",
    "origin5['cluster_id'] = kmeans.labels_\n",
    "origin5.head()"
   ]
  },
  {
   "cell_type": "code",
   "execution_count": 34,
   "metadata": {},
   "outputs": [
    {
     "name": "stderr",
     "output_type": "stream",
     "text": [
      "c:\\Users\\jehyu\\AppData\\Local\\Programs\\Python\\Python39\\lib\\site-packages\\seaborn\\axisgrid.py:118: UserWarning: The figure layout has changed to tight\n",
      "  self._figure.tight_layout(*args, **kwargs)\n"
     ]
    },
    {
     "data": {
      "image/png": "[encoded data removed]",
      "text/plain": [
       "<Figure size 583.958x500 with 1 Axes>"
      ]
     },
     "metadata": {},
     "output_type": "display_data"
    }
   ],
   "source": [
    "sb.lmplot(x='접근성지수minmax', y='환경자족성지수minmax', data=origin5, \n",
    "          fit_reg=False, scatter_kws={\"s\": 30}, hue=\"cluster_id\")\n",
    "plt.title(\"환경자족성지수와 접근성 지수\")\n",
    "plt.grid()"
   ]
  },
  {
   "cell_type": "markdown",
   "metadata": {},
   "source": [
    "> - 두 지수 값 모두 비교적 긍정적으로 분포된 군집 `4`와 `2`를 분석에 사용하기로 결정"
   ]
  },
  {
   "cell_type": "markdown",
   "metadata": {},
   "source": [
    "> 접근성지수와 환경자족성지수가 비교적 긍정적이면서 군집이 산발적이지 않은 `0` 지역을 이상적인 지역으로 판단하기로 결정."
   ]
  },
  {
   "cell_type": "markdown",
   "metadata": {},
   "source": [
    "### 수동 voting을 위한 xlsx 파일 생성"
   ]
  },
  {
   "cell_type": "code",
   "execution_count": 102,
   "metadata": {},
   "outputs": [
    {
     "data": {
      "text/plain": [
       "5"
      ]
     },
     "execution_count": 102,
     "metadata": {},
     "output_type": "execute_result"
    }
   ],
   "source": [
    "len(origin5[origin5['cluster_id']==4])\n",
    "len(origin5[origin5['cluster_id']==2])"
   ]
  },
  {
   "cell_type": "code",
   "execution_count": 103,
   "metadata": {},
   "outputs": [
    {
     "data": {
      "text/html": [
       "<div>\n",
       "<style scoped>\n",
       "    .dataframe tbody tr th:only-of-type {\n",
       "        vertical-align: middle;\n",
       "    }\n",
       "\n",
       "    .dataframe tbody tr th {\n",
       "        vertical-align: top;\n",
       "    }\n",
       "\n",
       "    .dataframe thead th {\n",
       "        text-align: right;\n",
       "    }\n",
       "</style>\n",
       "<table border=\"1\" class=\"dataframe\">\n",
       "  <thead>\n",
       "    <tr style=\"text-align: right;\">\n",
       "      <th></th>\n",
       "      <th>읍면동명</th>\n",
       "      <th>여가생활지수minmax</th>\n",
       "      <th>사회적약자_지원_인프라_밀집도minmax</th>\n",
       "      <th>접근성지수minmax</th>\n",
       "      <th>환경자족성지수minmax</th>\n",
       "      <th>cluster_id</th>\n",
       "    </tr>\n",
       "  </thead>\n",
       "  <tbody>\n",
       "    <tr>\n",
       "      <th>2</th>\n",
       "      <td>삼청동</td>\n",
       "      <td>0.005332</td>\n",
       "      <td>0.090426</td>\n",
       "      <td>0.342620</td>\n",
       "      <td>0.602143</td>\n",
       "      <td>4</td>\n",
       "    </tr>\n",
       "    <tr>\n",
       "      <th>3</th>\n",
       "      <td>부암동</td>\n",
       "      <td>0.001699</td>\n",
       "      <td>0.067935</td>\n",
       "      <td>0.157400</td>\n",
       "      <td>0.602143</td>\n",
       "      <td>4</td>\n",
       "    </tr>\n",
       "    <tr>\n",
       "      <th>8</th>\n",
       "      <td>종로1.2.3.4가동</td>\n",
       "      <td>0.069040</td>\n",
       "      <td>0.206536</td>\n",
       "      <td>0.831703</td>\n",
       "      <td>0.063833</td>\n",
       "      <td>2</td>\n",
       "    </tr>\n",
       "    <tr>\n",
       "      <th>17</th>\n",
       "      <td>소공동</td>\n",
       "      <td>0.085553</td>\n",
       "      <td>0.331262</td>\n",
       "      <td>0.811509</td>\n",
       "      <td>0.009355</td>\n",
       "      <td>2</td>\n",
       "    </tr>\n",
       "    <tr>\n",
       "      <th>18</th>\n",
       "      <td>회현동</td>\n",
       "      <td>0.294433</td>\n",
       "      <td>0.155671</td>\n",
       "      <td>0.722658</td>\n",
       "      <td>0.000000</td>\n",
       "      <td>2</td>\n",
       "    </tr>\n",
       "  </tbody>\n",
       "</table>\n",
       "</div>"
      ],
      "text/plain": [
       "           읍면동명  여가생활지수minmax  사회적약자_지원_인프라_밀집도minmax  접근성지수minmax  \\\n",
       "2           삼청동      0.005332                0.090426     0.342620   \n",
       "3           부암동      0.001699                0.067935     0.157400   \n",
       "8   종로1.2.3.4가동      0.069040                0.206536     0.831703   \n",
       "17          소공동      0.085553                0.331262     0.811509   \n",
       "18          회현동      0.294433                0.155671     0.722658   \n",
       "\n",
       "    환경자족성지수minmax  cluster_id  \n",
       "2        0.602143           4  \n",
       "3        0.602143           4  \n",
       "8        0.063833           2  \n",
       "17       0.009355           2  \n",
       "18       0.000000           2  "
      ]
     },
     "execution_count": 103,
     "metadata": {},
     "output_type": "execute_result"
    }
   ],
   "source": [
    "origin5_final=origin5[(origin5['cluster_id']==2)|(origin5['cluster_id']==4)]\n",
    "origin5_final.head()"
   ]
  },
  {
   "cell_type": "code",
   "execution_count": 104,
   "metadata": {},
   "outputs": [],
   "source": [
    "origin5_final.to_excel('./교집합결과/접근성지수,환경자족성지수voting1.xlsx')"
   ]
  },
  {
   "cell_type": "markdown",
   "metadata": {},
   "source": [
    "### #4. `여가생활지수 - 사회적약자_지원_인프라_밀집도`"
   ]
  },
  {
   "cell_type": "code",
   "execution_count": 37,
   "metadata": {},
   "outputs": [
    {
     "data": {
      "text/html": [
       "<div>\n",
       "<style scoped>\n",
       "    .dataframe tbody tr th:only-of-type {\n",
       "        vertical-align: middle;\n",
       "    }\n",
       "\n",
       "    .dataframe tbody tr th {\n",
       "        vertical-align: top;\n",
       "    }\n",
       "\n",
       "    .dataframe thead th {\n",
       "        text-align: right;\n",
       "    }\n",
       "</style>\n",
       "<table border=\"1\" class=\"dataframe\">\n",
       "  <thead>\n",
       "    <tr style=\"text-align: right;\">\n",
       "      <th></th>\n",
       "      <th>읍면동명</th>\n",
       "      <th>여가생활지수minmax</th>\n",
       "      <th>사회적약자_지원_인프라_밀집도minmax</th>\n",
       "      <th>접근성지수minmax</th>\n",
       "      <th>환경자족성지수minmax</th>\n",
       "    </tr>\n",
       "  </thead>\n",
       "  <tbody>\n",
       "    <tr>\n",
       "      <th>0</th>\n",
       "      <td>청운효자동</td>\n",
       "      <td>0.002648</td>\n",
       "      <td>0.068435</td>\n",
       "      <td>0.114798</td>\n",
       "      <td>0.212495</td>\n",
       "    </tr>\n",
       "    <tr>\n",
       "      <th>1</th>\n",
       "      <td>사직동</td>\n",
       "      <td>0.006464</td>\n",
       "      <td>0.041923</td>\n",
       "      <td>0.333275</td>\n",
       "      <td>0.038269</td>\n",
       "    </tr>\n",
       "    <tr>\n",
       "      <th>2</th>\n",
       "      <td>삼청동</td>\n",
       "      <td>0.005332</td>\n",
       "      <td>0.090426</td>\n",
       "      <td>0.342620</td>\n",
       "      <td>0.602143</td>\n",
       "    </tr>\n",
       "    <tr>\n",
       "      <th>3</th>\n",
       "      <td>부암동</td>\n",
       "      <td>0.001699</td>\n",
       "      <td>0.067935</td>\n",
       "      <td>0.157400</td>\n",
       "      <td>0.602143</td>\n",
       "    </tr>\n",
       "    <tr>\n",
       "      <th>4</th>\n",
       "      <td>평창동</td>\n",
       "      <td>0.000529</td>\n",
       "      <td>0.073234</td>\n",
       "      <td>0.135935</td>\n",
       "      <td>0.602861</td>\n",
       "    </tr>\n",
       "  </tbody>\n",
       "</table>\n",
       "</div>"
      ],
      "text/plain": [
       "    읍면동명  여가생활지수minmax  사회적약자_지원_인프라_밀집도minmax  접근성지수minmax  환경자족성지수minmax\n",
       "0  청운효자동      0.002648                0.068435     0.114798       0.212495\n",
       "1    사직동      0.006464                0.041923     0.333275       0.038269\n",
       "2    삼청동      0.005332                0.090426     0.342620       0.602143\n",
       "3    부암동      0.001699                0.067935     0.157400       0.602143\n",
       "4    평창동      0.000529                0.073234     0.135935       0.602861"
      ]
     },
     "execution_count": 37,
     "metadata": {},
     "output_type": "execute_result"
    }
   ],
   "source": [
    "origin2.head()"
   ]
  },
  {
   "cell_type": "code",
   "execution_count": 38,
   "metadata": {},
   "outputs": [
    {
     "data": {
      "text/plain": [
       "array([[0.00264752, 0.06843491],\n",
       "       [0.00646393, 0.04192329],\n",
       "       [0.00533217, 0.09042634],\n",
       "       [0.0016987 , 0.06793525],\n",
       "       [0.00052877, 0.0732343 ]])"
      ]
     },
     "execution_count": 38,
     "metadata": {},
     "output_type": "execute_result"
    }
   ],
   "source": [
    "origin6=origin2.copy()\n",
    "XX = origin6.iloc[:,[1,2]].values #x값으로 여가생활지수,사회적약자_지원_인프라_밀집도 지정\n",
    "XX[:5]"
   ]
  },
  {
   "cell_type": "markdown",
   "metadata": {},
   "source": [
    "#### 엘보우 메소드로 최적의 k값 예상"
   ]
  },
  {
   "cell_type": "code",
   "execution_count": 39,
   "metadata": {},
   "outputs": [
    {
     "data": {
      "text/plain": [
       "<Axes: >"
      ]
     },
     "execution_count": 39,
     "metadata": {},
     "output_type": "execute_result"
    },
    {
     "data": {
      "image/png": "[encoded data removed]",
      "text/plain": [
       "<Figure size 800x500 with 1 Axes>"
      ]
     },
     "metadata": {},
     "output_type": "display_data"
    }
   ],
   "source": [
    "inertia = []\n",
    "\n",
    "for k in range(1,11):\n",
    "    kmeans = KMeans(n_clusters=k,n_init=10,max_iter=100).fit(XX)\n",
    "    value = kmeans.inertia_\n",
    "    inertia.append(value)\n",
    "\n",
    "DataFrame(inertia).plot()"
   ]
  },
  {
   "cell_type": "markdown",
   "metadata": {},
   "source": [
    "> 엘보우 그래프 확인 결과 군집이 4개에서 완만히 떨어지는 것으로 판단하여 군집수는 `4`로 결정"
   ]
  },
  {
   "cell_type": "markdown",
   "metadata": {},
   "source": [
    "#### 실루엣 스코어로 최적의 k값 예상"
   ]
  },
  {
   "cell_type": "code",
   "execution_count": 40,
   "metadata": {},
   "outputs": [],
   "source": [
    "origin6_6=origin6.drop('읍면동명',axis=1)"
   ]
  },
  {
   "cell_type": "code",
   "execution_count": 41,
   "metadata": {},
   "outputs": [
    {
     "name": "stdout",
     "output_type": "stream",
     "text": [
      "실루엣 점수: 0.652\n"
     ]
    },
    {
     "data": {
      "image/png": "[encoded data removed]",
      "text/plain": [
       "<Figure size 1000x500 with 1 Axes>"
      ]
     },
     "metadata": {},
     "output_type": "display_data"
    }
   ],
   "source": [
    "kmeans=KMeans(n_clusters=4,n_init=10,max_iter=100)\n",
    "kmeans.fit(origin6_6)\n",
    "y_pred=kmeans.predict(origin6_6)\n",
    "score=silhouette_score(origin6_6,y_pred)\n",
    "\n",
    "print(\"실루엣 점수: {0:.3f}\".format(score))\n",
    "\n",
    "score_list3=[]\n",
    "\n",
    "for k in range(2,11):\n",
    "    kmeans=KMeans(n_clusters=k,n_init=10,max_iter=100)\n",
    "    kmeans.fit(origin6_6)\n",
    "    y_pred=kmeans.predict(origin6_6)\n",
    "    score=silhouette_score(origin6_6,y_pred)\n",
    "    score_list3.append(score)\n",
    "\n",
    "score_list3\n",
    "\n",
    "plt.figure(figsize=(10,5))\n",
    "sb.lineplot(x=range(2,11),y=score_list3,marker='o')\n",
    "plt.title('silhouette score graph')\n",
    "plt.xlabel('number of cluster')\n",
    "plt.ylabel('sil')\n",
    "plt.grid()\n",
    "plt.show()\n",
    "plt.close()"
   ]
  },
  {
   "cell_type": "markdown",
   "metadata": {},
   "source": [
    "> 실루엣 스코어 확인 결과 군집을 3개로 설정했을 때 가장 높은 점수가 나와 3으로 설정하는 것이 타당. <br/> 다만, 군집을 3개로 설정한 경우 각 군집별로 필요 이상의 지역 변수가 포함됨을 확인해 군집 수를 6으로 결정."
   ]
  },
  {
   "cell_type": "markdown",
   "metadata": {},
   "source": [
    "#### `n_clusters=4`으로 KMeans 군집 군석을 진행"
   ]
  },
  {
   "cell_type": "code",
   "execution_count": 110,
   "metadata": {},
   "outputs": [
    {
     "data": {
      "text/html": [
       "<div>\n",
       "<style scoped>\n",
       "    .dataframe tbody tr th:only-of-type {\n",
       "        vertical-align: middle;\n",
       "    }\n",
       "\n",
       "    .dataframe tbody tr th {\n",
       "        vertical-align: top;\n",
       "    }\n",
       "\n",
       "    .dataframe thead th {\n",
       "        text-align: right;\n",
       "    }\n",
       "</style>\n",
       "<table border=\"1\" class=\"dataframe\">\n",
       "  <thead>\n",
       "    <tr style=\"text-align: right;\">\n",
       "      <th></th>\n",
       "      <th>읍면동명</th>\n",
       "      <th>여가생활지수minmax</th>\n",
       "      <th>사회적약자_지원_인프라_밀집도minmax</th>\n",
       "      <th>접근성지수minmax</th>\n",
       "      <th>환경자족성지수minmax</th>\n",
       "      <th>cluster_id</th>\n",
       "    </tr>\n",
       "  </thead>\n",
       "  <tbody>\n",
       "    <tr>\n",
       "      <th>0</th>\n",
       "      <td>청운효자동</td>\n",
       "      <td>0.002648</td>\n",
       "      <td>0.068435</td>\n",
       "      <td>0.114798</td>\n",
       "      <td>0.212495</td>\n",
       "      <td>0</td>\n",
       "    </tr>\n",
       "    <tr>\n",
       "      <th>1</th>\n",
       "      <td>사직동</td>\n",
       "      <td>0.006464</td>\n",
       "      <td>0.041923</td>\n",
       "      <td>0.333275</td>\n",
       "      <td>0.038269</td>\n",
       "      <td>0</td>\n",
       "    </tr>\n",
       "    <tr>\n",
       "      <th>2</th>\n",
       "      <td>삼청동</td>\n",
       "      <td>0.005332</td>\n",
       "      <td>0.090426</td>\n",
       "      <td>0.342620</td>\n",
       "      <td>0.602143</td>\n",
       "      <td>0</td>\n",
       "    </tr>\n",
       "    <tr>\n",
       "      <th>3</th>\n",
       "      <td>부암동</td>\n",
       "      <td>0.001699</td>\n",
       "      <td>0.067935</td>\n",
       "      <td>0.157400</td>\n",
       "      <td>0.602143</td>\n",
       "      <td>0</td>\n",
       "    </tr>\n",
       "    <tr>\n",
       "      <th>4</th>\n",
       "      <td>평창동</td>\n",
       "      <td>0.000529</td>\n",
       "      <td>0.073234</td>\n",
       "      <td>0.135935</td>\n",
       "      <td>0.602861</td>\n",
       "      <td>0</td>\n",
       "    </tr>\n",
       "  </tbody>\n",
       "</table>\n",
       "</div>"
      ],
      "text/plain": [
       "    읍면동명  여가생활지수minmax  사회적약자_지원_인프라_밀집도minmax  접근성지수minmax  환경자족성지수minmax  \\\n",
       "0  청운효자동      0.002648                0.068435     0.114798       0.212495   \n",
       "1    사직동      0.006464                0.041923     0.333275       0.038269   \n",
       "2    삼청동      0.005332                0.090426     0.342620       0.602143   \n",
       "3    부암동      0.001699                0.067935     0.157400       0.602143   \n",
       "4    평창동      0.000529                0.073234     0.135935       0.602861   \n",
       "\n",
       "   cluster_id  \n",
       "0           0  \n",
       "1           0  \n",
       "2           0  \n",
       "3           0  \n",
       "4           0  "
      ]
     },
     "execution_count": 110,
     "metadata": {},
     "output_type": "execute_result"
    }
   ],
   "source": [
    "kmeans = KMeans(n_clusters=4,n_init=10,max_iter=100).fit(XX) #군집 3개로 나누겠다\n",
    "origin6['cluster_id'] = kmeans.labels_\n",
    "origin6.head()"
   ]
  },
  {
   "cell_type": "code",
   "execution_count": 111,
   "metadata": {},
   "outputs": [
    {
     "name": "stderr",
     "output_type": "stream",
     "text": [
      "c:\\Users\\jehyu\\AppData\\Local\\Programs\\Python\\Python39\\lib\\site-packages\\seaborn\\axisgrid.py:118: UserWarning: The figure layout has changed to tight\n",
      "  self._figure.tight_layout(*args, **kwargs)\n"
     ]
    },
    {
     "data": {
      "image/png": "[encoded data removed]",
      "text/plain": [
       "<Figure size 583.958x500 with 1 Axes>"
      ]
     },
     "metadata": {},
     "output_type": "display_data"
    }
   ],
   "source": [
    "sb.lmplot(x='여가생활지수minmax', y='사회적약자_지원_인프라_밀집도minmax', data=origin6, \n",
    "          fit_reg=False, scatter_kws={\"s\": 30}, hue=\"cluster_id\")\n",
    "plt.title(\"여가생활지수와 사회적 약자 지수\")\n",
    "plt.grid()"
   ]
  },
  {
   "cell_type": "markdown",
   "metadata": {},
   "source": [
    "> 군집 확인 결과 `1`, `2`번 군집의 경우 데이터가 없어서 정상적인 군집이라고 판단하기 어려움. <br/> 그러나 각각 높은 수치의 지수 값을 나타내고 있음."
   ]
  },
  {
   "cell_type": "markdown",
   "metadata": {},
   "source": [
    "### 수동 voting을 위한 xlsx 파일 생성"
   ]
  },
  {
   "cell_type": "code",
   "execution_count": 112,
   "metadata": {},
   "outputs": [
    {
     "data": {
      "text/html": [
       "<div>\n",
       "<style scoped>\n",
       "    .dataframe tbody tr th:only-of-type {\n",
       "        vertical-align: middle;\n",
       "    }\n",
       "\n",
       "    .dataframe tbody tr th {\n",
       "        vertical-align: top;\n",
       "    }\n",
       "\n",
       "    .dataframe thead th {\n",
       "        text-align: right;\n",
       "    }\n",
       "</style>\n",
       "<table border=\"1\" class=\"dataframe\">\n",
       "  <thead>\n",
       "    <tr style=\"text-align: right;\">\n",
       "      <th></th>\n",
       "      <th>읍면동명</th>\n",
       "      <th>여가생활지수minmax</th>\n",
       "      <th>사회적약자_지원_인프라_밀집도minmax</th>\n",
       "      <th>접근성지수minmax</th>\n",
       "      <th>환경자족성지수minmax</th>\n",
       "      <th>cluster_id</th>\n",
       "    </tr>\n",
       "  </thead>\n",
       "  <tbody>\n",
       "    <tr>\n",
       "      <th>403</th>\n",
       "      <td>둔촌제1동</td>\n",
       "      <td>0.0</td>\n",
       "      <td>1.0</td>\n",
       "      <td>0.0</td>\n",
       "      <td>0.4215</td>\n",
       "      <td>2</td>\n",
       "    </tr>\n",
       "  </tbody>\n",
       "</table>\n",
       "</div>"
      ],
      "text/plain": [
       "      읍면동명  여가생활지수minmax  사회적약자_지원_인프라_밀집도minmax  접근성지수minmax  환경자족성지수minmax  \\\n",
       "403  둔촌제1동           0.0                     1.0          0.0         0.4215   \n",
       "\n",
       "     cluster_id  \n",
       "403           2  "
      ]
     },
     "execution_count": 112,
     "metadata": {},
     "output_type": "execute_result"
    }
   ],
   "source": [
    "len(origin6[(origin6['cluster_id'] == 1)])\n",
    "origin6[(origin6['cluster_id'] == 2)]"
   ]
  },
  {
   "cell_type": "code",
   "execution_count": 113,
   "metadata": {},
   "outputs": [
    {
     "data": {
      "text/html": [
       "<div>\n",
       "<style scoped>\n",
       "    .dataframe tbody tr th:only-of-type {\n",
       "        vertical-align: middle;\n",
       "    }\n",
       "\n",
       "    .dataframe tbody tr th {\n",
       "        vertical-align: top;\n",
       "    }\n",
       "\n",
       "    .dataframe thead th {\n",
       "        text-align: right;\n",
       "    }\n",
       "</style>\n",
       "<table border=\"1\" class=\"dataframe\">\n",
       "  <thead>\n",
       "    <tr style=\"text-align: right;\">\n",
       "      <th></th>\n",
       "      <th>읍면동명</th>\n",
       "      <th>여가생활지수minmax</th>\n",
       "      <th>사회적약자_지원_인프라_밀집도minmax</th>\n",
       "      <th>접근성지수minmax</th>\n",
       "      <th>환경자족성지수minmax</th>\n",
       "      <th>cluster_id</th>\n",
       "    </tr>\n",
       "  </thead>\n",
       "  <tbody>\n",
       "    <tr>\n",
       "      <th>22</th>\n",
       "      <td>광희동</td>\n",
       "      <td>0.467260</td>\n",
       "      <td>0.051345</td>\n",
       "      <td>0.358815</td>\n",
       "      <td>0.001183</td>\n",
       "      <td>1</td>\n",
       "    </tr>\n",
       "    <tr>\n",
       "      <th>24</th>\n",
       "      <td>신당동</td>\n",
       "      <td>1.000000</td>\n",
       "      <td>0.031490</td>\n",
       "      <td>0.235243</td>\n",
       "      <td>0.301071</td>\n",
       "      <td>1</td>\n",
       "    </tr>\n",
       "    <tr>\n",
       "      <th>30</th>\n",
       "      <td>황학동</td>\n",
       "      <td>0.595757</td>\n",
       "      <td>0.041701</td>\n",
       "      <td>0.048504</td>\n",
       "      <td>0.602244</td>\n",
       "      <td>1</td>\n",
       "    </tr>\n",
       "    <tr>\n",
       "      <th>307</th>\n",
       "      <td>청림동</td>\n",
       "      <td>0.572641</td>\n",
       "      <td>0.073658</td>\n",
       "      <td>0.027165</td>\n",
       "      <td>0.240857</td>\n",
       "      <td>1</td>\n",
       "    </tr>\n",
       "    <tr>\n",
       "      <th>403</th>\n",
       "      <td>둔촌제1동</td>\n",
       "      <td>0.000000</td>\n",
       "      <td>1.000000</td>\n",
       "      <td>0.000000</td>\n",
       "      <td>0.421500</td>\n",
       "      <td>2</td>\n",
       "    </tr>\n",
       "  </tbody>\n",
       "</table>\n",
       "</div>"
      ],
      "text/plain": [
       "      읍면동명  여가생활지수minmax  사회적약자_지원_인프라_밀집도minmax  접근성지수minmax  환경자족성지수minmax  \\\n",
       "22     광희동      0.467260                0.051345     0.358815       0.001183   \n",
       "24     신당동      1.000000                0.031490     0.235243       0.301071   \n",
       "30     황학동      0.595757                0.041701     0.048504       0.602244   \n",
       "307    청림동      0.572641                0.073658     0.027165       0.240857   \n",
       "403  둔촌제1동      0.000000                1.000000     0.000000       0.421500   \n",
       "\n",
       "     cluster_id  \n",
       "22            1  \n",
       "24            1  \n",
       "30            1  \n",
       "307           1  \n",
       "403           2  "
      ]
     },
     "execution_count": 113,
     "metadata": {},
     "output_type": "execute_result"
    }
   ],
   "source": [
    "origin6_final=origin6[(origin6['cluster_id'] == 1) | (origin6['cluster_id'] == 2)]\n",
    "origin6_final.head()"
   ]
  },
  {
   "cell_type": "code",
   "execution_count": 114,
   "metadata": {},
   "outputs": [],
   "source": [
    "origin6_final.to_excel('./교집합결과/여가생활,사회적약자voting1.xlsx')"
   ]
  },
  {
   "cell_type": "markdown",
   "metadata": {},
   "source": [
    "### #5. `여가생활지수 - 접근성지수`"
   ]
  },
  {
   "cell_type": "code",
   "execution_count": 46,
   "metadata": {},
   "outputs": [
    {
     "data": {
      "text/html": [
       "<div>\n",
       "<style scoped>\n",
       "    .dataframe tbody tr th:only-of-type {\n",
       "        vertical-align: middle;\n",
       "    }\n",
       "\n",
       "    .dataframe tbody tr th {\n",
       "        vertical-align: top;\n",
       "    }\n",
       "\n",
       "    .dataframe thead th {\n",
       "        text-align: right;\n",
       "    }\n",
       "</style>\n",
       "<table border=\"1\" class=\"dataframe\">\n",
       "  <thead>\n",
       "    <tr style=\"text-align: right;\">\n",
       "      <th></th>\n",
       "      <th>읍면동명</th>\n",
       "      <th>여가생활지수minmax</th>\n",
       "      <th>사회적약자_지원_인프라_밀집도minmax</th>\n",
       "      <th>접근성지수minmax</th>\n",
       "      <th>환경자족성지수minmax</th>\n",
       "    </tr>\n",
       "  </thead>\n",
       "  <tbody>\n",
       "    <tr>\n",
       "      <th>0</th>\n",
       "      <td>청운효자동</td>\n",
       "      <td>0.002648</td>\n",
       "      <td>0.068435</td>\n",
       "      <td>0.114798</td>\n",
       "      <td>0.212495</td>\n",
       "    </tr>\n",
       "    <tr>\n",
       "      <th>1</th>\n",
       "      <td>사직동</td>\n",
       "      <td>0.006464</td>\n",
       "      <td>0.041923</td>\n",
       "      <td>0.333275</td>\n",
       "      <td>0.038269</td>\n",
       "    </tr>\n",
       "    <tr>\n",
       "      <th>2</th>\n",
       "      <td>삼청동</td>\n",
       "      <td>0.005332</td>\n",
       "      <td>0.090426</td>\n",
       "      <td>0.342620</td>\n",
       "      <td>0.602143</td>\n",
       "    </tr>\n",
       "    <tr>\n",
       "      <th>3</th>\n",
       "      <td>부암동</td>\n",
       "      <td>0.001699</td>\n",
       "      <td>0.067935</td>\n",
       "      <td>0.157400</td>\n",
       "      <td>0.602143</td>\n",
       "    </tr>\n",
       "    <tr>\n",
       "      <th>4</th>\n",
       "      <td>평창동</td>\n",
       "      <td>0.000529</td>\n",
       "      <td>0.073234</td>\n",
       "      <td>0.135935</td>\n",
       "      <td>0.602861</td>\n",
       "    </tr>\n",
       "  </tbody>\n",
       "</table>\n",
       "</div>"
      ],
      "text/plain": [
       "    읍면동명  여가생활지수minmax  사회적약자_지원_인프라_밀집도minmax  접근성지수minmax  환경자족성지수minmax\n",
       "0  청운효자동      0.002648                0.068435     0.114798       0.212495\n",
       "1    사직동      0.006464                0.041923     0.333275       0.038269\n",
       "2    삼청동      0.005332                0.090426     0.342620       0.602143\n",
       "3    부암동      0.001699                0.067935     0.157400       0.602143\n",
       "4    평창동      0.000529                0.073234     0.135935       0.602861"
      ]
     },
     "execution_count": 46,
     "metadata": {},
     "output_type": "execute_result"
    }
   ],
   "source": [
    "origin2.head()"
   ]
  },
  {
   "cell_type": "code",
   "execution_count": 47,
   "metadata": {},
   "outputs": [
    {
     "data": {
      "text/plain": [
       "array([[0.00264752, 0.11479751],\n",
       "       [0.00646393, 0.33327467],\n",
       "       [0.00533217, 0.34262014],\n",
       "       [0.0016987 , 0.15739974],\n",
       "       [0.00052877, 0.13593454]])"
      ]
     },
     "execution_count": 47,
     "metadata": {},
     "output_type": "execute_result"
    }
   ],
   "source": [
    "origin7=origin2.copy()\n",
    "YY = origin7.iloc[:,[1,-2]].values #x값으로 여가생활지수,접근성지수 지정\n",
    "YY[:5]"
   ]
  },
  {
   "cell_type": "markdown",
   "metadata": {},
   "source": [
    "#### 엘보우 메소드로 최적의 k값 예상"
   ]
  },
  {
   "cell_type": "code",
   "execution_count": 48,
   "metadata": {},
   "outputs": [
    {
     "data": {
      "text/plain": [
       "<Axes: >"
      ]
     },
     "execution_count": 48,
     "metadata": {},
     "output_type": "execute_result"
    },
    {
     "data": {
      "image/png": "[encoded data removed]",
      "text/plain": [
       "<Figure size 800x500 with 1 Axes>"
      ]
     },
     "metadata": {},
     "output_type": "display_data"
    }
   ],
   "source": [
    "inertia = []\n",
    "\n",
    "for k in range(1,11):\n",
    "    kmeans = KMeans(n_clusters=k,n_init=10,max_iter=100).fit(YY)\n",
    "    value = kmeans.inertia_\n",
    "    inertia.append(value)\n",
    "\n",
    "DataFrame(inertia).plot()"
   ]
  },
  {
   "cell_type": "markdown",
   "metadata": {},
   "source": [
    "> 엘보우 그래프 확인 결과 군집이 4일 경우 비교적 완만하게 떨어지는 것으로 보여 군집 수는 4개로 결정"
   ]
  },
  {
   "cell_type": "markdown",
   "metadata": {},
   "source": [
    "#### 실루엣 스코어로 최적의 k값 예상"
   ]
  },
  {
   "cell_type": "code",
   "execution_count": 49,
   "metadata": {},
   "outputs": [],
   "source": [
    "origin7_7=origin7.drop('읍면동명',axis=1)"
   ]
  },
  {
   "cell_type": "code",
   "execution_count": 50,
   "metadata": {},
   "outputs": [
    {
     "name": "stdout",
     "output_type": "stream",
     "text": [
      "실루엣 점수: 0.649\n"
     ]
    },
    {
     "data": {
      "image/png": "[encoded data removed]",
      "text/plain": [
       "<Figure size 1000x500 with 1 Axes>"
      ]
     },
     "metadata": {},
     "output_type": "display_data"
    }
   ],
   "source": [
    "kmeans=KMeans(n_clusters=4,n_init=10,max_iter=100)\n",
    "kmeans.fit(origin7_7)\n",
    "y_pred=kmeans.predict(origin7_7)\n",
    "score=silhouette_score(origin7_7,y_pred)\n",
    "\n",
    "print(\"실루엣 점수: {0:.3f}\".format(score))\n",
    "\n",
    "score_list4=[]\n",
    "\n",
    "for k in range(2,11):\n",
    "    kmeans=KMeans(n_clusters=k,n_init=10,max_iter=100)\n",
    "    kmeans.fit(origin7_7)\n",
    "    y_pred=kmeans.predict(origin7_7)\n",
    "    score=silhouette_score(origin7_7,y_pred)\n",
    "    score_list4.append(score)\n",
    "\n",
    "score_list4\n",
    "\n",
    "plt.figure(figsize=(10,5))\n",
    "sb.lineplot(x=range(2,11),y=score_list4,marker='o')\n",
    "plt.title('silhouette score graph')\n",
    "plt.xlabel('number of cluster')\n",
    "plt.ylabel('sil')\n",
    "plt.grid()\n",
    "plt.show()\n",
    "plt.close()"
   ]
  },
  {
   "cell_type": "markdown",
   "metadata": {},
   "source": [
    "> 실루엣 그래프 확인 결과 마찬가지로 군집수를 4로 설정했을 때 가장 높은 점수를 보여 4로 결정 <br/> 추가 분석 결과 군집을 4개로 설정한 경우 각 군집별로 필요 이상의 지역 변수가 포함됨을 확인해 군집 수를 6으로 결정."
   ]
  },
  {
   "cell_type": "markdown",
   "metadata": {},
   "source": [
    "#### `n_clusters=3`으로 KMeans 군집 군석을 진행"
   ]
  },
  {
   "cell_type": "code",
   "execution_count": 128,
   "metadata": {},
   "outputs": [
    {
     "data": {
      "text/html": [
       "<div>\n",
       "<style scoped>\n",
       "    .dataframe tbody tr th:only-of-type {\n",
       "        vertical-align: middle;\n",
       "    }\n",
       "\n",
       "    .dataframe tbody tr th {\n",
       "        vertical-align: top;\n",
       "    }\n",
       "\n",
       "    .dataframe thead th {\n",
       "        text-align: right;\n",
       "    }\n",
       "</style>\n",
       "<table border=\"1\" class=\"dataframe\">\n",
       "  <thead>\n",
       "    <tr style=\"text-align: right;\">\n",
       "      <th></th>\n",
       "      <th>읍면동명</th>\n",
       "      <th>여가생활지수minmax</th>\n",
       "      <th>사회적약자_지원_인프라_밀집도minmax</th>\n",
       "      <th>접근성지수minmax</th>\n",
       "      <th>환경자족성지수minmax</th>\n",
       "      <th>cluster_id</th>\n",
       "    </tr>\n",
       "  </thead>\n",
       "  <tbody>\n",
       "    <tr>\n",
       "      <th>0</th>\n",
       "      <td>청운효자동</td>\n",
       "      <td>0.002648</td>\n",
       "      <td>0.068435</td>\n",
       "      <td>0.114798</td>\n",
       "      <td>0.212495</td>\n",
       "      <td>0</td>\n",
       "    </tr>\n",
       "    <tr>\n",
       "      <th>1</th>\n",
       "      <td>사직동</td>\n",
       "      <td>0.006464</td>\n",
       "      <td>0.041923</td>\n",
       "      <td>0.333275</td>\n",
       "      <td>0.038269</td>\n",
       "      <td>0</td>\n",
       "    </tr>\n",
       "    <tr>\n",
       "      <th>2</th>\n",
       "      <td>삼청동</td>\n",
       "      <td>0.005332</td>\n",
       "      <td>0.090426</td>\n",
       "      <td>0.342620</td>\n",
       "      <td>0.602143</td>\n",
       "      <td>0</td>\n",
       "    </tr>\n",
       "    <tr>\n",
       "      <th>3</th>\n",
       "      <td>부암동</td>\n",
       "      <td>0.001699</td>\n",
       "      <td>0.067935</td>\n",
       "      <td>0.157400</td>\n",
       "      <td>0.602143</td>\n",
       "      <td>0</td>\n",
       "    </tr>\n",
       "    <tr>\n",
       "      <th>4</th>\n",
       "      <td>평창동</td>\n",
       "      <td>0.000529</td>\n",
       "      <td>0.073234</td>\n",
       "      <td>0.135935</td>\n",
       "      <td>0.602861</td>\n",
       "      <td>0</td>\n",
       "    </tr>\n",
       "  </tbody>\n",
       "</table>\n",
       "</div>"
      ],
      "text/plain": [
       "    읍면동명  여가생활지수minmax  사회적약자_지원_인프라_밀집도minmax  접근성지수minmax  환경자족성지수minmax  \\\n",
       "0  청운효자동      0.002648                0.068435     0.114798       0.212495   \n",
       "1    사직동      0.006464                0.041923     0.333275       0.038269   \n",
       "2    삼청동      0.005332                0.090426     0.342620       0.602143   \n",
       "3    부암동      0.001699                0.067935     0.157400       0.602143   \n",
       "4    평창동      0.000529                0.073234     0.135935       0.602861   \n",
       "\n",
       "   cluster_id  \n",
       "0           0  \n",
       "1           0  \n",
       "2           0  \n",
       "3           0  \n",
       "4           0  "
      ]
     },
     "execution_count": 128,
     "metadata": {},
     "output_type": "execute_result"
    }
   ],
   "source": [
    "kmeans = KMeans(n_clusters=3,n_init=10,max_iter=100).fit(YY) #군집 4개로 나누겠다\n",
    "origin7['cluster_id'] = kmeans.labels_\n",
    "origin7.head()"
   ]
  },
  {
   "cell_type": "code",
   "execution_count": 129,
   "metadata": {},
   "outputs": [
    {
     "name": "stderr",
     "output_type": "stream",
     "text": [
      "c:\\Users\\jehyu\\AppData\\Local\\Programs\\Python\\Python39\\lib\\site-packages\\seaborn\\axisgrid.py:118: UserWarning: The figure layout has changed to tight\n",
      "  self._figure.tight_layout(*args, **kwargs)\n"
     ]
    },
    {
     "data": {
      "image/png": "[encoded data removed]",
      "text/plain": [
       "<Figure size 583.958x500 with 1 Axes>"
      ]
     },
     "metadata": {},
     "output_type": "display_data"
    }
   ],
   "source": [
    "sb.lmplot(x='여가생활지수minmax', y='접근성지수minmax', data=origin7, \n",
    "          fit_reg=False, scatter_kws={\"s\": 30}, hue=\"cluster_id\")\n",
    "plt.title(\"여가생활지수와 접근성지수\")\n",
    "plt.grid()"
   ]
  },
  {
   "cell_type": "markdown",
   "metadata": {},
   "source": [
    "> - 군집 확인 결과 군집의 쏠림 현상이 확인됨.\n",
    "> - 두 지수 모두 비교적 긍정적으로 분포한 `1`, `2`번 군집이 가장 적합하다고 판단해 두 군집을 분석 자료로 선정"
   ]
  },
  {
   "cell_type": "markdown",
   "metadata": {},
   "source": [
    "### 수동 voting을 위한 xlsx 파일 생성"
   ]
  },
  {
   "cell_type": "code",
   "execution_count": 131,
   "metadata": {},
   "outputs": [
    {
     "data": {
      "text/plain": [
       "5"
      ]
     },
     "execution_count": 131,
     "metadata": {},
     "output_type": "execute_result"
    }
   ],
   "source": [
    "# len(origin7[origin7['cluster_id']==1])\n",
    "len(origin7[origin7['cluster_id']==2])"
   ]
  },
  {
   "cell_type": "code",
   "execution_count": 132,
   "metadata": {},
   "outputs": [
    {
     "data": {
      "text/html": [
       "<div>\n",
       "<style scoped>\n",
       "    .dataframe tbody tr th:only-of-type {\n",
       "        vertical-align: middle;\n",
       "    }\n",
       "\n",
       "    .dataframe tbody tr th {\n",
       "        vertical-align: top;\n",
       "    }\n",
       "\n",
       "    .dataframe thead th {\n",
       "        text-align: right;\n",
       "    }\n",
       "</style>\n",
       "<table border=\"1\" class=\"dataframe\">\n",
       "  <thead>\n",
       "    <tr style=\"text-align: right;\">\n",
       "      <th></th>\n",
       "      <th>읍면동명</th>\n",
       "      <th>여가생활지수minmax</th>\n",
       "      <th>사회적약자_지원_인프라_밀집도minmax</th>\n",
       "      <th>접근성지수minmax</th>\n",
       "      <th>환경자족성지수minmax</th>\n",
       "      <th>cluster_id</th>\n",
       "    </tr>\n",
       "  </thead>\n",
       "  <tbody>\n",
       "    <tr>\n",
       "      <th>8</th>\n",
       "      <td>종로1.2.3.4가동</td>\n",
       "      <td>0.069040</td>\n",
       "      <td>0.206536</td>\n",
       "      <td>0.831703</td>\n",
       "      <td>0.063833</td>\n",
       "      <td>2</td>\n",
       "    </tr>\n",
       "    <tr>\n",
       "      <th>17</th>\n",
       "      <td>소공동</td>\n",
       "      <td>0.085553</td>\n",
       "      <td>0.331262</td>\n",
       "      <td>0.811509</td>\n",
       "      <td>0.009355</td>\n",
       "      <td>2</td>\n",
       "    </tr>\n",
       "    <tr>\n",
       "      <th>18</th>\n",
       "      <td>회현동</td>\n",
       "      <td>0.294433</td>\n",
       "      <td>0.155671</td>\n",
       "      <td>0.722658</td>\n",
       "      <td>0.000000</td>\n",
       "      <td>2</td>\n",
       "    </tr>\n",
       "    <tr>\n",
       "      <th>19</th>\n",
       "      <td>명동</td>\n",
       "      <td>0.158472</td>\n",
       "      <td>0.445774</td>\n",
       "      <td>1.000000</td>\n",
       "      <td>0.003588</td>\n",
       "      <td>2</td>\n",
       "    </tr>\n",
       "    <tr>\n",
       "      <th>22</th>\n",
       "      <td>광희동</td>\n",
       "      <td>0.467260</td>\n",
       "      <td>0.051345</td>\n",
       "      <td>0.358815</td>\n",
       "      <td>0.001183</td>\n",
       "      <td>1</td>\n",
       "    </tr>\n",
       "  </tbody>\n",
       "</table>\n",
       "</div>"
      ],
      "text/plain": [
       "           읍면동명  여가생활지수minmax  사회적약자_지원_인프라_밀집도minmax  접근성지수minmax  \\\n",
       "8   종로1.2.3.4가동      0.069040                0.206536     0.831703   \n",
       "17          소공동      0.085553                0.331262     0.811509   \n",
       "18          회현동      0.294433                0.155671     0.722658   \n",
       "19           명동      0.158472                0.445774     1.000000   \n",
       "22          광희동      0.467260                0.051345     0.358815   \n",
       "\n",
       "    환경자족성지수minmax  cluster_id  \n",
       "8        0.063833           2  \n",
       "17       0.009355           2  \n",
       "18       0.000000           2  \n",
       "19       0.003588           2  \n",
       "22       0.001183           1  "
      ]
     },
     "execution_count": 132,
     "metadata": {},
     "output_type": "execute_result"
    }
   ],
   "source": [
    "origin7_final=origin7[(origin7['cluster_id']==1)|(origin7['cluster_id']==2)]\n",
    "origin7_final.head()"
   ]
  },
  {
   "cell_type": "code",
   "execution_count": 133,
   "metadata": {},
   "outputs": [],
   "source": [
    "origin7_final.to_excel('./교집합결과/여가생활,접근성지수voting1.xlsx')"
   ]
  },
  {
   "cell_type": "markdown",
   "metadata": {},
   "source": [
    "### #6. `사회적약자_지원_인프라_밀집도 - 접근성지수`"
   ]
  },
  {
   "cell_type": "code",
   "execution_count": 55,
   "metadata": {},
   "outputs": [
    {
     "data": {
      "text/html": [
       "<div>\n",
       "<style scoped>\n",
       "    .dataframe tbody tr th:only-of-type {\n",
       "        vertical-align: middle;\n",
       "    }\n",
       "\n",
       "    .dataframe tbody tr th {\n",
       "        vertical-align: top;\n",
       "    }\n",
       "\n",
       "    .dataframe thead th {\n",
       "        text-align: right;\n",
       "    }\n",
       "</style>\n",
       "<table border=\"1\" class=\"dataframe\">\n",
       "  <thead>\n",
       "    <tr style=\"text-align: right;\">\n",
       "      <th></th>\n",
       "      <th>읍면동명</th>\n",
       "      <th>여가생활지수minmax</th>\n",
       "      <th>사회적약자_지원_인프라_밀집도minmax</th>\n",
       "      <th>접근성지수minmax</th>\n",
       "      <th>환경자족성지수minmax</th>\n",
       "    </tr>\n",
       "  </thead>\n",
       "  <tbody>\n",
       "    <tr>\n",
       "      <th>0</th>\n",
       "      <td>청운효자동</td>\n",
       "      <td>0.002648</td>\n",
       "      <td>0.068435</td>\n",
       "      <td>0.114798</td>\n",
       "      <td>0.212495</td>\n",
       "    </tr>\n",
       "    <tr>\n",
       "      <th>1</th>\n",
       "      <td>사직동</td>\n",
       "      <td>0.006464</td>\n",
       "      <td>0.041923</td>\n",
       "      <td>0.333275</td>\n",
       "      <td>0.038269</td>\n",
       "    </tr>\n",
       "    <tr>\n",
       "      <th>2</th>\n",
       "      <td>삼청동</td>\n",
       "      <td>0.005332</td>\n",
       "      <td>0.090426</td>\n",
       "      <td>0.342620</td>\n",
       "      <td>0.602143</td>\n",
       "    </tr>\n",
       "    <tr>\n",
       "      <th>3</th>\n",
       "      <td>부암동</td>\n",
       "      <td>0.001699</td>\n",
       "      <td>0.067935</td>\n",
       "      <td>0.157400</td>\n",
       "      <td>0.602143</td>\n",
       "    </tr>\n",
       "    <tr>\n",
       "      <th>4</th>\n",
       "      <td>평창동</td>\n",
       "      <td>0.000529</td>\n",
       "      <td>0.073234</td>\n",
       "      <td>0.135935</td>\n",
       "      <td>0.602861</td>\n",
       "    </tr>\n",
       "  </tbody>\n",
       "</table>\n",
       "</div>"
      ],
      "text/plain": [
       "    읍면동명  여가생활지수minmax  사회적약자_지원_인프라_밀집도minmax  접근성지수minmax  환경자족성지수minmax\n",
       "0  청운효자동      0.002648                0.068435     0.114798       0.212495\n",
       "1    사직동      0.006464                0.041923     0.333275       0.038269\n",
       "2    삼청동      0.005332                0.090426     0.342620       0.602143\n",
       "3    부암동      0.001699                0.067935     0.157400       0.602143\n",
       "4    평창동      0.000529                0.073234     0.135935       0.602861"
      ]
     },
     "execution_count": 55,
     "metadata": {},
     "output_type": "execute_result"
    }
   ],
   "source": [
    "origin2.head()"
   ]
  },
  {
   "cell_type": "code",
   "execution_count": 56,
   "metadata": {},
   "outputs": [
    {
     "data": {
      "text/plain": [
       "array([[0.06843491, 0.11479751],\n",
       "       [0.04192329, 0.33327467],\n",
       "       [0.09042634, 0.34262014],\n",
       "       [0.06793525, 0.15739974],\n",
       "       [0.0732343 , 0.13593454]])"
      ]
     },
     "execution_count": 56,
     "metadata": {},
     "output_type": "execute_result"
    }
   ],
   "source": [
    "origin8=origin2.copy()\n",
    "ZZ = origin8.iloc[:,[2,-2]].values #x값으로 사회적약자지수,접근성지수 지정\n",
    "ZZ[:5]"
   ]
  },
  {
   "cell_type": "markdown",
   "metadata": {},
   "source": [
    "#### 엘보우 메소드로 최적의 k값 예상"
   ]
  },
  {
   "cell_type": "code",
   "execution_count": 57,
   "metadata": {},
   "outputs": [
    {
     "data": {
      "text/plain": [
       "<Axes: >"
      ]
     },
     "execution_count": 57,
     "metadata": {},
     "output_type": "execute_result"
    },
    {
     "data": {
      "image/png": "[encoded data removed]",
      "text/plain": [
       "<Figure size 800x500 with 1 Axes>"
      ]
     },
     "metadata": {},
     "output_type": "display_data"
    }
   ],
   "source": [
    "inertia = []\n",
    "\n",
    "for k in range(1,11):\n",
    "    kmeans = KMeans(n_clusters=k,n_init=10,max_iter=100).fit(ZZ)\n",
    "    value = kmeans.inertia_\n",
    "    inertia.append(value)\n",
    "\n",
    "DataFrame(inertia).plot()"
   ]
  },
  {
   "cell_type": "markdown",
   "metadata": {},
   "source": [
    "> 엘보우 그래프 확인 결과 4개 즈음에 완만하게 떨어지는것으로 보여지나 확실하지 않아 실루엣 그래프로 재확인"
   ]
  },
  {
   "cell_type": "markdown",
   "metadata": {},
   "source": [
    "#### 실루엣 스코어로 최적의 k값 예상"
   ]
  },
  {
   "cell_type": "code",
   "execution_count": 58,
   "metadata": {},
   "outputs": [],
   "source": [
    "origin8_8=origin8.drop('읍면동명',axis=1)"
   ]
  },
  {
   "cell_type": "code",
   "execution_count": 59,
   "metadata": {},
   "outputs": [
    {
     "name": "stdout",
     "output_type": "stream",
     "text": [
      "실루엣 점수: 0.649\n"
     ]
    },
    {
     "data": {
      "image/png": "[encoded data removed]",
      "text/plain": [
       "<Figure size 1000x500 with 1 Axes>"
      ]
     },
     "metadata": {},
     "output_type": "display_data"
    }
   ],
   "source": [
    "kmeans=KMeans(n_clusters=4,n_init=10,max_iter=100)\n",
    "kmeans.fit(origin8_8)\n",
    "y_pred=kmeans.predict(origin8_8)\n",
    "score=silhouette_score(origin8_8,y_pred)\n",
    "\n",
    "print(\"실루엣 점수: {0:.3f}\".format(score))\n",
    "\n",
    "score_list5=[]\n",
    "\n",
    "for k in range(2,11):\n",
    "    kmeans=KMeans(n_clusters=k,n_init=10,max_iter=100)\n",
    "    kmeans.fit(origin8_8)\n",
    "    y_pred=kmeans.predict(origin8_8)\n",
    "    score=silhouette_score(origin8_8,y_pred)\n",
    "    score_list5.append(score)\n",
    "\n",
    "score_list5\n",
    "\n",
    "plt.figure(figsize=(10,5))\n",
    "sb.lineplot(x=range(2,11),y=score_list5,marker='o')\n",
    "plt.title('silhouette score graph')\n",
    "plt.xlabel('number of cluster')\n",
    "plt.ylabel('sil')\n",
    "plt.grid()\n",
    "plt.show()\n",
    "plt.close()"
   ]
  },
  {
   "cell_type": "markdown",
   "metadata": {},
   "source": [
    "> 실루엣 스코어 확인 결과 군집을 3개로 설정했을 때 가장 높은 점수가 나와 3으로 결정 <br/> 추가 분석 결과 군집을 3개로 설정한 경우 각 군집별로 필요 이상의 지역 변수가 포함됨을 확인해 군집 수를 지역 변수가 이상적으로 나누어지는 5로 결정."
   ]
  },
  {
   "cell_type": "code",
   "execution_count": 136,
   "metadata": {},
   "outputs": [
    {
     "data": {
      "text/html": [
       "<div>\n",
       "<style scoped>\n",
       "    .dataframe tbody tr th:only-of-type {\n",
       "        vertical-align: middle;\n",
       "    }\n",
       "\n",
       "    .dataframe tbody tr th {\n",
       "        vertical-align: top;\n",
       "    }\n",
       "\n",
       "    .dataframe thead th {\n",
       "        text-align: right;\n",
       "    }\n",
       "</style>\n",
       "<table border=\"1\" class=\"dataframe\">\n",
       "  <thead>\n",
       "    <tr style=\"text-align: right;\">\n",
       "      <th></th>\n",
       "      <th>읍면동명</th>\n",
       "      <th>여가생활지수minmax</th>\n",
       "      <th>사회적약자_지원_인프라_밀집도minmax</th>\n",
       "      <th>접근성지수minmax</th>\n",
       "      <th>환경자족성지수minmax</th>\n",
       "      <th>cluster_id</th>\n",
       "    </tr>\n",
       "  </thead>\n",
       "  <tbody>\n",
       "    <tr>\n",
       "      <th>0</th>\n",
       "      <td>청운효자동</td>\n",
       "      <td>0.002648</td>\n",
       "      <td>0.068435</td>\n",
       "      <td>0.114798</td>\n",
       "      <td>0.212495</td>\n",
       "      <td>0</td>\n",
       "    </tr>\n",
       "    <tr>\n",
       "      <th>1</th>\n",
       "      <td>사직동</td>\n",
       "      <td>0.006464</td>\n",
       "      <td>0.041923</td>\n",
       "      <td>0.333275</td>\n",
       "      <td>0.038269</td>\n",
       "      <td>5</td>\n",
       "    </tr>\n",
       "    <tr>\n",
       "      <th>2</th>\n",
       "      <td>삼청동</td>\n",
       "      <td>0.005332</td>\n",
       "      <td>0.090426</td>\n",
       "      <td>0.342620</td>\n",
       "      <td>0.602143</td>\n",
       "      <td>5</td>\n",
       "    </tr>\n",
       "    <tr>\n",
       "      <th>3</th>\n",
       "      <td>부암동</td>\n",
       "      <td>0.001699</td>\n",
       "      <td>0.067935</td>\n",
       "      <td>0.157400</td>\n",
       "      <td>0.602143</td>\n",
       "      <td>3</td>\n",
       "    </tr>\n",
       "    <tr>\n",
       "      <th>4</th>\n",
       "      <td>평창동</td>\n",
       "      <td>0.000529</td>\n",
       "      <td>0.073234</td>\n",
       "      <td>0.135935</td>\n",
       "      <td>0.602861</td>\n",
       "      <td>3</td>\n",
       "    </tr>\n",
       "  </tbody>\n",
       "</table>\n",
       "</div>"
      ],
      "text/plain": [
       "    읍면동명  여가생활지수minmax  사회적약자_지원_인프라_밀집도minmax  접근성지수minmax  환경자족성지수minmax  \\\n",
       "0  청운효자동      0.002648                0.068435     0.114798       0.212495   \n",
       "1    사직동      0.006464                0.041923     0.333275       0.038269   \n",
       "2    삼청동      0.005332                0.090426     0.342620       0.602143   \n",
       "3    부암동      0.001699                0.067935     0.157400       0.602143   \n",
       "4    평창동      0.000529                0.073234     0.135935       0.602861   \n",
       "\n",
       "   cluster_id  \n",
       "0           0  \n",
       "1           5  \n",
       "2           5  \n",
       "3           3  \n",
       "4           3  "
      ]
     },
     "execution_count": 136,
     "metadata": {},
     "output_type": "execute_result"
    }
   ],
   "source": [
    "kmeans = KMeans(n_clusters=6,n_init=10,max_iter=100).fit(ZZ)\n",
    "origin8['cluster_id'] = kmeans.labels_\n",
    "origin8.head()"
   ]
  },
  {
   "cell_type": "code",
   "execution_count": 137,
   "metadata": {},
   "outputs": [
    {
     "name": "stderr",
     "output_type": "stream",
     "text": [
      "c:\\Users\\jehyu\\AppData\\Local\\Programs\\Python\\Python39\\lib\\site-packages\\seaborn\\axisgrid.py:118: UserWarning: The figure layout has changed to tight\n",
      "  self._figure.tight_layout(*args, **kwargs)\n"
     ]
    },
    {
     "data": {
      "image/png": "[encoded data removed]",
      "text/plain": [
       "<Figure size 583.958x500 with 1 Axes>"
      ]
     },
     "metadata": {},
     "output_type": "display_data"
    }
   ],
   "source": [
    "sb.lmplot(x='사회적약자_지원_인프라_밀집도minmax', y='접근성지수minmax', data=origin8, \n",
    "          fit_reg=False, scatter_kws={\"s\": 30}, hue=\"cluster_id\")\n",
    "plt.title(\"사회적약자지수와 접근성지수\")\n",
    "plt.grid()"
   ]
  },
  {
   "cell_type": "markdown",
   "metadata": {},
   "source": [
    ">군집 `1`, `2`, `5`를 분석에 사용"
   ]
  },
  {
   "cell_type": "markdown",
   "metadata": {},
   "source": [
    "### 수동 voting을 위한 xlsx 파일 생성"
   ]
  },
  {
   "cell_type": "code",
   "execution_count": 141,
   "metadata": {},
   "outputs": [
    {
     "data": {
      "text/html": [
       "<div>\n",
       "<style scoped>\n",
       "    .dataframe tbody tr th:only-of-type {\n",
       "        vertical-align: middle;\n",
       "    }\n",
       "\n",
       "    .dataframe tbody tr th {\n",
       "        vertical-align: top;\n",
       "    }\n",
       "\n",
       "    .dataframe thead th {\n",
       "        text-align: right;\n",
       "    }\n",
       "</style>\n",
       "<table border=\"1\" class=\"dataframe\">\n",
       "  <thead>\n",
       "    <tr style=\"text-align: right;\">\n",
       "      <th></th>\n",
       "      <th>읍면동명</th>\n",
       "      <th>여가생활지수minmax</th>\n",
       "      <th>사회적약자_지원_인프라_밀집도minmax</th>\n",
       "      <th>접근성지수minmax</th>\n",
       "      <th>환경자족성지수minmax</th>\n",
       "      <th>cluster_id</th>\n",
       "    </tr>\n",
       "  </thead>\n",
       "  <tbody>\n",
       "    <tr>\n",
       "      <th>8</th>\n",
       "      <td>종로1.2.3.4가동</td>\n",
       "      <td>0.069040</td>\n",
       "      <td>0.206536</td>\n",
       "      <td>0.831703</td>\n",
       "      <td>0.063833</td>\n",
       "      <td>1</td>\n",
       "    </tr>\n",
       "    <tr>\n",
       "      <th>17</th>\n",
       "      <td>소공동</td>\n",
       "      <td>0.085553</td>\n",
       "      <td>0.331262</td>\n",
       "      <td>0.811509</td>\n",
       "      <td>0.009355</td>\n",
       "      <td>1</td>\n",
       "    </tr>\n",
       "    <tr>\n",
       "      <th>18</th>\n",
       "      <td>회현동</td>\n",
       "      <td>0.294433</td>\n",
       "      <td>0.155671</td>\n",
       "      <td>0.722658</td>\n",
       "      <td>0.000000</td>\n",
       "      <td>1</td>\n",
       "    </tr>\n",
       "    <tr>\n",
       "      <th>19</th>\n",
       "      <td>명동</td>\n",
       "      <td>0.158472</td>\n",
       "      <td>0.445774</td>\n",
       "      <td>1.000000</td>\n",
       "      <td>0.003588</td>\n",
       "      <td>1</td>\n",
       "    </tr>\n",
       "    <tr>\n",
       "      <th>23</th>\n",
       "      <td>을지로동</td>\n",
       "      <td>0.161512</td>\n",
       "      <td>0.193060</td>\n",
       "      <td>0.715484</td>\n",
       "      <td>0.007869</td>\n",
       "      <td>1</td>\n",
       "    </tr>\n",
       "  </tbody>\n",
       "</table>\n",
       "</div>"
      ],
      "text/plain": [
       "           읍면동명  여가생활지수minmax  사회적약자_지원_인프라_밀집도minmax  접근성지수minmax  \\\n",
       "8   종로1.2.3.4가동      0.069040                0.206536     0.831703   \n",
       "17          소공동      0.085553                0.331262     0.811509   \n",
       "18          회현동      0.294433                0.155671     0.722658   \n",
       "19           명동      0.158472                0.445774     1.000000   \n",
       "23         을지로동      0.161512                0.193060     0.715484   \n",
       "\n",
       "    환경자족성지수minmax  cluster_id  \n",
       "8        0.063833           1  \n",
       "17       0.009355           1  \n",
       "18       0.000000           1  \n",
       "19       0.003588           1  \n",
       "23       0.007869           1  "
      ]
     },
     "execution_count": 141,
     "metadata": {},
     "output_type": "execute_result"
    }
   ],
   "source": [
    "origin8[origin8['cluster_id']==1]\n",
    "# origin8[origin8['cluster_id']==2]\n",
    "# origin8[origin8['cluster_id']==5]"
   ]
  },
  {
   "cell_type": "code",
   "execution_count": 142,
   "metadata": {},
   "outputs": [
    {
     "data": {
      "text/html": [
       "<div>\n",
       "<style scoped>\n",
       "    .dataframe tbody tr th:only-of-type {\n",
       "        vertical-align: middle;\n",
       "    }\n",
       "\n",
       "    .dataframe tbody tr th {\n",
       "        vertical-align: top;\n",
       "    }\n",
       "\n",
       "    .dataframe thead th {\n",
       "        text-align: right;\n",
       "    }\n",
       "</style>\n",
       "<table border=\"1\" class=\"dataframe\">\n",
       "  <thead>\n",
       "    <tr style=\"text-align: right;\">\n",
       "      <th></th>\n",
       "      <th>읍면동명</th>\n",
       "      <th>여가생활지수minmax</th>\n",
       "      <th>사회적약자_지원_인프라_밀집도minmax</th>\n",
       "      <th>접근성지수minmax</th>\n",
       "      <th>환경자족성지수minmax</th>\n",
       "      <th>cluster_id</th>\n",
       "    </tr>\n",
       "  </thead>\n",
       "  <tbody>\n",
       "    <tr>\n",
       "      <th>1</th>\n",
       "      <td>사직동</td>\n",
       "      <td>0.006464</td>\n",
       "      <td>0.041923</td>\n",
       "      <td>0.333275</td>\n",
       "      <td>0.038269</td>\n",
       "      <td>5</td>\n",
       "    </tr>\n",
       "    <tr>\n",
       "      <th>2</th>\n",
       "      <td>삼청동</td>\n",
       "      <td>0.005332</td>\n",
       "      <td>0.090426</td>\n",
       "      <td>0.342620</td>\n",
       "      <td>0.602143</td>\n",
       "      <td>5</td>\n",
       "    </tr>\n",
       "    <tr>\n",
       "      <th>7</th>\n",
       "      <td>가회동</td>\n",
       "      <td>0.003559</td>\n",
       "      <td>0.078064</td>\n",
       "      <td>0.266902</td>\n",
       "      <td>0.003047</td>\n",
       "      <td>5</td>\n",
       "    </tr>\n",
       "    <tr>\n",
       "      <th>8</th>\n",
       "      <td>종로1.2.3.4가동</td>\n",
       "      <td>0.069040</td>\n",
       "      <td>0.206536</td>\n",
       "      <td>0.831703</td>\n",
       "      <td>0.063833</td>\n",
       "      <td>1</td>\n",
       "    </tr>\n",
       "    <tr>\n",
       "      <th>9</th>\n",
       "      <td>종로5.6가동</td>\n",
       "      <td>0.162506</td>\n",
       "      <td>0.180645</td>\n",
       "      <td>0.395959</td>\n",
       "      <td>0.000617</td>\n",
       "      <td>5</td>\n",
       "    </tr>\n",
       "  </tbody>\n",
       "</table>\n",
       "</div>"
      ],
      "text/plain": [
       "          읍면동명  여가생활지수minmax  사회적약자_지원_인프라_밀집도minmax  접근성지수minmax  \\\n",
       "1          사직동      0.006464                0.041923     0.333275   \n",
       "2          삼청동      0.005332                0.090426     0.342620   \n",
       "7          가회동      0.003559                0.078064     0.266902   \n",
       "8  종로1.2.3.4가동      0.069040                0.206536     0.831703   \n",
       "9      종로5.6가동      0.162506                0.180645     0.395959   \n",
       "\n",
       "   환경자족성지수minmax  cluster_id  \n",
       "1       0.038269           5  \n",
       "2       0.602143           5  \n",
       "7       0.003047           5  \n",
       "8       0.063833           1  \n",
       "9       0.000617           5  "
      ]
     },
     "execution_count": 142,
     "metadata": {},
     "output_type": "execute_result"
    }
   ],
   "source": [
    "origin8_final=origin8[(origin8['cluster_id']==1)|(origin8['cluster_id']==2)|(origin8['cluster_id']==1)|(origin8['cluster_id']==5)]\n",
    "origin8_final.head()"
   ]
  },
  {
   "cell_type": "code",
   "execution_count": 143,
   "metadata": {},
   "outputs": [],
   "source": [
    "origin8_final.to_excel('./교집합결과/사회적약자,접근성지수voting1.xlsx')"
   ]
  }
 ],
 "metadata": {
  "kernelspec": {
   "display_name": "Python 3",
   "language": "python",
   "name": "python3"
  },
  "language_info": {
   "codemirror_mode": {
    "name": "ipython",
    "version": 3
   },
   "file_extension": ".py",
   "mimetype": "text/x-python",
   "name": "python",
   "nbconvert_exporter": "python",
   "pygments_lexer": "ipython3",
   "version": "3.9.13"
  }
 },
 "nbformat": 4,
 "nbformat_minor": 2
}
