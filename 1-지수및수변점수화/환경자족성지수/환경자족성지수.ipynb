{
 "cells": [
  {
   "cell_type": "code",
   "execution_count": null,
   "metadata": {},
   "outputs": [],
   "source": [
    "from pandas import DataFrame,read_csv,read_excel,merge,melt,pivot_table\n",
    "import numpy\n",
    "import numpy as np\n",
    "from matplotlib import pyplot as plt\n",
    "import seaborn as sb\n",
    "import sys\n",
    "from sklearn.preprocessing import MinMaxScaler,StandardScaler\n",
    "from sklearn.cluster import KMeans\n",
    "from sklearn.metrics import silhouette_score\n",
    "from factor_analyzer.factor_analyzer import calculate_kmo"
   ]
  },
  {
   "cell_type": "markdown",
   "metadata": {},
   "source": [
    "## 데이터 준비"
   ]
  },
  {
   "cell_type": "code",
   "execution_count": null,
   "metadata": {},
   "outputs": [],
   "source": [
    "origin=read_excel('행정동병합테스트22.xlsx')\n",
    "origin.head()"
   ]
  },
  {
   "cell_type": "code",
   "execution_count": null,
   "metadata": {},
   "outputs": [],
   "source": [
    "origin.columns"
   ]
  },
  {
   "cell_type": "markdown",
   "metadata": {},
   "source": [
    "## 결측치는 0으로 처리\n",
    "\n",
    "> 실제 조사된 값이므로 없다면 관측되지 아니함으로 판단"
   ]
  },
  {
   "cell_type": "code",
   "execution_count": null,
   "metadata": {},
   "outputs": [],
   "source": [
    "origin.isna().sum()\n",
    "origin1=origin.fillna(0)"
   ]
  },
  {
   "cell_type": "code",
   "execution_count": null,
   "metadata": {},
   "outputs": [],
   "source": [
    "origin1.columns"
   ]
  },
  {
   "cell_type": "markdown",
   "metadata": {},
   "source": [
    "## 데이터 스케일링"
   ]
  },
  {
   "cell_type": "code",
   "execution_count": null,
   "metadata": {},
   "outputs": [],
   "source": [
    "scaler=MinMaxScaler()\n",
    "df = origin1.copy()\n",
    "df['수변점수minmax']=scaler.fit_transform(df[['수변점수']])\n",
    "df.head()"
   ]
  },
  {
   "cell_type": "markdown",
   "metadata": {},
   "source": [
    "## 파생변수(`그린지수`) 생성"
   ]
  },
  {
   "cell_type": "code",
   "execution_count": null,
   "metadata": {},
   "outputs": [],
   "source": [
    "df['그린지수'] = df['세대당공원면적minmax'] + df['수변점수minmax']\n",
    "df.head()"
   ]
  },
  {
   "cell_type": "markdown",
   "metadata": {},
   "source": [
    "## 파생 변수의 값 정렬"
   ]
  },
  {
   "cell_type": "code",
   "execution_count": 8,
   "metadata": {},
   "outputs": [
    {
     "data": {
      "text/plain": [
       "그린지수\n",
       "0.000000    8\n",
       "0.000031    1\n",
       "0.000042    1\n",
       "0.000105    1\n",
       "0.000167    2\n",
       "           ..\n",
       "1.272919    1\n",
       "1.451516    1\n",
       "1.577391    1\n",
       "1.660735    1\n",
       "1.885626    1\n",
       "Name: count, Length: 342, dtype: int64"
      ]
     },
     "execution_count": 8,
     "metadata": {},
     "output_type": "execute_result"
    }
   ],
   "source": [
    "df['그린지수'].value_counts().sort_index()"
   ]
  },
  {
   "cell_type": "markdown",
   "metadata": {},
   "source": [
    "## 결측치 확인"
   ]
  },
  {
   "cell_type": "code",
   "execution_count": 9,
   "metadata": {},
   "outputs": [
    {
     "data": {
      "text/plain": [
       "0"
      ]
     },
     "execution_count": 9,
     "metadata": {},
     "output_type": "execute_result"
    }
   ],
   "source": [
    "df['그린지수'].isna().sum()"
   ]
  },
  {
   "cell_type": "code",
   "execution_count": 11,
   "metadata": {},
   "outputs": [],
   "source": [
    "# df['그린지수'].filln(0)\n",
    "# df['그린지수'].isnu().sum()"
   ]
  },
  {
   "cell_type": "code",
   "execution_count": 12,
   "metadata": {},
   "outputs": [
    {
     "data": {
      "text/plain": [
       "array([3.52897513e-01, 6.35539618e-02, 1.00000000e+00, 1.00119183e+00,\n",
       "       2.25820953e-03, 2.43593899e-03, 5.06006210e-03, 1.06010392e-01,\n",
       "       1.02455803e-03, 4.88651452e-02, 2.40143856e-02, 0.00000000e+00,\n",
       "       3.09458343e-03, 1.46365433e-03, 6.16100198e-01, 1.00153684e+00,\n",
       "       1.55356452e-02, 5.95916404e-03, 1.86093193e-03, 1.96547867e-03,\n",
       "       1.30683422e-02, 5.00000000e-01, 3.45004234e-04, 1.44274498e-02,\n",
       "       2.71821518e-04, 4.03209585e-01, 1.42183563e-03, 1.00016727e+00,\n",
       "       9.97375877e-03, 3.03185539e-04, 9.93194007e-04, 1.16046879e-03,\n",
       "       2.59275909e-03, 1.00044955e+00, 4.20696072e-02, 3.00292731e-01,\n",
       "       1.00187139e+00, 1.00129638e+00, 1.00012546e+00, 1.00637735e-01,\n",
       "       1.15001411e-03, 1.02882354e+00, 4.04850969e-01, 1.00131729e+00,\n",
       "       1.00030319e+00, 1.00074228e+00, 6.00700463e-01, 1.00040773e+00,\n",
       "       7.12660610e-01, 2.84367126e-03, 1.00785146e+00, 1.00026137e+00,\n",
       "       1.06665900e+00, 1.00055410e+00, 1.00071092e+00, 1.00308413e+00,\n",
       "       1.00013591e+00, 1.00106638e+00, 7.00000000e-01, 1.00014637e+00,\n",
       "       1.00011500e+00, 3.00240457e-01, 3.00000000e-01, 3.92638864e-01,\n",
       "       1.00203866e+00, 6.00094092e-01, 1.00125456e+00, 1.00028228e+00,\n",
       "       1.00015682e+00, 2.00261367e-01, 2.00115001e-01, 1.00170411e+00,\n",
       "       1.00043910e+00, 8.00000000e-01, 6.35901350e-01, 1.00228957e+00,\n",
       "       1.01335062e+00, 1.00175639e+00, 1.00140093e+00, 1.03463633e+00,\n",
       "       3.00073183e-01, 1.00021955e+00, 1.00049137e+00, 1.57739072e+00,\n",
       "       1.00029273e+00, 2.86583517e-01, 5.00156820e-01, 5.00031364e-01,\n",
       "       1.00042864e+00, 1.00051228e+00, 1.01551474e+00, 3.00439096e-01,\n",
       "       1.00508097e+00, 1.12043784e+00, 1.78356734e-02, 4.99733406e-02,\n",
       "       1.00017773e+00, 1.00151593e+00, 6.37735099e-04, 2.92730865e-04,\n",
       "       3.13640213e-05, 1.58649674e-01, 1.05592205e-03, 1.18358407e-01,\n",
       "       1.08655424e+00, 7.00115001e-01, 7.00271822e-01, 1.00027182e+00,\n",
       "       1.21796949e-02, 3.00460006e-01, 3.34549560e-04, 1.67274780e-04,\n",
       "       5.43643036e-04, 1.18614547e+00, 1.09244023e+00, 5.54097709e-04,\n",
       "       1.00036591e+00, 1.00388914e+00, 5.00135911e-01, 7.67254916e-01,\n",
       "       1.00059592e+00, 1.00173548e+00, 1.88562587e+00, 1.00941966e+00,\n",
       "       1.03697818e+00, 1.00019864e+00, 1.00172502e+00, 9.00470460e-01,\n",
       "       1.00138002e+00, 1.02642942e+00, 1.00223730e+00, 1.00215366e+00,\n",
       "       1.01272334e+00, 1.00222685e+00, 5.04025049e-01, 1.00241503e+00,\n",
       "       4.00543643e-01, 1.00569780e+00, 1.66073538e+00, 5.03915275e-03,\n",
       "       1.45151645e+00, 4.60005646e-04, 1.00005227e+00, 8.43692173e-03,\n",
       "       1.00626235e+00, 4.02268664e-01, 1.00379505e+00, 1.04971197e+00,\n",
       "       1.00868783e+00, 1.01144787e+00, 1.00062728e+00, 1.00705690e+00,\n",
       "       1.00035546e+00, 7.00940921e-01, 1.00025091e+00, 1.01340289e+00,\n",
       "       1.00010455e+00, 1.89637327e-01, 1.47619994e-02, 2.99003670e-03,\n",
       "       4.18186950e-05, 8.01045467e-01, 1.11978965e+00, 1.00262412e+00,\n",
       "       1.00218503e+00, 6.00000000e-01, 1.00236276e+00, 1.17088164e+00,\n",
       "       1.00053319e+00, 1.00331413e+00, 6.48189773e-04, 3.76368255e-04,\n",
       "       1.00038682e+00, 1.00123365e+00, 1.07779323e+00, 2.02132753e-01,\n",
       "       1.00103501e+00, 1.00882374e+00, 1.00100365e+00, 1.00211184e+00,\n",
       "       1.00047046e+00, 1.00024046e+00, 1.01182424e+00, 1.00983785e+00,\n",
       "       1.20643799e+00, 1.00237321e+00, 1.02086753e+00, 2.00282276e-01,\n",
       "       3.86822929e-04, 1.00539461e+00, 5.12279014e-04, 3.65913582e-04,\n",
       "       2.83635299e-02, 7.63191185e-04, 1.77729454e-03, 5.12660610e-01,\n",
       "       4.39096298e-03, 1.00031364e+00, 8.98106659e-01, 6.27280426e-04,\n",
       "       1.01312062e+00, 1.00769464e+00, 4.00334550e-01, 3.01651838e-01,\n",
       "       1.75638519e-03, 6.16825752e-04, 5.33188362e-04, 6.43276077e-02,\n",
       "       6.97326740e-03, 1.04546738e-03, 1.07161452e+00, 1.00730782e+00,\n",
       "       2.93462692e-02, 2.40980230e-02, 4.19232418e-03, 2.66594181e-03,\n",
       "       1.00104547e+00, 1.06010392e+00, 1.00089910e+00, 1.00085728e+00,\n",
       "       1.00004182e+00, 4.24150296e-01, 1.04895924e+00, 1.10204807e+00,\n",
       "       1.01308925e+00, 1.00090956e+00, 1.00000000e-01, 1.00227912e+00,\n",
       "       6.00679554e-01, 4.02707761e-01, 4.89278732e-03, 1.00052273e+00,\n",
       "       1.00226866e+00, 9.01526382e-01, 1.00134865e+00, 1.00684781e+00,\n",
       "       1.01974888e+00, 6.01097741e-01, 1.00245685e+00, 1.01309971e+00,\n",
       "       1.00595916e+00, 1.00023000e+00, 1.00534234e+00, 8.01212742e-01,\n",
       "       1.00126502e+00, 1.00912693e+00, 1.00064819e+00, 1.00057501e+00,\n",
       "       1.00002091e+00, 1.02838444e+00, 1.77729454e-04, 1.18288361e+00,\n",
       "       1.13370482e-01, 3.00470460e-01, 4.00460006e-01, 1.02565577e+00,\n",
       "       1.00066910e+00, 1.04764195e+00, 1.00009409e+00, 4.00000000e-01,\n",
       "       1.00427596e+00, 1.00108729e+00, 1.02970173e+00, 9.00345004e-01,\n",
       "       1.00995285e+00, 3.00156820e-01, 1.00082592e+00, 1.00033455e+00,\n",
       "       6.07004631e-01, 5.00982739e-01, 6.06371078e-04, 1.00189230e+00,\n",
       "       1.00291685e+00, 2.00470460e-01, 1.00618917e+00, 1.00171457e+00,\n",
       "       4.01202287e-01, 7.41445463e-02, 2.92208132e-02, 7.31827163e-04,\n",
       "       1.27291926e+00, 4.08255010e-02, 7.40358177e-01, 1.00410869e+00,\n",
       "       1.02310483e-01, 7.21372490e-04, 7.03868229e-01, 1.00680599e+00,\n",
       "       1.05825344e+00, 1.04546738e-04, 1.00831147e+00, 2.47775768e-03,\n",
       "       6.69099121e-04, 6.34500423e-01, 1.02367984e+00, 1.01772067e+00,\n",
       "       1.00399369e+00, 1.03136402e+00, 7.63812192e-01, 1.00195502e+00,\n",
       "       1.00191321e+00, 1.00381596e+00, 1.00069001e+00, 1.01214833e+00,\n",
       "       8.02509122e-01, 1.00661781e+00, 1.02519576e+00, 7.05812799e-01,\n",
       "       8.01139559e-01, 1.25397539e+00, 1.02275982e+00, 1.57865574e-03,\n",
       "       2.90639931e-03, 1.00322004e+00, 1.01133287e+00, 1.05195973e-01,\n",
       "       1.00221639e+00, 5.52388370e-01, 2.03502316e-01, 1.00889693e+00,\n",
       "       5.07391454e-01, 1.02808125e+00, 1.00099319e+00, 1.00214321e+00,\n",
       "       1.00288549e+00, 1.05420748e+00, 1.01983252e+00, 1.01949797e+00,\n",
       "       4.52687374e-03, 4.00700463e-01, 1.00493461e+00, 1.03725000e+00,\n",
       "       6.00575007e-01, 1.00046001e+00, 3.55458908e-04, 1.00208048e+00,\n",
       "       1.00198639e-01, 1.00163093e+00, 4.00188184e-01, 9.00365914e-01,\n",
       "       4.29687092e-03, 6.15884831e-02])"
      ]
     },
     "execution_count": 12,
     "metadata": {},
     "output_type": "execute_result"
    }
   ],
   "source": [
    "df['그린지수'].unique()"
   ]
  },
  {
   "cell_type": "code",
   "execution_count": 13,
   "metadata": {},
   "outputs": [
    {
     "data": {
      "text/plain": [
       "Index(['시도명', '시군구코드', '시군구명', '행정동코드', '행정동코드_수정', '읍면동명', '생성일자', '말소일자',\n",
       "       '지하철역_수', '의료기관_수', '사회복지시설_수', '계_명', '면적', '구성비', '행정동별_공원수',\n",
       "       '공공체육시설_수', '문화시설_수', '학교_수', '사업체_수', '개소', '면수', '하천및한강여부', '아동인구',\n",
       "       '노인인구', '장애인_인구', '세대당공원면적', '보육시설수', '세대당공원면적minmax', '수변점수',\n",
       "       '행정동별버스정류장수', '수변점수minmax', '그린지수'],\n",
       "      dtype='object')"
      ]
     },
     "execution_count": 13,
     "metadata": {},
     "output_type": "execute_result"
    }
   ],
   "source": [
    "df.columns"
   ]
  },
  {
   "cell_type": "markdown",
   "metadata": {},
   "source": [
    "## 지수 파일 생성에 사용될 컬럼 추출"
   ]
  },
  {
   "cell_type": "code",
   "execution_count": 14,
   "metadata": {},
   "outputs": [
    {
     "data": {
      "text/html": [
       "<div>\n",
       "<style scoped>\n",
       "    .dataframe tbody tr th:only-of-type {\n",
       "        vertical-align: middle;\n",
       "    }\n",
       "\n",
       "    .dataframe tbody tr th {\n",
       "        vertical-align: top;\n",
       "    }\n",
       "\n",
       "    .dataframe thead th {\n",
       "        text-align: right;\n",
       "    }\n",
       "</style>\n",
       "<table border=\"1\" class=\"dataframe\">\n",
       "  <thead>\n",
       "    <tr style=\"text-align: right;\">\n",
       "      <th></th>\n",
       "      <th>시군구코드</th>\n",
       "      <th>시군구명</th>\n",
       "      <th>행정동코드</th>\n",
       "      <th>읍면동명</th>\n",
       "      <th>수변점수</th>\n",
       "      <th>수변점수minmax</th>\n",
       "      <th>세대당공원면적minmax</th>\n",
       "      <th>그린지수</th>\n",
       "    </tr>\n",
       "  </thead>\n",
       "  <tbody>\n",
       "    <tr>\n",
       "      <th>0</th>\n",
       "      <td>11110</td>\n",
       "      <td>종로구</td>\n",
       "      <td>1111051500</td>\n",
       "      <td>청운효자동</td>\n",
       "      <td>0</td>\n",
       "      <td>0.0</td>\n",
       "      <td>0.352898</td>\n",
       "      <td>0.352898</td>\n",
       "    </tr>\n",
       "    <tr>\n",
       "      <th>1</th>\n",
       "      <td>11110</td>\n",
       "      <td>종로구</td>\n",
       "      <td>1111053000</td>\n",
       "      <td>사직동</td>\n",
       "      <td>0</td>\n",
       "      <td>0.0</td>\n",
       "      <td>0.063554</td>\n",
       "      <td>0.063554</td>\n",
       "    </tr>\n",
       "    <tr>\n",
       "      <th>2</th>\n",
       "      <td>11110</td>\n",
       "      <td>종로구</td>\n",
       "      <td>1111054000</td>\n",
       "      <td>삼청동</td>\n",
       "      <td>0</td>\n",
       "      <td>0.0</td>\n",
       "      <td>1.000000</td>\n",
       "      <td>1.000000</td>\n",
       "    </tr>\n",
       "    <tr>\n",
       "      <th>3</th>\n",
       "      <td>11110</td>\n",
       "      <td>종로구</td>\n",
       "      <td>1111055000</td>\n",
       "      <td>부암동</td>\n",
       "      <td>10</td>\n",
       "      <td>1.0</td>\n",
       "      <td>0.000000</td>\n",
       "      <td>1.000000</td>\n",
       "    </tr>\n",
       "    <tr>\n",
       "      <th>4</th>\n",
       "      <td>11110</td>\n",
       "      <td>종로구</td>\n",
       "      <td>1111056000</td>\n",
       "      <td>평창동</td>\n",
       "      <td>10</td>\n",
       "      <td>1.0</td>\n",
       "      <td>0.001192</td>\n",
       "      <td>1.001192</td>\n",
       "    </tr>\n",
       "  </tbody>\n",
       "</table>\n",
       "</div>"
      ],
      "text/plain": [
       "   시군구코드 시군구명       행정동코드   읍면동명  수변점수  수변점수minmax  세대당공원면적minmax      그린지수\n",
       "0  11110  종로구  1111051500  청운효자동     0         0.0       0.352898  0.352898\n",
       "1  11110  종로구  1111053000    사직동     0         0.0       0.063554  0.063554\n",
       "2  11110  종로구  1111054000    삼청동     0         0.0       1.000000  1.000000\n",
       "3  11110  종로구  1111055000    부암동    10         1.0       0.000000  1.000000\n",
       "4  11110  종로구  1111056000    평창동    10         1.0       0.001192  1.001192"
      ]
     },
     "execution_count": 14,
     "metadata": {},
     "output_type": "execute_result"
    }
   ],
   "source": [
    "df1=df.filter(['시군구코드','시군구명','행정동코드','행정동코드수정','읍면동명','수변점수','수변점수minmax', '세대당공원면적minmax', '그린지수'])\n",
    "df1.head()"
   ]
  },
  {
   "cell_type": "markdown",
   "metadata": {},
   "source": [
    "## 지수 파일 생성"
   ]
  },
  {
   "cell_type": "code",
   "execution_count": 15,
   "metadata": {},
   "outputs": [],
   "source": [
    "df1.to_excel('환경자족성지수1.xlsx', index=False)"
   ]
  },
  {
   "cell_type": "code",
   "execution_count": 16,
   "metadata": {},
   "outputs": [
    {
     "data": {
      "text/html": [
       "<div>\n",
       "<style scoped>\n",
       "    .dataframe tbody tr th:only-of-type {\n",
       "        vertical-align: middle;\n",
       "    }\n",
       "\n",
       "    .dataframe tbody tr th {\n",
       "        vertical-align: top;\n",
       "    }\n",
       "\n",
       "    .dataframe thead th {\n",
       "        text-align: right;\n",
       "    }\n",
       "</style>\n",
       "<table border=\"1\" class=\"dataframe\">\n",
       "  <thead>\n",
       "    <tr style=\"text-align: right;\">\n",
       "      <th></th>\n",
       "      <th>시군구코드</th>\n",
       "      <th>시군구명</th>\n",
       "      <th>행정동코드</th>\n",
       "      <th>읍면동명</th>\n",
       "      <th>수변점수</th>\n",
       "      <th>수변점수minmax</th>\n",
       "      <th>세대당공원면적minmax</th>\n",
       "      <th>그린지수</th>\n",
       "    </tr>\n",
       "  </thead>\n",
       "  <tbody>\n",
       "    <tr>\n",
       "      <th>0</th>\n",
       "      <td>11110</td>\n",
       "      <td>종로구</td>\n",
       "      <td>1111051500</td>\n",
       "      <td>청운효자동</td>\n",
       "      <td>0</td>\n",
       "      <td>0.0</td>\n",
       "      <td>0.352898</td>\n",
       "      <td>0.352898</td>\n",
       "    </tr>\n",
       "    <tr>\n",
       "      <th>1</th>\n",
       "      <td>11110</td>\n",
       "      <td>종로구</td>\n",
       "      <td>1111053000</td>\n",
       "      <td>사직동</td>\n",
       "      <td>0</td>\n",
       "      <td>0.0</td>\n",
       "      <td>0.063554</td>\n",
       "      <td>0.063554</td>\n",
       "    </tr>\n",
       "    <tr>\n",
       "      <th>2</th>\n",
       "      <td>11110</td>\n",
       "      <td>종로구</td>\n",
       "      <td>1111054000</td>\n",
       "      <td>삼청동</td>\n",
       "      <td>0</td>\n",
       "      <td>0.0</td>\n",
       "      <td>1.000000</td>\n",
       "      <td>1.000000</td>\n",
       "    </tr>\n",
       "    <tr>\n",
       "      <th>3</th>\n",
       "      <td>11110</td>\n",
       "      <td>종로구</td>\n",
       "      <td>1111055000</td>\n",
       "      <td>부암동</td>\n",
       "      <td>10</td>\n",
       "      <td>1.0</td>\n",
       "      <td>0.000000</td>\n",
       "      <td>1.000000</td>\n",
       "    </tr>\n",
       "    <tr>\n",
       "      <th>4</th>\n",
       "      <td>11110</td>\n",
       "      <td>종로구</td>\n",
       "      <td>1111056000</td>\n",
       "      <td>평창동</td>\n",
       "      <td>10</td>\n",
       "      <td>1.0</td>\n",
       "      <td>0.001192</td>\n",
       "      <td>1.001192</td>\n",
       "    </tr>\n",
       "  </tbody>\n",
       "</table>\n",
       "</div>"
      ],
      "text/plain": [
       "   시군구코드 시군구명       행정동코드   읍면동명  수변점수  수변점수minmax  세대당공원면적minmax      그린지수\n",
       "0  11110  종로구  1111051500  청운효자동     0         0.0       0.352898  0.352898\n",
       "1  11110  종로구  1111053000    사직동     0         0.0       0.063554  0.063554\n",
       "2  11110  종로구  1111054000    삼청동     0         0.0       1.000000  1.000000\n",
       "3  11110  종로구  1111055000    부암동    10         1.0       0.000000  1.000000\n",
       "4  11110  종로구  1111056000    평창동    10         1.0       0.001192  1.001192"
      ]
     },
     "execution_count": 16,
     "metadata": {},
     "output_type": "execute_result"
    }
   ],
   "source": [
    "df2=read_excel('환경자족성지수1.xlsx')\n",
    "df2.head()"
   ]
  },
  {
   "cell_type": "markdown",
   "metadata": {},
   "source": [
    "## 이상치 `inf`, `-inf` 처리"
   ]
  },
  {
   "cell_type": "code",
   "execution_count": 17,
   "metadata": {},
   "outputs": [],
   "source": [
    "# DataFrame(df2)에서 '그린지수' 열을 선택\n",
    "accessibility_series = df2['그린지수']\n",
    "\n",
    "# 'inf'와 '-inf'를 0으로 대체\n",
    "accessibility_series = accessibility_series.replace([np.inf, -np.inf], 0)\n",
    "\n",
    "# 변경된 '그린지수' 열을 DataFrame에 할당\n",
    "df2['그린지수'] = accessibility_series"
   ]
  },
  {
   "cell_type": "code",
   "execution_count": 18,
   "metadata": {},
   "outputs": [],
   "source": [
    "df2.to_excel(\"환경자족성지수1.xlsx\", index=False)"
   ]
  },
  {
   "cell_type": "code",
   "execution_count": 19,
   "metadata": {},
   "outputs": [
    {
     "data": {
      "text/html": [
       "<div>\n",
       "<style scoped>\n",
       "    .dataframe tbody tr th:only-of-type {\n",
       "        vertical-align: middle;\n",
       "    }\n",
       "\n",
       "    .dataframe tbody tr th {\n",
       "        vertical-align: top;\n",
       "    }\n",
       "\n",
       "    .dataframe thead th {\n",
       "        text-align: right;\n",
       "    }\n",
       "</style>\n",
       "<table border=\"1\" class=\"dataframe\">\n",
       "  <thead>\n",
       "    <tr style=\"text-align: right;\">\n",
       "      <th></th>\n",
       "      <th>시군구코드</th>\n",
       "      <th>시군구명</th>\n",
       "      <th>행정동코드</th>\n",
       "      <th>읍면동명</th>\n",
       "      <th>수변점수</th>\n",
       "      <th>수변점수minmax</th>\n",
       "      <th>세대당공원면적minmax</th>\n",
       "      <th>그린지수</th>\n",
       "    </tr>\n",
       "  </thead>\n",
       "  <tbody>\n",
       "    <tr>\n",
       "      <th>0</th>\n",
       "      <td>11110</td>\n",
       "      <td>종로구</td>\n",
       "      <td>1111051500</td>\n",
       "      <td>청운효자동</td>\n",
       "      <td>0</td>\n",
       "      <td>0.0</td>\n",
       "      <td>0.352898</td>\n",
       "      <td>0.352898</td>\n",
       "    </tr>\n",
       "    <tr>\n",
       "      <th>1</th>\n",
       "      <td>11110</td>\n",
       "      <td>종로구</td>\n",
       "      <td>1111053000</td>\n",
       "      <td>사직동</td>\n",
       "      <td>0</td>\n",
       "      <td>0.0</td>\n",
       "      <td>0.063554</td>\n",
       "      <td>0.063554</td>\n",
       "    </tr>\n",
       "    <tr>\n",
       "      <th>2</th>\n",
       "      <td>11110</td>\n",
       "      <td>종로구</td>\n",
       "      <td>1111054000</td>\n",
       "      <td>삼청동</td>\n",
       "      <td>0</td>\n",
       "      <td>0.0</td>\n",
       "      <td>1.000000</td>\n",
       "      <td>1.000000</td>\n",
       "    </tr>\n",
       "    <tr>\n",
       "      <th>3</th>\n",
       "      <td>11110</td>\n",
       "      <td>종로구</td>\n",
       "      <td>1111055000</td>\n",
       "      <td>부암동</td>\n",
       "      <td>10</td>\n",
       "      <td>1.0</td>\n",
       "      <td>0.000000</td>\n",
       "      <td>1.000000</td>\n",
       "    </tr>\n",
       "    <tr>\n",
       "      <th>4</th>\n",
       "      <td>11110</td>\n",
       "      <td>종로구</td>\n",
       "      <td>1111056000</td>\n",
       "      <td>평창동</td>\n",
       "      <td>10</td>\n",
       "      <td>1.0</td>\n",
       "      <td>0.001192</td>\n",
       "      <td>1.001192</td>\n",
       "    </tr>\n",
       "  </tbody>\n",
       "</table>\n",
       "</div>"
      ],
      "text/plain": [
       "   시군구코드 시군구명       행정동코드   읍면동명  수변점수  수변점수minmax  세대당공원면적minmax      그린지수\n",
       "0  11110  종로구  1111051500  청운효자동     0         0.0       0.352898  0.352898\n",
       "1  11110  종로구  1111053000    사직동     0         0.0       0.063554  0.063554\n",
       "2  11110  종로구  1111054000    삼청동     0         0.0       1.000000  1.000000\n",
       "3  11110  종로구  1111055000    부암동    10         1.0       0.000000  1.000000\n",
       "4  11110  종로구  1111056000    평창동    10         1.0       0.001192  1.001192"
      ]
     },
     "execution_count": 19,
     "metadata": {},
     "output_type": "execute_result"
    }
   ],
   "source": [
    "df2 = read_excel(\"환경자족성지수1.xlsx\")\n",
    "df2.head()"
   ]
  },
  {
   "cell_type": "markdown",
   "metadata": {},
   "source": [
    "## 지수 정규화"
   ]
  },
  {
   "cell_type": "code",
   "execution_count": 20,
   "metadata": {},
   "outputs": [
    {
     "data": {
      "text/html": [
       "<div>\n",
       "<style scoped>\n",
       "    .dataframe tbody tr th:only-of-type {\n",
       "        vertical-align: middle;\n",
       "    }\n",
       "\n",
       "    .dataframe tbody tr th {\n",
       "        vertical-align: top;\n",
       "    }\n",
       "\n",
       "    .dataframe thead th {\n",
       "        text-align: right;\n",
       "    }\n",
       "</style>\n",
       "<table border=\"1\" class=\"dataframe\">\n",
       "  <thead>\n",
       "    <tr style=\"text-align: right;\">\n",
       "      <th></th>\n",
       "      <th>시군구코드</th>\n",
       "      <th>시군구명</th>\n",
       "      <th>행정동코드</th>\n",
       "      <th>읍면동명</th>\n",
       "      <th>수변점수</th>\n",
       "      <th>수변점수minmax</th>\n",
       "      <th>세대당공원면적minmax</th>\n",
       "      <th>그린지수</th>\n",
       "      <th>그린지수minmax</th>\n",
       "    </tr>\n",
       "  </thead>\n",
       "  <tbody>\n",
       "    <tr>\n",
       "      <th>0</th>\n",
       "      <td>11110</td>\n",
       "      <td>종로구</td>\n",
       "      <td>1111051500</td>\n",
       "      <td>청운효자동</td>\n",
       "      <td>0</td>\n",
       "      <td>0.0</td>\n",
       "      <td>0.352898</td>\n",
       "      <td>0.352898</td>\n",
       "      <td>0.187151</td>\n",
       "    </tr>\n",
       "    <tr>\n",
       "      <th>1</th>\n",
       "      <td>11110</td>\n",
       "      <td>종로구</td>\n",
       "      <td>1111053000</td>\n",
       "      <td>사직동</td>\n",
       "      <td>0</td>\n",
       "      <td>0.0</td>\n",
       "      <td>0.063554</td>\n",
       "      <td>0.063554</td>\n",
       "      <td>0.033704</td>\n",
       "    </tr>\n",
       "    <tr>\n",
       "      <th>2</th>\n",
       "      <td>11110</td>\n",
       "      <td>종로구</td>\n",
       "      <td>1111054000</td>\n",
       "      <td>삼청동</td>\n",
       "      <td>0</td>\n",
       "      <td>0.0</td>\n",
       "      <td>1.000000</td>\n",
       "      <td>1.000000</td>\n",
       "      <td>0.530328</td>\n",
       "    </tr>\n",
       "    <tr>\n",
       "      <th>3</th>\n",
       "      <td>11110</td>\n",
       "      <td>종로구</td>\n",
       "      <td>1111055000</td>\n",
       "      <td>부암동</td>\n",
       "      <td>10</td>\n",
       "      <td>1.0</td>\n",
       "      <td>0.000000</td>\n",
       "      <td>1.000000</td>\n",
       "      <td>0.530328</td>\n",
       "    </tr>\n",
       "    <tr>\n",
       "      <th>4</th>\n",
       "      <td>11110</td>\n",
       "      <td>종로구</td>\n",
       "      <td>1111056000</td>\n",
       "      <td>평창동</td>\n",
       "      <td>10</td>\n",
       "      <td>1.0</td>\n",
       "      <td>0.001192</td>\n",
       "      <td>1.001192</td>\n",
       "      <td>0.530960</td>\n",
       "    </tr>\n",
       "    <tr>\n",
       "      <th>...</th>\n",
       "      <td>...</td>\n",
       "      <td>...</td>\n",
       "      <td>...</td>\n",
       "      <td>...</td>\n",
       "      <td>...</td>\n",
       "      <td>...</td>\n",
       "      <td>...</td>\n",
       "      <td>...</td>\n",
       "      <td>...</td>\n",
       "    </tr>\n",
       "    <tr>\n",
       "      <th>421</th>\n",
       "      <td>11740</td>\n",
       "      <td>강동구</td>\n",
       "      <td>1174065000</td>\n",
       "      <td>성내제2동</td>\n",
       "      <td>4</td>\n",
       "      <td>0.4</td>\n",
       "      <td>0.000188</td>\n",
       "      <td>0.400188</td>\n",
       "      <td>0.212231</td>\n",
       "    </tr>\n",
       "    <tr>\n",
       "      <th>422</th>\n",
       "      <td>11740</td>\n",
       "      <td>강동구</td>\n",
       "      <td>1174066000</td>\n",
       "      <td>성내제3동</td>\n",
       "      <td>9</td>\n",
       "      <td>0.9</td>\n",
       "      <td>0.000366</td>\n",
       "      <td>0.900366</td>\n",
       "      <td>0.477489</td>\n",
       "    </tr>\n",
       "    <tr>\n",
       "      <th>423</th>\n",
       "      <td>11740</td>\n",
       "      <td>강동구</td>\n",
       "      <td>1174068500</td>\n",
       "      <td>길동</td>\n",
       "      <td>0</td>\n",
       "      <td>0.0</td>\n",
       "      <td>0.004297</td>\n",
       "      <td>0.004297</td>\n",
       "      <td>0.002279</td>\n",
       "    </tr>\n",
       "    <tr>\n",
       "      <th>424</th>\n",
       "      <td>11740</td>\n",
       "      <td>강동구</td>\n",
       "      <td>1174069000</td>\n",
       "      <td>둔촌제1동</td>\n",
       "      <td>7</td>\n",
       "      <td>0.7</td>\n",
       "      <td>0.000000</td>\n",
       "      <td>0.700000</td>\n",
       "      <td>0.371230</td>\n",
       "    </tr>\n",
       "    <tr>\n",
       "      <th>425</th>\n",
       "      <td>11740</td>\n",
       "      <td>강동구</td>\n",
       "      <td>1174070000</td>\n",
       "      <td>둔촌제2동</td>\n",
       "      <td>0</td>\n",
       "      <td>0.0</td>\n",
       "      <td>0.061588</td>\n",
       "      <td>0.061588</td>\n",
       "      <td>0.032662</td>\n",
       "    </tr>\n",
       "  </tbody>\n",
       "</table>\n",
       "<p>426 rows × 9 columns</p>\n",
       "</div>"
      ],
      "text/plain": [
       "     시군구코드 시군구명       행정동코드   읍면동명  수변점수  수변점수minmax  세대당공원면적minmax      그린지수  \\\n",
       "0    11110  종로구  1111051500  청운효자동     0         0.0       0.352898  0.352898   \n",
       "1    11110  종로구  1111053000    사직동     0         0.0       0.063554  0.063554   \n",
       "2    11110  종로구  1111054000    삼청동     0         0.0       1.000000  1.000000   \n",
       "3    11110  종로구  1111055000    부암동    10         1.0       0.000000  1.000000   \n",
       "4    11110  종로구  1111056000    평창동    10         1.0       0.001192  1.001192   \n",
       "..     ...  ...         ...    ...   ...         ...            ...       ...   \n",
       "421  11740  강동구  1174065000  성내제2동     4         0.4       0.000188  0.400188   \n",
       "422  11740  강동구  1174066000  성내제3동     9         0.9       0.000366  0.900366   \n",
       "423  11740  강동구  1174068500     길동     0         0.0       0.004297  0.004297   \n",
       "424  11740  강동구  1174069000  둔촌제1동     7         0.7       0.000000  0.700000   \n",
       "425  11740  강동구  1174070000  둔촌제2동     0         0.0       0.061588  0.061588   \n",
       "\n",
       "     그린지수minmax  \n",
       "0      0.187151  \n",
       "1      0.033704  \n",
       "2      0.530328  \n",
       "3      0.530328  \n",
       "4      0.530960  \n",
       "..          ...  \n",
       "421    0.212231  \n",
       "422    0.477489  \n",
       "423    0.002279  \n",
       "424    0.371230  \n",
       "425    0.032662  \n",
       "\n",
       "[426 rows x 9 columns]"
      ]
     },
     "execution_count": 20,
     "metadata": {},
     "output_type": "execute_result"
    }
   ],
   "source": [
    "df2['그린지수minmax'] = scaler.fit_transform(df2[['그린지수']])\n",
    "df2"
   ]
  },
  {
   "cell_type": "markdown",
   "metadata": {},
   "source": [
    "## 최종 데이터 저장"
   ]
  },
  {
   "cell_type": "code",
   "execution_count": null,
   "metadata": {},
   "outputs": [],
   "source": [
    "df2.to_excel('환경자족성지수1.xlsx',index=False)"
   ]
  },
  {
   "cell_type": "code",
   "execution_count": null,
   "metadata": {},
   "outputs": [],
   "source": []
  }
 ],
 "metadata": {
  "kernelspec": {
   "display_name": "Python 3",
   "language": "python",
   "name": "python3"
  },
  "language_info": {
   "codemirror_mode": {
    "name": "ipython",
    "version": 3
   },
   "file_extension": ".py",
   "mimetype": "text/x-python",
   "name": "python",
   "nbconvert_exporter": "python",
   "pygments_lexer": "ipython3",
   "version": "3.9.13"
  }
 },
 "nbformat": 4,
 "nbformat_minor": 2
}
