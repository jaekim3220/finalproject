{
 "cells": [
  {
   "cell_type": "markdown",
   "metadata": {},
   "source": [
    "# 계층적 군집"
   ]
  },
  {
   "cell_type": "markdown",
   "metadata": {},
   "source": [
    "## #01. 패키지\n",
    "\n",
    "모델 : scipy.cluster.AgglomerativeClustering\n",
    "\n",
    "거리계산 : scipy.cluster.hierarchy.linkage\n",
    "\n",
    "시각화 : scipy.cluster.hierarchy.dendrogram\n",
    "\n",
    "평가 : sklearn.metrics.silhouette_score , silhouette_samples, yellowbrick.cluster.KElbowVisualizer"
   ]
  },
  {
   "cell_type": "code",
   "execution_count": 1,
   "metadata": {},
   "outputs": [],
   "source": [
    "import sys\n",
    "import seaborn as sb\n",
    "import numpy as np\n",
    "from matplotlib import pyplot as plt\n",
    "from scipy.cluster.hierarchy import dendrogram, linkage\n",
    "from pandas import read_excel, DataFrame\n",
    "\n",
    "# sklearn은 AgglomerativeClustering() 함수를 제공\n",
    "from sklearn.cluster import AgglomerativeClustering\n",
    "\n",
    "# 표준화\n",
    "from sklearn.preprocessing import MinMaxScaler"
   ]
  },
  {
   "cell_type": "code",
   "execution_count": 2,
   "metadata": {},
   "outputs": [],
   "source": [
    "plt.rcParams[\"font.family\"] = 'AppleGothic' if sys.platform == 'darwin' else 'Malgun Gothic'\n",
    "plt.rcParams[\"font.size\"] = 12\n",
    "plt.rcParams[\"figure.figsize\"] = (10, 5)\n",
    "plt.rcParams[\"axes.unicode_minus\"] = False"
   ]
  },
  {
   "cell_type": "markdown",
   "metadata": {},
   "source": [
    "## #02. 데이터"
   ]
  },
  {
   "cell_type": "code",
   "execution_count": 6,
   "metadata": {},
   "outputs": [
    {
     "data": {
      "text/html": [
       "<div>\n",
       "<style scoped>\n",
       "    .dataframe tbody tr th:only-of-type {\n",
       "        vertical-align: middle;\n",
       "    }\n",
       "\n",
       "    .dataframe tbody tr th {\n",
       "        vertical-align: top;\n",
       "    }\n",
       "\n",
       "    .dataframe thead th {\n",
       "        text-align: right;\n",
       "    }\n",
       "</style>\n",
       "<table border=\"1\" class=\"dataframe\">\n",
       "  <thead>\n",
       "    <tr style=\"text-align: right;\">\n",
       "      <th></th>\n",
       "      <th>시도명</th>\n",
       "      <th>시군구코드</th>\n",
       "      <th>시군구명</th>\n",
       "      <th>행정동코드</th>\n",
       "      <th>행정동코드_수정</th>\n",
       "      <th>읍면동명</th>\n",
       "      <th>생성일자</th>\n",
       "      <th>말소일자</th>\n",
       "      <th>지하철역_수</th>\n",
       "      <th>의료기관_수</th>\n",
       "      <th>...</th>\n",
       "      <th>장애인_인구</th>\n",
       "      <th>세대당공원면적</th>\n",
       "      <th>보육시설수</th>\n",
       "      <th>세대당공원면적minmax</th>\n",
       "      <th>수변점수</th>\n",
       "      <th>행정동별버스정류장수</th>\n",
       "      <th>문화시민지수minmax</th>\n",
       "      <th>사회적약자지수minmax</th>\n",
       "      <th>접근성지수minmax</th>\n",
       "      <th>그린지수minmax</th>\n",
       "    </tr>\n",
       "  </thead>\n",
       "  <tbody>\n",
       "    <tr>\n",
       "      <th>0</th>\n",
       "      <td>서울특별시</td>\n",
       "      <td>11110</td>\n",
       "      <td>종로구</td>\n",
       "      <td>1111051500</td>\n",
       "      <td>11110515</td>\n",
       "      <td>청운효자동</td>\n",
       "      <td>20081101</td>\n",
       "      <td>0</td>\n",
       "      <td>0</td>\n",
       "      <td>11</td>\n",
       "      <td>...</td>\n",
       "      <td>437</td>\n",
       "      <td>337.55</td>\n",
       "      <td>4</td>\n",
       "      <td>0.352898</td>\n",
       "      <td>0</td>\n",
       "      <td>32</td>\n",
       "      <td>0.066504</td>\n",
       "      <td>0.051957</td>\n",
       "      <td>0.223683</td>\n",
       "      <td>0.187151</td>\n",
       "    </tr>\n",
       "    <tr>\n",
       "      <th>1</th>\n",
       "      <td>서울특별시</td>\n",
       "      <td>11110</td>\n",
       "      <td>종로구</td>\n",
       "      <td>1111053000</td>\n",
       "      <td>11110530</td>\n",
       "      <td>사직동</td>\n",
       "      <td>19880423</td>\n",
       "      <td>0</td>\n",
       "      <td>2</td>\n",
       "      <td>75</td>\n",
       "      <td>...</td>\n",
       "      <td>267</td>\n",
       "      <td>60.79</td>\n",
       "      <td>0</td>\n",
       "      <td>0.063554</td>\n",
       "      <td>0</td>\n",
       "      <td>27</td>\n",
       "      <td>0.162371</td>\n",
       "      <td>0.033809</td>\n",
       "      <td>0.356139</td>\n",
       "      <td>0.033704</td>\n",
       "    </tr>\n",
       "    <tr>\n",
       "      <th>2</th>\n",
       "      <td>서울특별시</td>\n",
       "      <td>11110</td>\n",
       "      <td>종로구</td>\n",
       "      <td>1111054000</td>\n",
       "      <td>11110540</td>\n",
       "      <td>삼청동</td>\n",
       "      <td>19880423</td>\n",
       "      <td>0</td>\n",
       "      <td>0</td>\n",
       "      <td>11</td>\n",
       "      <td>...</td>\n",
       "      <td>110</td>\n",
       "      <td>956.51</td>\n",
       "      <td>3</td>\n",
       "      <td>1.000000</td>\n",
       "      <td>0</td>\n",
       "      <td>16</td>\n",
       "      <td>0.133941</td>\n",
       "      <td>0.063374</td>\n",
       "      <td>0.521907</td>\n",
       "      <td>0.530328</td>\n",
       "    </tr>\n",
       "    <tr>\n",
       "      <th>3</th>\n",
       "      <td>서울특별시</td>\n",
       "      <td>11110</td>\n",
       "      <td>종로구</td>\n",
       "      <td>1111055000</td>\n",
       "      <td>11110550</td>\n",
       "      <td>부암동</td>\n",
       "      <td>19880423</td>\n",
       "      <td>0</td>\n",
       "      <td>0</td>\n",
       "      <td>4</td>\n",
       "      <td>...</td>\n",
       "      <td>311</td>\n",
       "      <td>0.00</td>\n",
       "      <td>3</td>\n",
       "      <td>0.000000</td>\n",
       "      <td>10</td>\n",
       "      <td>34</td>\n",
       "      <td>0.042670</td>\n",
       "      <td>0.051612</td>\n",
       "      <td>0.277563</td>\n",
       "      <td>0.530328</td>\n",
       "    </tr>\n",
       "    <tr>\n",
       "      <th>4</th>\n",
       "      <td>서울특별시</td>\n",
       "      <td>11110</td>\n",
       "      <td>종로구</td>\n",
       "      <td>1111056000</td>\n",
       "      <td>11110560</td>\n",
       "      <td>평창동</td>\n",
       "      <td>19880423</td>\n",
       "      <td>0</td>\n",
       "      <td>0</td>\n",
       "      <td>15</td>\n",
       "      <td>...</td>\n",
       "      <td>491</td>\n",
       "      <td>1.14</td>\n",
       "      <td>3</td>\n",
       "      <td>0.001192</td>\n",
       "      <td>10</td>\n",
       "      <td>54</td>\n",
       "      <td>0.013283</td>\n",
       "      <td>0.057453</td>\n",
       "      <td>0.294623</td>\n",
       "      <td>0.530960</td>\n",
       "    </tr>\n",
       "  </tbody>\n",
       "</table>\n",
       "<p>5 rows × 34 columns</p>\n",
       "</div>"
      ],
      "text/plain": [
       "     시도명  시군구코드 시군구명       행정동코드  행정동코드_수정   읍면동명      생성일자  말소일자  지하철역_수  \\\n",
       "0  서울특별시  11110  종로구  1111051500  11110515  청운효자동  20081101     0       0   \n",
       "1  서울특별시  11110  종로구  1111053000  11110530    사직동  19880423     0       2   \n",
       "2  서울특별시  11110  종로구  1111054000  11110540    삼청동  19880423     0       0   \n",
       "3  서울특별시  11110  종로구  1111055000  11110550    부암동  19880423     0       0   \n",
       "4  서울특별시  11110  종로구  1111056000  11110560    평창동  19880423     0       0   \n",
       "\n",
       "   의료기관_수  ...  장애인_인구  세대당공원면적  보육시설수  세대당공원면적minmax  수변점수  행정동별버스정류장수  \\\n",
       "0      11  ...     437   337.55      4       0.352898     0          32   \n",
       "1      75  ...     267    60.79      0       0.063554     0          27   \n",
       "2      11  ...     110   956.51      3       1.000000     0          16   \n",
       "3       4  ...     311     0.00      3       0.000000    10          34   \n",
       "4      15  ...     491     1.14      3       0.001192    10          54   \n",
       "\n",
       "   문화시민지수minmax  사회적약자지수minmax  접근성지수minmax  그린지수minmax  \n",
       "0      0.066504       0.051957     0.223683    0.187151  \n",
       "1      0.162371       0.033809     0.356139    0.033704  \n",
       "2      0.133941       0.063374     0.521907    0.530328  \n",
       "3      0.042670       0.051612     0.277563    0.530328  \n",
       "4      0.013283       0.057453     0.294623    0.530960  \n",
       "\n",
       "[5 rows x 34 columns]"
      ]
     },
     "execution_count": 6,
     "metadata": {},
     "output_type": "execute_result"
    }
   ],
   "source": [
    "origin = read_excel(\"행정동병합최종.xlsx\")\n",
    "origin.head()"
   ]
  },
  {
   "cell_type": "markdown",
   "metadata": {},
   "source": [
    "## #03. 데이터 전처리"
   ]
  },
  {
   "cell_type": "markdown",
   "metadata": {},
   "source": [
    "### 필요한 데이터만 추출"
   ]
  },
  {
   "cell_type": "code",
   "execution_count": 7,
   "metadata": {},
   "outputs": [
    {
     "data": {
      "text/plain": [
       "Index(['시도명', '시군구코드', '시군구명', '행정동코드', '행정동코드_수정', '읍면동명', '생성일자', '말소일자',\n",
       "       '지하철역_수', '의료기관_수', '사회복지시설_수', '계_명', '면적', '구성비', '행정동별_공원수',\n",
       "       '공공체육시설_수', '문화시설_수', '학교_수', '사업체_수', '개소', '면수', '하천및한강여부', '아동인구',\n",
       "       '노인인구', '장애인_인구', '세대당공원면적', '보육시설수', '세대당공원면적minmax', '수변점수',\n",
       "       '행정동별버스정류장수', '문화시민지수minmax', '사회적약자지수minmax', '접근성지수minmax',\n",
       "       '그린지수minmax'],\n",
       "      dtype='object')"
      ]
     },
     "execution_count": 7,
     "metadata": {},
     "output_type": "execute_result"
    }
   ],
   "source": [
    "origin.columns"
   ]
  },
  {
   "cell_type": "code",
   "execution_count": 8,
   "metadata": {},
   "outputs": [
    {
     "data": {
      "text/html": [
       "<div>\n",
       "<style scoped>\n",
       "    .dataframe tbody tr th:only-of-type {\n",
       "        vertical-align: middle;\n",
       "    }\n",
       "\n",
       "    .dataframe tbody tr th {\n",
       "        vertical-align: top;\n",
       "    }\n",
       "\n",
       "    .dataframe thead th {\n",
       "        text-align: right;\n",
       "    }\n",
       "</style>\n",
       "<table border=\"1\" class=\"dataframe\">\n",
       "  <thead>\n",
       "    <tr style=\"text-align: right;\">\n",
       "      <th></th>\n",
       "      <th>문화시민지수minmax</th>\n",
       "      <th>사회적약자지수minmax</th>\n",
       "      <th>접근성지수minmax</th>\n",
       "      <th>그린지수minmax</th>\n",
       "    </tr>\n",
       "  </thead>\n",
       "  <tbody>\n",
       "    <tr>\n",
       "      <th>0</th>\n",
       "      <td>0.066504</td>\n",
       "      <td>0.051957</td>\n",
       "      <td>0.223683</td>\n",
       "      <td>0.187151</td>\n",
       "    </tr>\n",
       "    <tr>\n",
       "      <th>1</th>\n",
       "      <td>0.162371</td>\n",
       "      <td>0.033809</td>\n",
       "      <td>0.356139</td>\n",
       "      <td>0.033704</td>\n",
       "    </tr>\n",
       "    <tr>\n",
       "      <th>2</th>\n",
       "      <td>0.133941</td>\n",
       "      <td>0.063374</td>\n",
       "      <td>0.521907</td>\n",
       "      <td>0.530328</td>\n",
       "    </tr>\n",
       "    <tr>\n",
       "      <th>3</th>\n",
       "      <td>0.042670</td>\n",
       "      <td>0.051612</td>\n",
       "      <td>0.277563</td>\n",
       "      <td>0.530328</td>\n",
       "    </tr>\n",
       "    <tr>\n",
       "      <th>4</th>\n",
       "      <td>0.013283</td>\n",
       "      <td>0.057453</td>\n",
       "      <td>0.294623</td>\n",
       "      <td>0.530960</td>\n",
       "    </tr>\n",
       "  </tbody>\n",
       "</table>\n",
       "</div>"
      ],
      "text/plain": [
       "   문화시민지수minmax  사회적약자지수minmax  접근성지수minmax  그린지수minmax\n",
       "0      0.066504       0.051957     0.223683    0.187151\n",
       "1      0.162371       0.033809     0.356139    0.033704\n",
       "2      0.133941       0.063374     0.521907    0.530328\n",
       "3      0.042670       0.051612     0.277563    0.530328\n",
       "4      0.013283       0.057453     0.294623    0.530960"
      ]
     },
     "execution_count": 8,
     "metadata": {},
     "output_type": "execute_result"
    }
   ],
   "source": [
    "df = origin.filter(['문화시민지수minmax', '사회적약자지수minmax', '접근성지수minmax', '그린지수minmax'])\n",
    "df.head()"
   ]
  },
  {
   "cell_type": "markdown",
   "metadata": {},
   "source": [
    "> "
   ]
  },
  {
   "cell_type": "code",
   "execution_count": 9,
   "metadata": {},
   "outputs": [
    {
     "data": {
      "text/plain": [
       "문화시민지수minmax     0\n",
       "사회적약자지수minmax    0\n",
       "접근성지수minmax      0\n",
       "그린지수minmax       0\n",
       "dtype: int64"
      ]
     },
     "execution_count": 9,
     "metadata": {},
     "output_type": "execute_result"
    }
   ],
   "source": [
    "df = df.fillna(0)\n",
    "df.isna().sum()"
   ]
  },
  {
   "cell_type": "markdown",
   "metadata": {},
   "source": [
    "#### 분석에 사용될 지수 추출\n",
    "\n",
    "`minmax로 scaling한 변수`"
   ]
  },
  {
   "cell_type": "code",
   "execution_count": 15,
   "metadata": {},
   "outputs": [
    {
     "data": {
      "text/html": [
       "<div>\n",
       "<style scoped>\n",
       "    .dataframe tbody tr th:only-of-type {\n",
       "        vertical-align: middle;\n",
       "    }\n",
       "\n",
       "    .dataframe tbody tr th {\n",
       "        vertical-align: top;\n",
       "    }\n",
       "\n",
       "    .dataframe thead th {\n",
       "        text-align: right;\n",
       "    }\n",
       "</style>\n",
       "<table border=\"1\" class=\"dataframe\">\n",
       "  <thead>\n",
       "    <tr style=\"text-align: right;\">\n",
       "      <th></th>\n",
       "      <th>문화시민지수minmax</th>\n",
       "      <th>사회적약자지수minmax</th>\n",
       "      <th>접근성지수minmax</th>\n",
       "      <th>그린지수minmax</th>\n",
       "    </tr>\n",
       "  </thead>\n",
       "  <tbody>\n",
       "    <tr>\n",
       "      <th>0</th>\n",
       "      <td>0.066504</td>\n",
       "      <td>0.051957</td>\n",
       "      <td>0.223683</td>\n",
       "      <td>0.187151</td>\n",
       "    </tr>\n",
       "    <tr>\n",
       "      <th>1</th>\n",
       "      <td>0.162371</td>\n",
       "      <td>0.033809</td>\n",
       "      <td>0.356139</td>\n",
       "      <td>0.033704</td>\n",
       "    </tr>\n",
       "    <tr>\n",
       "      <th>2</th>\n",
       "      <td>0.133941</td>\n",
       "      <td>0.063374</td>\n",
       "      <td>0.521907</td>\n",
       "      <td>0.530328</td>\n",
       "    </tr>\n",
       "    <tr>\n",
       "      <th>3</th>\n",
       "      <td>0.042670</td>\n",
       "      <td>0.051612</td>\n",
       "      <td>0.277563</td>\n",
       "      <td>0.530328</td>\n",
       "    </tr>\n",
       "    <tr>\n",
       "      <th>4</th>\n",
       "      <td>0.013283</td>\n",
       "      <td>0.057453</td>\n",
       "      <td>0.294623</td>\n",
       "      <td>0.530960</td>\n",
       "    </tr>\n",
       "  </tbody>\n",
       "</table>\n",
       "</div>"
      ],
      "text/plain": [
       "   문화시민지수minmax  사회적약자지수minmax  접근성지수minmax  그린지수minmax\n",
       "0      0.066504       0.051957     0.223683    0.187151\n",
       "1      0.162371       0.033809     0.356139    0.033704\n",
       "2      0.133941       0.063374     0.521907    0.530328\n",
       "3      0.042670       0.051612     0.277563    0.530328\n",
       "4      0.013283       0.057453     0.294623    0.530960"
      ]
     },
     "execution_count": 15,
     "metadata": {},
     "output_type": "execute_result"
    }
   ],
   "source": [
    "# X = df.filter(['문화시민지수minmax', '사회적약자지수minmax', '접근성지수minmax', '그린지수minmax'])\n",
    "X = df.copy()\n",
    "X.head()"
   ]
  },
  {
   "cell_type": "markdown",
   "metadata": {},
   "source": [
    "#### 지수의 결측치 확인 및 처리"
   ]
  },
  {
   "cell_type": "code",
   "execution_count": 11,
   "metadata": {},
   "outputs": [],
   "source": [
    "# X.isna().sum()"
   ]
  },
  {
   "cell_type": "code",
   "execution_count": 12,
   "metadata": {},
   "outputs": [],
   "source": [
    "# X = X.fillna(0)\n",
    "# X.isna().sum()"
   ]
  },
  {
   "cell_type": "markdown",
   "metadata": {},
   "source": [
    "#### 이상치(`int`) 유무 확인"
   ]
  },
  {
   "cell_type": "code",
   "execution_count": 17,
   "metadata": {},
   "outputs": [],
   "source": [
    "# is_inf = X.isin([np.inf, -np.inf])\n",
    "\n",
    "# # 각 column별로 -inf 또는 inf 값을 포함하고 있는 행 수를 확인\n",
    "# inf_count = is_inf.sum()\n",
    "\n",
    "# # 결과 출력\n",
    "# inf_count"
   ]
  },
  {
   "cell_type": "code",
   "execution_count": 14,
   "metadata": {},
   "outputs": [],
   "source": [
    "# X.columns"
   ]
  },
  {
   "cell_type": "markdown",
   "metadata": {},
   "source": [
    "### 분석용 데이터 스케일링"
   ]
  },
  {
   "cell_type": "code",
   "execution_count": 18,
   "metadata": {},
   "outputs": [
    {
     "data": {
      "text/plain": [
       "array([[0.06650434, 0.05195741, 0.22368253, 0.1871514 ],\n",
       "       [0.1623708 , 0.03380891, 0.35613871, 0.03370444],\n",
       "       [0.13394139, 0.06337387, 0.52190722, 0.5303279 ],\n",
       "       [0.04267049, 0.05161193, 0.27756308, 0.5303279 ],\n",
       "       [0.01328252, 0.05745262, 0.29462252, 0.53095996]])"
      ]
     },
     "execution_count": 18,
     "metadata": {},
     "output_type": "execute_result"
    }
   ],
   "source": [
    "scaler = MinMaxScaler()\n",
    "n_data = scaler.fit_transform(X)\n",
    "n_data[:5]"
   ]
  },
  {
   "cell_type": "code",
   "execution_count": 19,
   "metadata": {},
   "outputs": [
    {
     "data": {
      "text/html": [
       "<div>\n",
       "<style scoped>\n",
       "    .dataframe tbody tr th:only-of-type {\n",
       "        vertical-align: middle;\n",
       "    }\n",
       "\n",
       "    .dataframe tbody tr th {\n",
       "        vertical-align: top;\n",
       "    }\n",
       "\n",
       "    .dataframe thead th {\n",
       "        text-align: right;\n",
       "    }\n",
       "</style>\n",
       "<table border=\"1\" class=\"dataframe\">\n",
       "  <thead>\n",
       "    <tr style=\"text-align: right;\">\n",
       "      <th></th>\n",
       "      <th>문화시민지수minmax</th>\n",
       "      <th>사회적약자지수minmax</th>\n",
       "      <th>접근성지수minmax</th>\n",
       "      <th>그린지수minmax</th>\n",
       "    </tr>\n",
       "  </thead>\n",
       "  <tbody>\n",
       "    <tr>\n",
       "      <th>0</th>\n",
       "      <td>0.066504</td>\n",
       "      <td>0.051957</td>\n",
       "      <td>0.223683</td>\n",
       "      <td>0.187151</td>\n",
       "    </tr>\n",
       "    <tr>\n",
       "      <th>1</th>\n",
       "      <td>0.162371</td>\n",
       "      <td>0.033809</td>\n",
       "      <td>0.356139</td>\n",
       "      <td>0.033704</td>\n",
       "    </tr>\n",
       "    <tr>\n",
       "      <th>2</th>\n",
       "      <td>0.133941</td>\n",
       "      <td>0.063374</td>\n",
       "      <td>0.521907</td>\n",
       "      <td>0.530328</td>\n",
       "    </tr>\n",
       "    <tr>\n",
       "      <th>3</th>\n",
       "      <td>0.042670</td>\n",
       "      <td>0.051612</td>\n",
       "      <td>0.277563</td>\n",
       "      <td>0.530328</td>\n",
       "    </tr>\n",
       "    <tr>\n",
       "      <th>4</th>\n",
       "      <td>0.013283</td>\n",
       "      <td>0.057453</td>\n",
       "      <td>0.294623</td>\n",
       "      <td>0.530960</td>\n",
       "    </tr>\n",
       "  </tbody>\n",
       "</table>\n",
       "</div>"
      ],
      "text/plain": [
       "   문화시민지수minmax  사회적약자지수minmax  접근성지수minmax  그린지수minmax\n",
       "0      0.066504       0.051957     0.223683    0.187151\n",
       "1      0.162371       0.033809     0.356139    0.033704\n",
       "2      0.133941       0.063374     0.521907    0.530328\n",
       "3      0.042670       0.051612     0.277563    0.530328\n",
       "4      0.013283       0.057453     0.294623    0.530960"
      ]
     },
     "execution_count": 19,
     "metadata": {},
     "output_type": "execute_result"
    }
   ],
   "source": [
    "ndf = DataFrame(n_data, columns=X.columns)\n",
    "ndf.head()"
   ]
  },
  {
   "cell_type": "markdown",
   "metadata": {},
   "source": [
    "> 전원 수치 데이터임으로 별도의 라벨링이 필요 없다고 판단."
   ]
  },
  {
   "cell_type": "markdown",
   "metadata": {},
   "source": [
    "## #04. 계층 군집 수행"
   ]
  },
  {
   "cell_type": "markdown",
   "metadata": {},
   "source": [
    "### 1. scipy 패키지 사용\n",
    "\n",
    "scipy는 모델 생성/시각화 과정이 반자동이지만 sklearn은 수동으로 설정(공식으로 판단할 것)\n",
    "\n",
    "linkage : 거리 측정 방법 지정<br/>\n",
    "기본 값 : `ward`<br/>\n",
    "그 외 값 : ‘ward’, ‘complete’, ‘average’, ‘single’"
   ]
  },
  {
   "cell_type": "code",
   "execution_count": 21,
   "metadata": {},
   "outputs": [
    {
     "data": {
      "image/png": "[encoded data removed]",
      "text/plain": [
       "<Figure size 1200x500 with 1 Axes>"
      ]
     },
     "metadata": {},
     "output_type": "display_data"
    }
   ],
   "source": [
    "lnk = linkage(ndf, method=\"ward\")\n",
    "plt.figure(figsize=(12,5))\n",
    "dendrogram(lnk, show_leaf_counts=True)\n",
    "plt.title(\"scipy 패키지 사용 결과 값\")\n",
    "plt.show()\n",
    "plt.close()"
   ]
  },
  {
   "cell_type": "markdown",
   "metadata": {},
   "source": [
    "### 2. sklearn 패키지 사용\n",
    "\n",
    "n_clusters : 찾아야 할 클러스터 수(earlystopping과 유사)\n",
    "\n",
    "affinity : 클러스터 간 거리 측정 방법(euclidean, cityblock, manhattan, cosine)\n",
    "\n",
    "linkage : ward(기본값), complete, average, single\n",
    "\n",
    "compute_distances : 노드간의 거리 계산값을 저장할지 여부(시각화를 위해서는 True를 필수 적용)\n",
    "\n",
    "`n_clusters`은 K-Means에서 엘보우 그래프로 확인된 `4`를 사용."
   ]
  },
  {
   "cell_type": "code",
   "execution_count": 28,
   "metadata": {},
   "outputs": [
    {
     "data": {
      "image/png": "[encoded data removed]",
      "text/plain": [
       "<Figure size 1500x700 with 1 Axes>"
      ]
     },
     "metadata": {},
     "output_type": "display_data"
    }
   ],
   "source": [
    "# 모델 객체 생성\n",
    "ac = AgglomerativeClustering(n_clusters=4,  # 찾아야 할 클러스터 수(earlystopping과 유사)\n",
    "                             metric='euclidean',  # 클러스터 간 거리 측정 방법\n",
    "                             linkage='ward',    # 거리측정 방법\n",
    "                             compute_distances=True #시각화를 위하 반드시 필요\n",
    "                             )\n",
    "# clustering = ac.fit(n_data) #학습\n",
    "\n",
    "clustering = ac.fit(ndf) #학습\n",
    "# print(clustering.labels_)   #학습결과 확인\n",
    "\n",
    "# scipy는 아래의 과정을 자동으로 수행, sklearn은 수동으로 설정(공식으로 판단할 것)\n",
    "counts = np.zeros(clustering.children_.shape[0])    #zeros 모든 원소가 0인 요소\n",
    "n_samples = len(clustering.labels_)\n",
    "\n",
    "# 자식 노드를 반복하면서 점을 찍어준다(자식이 몇개 있는지 확인하는 과정)\n",
    "for i, merge in enumerate(clustering.children_):\n",
    "    current_count = 0\n",
    "    for child_idx in merge:\n",
    "        if child_idx < n_samples:\n",
    "            current_count += 1  # leaf node\n",
    "        else:\n",
    "            current_count += counts[child_idx - n_samples]\n",
    "    counts[i] = current_count\n",
    "\n",
    "# 자식 노드의 수를 저장하는 배열\n",
    "linkage_matrix = np.column_stack(\n",
    "    [clustering.children_, clustering.distances_, counts]\n",
    ").astype(float)\n",
    "\n",
    "# plt를 설정하지 않으면 쓸데 없는 값도 함께 추출됨\n",
    "# dendrogram(linkage_matrix)\n",
    "\n",
    "plt.figure(figsize=(15,7))\n",
    "dendrogram(linkage_matrix)\n",
    "plt.title(\"sklearn 패키지 사용 결과 값\")\n",
    "plt.show()\n",
    "plt.close()"
   ]
  },
  {
   "cell_type": "markdown",
   "metadata": {},
   "source": [
    "### sklearn, scipy의 차이를 설명"
   ]
  },
  {
   "cell_type": "markdown",
   "metadata": {},
   "source": [
    "### 군집수를 4로 설정한 분류 결과값"
   ]
  },
  {
   "cell_type": "code",
   "execution_count": 23,
   "metadata": {},
   "outputs": [
    {
     "data": {
      "text/plain": [
       "array([3, 0, 1, 1, 1, 0, 0, 2, 2, 2, 0, 0, 0, 0, 0, 3, 1, 2, 2, 2, 2, 0,\n",
       "       2, 2, 3, 0, 0, 0, 3, 0, 1, 0, 0, 0, 2, 0, 0, 1, 0, 3, 1, 1, 1, 0,\n",
       "       0, 1, 1, 1, 3, 1, 1, 1, 1, 3, 1, 3, 0, 1, 1, 1, 1, 1, 1, 1, 1, 3,\n",
       "       1, 1, 3, 1, 3, 3, 1, 3, 1, 1, 1, 3, 3, 1, 1, 1, 3, 3, 1, 1, 1, 1,\n",
       "       1, 3, 1, 1, 1, 1, 1, 1, 1, 1, 1, 3, 3, 1, 3, 1, 1, 1, 1, 3, 1, 1,\n",
       "       0, 0, 0, 0, 0, 1, 1, 0, 0, 0, 3, 0, 0, 1, 0, 1, 3, 3, 1, 1, 0, 3,\n",
       "       0, 0, 0, 1, 1, 1, 0, 1, 1, 1, 3, 1, 1, 1, 1, 1, 1, 1, 1, 1, 1, 1,\n",
       "       1, 1, 1, 1, 1, 1, 1, 1, 3, 1, 3, 1, 1, 0, 1, 1, 0, 1, 0, 1, 3, 1,\n",
       "       1, 1, 1, 1, 1, 1, 1, 1, 3, 1, 1, 1, 1, 1, 1, 3, 0, 0, 0, 3, 1, 1,\n",
       "       1, 3, 1, 1, 1, 1, 1, 1, 0, 0, 1, 1, 1, 0, 1, 1, 1, 1, 1, 1, 1, 1,\n",
       "       1, 1, 1, 1, 3, 0, 1, 0, 0, 0, 0, 0, 0, 3, 0, 1, 1, 0, 1, 1, 1, 0,\n",
       "       0, 0, 0, 0, 0, 0, 0, 0, 0, 1, 1, 1, 0, 0, 0, 0, 1, 1, 1, 1, 1, 1,\n",
       "       1, 1, 3, 1, 3, 1, 1, 1, 1, 1, 1, 0, 1, 1, 3, 3, 0, 1, 1, 1, 1, 1,\n",
       "       1, 1, 1, 3, 1, 1, 1, 1, 1, 1, 1, 3, 1, 1, 1, 1, 1, 1, 1, 1, 1, 1,\n",
       "       1, 1, 1, 0, 1, 0, 0, 0, 1, 1, 1, 1, 0, 3, 1, 1, 1, 1, 1, 1, 0, 1,\n",
       "       1, 1, 1, 1, 3, 1, 1, 1, 3, 3, 0, 0, 0, 0, 1, 2, 0, 1, 1, 3, 1, 0,\n",
       "       0, 0, 0, 1, 0, 3, 1, 0, 0, 3, 1, 1, 0, 1, 1, 0, 0, 0, 3, 1, 1, 1,\n",
       "       1, 1, 1, 3, 1, 1, 1, 1, 1, 3, 1, 1, 3, 3, 1, 1, 0, 0, 1, 1, 0, 1,\n",
       "       3, 3, 1, 3, 1, 1, 1, 1, 1, 1, 1, 1, 1, 1, 0, 3, 1, 1, 3, 1, 1, 0,\n",
       "       1, 0, 1, 3, 1, 0, 2, 0], dtype=int64)"
      ]
     },
     "execution_count": 23,
     "metadata": {},
     "output_type": "execute_result"
    }
   ],
   "source": [
    "clustering.labels_"
   ]
  },
  {
   "cell_type": "markdown",
   "metadata": {},
   "source": [
    "### 분류 결과를 DataFrame과 결합\n",
    "\n",
    "> 군집(label)을 포함한 DF 생성. <br/> labels를 hue로 잡고 진행하면 군집의 분류 결과를 알 수 있기 때문."
   ]
  },
  {
   "cell_type": "code",
   "execution_count": 24,
   "metadata": {},
   "outputs": [
    {
     "data": {
      "text/html": [
       "<div>\n",
       "<style scoped>\n",
       "    .dataframe tbody tr th:only-of-type {\n",
       "        vertical-align: middle;\n",
       "    }\n",
       "\n",
       "    .dataframe tbody tr th {\n",
       "        vertical-align: top;\n",
       "    }\n",
       "\n",
       "    .dataframe thead th {\n",
       "        text-align: right;\n",
       "    }\n",
       "</style>\n",
       "<table border=\"1\" class=\"dataframe\">\n",
       "  <thead>\n",
       "    <tr style=\"text-align: right;\">\n",
       "      <th></th>\n",
       "      <th>문화시민지수minmax</th>\n",
       "      <th>사회적약자지수minmax</th>\n",
       "      <th>접근성지수minmax</th>\n",
       "      <th>그린지수minmax</th>\n",
       "      <th>계층군집_결과</th>\n",
       "    </tr>\n",
       "  </thead>\n",
       "  <tbody>\n",
       "    <tr>\n",
       "      <th>0</th>\n",
       "      <td>0.066504</td>\n",
       "      <td>0.051957</td>\n",
       "      <td>0.223683</td>\n",
       "      <td>0.187151</td>\n",
       "      <td>3</td>\n",
       "    </tr>\n",
       "    <tr>\n",
       "      <th>1</th>\n",
       "      <td>0.162371</td>\n",
       "      <td>0.033809</td>\n",
       "      <td>0.356139</td>\n",
       "      <td>0.033704</td>\n",
       "      <td>0</td>\n",
       "    </tr>\n",
       "    <tr>\n",
       "      <th>2</th>\n",
       "      <td>0.133941</td>\n",
       "      <td>0.063374</td>\n",
       "      <td>0.521907</td>\n",
       "      <td>0.530328</td>\n",
       "      <td>1</td>\n",
       "    </tr>\n",
       "    <tr>\n",
       "      <th>3</th>\n",
       "      <td>0.042670</td>\n",
       "      <td>0.051612</td>\n",
       "      <td>0.277563</td>\n",
       "      <td>0.530328</td>\n",
       "      <td>1</td>\n",
       "    </tr>\n",
       "    <tr>\n",
       "      <th>4</th>\n",
       "      <td>0.013283</td>\n",
       "      <td>0.057453</td>\n",
       "      <td>0.294623</td>\n",
       "      <td>0.530960</td>\n",
       "      <td>1</td>\n",
       "    </tr>\n",
       "  </tbody>\n",
       "</table>\n",
       "</div>"
      ],
      "text/plain": [
       "   문화시민지수minmax  사회적약자지수minmax  접근성지수minmax  그린지수minmax  계층군집_결과\n",
       "0      0.066504       0.051957     0.223683    0.187151        3\n",
       "1      0.162371       0.033809     0.356139    0.033704        0\n",
       "2      0.133941       0.063374     0.521907    0.530328        1\n",
       "3      0.042670       0.051612     0.277563    0.530328        1\n",
       "4      0.013283       0.057453     0.294623    0.530960        1"
      ]
     },
     "execution_count": 24,
     "metadata": {},
     "output_type": "execute_result"
    }
   ],
   "source": [
    "df['계층군집_결과'] = clustering.labels_\n",
    "df.head()"
   ]
  },
  {
   "cell_type": "code",
   "execution_count": 25,
   "metadata": {},
   "outputs": [
    {
     "data": {
      "text/plain": [
       "Index(['문화시민지수minmax', '사회적약자지수minmax', '접근성지수minmax', '그린지수minmax'], dtype='object')"
      ]
     },
     "execution_count": 25,
     "metadata": {},
     "output_type": "execute_result"
    }
   ],
   "source": [
    "X.columns"
   ]
  },
  {
   "cell_type": "code",
   "execution_count": 39,
   "metadata": {},
   "outputs": [
    {
     "data": {
      "image/png": "[encoded data removed]",
      "text/plain": [
       "<Figure size 1200x500 with 1 Axes>"
      ]
     },
     "metadata": {},
     "output_type": "display_data"
    }
   ],
   "source": [
    "plt.figure(figsize=(12,5))\n",
    "# #sb.scatterplot(x=n_data[, 0], y=n_data[, 1])\n",
    "sb.scatterplot(data=df, x='세대당공원면적', y='교통약자지수', hue='계층군집_결과')\n",
    "plt.grid()\n",
    "plt.show()\n",
    "plt.close()"
   ]
  },
  {
   "cell_type": "code",
   "execution_count": null,
   "metadata": {},
   "outputs": [],
   "source": []
  }
 ],
 "metadata": {
  "kernelspec": {
   "display_name": "Python 3",
   "language": "python",
   "name": "python3"
  },
  "language_info": {
   "codemirror_mode": {
    "name": "ipython",
    "version": 3
   },
   "file_extension": ".py",
   "mimetype": "text/x-python",
   "name": "python",
   "nbconvert_exporter": "python",
   "pygments_lexer": "ipython3",
   "version": "3.9.13"
  }
 },
 "nbformat": 4,
 "nbformat_minor": 2
}
