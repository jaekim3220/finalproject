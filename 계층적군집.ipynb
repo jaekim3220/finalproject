{
 "cells": [
  {
   "cell_type": "markdown",
   "metadata": {},
   "source": [
    "# 계층적 군집\n",
    "\n",
    "**Hierarchical Clustering**"
   ]
  },
  {
   "cell_type": "markdown",
   "metadata": {},
   "source": [
    "## #01. 패키지\n",
    "\n",
    "모델 : scipy.cluster.AgglomerativeClustering\n",
    "\n",
    "거리계산 : scipy.cluster.hierarchy.linkage\n",
    "\n",
    "시각화 : scipy.cluster.hierarchy.dendrogram\n",
    "\n",
    "평가 : sklearn.metrics.silhouette_score , silhouette_samples, yellowbrick.cluster.KElbowVisualizer"
   ]
  },
  {
   "cell_type": "code",
   "execution_count": 1,
   "metadata": {},
   "outputs": [],
   "source": [
    "import sys\n",
    "import seaborn as sb\n",
    "import numpy as np\n",
    "from matplotlib import pyplot as plt\n",
    "from scipy.cluster.hierarchy import dendrogram, linkage\n",
    "from pandas import read_excel, DataFrame\n",
    "\n",
    "# sklearn은 AgglomerativeClustering() 함수를 제공\n",
    "from sklearn.cluster import AgglomerativeClustering\n",
    "\n",
    "# 표준화\n",
    "from sklearn.preprocessing import MinMaxScaler"
   ]
  },
  {
   "cell_type": "code",
   "execution_count": 3,
   "metadata": {},
   "outputs": [],
   "source": [
    "plt.rcParams[\"font.family\"] = 'AppleGothic' if sys.platform == 'darwin' else 'Malgun Gothic'\n",
    "plt.rcParams[\"font.size\"] = 12\n",
    "plt.rcParams[\"figure.figsize\"] = (10, 5)\n",
    "plt.rcParams[\"axes.unicode_minus\"] = False"
   ]
  },
  {
   "cell_type": "markdown",
   "metadata": {},
   "source": [
    "## #02. 데이터"
   ]
  },
  {
   "cell_type": "code",
   "execution_count": 2,
   "metadata": {},
   "outputs": [
    {
     "data": {
      "text/html": [
       "<div>\n",
       "<style scoped>\n",
       "    .dataframe tbody tr th:only-of-type {\n",
       "        vertical-align: middle;\n",
       "    }\n",
       "\n",
       "    .dataframe tbody tr th {\n",
       "        vertical-align: top;\n",
       "    }\n",
       "\n",
       "    .dataframe thead th {\n",
       "        text-align: right;\n",
       "    }\n",
       "</style>\n",
       "<table border=\"1\" class=\"dataframe\">\n",
       "  <thead>\n",
       "    <tr style=\"text-align: right;\">\n",
       "      <th></th>\n",
       "      <th>시도명</th>\n",
       "      <th>시군구코드</th>\n",
       "      <th>시군구명</th>\n",
       "      <th>행정동코드</th>\n",
       "      <th>행정동코드_수정</th>\n",
       "      <th>읍면동명</th>\n",
       "      <th>생성일자</th>\n",
       "      <th>말소일자</th>\n",
       "      <th>지하철역_수</th>\n",
       "      <th>의료기관_수</th>\n",
       "      <th>...</th>\n",
       "      <th>보육시설수</th>\n",
       "      <th>세대당공원면적minmax</th>\n",
       "      <th>수변점수</th>\n",
       "      <th>행정동별버스정류장수</th>\n",
       "      <th>행정동별유통업체수</th>\n",
       "      <th>공공자전거대여소수</th>\n",
       "      <th>여가생활지수minmax</th>\n",
       "      <th>사회적약자지수minmax</th>\n",
       "      <th>접근성지수minmax</th>\n",
       "      <th>그린지수minmax</th>\n",
       "    </tr>\n",
       "  </thead>\n",
       "  <tbody>\n",
       "    <tr>\n",
       "      <th>0</th>\n",
       "      <td>서울특별시</td>\n",
       "      <td>11110</td>\n",
       "      <td>종로구</td>\n",
       "      <td>1111051500</td>\n",
       "      <td>11110515</td>\n",
       "      <td>청운효자동</td>\n",
       "      <td>20081101</td>\n",
       "      <td>0</td>\n",
       "      <td>0</td>\n",
       "      <td>11</td>\n",
       "      <td>...</td>\n",
       "      <td>4</td>\n",
       "      <td>0.352898</td>\n",
       "      <td>0</td>\n",
       "      <td>32</td>\n",
       "      <td>0</td>\n",
       "      <td>3</td>\n",
       "      <td>0.002648</td>\n",
       "      <td>0.051957</td>\n",
       "      <td>0.176381</td>\n",
       "      <td>0.187151</td>\n",
       "    </tr>\n",
       "    <tr>\n",
       "      <th>1</th>\n",
       "      <td>서울특별시</td>\n",
       "      <td>11110</td>\n",
       "      <td>종로구</td>\n",
       "      <td>1111053000</td>\n",
       "      <td>11110530</td>\n",
       "      <td>사직동</td>\n",
       "      <td>19880423</td>\n",
       "      <td>0</td>\n",
       "      <td>2</td>\n",
       "      <td>75</td>\n",
       "      <td>...</td>\n",
       "      <td>0</td>\n",
       "      <td>0.063554</td>\n",
       "      <td>0</td>\n",
       "      <td>27</td>\n",
       "      <td>0</td>\n",
       "      <td>12</td>\n",
       "      <td>0.006464</td>\n",
       "      <td>0.033809</td>\n",
       "      <td>0.351000</td>\n",
       "      <td>0.033704</td>\n",
       "    </tr>\n",
       "    <tr>\n",
       "      <th>2</th>\n",
       "      <td>서울특별시</td>\n",
       "      <td>11110</td>\n",
       "      <td>종로구</td>\n",
       "      <td>1111054000</td>\n",
       "      <td>11110540</td>\n",
       "      <td>삼청동</td>\n",
       "      <td>19880423</td>\n",
       "      <td>0</td>\n",
       "      <td>0</td>\n",
       "      <td>11</td>\n",
       "      <td>...</td>\n",
       "      <td>3</td>\n",
       "      <td>1.000000</td>\n",
       "      <td>0</td>\n",
       "      <td>16</td>\n",
       "      <td>0</td>\n",
       "      <td>5</td>\n",
       "      <td>0.005332</td>\n",
       "      <td>0.063374</td>\n",
       "      <td>0.506800</td>\n",
       "      <td>0.530328</td>\n",
       "    </tr>\n",
       "    <tr>\n",
       "      <th>3</th>\n",
       "      <td>서울특별시</td>\n",
       "      <td>11110</td>\n",
       "      <td>종로구</td>\n",
       "      <td>1111055000</td>\n",
       "      <td>11110550</td>\n",
       "      <td>부암동</td>\n",
       "      <td>19880423</td>\n",
       "      <td>0</td>\n",
       "      <td>0</td>\n",
       "      <td>4</td>\n",
       "      <td>...</td>\n",
       "      <td>3</td>\n",
       "      <td>0.000000</td>\n",
       "      <td>10</td>\n",
       "      <td>34</td>\n",
       "      <td>0</td>\n",
       "      <td>5</td>\n",
       "      <td>0.001699</td>\n",
       "      <td>0.051612</td>\n",
       "      <td>0.236014</td>\n",
       "      <td>0.530328</td>\n",
       "    </tr>\n",
       "    <tr>\n",
       "      <th>4</th>\n",
       "      <td>서울특별시</td>\n",
       "      <td>11110</td>\n",
       "      <td>종로구</td>\n",
       "      <td>1111056000</td>\n",
       "      <td>11110560</td>\n",
       "      <td>평창동</td>\n",
       "      <td>19880423</td>\n",
       "      <td>0</td>\n",
       "      <td>0</td>\n",
       "      <td>15</td>\n",
       "      <td>...</td>\n",
       "      <td>3</td>\n",
       "      <td>0.001192</td>\n",
       "      <td>10</td>\n",
       "      <td>54</td>\n",
       "      <td>0</td>\n",
       "      <td>5</td>\n",
       "      <td>0.000529</td>\n",
       "      <td>0.057453</td>\n",
       "      <td>0.231581</td>\n",
       "      <td>0.530960</td>\n",
       "    </tr>\n",
       "  </tbody>\n",
       "</table>\n",
       "<p>5 rows × 36 columns</p>\n",
       "</div>"
      ],
      "text/plain": [
       "     시도명  시군구코드 시군구명       행정동코드  행정동코드_수정   읍면동명      생성일자  말소일자  지하철역_수  \\\n",
       "0  서울특별시  11110  종로구  1111051500  11110515  청운효자동  20081101     0       0   \n",
       "1  서울특별시  11110  종로구  1111053000  11110530    사직동  19880423     0       2   \n",
       "2  서울특별시  11110  종로구  1111054000  11110540    삼청동  19880423     0       0   \n",
       "3  서울특별시  11110  종로구  1111055000  11110550    부암동  19880423     0       0   \n",
       "4  서울특별시  11110  종로구  1111056000  11110560    평창동  19880423     0       0   \n",
       "\n",
       "   의료기관_수  ...  보육시설수  세대당공원면적minmax  수변점수  행정동별버스정류장수  행정동별유통업체수  공공자전거대여소수  \\\n",
       "0      11  ...      4       0.352898     0          32          0          3   \n",
       "1      75  ...      0       0.063554     0          27          0         12   \n",
       "2      11  ...      3       1.000000     0          16          0          5   \n",
       "3       4  ...      3       0.000000    10          34          0          5   \n",
       "4      15  ...      3       0.001192    10          54          0          5   \n",
       "\n",
       "   여가생활지수minmax  사회적약자지수minmax  접근성지수minmax  그린지수minmax  \n",
       "0      0.002648       0.051957     0.176381    0.187151  \n",
       "1      0.006464       0.033809     0.351000    0.033704  \n",
       "2      0.005332       0.063374     0.506800    0.530328  \n",
       "3      0.001699       0.051612     0.236014    0.530328  \n",
       "4      0.000529       0.057453     0.231581    0.530960  \n",
       "\n",
       "[5 rows x 36 columns]"
      ]
     },
     "execution_count": 2,
     "metadata": {},
     "output_type": "execute_result"
    }
   ],
   "source": [
    "origin = read_excel(\"행정동병합최종.xlsx\")\n",
    "origin.head()"
   ]
  },
  {
   "cell_type": "markdown",
   "metadata": {},
   "source": [
    "## #03. 데이터 전처리"
   ]
  },
  {
   "cell_type": "markdown",
   "metadata": {},
   "source": [
    "### 필요한 데이터만 추출"
   ]
  },
  {
   "cell_type": "code",
   "execution_count": 4,
   "metadata": {},
   "outputs": [
    {
     "data": {
      "text/plain": [
       "Index(['시도명', '시군구코드', '시군구명', '행정동코드', '행정동코드_수정', '읍면동명', '생성일자', '말소일자',\n",
       "       '지하철역_수', '의료기관_수', '사회복지시설_수', '계_명', '면적', '구성비', '행정동별_공원수',\n",
       "       '공공체육시설_수', '문화시설_수', '학교_수', '사업체_수', '개소', '면수', '하천및한강여부', '아동인구',\n",
       "       '노인인구', '장애인_인구', '세대당공원면적', '보육시설수', '세대당공원면적minmax', '수변점수',\n",
       "       '행정동별버스정류장수', '행정동별유통업체수', '공공자전거대여소수', '여가생활지수minmax', '사회적약자지수minmax',\n",
       "       '접근성지수minmax', '그린지수minmax'],\n",
       "      dtype='object')"
      ]
     },
     "execution_count": 4,
     "metadata": {},
     "output_type": "execute_result"
    }
   ],
   "source": [
    "origin.columns"
   ]
  },
  {
   "cell_type": "code",
   "execution_count": 5,
   "metadata": {},
   "outputs": [
    {
     "data": {
      "text/html": [
       "<div>\n",
       "<style scoped>\n",
       "    .dataframe tbody tr th:only-of-type {\n",
       "        vertical-align: middle;\n",
       "    }\n",
       "\n",
       "    .dataframe tbody tr th {\n",
       "        vertical-align: top;\n",
       "    }\n",
       "\n",
       "    .dataframe thead th {\n",
       "        text-align: right;\n",
       "    }\n",
       "</style>\n",
       "<table border=\"1\" class=\"dataframe\">\n",
       "  <thead>\n",
       "    <tr style=\"text-align: right;\">\n",
       "      <th></th>\n",
       "      <th>지하철역_수</th>\n",
       "      <th>의료기관_수</th>\n",
       "      <th>사회복지시설_수</th>\n",
       "      <th>계_명</th>\n",
       "      <th>면적</th>\n",
       "      <th>구성비</th>\n",
       "      <th>행정동별_공원수</th>\n",
       "      <th>공공체육시설_수</th>\n",
       "      <th>문화시설_수</th>\n",
       "      <th>학교_수</th>\n",
       "      <th>...</th>\n",
       "      <th>장애인_인구</th>\n",
       "      <th>세대당공원면적</th>\n",
       "      <th>보육시설수</th>\n",
       "      <th>세대당공원면적minmax</th>\n",
       "      <th>수변점수</th>\n",
       "      <th>행정동별버스정류장수</th>\n",
       "      <th>여가생활지수minmax</th>\n",
       "      <th>사회적약자지수minmax</th>\n",
       "      <th>접근성지수minmax</th>\n",
       "      <th>그린지수minmax</th>\n",
       "    </tr>\n",
       "  </thead>\n",
       "  <tbody>\n",
       "    <tr>\n",
       "      <th>0</th>\n",
       "      <td>0</td>\n",
       "      <td>11</td>\n",
       "      <td>5</td>\n",
       "      <td>11700</td>\n",
       "      <td>2.57</td>\n",
       "      <td>0.42</td>\n",
       "      <td>2</td>\n",
       "      <td>10</td>\n",
       "      <td>6</td>\n",
       "      <td>8</td>\n",
       "      <td>...</td>\n",
       "      <td>437</td>\n",
       "      <td>337.55</td>\n",
       "      <td>4</td>\n",
       "      <td>0.352898</td>\n",
       "      <td>0</td>\n",
       "      <td>32</td>\n",
       "      <td>0.002648</td>\n",
       "      <td>0.051957</td>\n",
       "      <td>0.176381</td>\n",
       "      <td>0.187151</td>\n",
       "    </tr>\n",
       "    <tr>\n",
       "      <th>1</th>\n",
       "      <td>2</td>\n",
       "      <td>75</td>\n",
       "      <td>1</td>\n",
       "      <td>9362</td>\n",
       "      <td>1.23</td>\n",
       "      <td>0.20</td>\n",
       "      <td>3</td>\n",
       "      <td>8</td>\n",
       "      <td>13</td>\n",
       "      <td>2</td>\n",
       "      <td>...</td>\n",
       "      <td>267</td>\n",
       "      <td>60.79</td>\n",
       "      <td>0</td>\n",
       "      <td>0.063554</td>\n",
       "      <td>0</td>\n",
       "      <td>27</td>\n",
       "      <td>0.006464</td>\n",
       "      <td>0.033809</td>\n",
       "      <td>0.351000</td>\n",
       "      <td>0.033704</td>\n",
       "    </tr>\n",
       "    <tr>\n",
       "      <th>2</th>\n",
       "      <td>0</td>\n",
       "      <td>11</td>\n",
       "      <td>0</td>\n",
       "      <td>2576</td>\n",
       "      <td>1.49</td>\n",
       "      <td>0.25</td>\n",
       "      <td>1</td>\n",
       "      <td>2</td>\n",
       "      <td>31</td>\n",
       "      <td>2</td>\n",
       "      <td>...</td>\n",
       "      <td>110</td>\n",
       "      <td>956.51</td>\n",
       "      <td>3</td>\n",
       "      <td>1.000000</td>\n",
       "      <td>0</td>\n",
       "      <td>16</td>\n",
       "      <td>0.005332</td>\n",
       "      <td>0.063374</td>\n",
       "      <td>0.506800</td>\n",
       "      <td>0.530328</td>\n",
       "    </tr>\n",
       "    <tr>\n",
       "      <th>3</th>\n",
       "      <td>0</td>\n",
       "      <td>4</td>\n",
       "      <td>4</td>\n",
       "      <td>9377</td>\n",
       "      <td>2.27</td>\n",
       "      <td>0.38</td>\n",
       "      <td>1</td>\n",
       "      <td>5</td>\n",
       "      <td>5</td>\n",
       "      <td>4</td>\n",
       "      <td>...</td>\n",
       "      <td>311</td>\n",
       "      <td>0.00</td>\n",
       "      <td>3</td>\n",
       "      <td>0.000000</td>\n",
       "      <td>10</td>\n",
       "      <td>34</td>\n",
       "      <td>0.001699</td>\n",
       "      <td>0.051612</td>\n",
       "      <td>0.236014</td>\n",
       "      <td>0.530328</td>\n",
       "    </tr>\n",
       "    <tr>\n",
       "      <th>4</th>\n",
       "      <td>0</td>\n",
       "      <td>15</td>\n",
       "      <td>11</td>\n",
       "      <td>17658</td>\n",
       "      <td>8.87</td>\n",
       "      <td>1.47</td>\n",
       "      <td>0</td>\n",
       "      <td>5</td>\n",
       "      <td>11</td>\n",
       "      <td>4</td>\n",
       "      <td>...</td>\n",
       "      <td>491</td>\n",
       "      <td>1.14</td>\n",
       "      <td>3</td>\n",
       "      <td>0.001192</td>\n",
       "      <td>10</td>\n",
       "      <td>54</td>\n",
       "      <td>0.000529</td>\n",
       "      <td>0.057453</td>\n",
       "      <td>0.231581</td>\n",
       "      <td>0.530960</td>\n",
       "    </tr>\n",
       "  </tbody>\n",
       "</table>\n",
       "<p>5 rows × 26 columns</p>\n",
       "</div>"
      ],
      "text/plain": [
       "   지하철역_수  의료기관_수  사회복지시설_수    계_명    면적   구성비  행정동별_공원수  공공체육시설_수  문화시설_수  \\\n",
       "0       0      11         5  11700  2.57  0.42         2        10       6   \n",
       "1       2      75         1   9362  1.23  0.20         3         8      13   \n",
       "2       0      11         0   2576  1.49  0.25         1         2      31   \n",
       "3       0       4         4   9377  2.27  0.38         1         5       5   \n",
       "4       0      15        11  17658  8.87  1.47         0         5      11   \n",
       "\n",
       "   학교_수  ...  장애인_인구  세대당공원면적  보육시설수  세대당공원면적minmax  수변점수  행정동별버스정류장수  \\\n",
       "0     8  ...     437   337.55      4       0.352898     0          32   \n",
       "1     2  ...     267    60.79      0       0.063554     0          27   \n",
       "2     2  ...     110   956.51      3       1.000000     0          16   \n",
       "3     4  ...     311     0.00      3       0.000000    10          34   \n",
       "4     4  ...     491     1.14      3       0.001192    10          54   \n",
       "\n",
       "   여가생활지수minmax  사회적약자지수minmax  접근성지수minmax  그린지수minmax  \n",
       "0      0.002648       0.051957     0.176381    0.187151  \n",
       "1      0.006464       0.033809     0.351000    0.033704  \n",
       "2      0.005332       0.063374     0.506800    0.530328  \n",
       "3      0.001699       0.051612     0.236014    0.530328  \n",
       "4      0.000529       0.057453     0.231581    0.530960  \n",
       "\n",
       "[5 rows x 26 columns]"
      ]
     },
     "execution_count": 5,
     "metadata": {},
     "output_type": "execute_result"
    }
   ],
   "source": [
    "df = origin.filter([\n",
    "    '지하철역_수', '의료기관_수', '사회복지시설_수', '계_명', '면적', '구성비', \n",
    "    '행정동별_공원수', '공공체육시설_수', '문화시설_수', '학교_수', '사업체_수', '개소', \n",
    "    '면수', '하천및한강여부', '아동인구', '노인인구', '장애인_인구', '세대당공원면적', \n",
    "    '보육시설수', '세대당공원면적minmax', '수변점수', '행정동별버스정류장수', \n",
    "    '여가생활지수minmax', '사회적약자지수minmax', '접근성지수minmax', '그린지수minmax'\n",
    "])\n",
    "df.head()"
   ]
  },
  {
   "cell_type": "code",
   "execution_count": 6,
   "metadata": {},
   "outputs": [
    {
     "data": {
      "text/plain": [
       "지하철역_수           0\n",
       "의료기관_수           0\n",
       "사회복지시설_수         0\n",
       "계_명              0\n",
       "면적               0\n",
       "구성비              0\n",
       "행정동별_공원수         0\n",
       "공공체육시설_수         0\n",
       "문화시설_수           0\n",
       "학교_수             0\n",
       "사업체_수            0\n",
       "개소               0\n",
       "면수               0\n",
       "하천및한강여부          0\n",
       "아동인구             0\n",
       "노인인구             0\n",
       "장애인_인구           0\n",
       "세대당공원면적          0\n",
       "보육시설수            0\n",
       "세대당공원면적minmax    0\n",
       "수변점수             0\n",
       "행정동별버스정류장수       0\n",
       "여가생활지수minmax     0\n",
       "사회적약자지수minmax    0\n",
       "접근성지수minmax      0\n",
       "그린지수minmax       0\n",
       "dtype: int64"
      ]
     },
     "execution_count": 6,
     "metadata": {},
     "output_type": "execute_result"
    }
   ],
   "source": [
    "df = df.fillna(0)\n",
    "df.isna().sum()"
   ]
  },
  {
   "cell_type": "markdown",
   "metadata": {},
   "source": [
    "#### 분석에 사용될 지수 추출\n",
    "\n",
    "`minmax로 scaling한 지수`를 분석에 사용"
   ]
  },
  {
   "cell_type": "code",
   "execution_count": 7,
   "metadata": {},
   "outputs": [
    {
     "data": {
      "text/html": [
       "<div>\n",
       "<style scoped>\n",
       "    .dataframe tbody tr th:only-of-type {\n",
       "        vertical-align: middle;\n",
       "    }\n",
       "\n",
       "    .dataframe tbody tr th {\n",
       "        vertical-align: top;\n",
       "    }\n",
       "\n",
       "    .dataframe thead th {\n",
       "        text-align: right;\n",
       "    }\n",
       "</style>\n",
       "<table border=\"1\" class=\"dataframe\">\n",
       "  <thead>\n",
       "    <tr style=\"text-align: right;\">\n",
       "      <th></th>\n",
       "      <th>여가생활지수minmax</th>\n",
       "      <th>사회적약자지수minmax</th>\n",
       "      <th>접근성지수minmax</th>\n",
       "      <th>그린지수minmax</th>\n",
       "    </tr>\n",
       "  </thead>\n",
       "  <tbody>\n",
       "    <tr>\n",
       "      <th>0</th>\n",
       "      <td>0.002648</td>\n",
       "      <td>0.051957</td>\n",
       "      <td>0.176381</td>\n",
       "      <td>0.187151</td>\n",
       "    </tr>\n",
       "    <tr>\n",
       "      <th>1</th>\n",
       "      <td>0.006464</td>\n",
       "      <td>0.033809</td>\n",
       "      <td>0.351000</td>\n",
       "      <td>0.033704</td>\n",
       "    </tr>\n",
       "    <tr>\n",
       "      <th>2</th>\n",
       "      <td>0.005332</td>\n",
       "      <td>0.063374</td>\n",
       "      <td>0.506800</td>\n",
       "      <td>0.530328</td>\n",
       "    </tr>\n",
       "    <tr>\n",
       "      <th>3</th>\n",
       "      <td>0.001699</td>\n",
       "      <td>0.051612</td>\n",
       "      <td>0.236014</td>\n",
       "      <td>0.530328</td>\n",
       "    </tr>\n",
       "    <tr>\n",
       "      <th>4</th>\n",
       "      <td>0.000529</td>\n",
       "      <td>0.057453</td>\n",
       "      <td>0.231581</td>\n",
       "      <td>0.530960</td>\n",
       "    </tr>\n",
       "  </tbody>\n",
       "</table>\n",
       "</div>"
      ],
      "text/plain": [
       "   여가생활지수minmax  사회적약자지수minmax  접근성지수minmax  그린지수minmax\n",
       "0      0.002648       0.051957     0.176381    0.187151\n",
       "1      0.006464       0.033809     0.351000    0.033704\n",
       "2      0.005332       0.063374     0.506800    0.530328\n",
       "3      0.001699       0.051612     0.236014    0.530328\n",
       "4      0.000529       0.057453     0.231581    0.530960"
      ]
     },
     "execution_count": 7,
     "metadata": {},
     "output_type": "execute_result"
    }
   ],
   "source": [
    "X = df.copy()\n",
    "X = X.filter(['여가생활지수minmax', '사회적약자지수minmax', '접근성지수minmax', '그린지수minmax'])\n",
    "X.head()"
   ]
  },
  {
   "cell_type": "markdown",
   "metadata": {},
   "source": [
    "#### 지수의 결측치 확인 및 처리"
   ]
  },
  {
   "cell_type": "code",
   "execution_count": 8,
   "metadata": {},
   "outputs": [
    {
     "data": {
      "text/plain": [
       "여가생활지수minmax     0\n",
       "사회적약자지수minmax    0\n",
       "접근성지수minmax      0\n",
       "그린지수minmax       0\n",
       "dtype: int64"
      ]
     },
     "execution_count": 8,
     "metadata": {},
     "output_type": "execute_result"
    }
   ],
   "source": [
    "X.isna().sum()"
   ]
  },
  {
   "cell_type": "code",
   "execution_count": 9,
   "metadata": {},
   "outputs": [],
   "source": [
    "# X = X.fillna(0)\n",
    "# X.isna().sum()"
   ]
  },
  {
   "cell_type": "markdown",
   "metadata": {},
   "source": [
    "#### 이상치(`int`) 유무 확인"
   ]
  },
  {
   "cell_type": "code",
   "execution_count": 10,
   "metadata": {},
   "outputs": [
    {
     "data": {
      "text/plain": [
       "여가생활지수minmax     0\n",
       "사회적약자지수minmax    0\n",
       "접근성지수minmax      0\n",
       "그린지수minmax       0\n",
       "dtype: int64"
      ]
     },
     "execution_count": 10,
     "metadata": {},
     "output_type": "execute_result"
    }
   ],
   "source": [
    "is_inf = X.isin([np.inf, -np.inf])\n",
    "\n",
    "# 각 column별로 -inf 또는 inf 값을 포함하고 있는 행 수를 확인\n",
    "inf_count = is_inf.sum()\n",
    "\n",
    "# 결과 출력\n",
    "inf_count"
   ]
  },
  {
   "cell_type": "code",
   "execution_count": 11,
   "metadata": {},
   "outputs": [
    {
     "data": {
      "text/plain": [
       "Index(['여가생활지수minmax', '사회적약자지수minmax', '접근성지수minmax', '그린지수minmax'], dtype='object')"
      ]
     },
     "execution_count": 11,
     "metadata": {},
     "output_type": "execute_result"
    }
   ],
   "source": [
    "X.columns"
   ]
  },
  {
   "cell_type": "markdown",
   "metadata": {},
   "source": [
    "### 분석용 데이터 스케일링"
   ]
  },
  {
   "cell_type": "code",
   "execution_count": 12,
   "metadata": {},
   "outputs": [
    {
     "data": {
      "text/plain": [
       "array([[2.64751750e-03, 5.19574059e-02, 1.76380830e-01, 1.87151396e-01],\n",
       "       [6.46393211e-03, 3.38089072e-02, 3.50999695e-01, 3.37044389e-02],\n",
       "       [5.33216587e-03, 6.33738658e-02, 5.06799703e-01, 5.30327896e-01],\n",
       "       [1.69869928e-03, 5.16119276e-02, 2.36014323e-01, 5.30327896e-01],\n",
       "       [5.28773115e-04, 5.74526172e-02, 2.31580705e-01, 5.30959958e-01]])"
      ]
     },
     "execution_count": 12,
     "metadata": {},
     "output_type": "execute_result"
    }
   ],
   "source": [
    "scaler = MinMaxScaler()\n",
    "n_data = scaler.fit_transform(X)\n",
    "n_data[:5]"
   ]
  },
  {
   "cell_type": "code",
   "execution_count": 13,
   "metadata": {},
   "outputs": [
    {
     "data": {
      "text/html": [
       "<div>\n",
       "<style scoped>\n",
       "    .dataframe tbody tr th:only-of-type {\n",
       "        vertical-align: middle;\n",
       "    }\n",
       "\n",
       "    .dataframe tbody tr th {\n",
       "        vertical-align: top;\n",
       "    }\n",
       "\n",
       "    .dataframe thead th {\n",
       "        text-align: right;\n",
       "    }\n",
       "</style>\n",
       "<table border=\"1\" class=\"dataframe\">\n",
       "  <thead>\n",
       "    <tr style=\"text-align: right;\">\n",
       "      <th></th>\n",
       "      <th>여가생활지수minmax</th>\n",
       "      <th>사회적약자지수minmax</th>\n",
       "      <th>접근성지수minmax</th>\n",
       "      <th>그린지수minmax</th>\n",
       "    </tr>\n",
       "  </thead>\n",
       "  <tbody>\n",
       "    <tr>\n",
       "      <th>0</th>\n",
       "      <td>0.002648</td>\n",
       "      <td>0.051957</td>\n",
       "      <td>0.176381</td>\n",
       "      <td>0.187151</td>\n",
       "    </tr>\n",
       "    <tr>\n",
       "      <th>1</th>\n",
       "      <td>0.006464</td>\n",
       "      <td>0.033809</td>\n",
       "      <td>0.351000</td>\n",
       "      <td>0.033704</td>\n",
       "    </tr>\n",
       "    <tr>\n",
       "      <th>2</th>\n",
       "      <td>0.005332</td>\n",
       "      <td>0.063374</td>\n",
       "      <td>0.506800</td>\n",
       "      <td>0.530328</td>\n",
       "    </tr>\n",
       "    <tr>\n",
       "      <th>3</th>\n",
       "      <td>0.001699</td>\n",
       "      <td>0.051612</td>\n",
       "      <td>0.236014</td>\n",
       "      <td>0.530328</td>\n",
       "    </tr>\n",
       "    <tr>\n",
       "      <th>4</th>\n",
       "      <td>0.000529</td>\n",
       "      <td>0.057453</td>\n",
       "      <td>0.231581</td>\n",
       "      <td>0.530960</td>\n",
       "    </tr>\n",
       "  </tbody>\n",
       "</table>\n",
       "</div>"
      ],
      "text/plain": [
       "   여가생활지수minmax  사회적약자지수minmax  접근성지수minmax  그린지수minmax\n",
       "0      0.002648       0.051957     0.176381    0.187151\n",
       "1      0.006464       0.033809     0.351000    0.033704\n",
       "2      0.005332       0.063374     0.506800    0.530328\n",
       "3      0.001699       0.051612     0.236014    0.530328\n",
       "4      0.000529       0.057453     0.231581    0.530960"
      ]
     },
     "execution_count": 13,
     "metadata": {},
     "output_type": "execute_result"
    }
   ],
   "source": [
    "ndf = DataFrame(n_data, columns=X.columns)\n",
    "ndf.head()"
   ]
  },
  {
   "cell_type": "markdown",
   "metadata": {},
   "source": [
    "> 전원 수치 데이터임으로 별도의 라벨링이 필요 없다고 판단."
   ]
  },
  {
   "cell_type": "markdown",
   "metadata": {},
   "source": [
    "## #04. 계층 군집 수행"
   ]
  },
  {
   "cell_type": "markdown",
   "metadata": {},
   "source": [
    "### 1. scipy 패키지 사용\n",
    "\n",
    "scipy는 모델 생성/시각화 과정이 반자동이지만 sklearn은 수동으로 설정(공식으로 판단할 것)\n",
    "\n",
    "linkage : 거리 측정 방법 지정<br/>\n",
    "기본 값 : `ward`<br/>\n",
    "그 외 값 : ‘ward’, ‘complete’, ‘average’, ‘single’"
   ]
  },
  {
   "cell_type": "code",
   "execution_count": 14,
   "metadata": {},
   "outputs": [
    {
     "data": {
      "image/png": "[encoded data removed]",
      "text/plain": [
       "<Figure size 1200x500 with 1 Axes>"
      ]
     },
     "metadata": {},
     "output_type": "display_data"
    }
   ],
   "source": [
    "lnk = linkage(ndf, method=\"ward\")\n",
    "plt.figure(figsize=(12,5))\n",
    "dendrogram(lnk, show_leaf_counts=True)\n",
    "plt.xticks(fontsize=3)  # 원하는 글자 크기로 설정\n",
    "plt.title(\"scipy 패키지 사용 결과 값\")\n",
    "plt.show()\n",
    "plt.close()"
   ]
  },
  {
   "cell_type": "markdown",
   "metadata": {},
   "source": [
    "### 2. sklearn 패키지 사용\n",
    "\n",
    "n_clusters : 찾아야 할 클러스터 수(earlystopping과 유사)\n",
    "\n",
    "affinity : 클러스터 간 거리 측정 방법(euclidean, cityblock, manhattan, cosine)\n",
    "\n",
    "linkage : ward(기본값), complete, average, single\n",
    "\n",
    "compute_distances : 노드간의 거리 계산값을 저장할지 여부(시각화를 위해서는 True를 필수 적용)\n",
    "\n",
    "`n_clusters`은 K-Means에서 엘보우 그래프로 확인된 `4`를 사용."
   ]
  },
  {
   "cell_type": "code",
   "execution_count": 15,
   "metadata": {},
   "outputs": [
    {
     "data": {
      "image/png": "[encoded data removed]",
      "text/plain": [
       "<Figure size 1500x700 with 1 Axes>"
      ]
     },
     "metadata": {},
     "output_type": "display_data"
    }
   ],
   "source": [
    "# 모델 객체 생성\n",
    "ac = AgglomerativeClustering(n_clusters=4,  # 찾아야 할 클러스터 수(earlystopping과 유사)\n",
    "                             metric='euclidean',  # 클러스터 간 거리 측정 방법\n",
    "                             linkage='ward',    # 거리측정 방법\n",
    "                             compute_distances=True #시각화를 위하 반드시 필요\n",
    "                             )\n",
    "# clustering = ac.fit(n_data) #학습\n",
    "\n",
    "clustering = ac.fit(ndf) #학습\n",
    "# print(clustering.labels_)   #학습결과 확인\n",
    "\n",
    "# scipy는 아래의 과정을 자동으로 수행, sklearn은 수동으로 설정(공식으로 판단할 것)\n",
    "counts = np.zeros(clustering.children_.shape[0])    #zeros 모든 원소가 0인 요소\n",
    "n_samples = len(clustering.labels_)\n",
    "\n",
    "# 자식 노드를 반복하면서 점을 찍어준다(자식이 몇개 있는지 확인하는 과정)\n",
    "for i, merge in enumerate(clustering.children_):\n",
    "    current_count = 0\n",
    "    for child_idx in merge:\n",
    "        if child_idx < n_samples:\n",
    "            current_count += 1  # leaf node\n",
    "        else:\n",
    "            current_count += counts[child_idx - n_samples]\n",
    "    counts[i] = current_count\n",
    "\n",
    "# 자식 노드의 수를 저장하는 배열\n",
    "linkage_matrix = np.column_stack(\n",
    "    [clustering.children_, clustering.distances_, counts]\n",
    ").astype(float)\n",
    "\n",
    "# plt를 설정하지 않으면 쓸데 없는 값도 함께 추출됨\n",
    "# dendrogram(linkage_matrix)\n",
    "\n",
    "plt.figure(figsize=(15,7))\n",
    "dendrogram(linkage_matrix)\n",
    "plt.title(\"sklearn 패키지 사용 결과 값\")\n",
    "plt.show()\n",
    "plt.close()"
   ]
  },
  {
   "cell_type": "markdown",
   "metadata": {},
   "source": [
    "### sklearn, scipy의 차이를 설명"
   ]
  },
  {
   "cell_type": "markdown",
   "metadata": {},
   "source": [
    "### 군집수를 4로 설정한 분류 결과값"
   ]
  },
  {
   "cell_type": "code",
   "execution_count": 18,
   "metadata": {},
   "outputs": [
    {
     "data": {
      "text/plain": [
       "[0, 1, 2, 3]"
      ]
     },
     "execution_count": 18,
     "metadata": {},
     "output_type": "execute_result"
    }
   ],
   "source": [
    "unique_labels = list(set(clustering.labels_))\n",
    "unique_labels"
   ]
  },
  {
   "cell_type": "markdown",
   "metadata": {},
   "source": [
    "### 분류 결과를 DataFrame과 결합\n",
    "\n",
    "> 군집(label)을 포함한 DF 생성. <br/> labels를 hue로 잡고 진행하면 군집의 분류 결과를 알 수 있기 때문."
   ]
  },
  {
   "cell_type": "code",
   "execution_count": 19,
   "metadata": {},
   "outputs": [
    {
     "data": {
      "text/html": [
       "<div>\n",
       "<style scoped>\n",
       "    .dataframe tbody tr th:only-of-type {\n",
       "        vertical-align: middle;\n",
       "    }\n",
       "\n",
       "    .dataframe tbody tr th {\n",
       "        vertical-align: top;\n",
       "    }\n",
       "\n",
       "    .dataframe thead th {\n",
       "        text-align: right;\n",
       "    }\n",
       "</style>\n",
       "<table border=\"1\" class=\"dataframe\">\n",
       "  <thead>\n",
       "    <tr style=\"text-align: right;\">\n",
       "      <th></th>\n",
       "      <th>지하철역_수</th>\n",
       "      <th>의료기관_수</th>\n",
       "      <th>사회복지시설_수</th>\n",
       "      <th>계_명</th>\n",
       "      <th>면적</th>\n",
       "      <th>구성비</th>\n",
       "      <th>행정동별_공원수</th>\n",
       "      <th>공공체육시설_수</th>\n",
       "      <th>문화시설_수</th>\n",
       "      <th>학교_수</th>\n",
       "      <th>...</th>\n",
       "      <th>세대당공원면적</th>\n",
       "      <th>보육시설수</th>\n",
       "      <th>세대당공원면적minmax</th>\n",
       "      <th>수변점수</th>\n",
       "      <th>행정동별버스정류장수</th>\n",
       "      <th>여가생활지수minmax</th>\n",
       "      <th>사회적약자지수minmax</th>\n",
       "      <th>접근성지수minmax</th>\n",
       "      <th>그린지수minmax</th>\n",
       "      <th>계층군집_결과</th>\n",
       "    </tr>\n",
       "  </thead>\n",
       "  <tbody>\n",
       "    <tr>\n",
       "      <th>0</th>\n",
       "      <td>0</td>\n",
       "      <td>11</td>\n",
       "      <td>5</td>\n",
       "      <td>11700</td>\n",
       "      <td>2.57</td>\n",
       "      <td>0.42</td>\n",
       "      <td>2</td>\n",
       "      <td>10</td>\n",
       "      <td>6</td>\n",
       "      <td>8</td>\n",
       "      <td>...</td>\n",
       "      <td>337.55</td>\n",
       "      <td>4</td>\n",
       "      <td>0.352898</td>\n",
       "      <td>0</td>\n",
       "      <td>32</td>\n",
       "      <td>0.002648</td>\n",
       "      <td>0.051957</td>\n",
       "      <td>0.176381</td>\n",
       "      <td>0.187151</td>\n",
       "      <td>0</td>\n",
       "    </tr>\n",
       "    <tr>\n",
       "      <th>1</th>\n",
       "      <td>2</td>\n",
       "      <td>75</td>\n",
       "      <td>1</td>\n",
       "      <td>9362</td>\n",
       "      <td>1.23</td>\n",
       "      <td>0.20</td>\n",
       "      <td>3</td>\n",
       "      <td>8</td>\n",
       "      <td>13</td>\n",
       "      <td>2</td>\n",
       "      <td>...</td>\n",
       "      <td>60.79</td>\n",
       "      <td>0</td>\n",
       "      <td>0.063554</td>\n",
       "      <td>0</td>\n",
       "      <td>27</td>\n",
       "      <td>0.006464</td>\n",
       "      <td>0.033809</td>\n",
       "      <td>0.351000</td>\n",
       "      <td>0.033704</td>\n",
       "      <td>3</td>\n",
       "    </tr>\n",
       "    <tr>\n",
       "      <th>2</th>\n",
       "      <td>0</td>\n",
       "      <td>11</td>\n",
       "      <td>0</td>\n",
       "      <td>2576</td>\n",
       "      <td>1.49</td>\n",
       "      <td>0.25</td>\n",
       "      <td>1</td>\n",
       "      <td>2</td>\n",
       "      <td>31</td>\n",
       "      <td>2</td>\n",
       "      <td>...</td>\n",
       "      <td>956.51</td>\n",
       "      <td>3</td>\n",
       "      <td>1.000000</td>\n",
       "      <td>0</td>\n",
       "      <td>16</td>\n",
       "      <td>0.005332</td>\n",
       "      <td>0.063374</td>\n",
       "      <td>0.506800</td>\n",
       "      <td>0.530328</td>\n",
       "      <td>1</td>\n",
       "    </tr>\n",
       "    <tr>\n",
       "      <th>3</th>\n",
       "      <td>0</td>\n",
       "      <td>4</td>\n",
       "      <td>4</td>\n",
       "      <td>9377</td>\n",
       "      <td>2.27</td>\n",
       "      <td>0.38</td>\n",
       "      <td>1</td>\n",
       "      <td>5</td>\n",
       "      <td>5</td>\n",
       "      <td>4</td>\n",
       "      <td>...</td>\n",
       "      <td>0.00</td>\n",
       "      <td>3</td>\n",
       "      <td>0.000000</td>\n",
       "      <td>10</td>\n",
       "      <td>34</td>\n",
       "      <td>0.001699</td>\n",
       "      <td>0.051612</td>\n",
       "      <td>0.236014</td>\n",
       "      <td>0.530328</td>\n",
       "      <td>1</td>\n",
       "    </tr>\n",
       "    <tr>\n",
       "      <th>4</th>\n",
       "      <td>0</td>\n",
       "      <td>15</td>\n",
       "      <td>11</td>\n",
       "      <td>17658</td>\n",
       "      <td>8.87</td>\n",
       "      <td>1.47</td>\n",
       "      <td>0</td>\n",
       "      <td>5</td>\n",
       "      <td>11</td>\n",
       "      <td>4</td>\n",
       "      <td>...</td>\n",
       "      <td>1.14</td>\n",
       "      <td>3</td>\n",
       "      <td>0.001192</td>\n",
       "      <td>10</td>\n",
       "      <td>54</td>\n",
       "      <td>0.000529</td>\n",
       "      <td>0.057453</td>\n",
       "      <td>0.231581</td>\n",
       "      <td>0.530960</td>\n",
       "      <td>1</td>\n",
       "    </tr>\n",
       "  </tbody>\n",
       "</table>\n",
       "<p>5 rows × 27 columns</p>\n",
       "</div>"
      ],
      "text/plain": [
       "   지하철역_수  의료기관_수  사회복지시설_수    계_명    면적   구성비  행정동별_공원수  공공체육시설_수  문화시설_수  \\\n",
       "0       0      11         5  11700  2.57  0.42         2        10       6   \n",
       "1       2      75         1   9362  1.23  0.20         3         8      13   \n",
       "2       0      11         0   2576  1.49  0.25         1         2      31   \n",
       "3       0       4         4   9377  2.27  0.38         1         5       5   \n",
       "4       0      15        11  17658  8.87  1.47         0         5      11   \n",
       "\n",
       "   학교_수  ...  세대당공원면적  보육시설수  세대당공원면적minmax  수변점수  행정동별버스정류장수  여가생활지수minmax  \\\n",
       "0     8  ...   337.55      4       0.352898     0          32      0.002648   \n",
       "1     2  ...    60.79      0       0.063554     0          27      0.006464   \n",
       "2     2  ...   956.51      3       1.000000     0          16      0.005332   \n",
       "3     4  ...     0.00      3       0.000000    10          34      0.001699   \n",
       "4     4  ...     1.14      3       0.001192    10          54      0.000529   \n",
       "\n",
       "   사회적약자지수minmax  접근성지수minmax  그린지수minmax  계층군집_결과  \n",
       "0       0.051957     0.176381    0.187151        0  \n",
       "1       0.033809     0.351000    0.033704        3  \n",
       "2       0.063374     0.506800    0.530328        1  \n",
       "3       0.051612     0.236014    0.530328        1  \n",
       "4       0.057453     0.231581    0.530960        1  \n",
       "\n",
       "[5 rows x 27 columns]"
      ]
     },
     "execution_count": 19,
     "metadata": {},
     "output_type": "execute_result"
    }
   ],
   "source": [
    "df['계층군집_결과'] = clustering.labels_\n",
    "df.head()"
   ]
  },
  {
   "cell_type": "code",
   "execution_count": 21,
   "metadata": {},
   "outputs": [
    {
     "data": {
      "text/plain": [
       "Index(['지하철역_수', '의료기관_수', '사회복지시설_수', '계_명', '면적', '구성비', '행정동별_공원수',\n",
       "       '공공체육시설_수', '문화시설_수', '학교_수', '사업체_수', '개소', '면수', '하천및한강여부', '아동인구',\n",
       "       '노인인구', '장애인_인구', '세대당공원면적', '보육시설수', '세대당공원면적minmax', '수변점수',\n",
       "       '행정동별버스정류장수', '여가생활지수minmax', '사회적약자지수minmax', '접근성지수minmax',\n",
       "       '그린지수minmax', '계층군집_결과'],\n",
       "      dtype='object')"
      ]
     },
     "execution_count": 21,
     "metadata": {},
     "output_type": "execute_result"
    }
   ],
   "source": [
    "df.columns"
   ]
  },
  {
   "cell_type": "code",
   "execution_count": 26,
   "metadata": {},
   "outputs": [
    {
     "data": {
      "image/png": "[encoded data removed]",
      "text/plain": [
       "<Figure size 1000x600 with 1 Axes>"
      ]
     },
     "metadata": {},
     "output_type": "display_data"
    }
   ],
   "source": [
    "plt.figure(figsize=(10,6))\n",
    "# #sb.scatterplot(x=n_data[, 0], y=n_data[, 1])\n",
    "sb.scatterplot(data=df, x='지하철역_수', y='의료기관_수', hue='계층군집_결과')\n",
    "plt.title(\"'지하철역_수' - '의료기관_수' 군집 결과\")\n",
    "plt.grid()\n",
    "plt.show()\n",
    "plt.close()"
   ]
  },
  {
   "cell_type": "code",
   "execution_count": null,
   "metadata": {},
   "outputs": [],
   "source": []
  }
 ],
 "metadata": {
  "kernelspec": {
   "display_name": "Python 3",
   "language": "python",
   "name": "python3"
  },
  "language_info": {
   "codemirror_mode": {
    "name": "ipython",
    "version": 3
   },
   "file_extension": ".py",
   "mimetype": "text/x-python",
   "name": "python",
   "nbconvert_exporter": "python",
   "pygments_lexer": "ipython3",
   "version": "3.9.13"
  }
 },
 "nbformat": 4,
 "nbformat_minor": 2
}
