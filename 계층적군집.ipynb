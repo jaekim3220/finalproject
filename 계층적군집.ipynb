{
 "cells": [
  {
   "cell_type": "markdown",
   "metadata": {},
   "source": [
    "# 계층적 군집"
   ]
  },
  {
   "cell_type": "markdown",
   "metadata": {},
   "source": [
    "## #01. 패키지\n",
    "\n",
    "모델 : scipy.cluster.AgglomerativeClustering\n",
    "\n",
    "거리계산 : scipy.cluster.hierarchy.linkage\n",
    "\n",
    "시각화 : scipy.cluster.hierarchy.dendrogram\n",
    "\n",
    "평가 : sklearn.metrics.silhouette_score , silhouette_samples, yellowbrick.cluster.KElbowVisualizer"
   ]
  },
  {
   "cell_type": "code",
   "execution_count": 7,
   "metadata": {},
   "outputs": [],
   "source": [
    "import sys\n",
    "import seaborn as sb\n",
    "import numpy as np\n",
    "from matplotlib import pyplot as plt\n",
    "from scipy.cluster.hierarchy import dendrogram, linkage\n",
    "from pandas import read_excel, DataFrame\n",
    "\n",
    "# sklearn은 AgglomerativeClustering() 함수를 제공\n",
    "from sklearn.cluster import AgglomerativeClustering\n",
    "\n",
    "# 표준화\n",
    "from sklearn.preprocessing import MinMaxScaler"
   ]
  },
  {
   "cell_type": "code",
   "execution_count": 10,
   "metadata": {},
   "outputs": [],
   "source": [
    "plt.rcParams[\"font.family\"] = 'AppleGothic' if sys.platform == 'darwin' else 'Malgun Gothic'\n",
    "plt.rcParams[\"font.size\"] = 12\n",
    "plt.rcParams[\"figure.figsize\"] = (10, 5)\n",
    "plt.rcParams[\"axes.unicode_minus\"] = False"
   ]
  },
  {
   "cell_type": "markdown",
   "metadata": {},
   "source": [
    "## #02. 데이터"
   ]
  },
  {
   "cell_type": "code",
   "execution_count": 29,
   "metadata": {},
   "outputs": [
    {
     "data": {
      "text/html": [
       "<div>\n",
       "<style scoped>\n",
       "    .dataframe tbody tr th:only-of-type {\n",
       "        vertical-align: middle;\n",
       "    }\n",
       "\n",
       "    .dataframe tbody tr th {\n",
       "        vertical-align: top;\n",
       "    }\n",
       "\n",
       "    .dataframe thead th {\n",
       "        text-align: right;\n",
       "    }\n",
       "</style>\n",
       "<table border=\"1\" class=\"dataframe\">\n",
       "  <thead>\n",
       "    <tr style=\"text-align: right;\">\n",
       "      <th></th>\n",
       "      <th>시도명</th>\n",
       "      <th>시군구코드</th>\n",
       "      <th>시군구명</th>\n",
       "      <th>행정동코드</th>\n",
       "      <th>행정동코드수정</th>\n",
       "      <th>읍면동명</th>\n",
       "      <th>생성일자</th>\n",
       "      <th>말소일자</th>\n",
       "      <th>지하철역수</th>\n",
       "      <th>의료기관수</th>\n",
       "      <th>...</th>\n",
       "      <th>주차장개소</th>\n",
       "      <th>주차장면수</th>\n",
       "      <th>하천및한강여부</th>\n",
       "      <th>아동인구</th>\n",
       "      <th>노인인구</th>\n",
       "      <th>장애인인구</th>\n",
       "      <th>세대당공원면적</th>\n",
       "      <th>교통약자지수</th>\n",
       "      <th>시민문화지수</th>\n",
       "      <th>접근성지수</th>\n",
       "    </tr>\n",
       "  </thead>\n",
       "  <tbody>\n",
       "    <tr>\n",
       "      <th>0</th>\n",
       "      <td>서울특별시</td>\n",
       "      <td>11110</td>\n",
       "      <td>종로구</td>\n",
       "      <td>1111051500</td>\n",
       "      <td>11110515</td>\n",
       "      <td>청운효자동</td>\n",
       "      <td>20081101</td>\n",
       "      <td>NaN</td>\n",
       "      <td>NaN</td>\n",
       "      <td>11.0</td>\n",
       "      <td>...</td>\n",
       "      <td>668</td>\n",
       "      <td>4592</td>\n",
       "      <td>무</td>\n",
       "      <td>612.0</td>\n",
       "      <td>2154</td>\n",
       "      <td>437</td>\n",
       "      <td>337.55</td>\n",
       "      <td>0.883757</td>\n",
       "      <td>12.240301</td>\n",
       "      <td>0.978054</td>\n",
       "    </tr>\n",
       "    <tr>\n",
       "      <th>1</th>\n",
       "      <td>서울특별시</td>\n",
       "      <td>11110</td>\n",
       "      <td>종로구</td>\n",
       "      <td>1111053000</td>\n",
       "      <td>11110530</td>\n",
       "      <td>사직동</td>\n",
       "      <td>19880423</td>\n",
       "      <td>NaN</td>\n",
       "      <td>2.0</td>\n",
       "      <td>75.0</td>\n",
       "      <td>...</td>\n",
       "      <td>362</td>\n",
       "      <td>12605</td>\n",
       "      <td>무</td>\n",
       "      <td>488.0</td>\n",
       "      <td>1808</td>\n",
       "      <td>267</td>\n",
       "      <td>60.79</td>\n",
       "      <td>0.952852</td>\n",
       "      <td>35.399526</td>\n",
       "      <td>2.354708</td>\n",
       "    </tr>\n",
       "    <tr>\n",
       "      <th>2</th>\n",
       "      <td>서울특별시</td>\n",
       "      <td>11110</td>\n",
       "      <td>종로구</td>\n",
       "      <td>1111054000</td>\n",
       "      <td>11110540</td>\n",
       "      <td>삼청동</td>\n",
       "      <td>19880423</td>\n",
       "      <td>NaN</td>\n",
       "      <td>NaN</td>\n",
       "      <td>11.0</td>\n",
       "      <td>...</td>\n",
       "      <td>343</td>\n",
       "      <td>2237</td>\n",
       "      <td>무</td>\n",
       "      <td>108.0</td>\n",
       "      <td>626</td>\n",
       "      <td>110</td>\n",
       "      <td>956.51</td>\n",
       "      <td>0.715943</td>\n",
       "      <td>39.839834</td>\n",
       "      <td>2.266277</td>\n",
       "    </tr>\n",
       "    <tr>\n",
       "      <th>3</th>\n",
       "      <td>서울특별시</td>\n",
       "      <td>11110</td>\n",
       "      <td>종로구</td>\n",
       "      <td>1111055000</td>\n",
       "      <td>11110550</td>\n",
       "      <td>부암동</td>\n",
       "      <td>19880423</td>\n",
       "      <td>NaN</td>\n",
       "      <td>NaN</td>\n",
       "      <td>4.0</td>\n",
       "      <td>...</td>\n",
       "      <td>596</td>\n",
       "      <td>3533</td>\n",
       "      <td>유</td>\n",
       "      <td>385.0</td>\n",
       "      <td>1814</td>\n",
       "      <td>311</td>\n",
       "      <td>0.00</td>\n",
       "      <td>0.710363</td>\n",
       "      <td>5.777047</td>\n",
       "      <td>1.081284</td>\n",
       "    </tr>\n",
       "    <tr>\n",
       "      <th>4</th>\n",
       "      <td>서울특별시</td>\n",
       "      <td>11110</td>\n",
       "      <td>종로구</td>\n",
       "      <td>1111056000</td>\n",
       "      <td>11110560</td>\n",
       "      <td>평창동</td>\n",
       "      <td>19880423</td>\n",
       "      <td>NaN</td>\n",
       "      <td>NaN</td>\n",
       "      <td>15.0</td>\n",
       "      <td>...</td>\n",
       "      <td>1617</td>\n",
       "      <td>9390</td>\n",
       "      <td>유</td>\n",
       "      <td>1033.0</td>\n",
       "      <td>3495</td>\n",
       "      <td>491</td>\n",
       "      <td>1.14</td>\n",
       "      <td>0.714284</td>\n",
       "      <td>2.630924</td>\n",
       "      <td>1.576024</td>\n",
       "    </tr>\n",
       "  </tbody>\n",
       "</table>\n",
       "<p>5 rows × 30 columns</p>\n",
       "</div>"
      ],
      "text/plain": [
       "     시도명  시군구코드 시군구명       행정동코드   행정동코드수정   읍면동명      생성일자  말소일자  지하철역수  \\\n",
       "0  서울특별시  11110  종로구  1111051500  11110515  청운효자동  20081101   NaN    NaN   \n",
       "1  서울특별시  11110  종로구  1111053000  11110530    사직동  19880423   NaN    2.0   \n",
       "2  서울특별시  11110  종로구  1111054000  11110540    삼청동  19880423   NaN    NaN   \n",
       "3  서울특별시  11110  종로구  1111055000  11110550    부암동  19880423   NaN    NaN   \n",
       "4  서울특별시  11110  종로구  1111056000  11110560    평창동  19880423   NaN    NaN   \n",
       "\n",
       "   의료기관수  ...  주차장개소  주차장면수  하천및한강여부    아동인구  노인인구  장애인인구  세대당공원면적    교통약자지수  \\\n",
       "0   11.0  ...    668   4592        무   612.0  2154    437   337.55  0.883757   \n",
       "1   75.0  ...    362  12605        무   488.0  1808    267    60.79  0.952852   \n",
       "2   11.0  ...    343   2237        무   108.0   626    110   956.51  0.715943   \n",
       "3    4.0  ...    596   3533        유   385.0  1814    311     0.00  0.710363   \n",
       "4   15.0  ...   1617   9390        유  1033.0  3495    491     1.14  0.714284   \n",
       "\n",
       "      시민문화지수     접근성지수  \n",
       "0  12.240301  0.978054  \n",
       "1  35.399526  2.354708  \n",
       "2  39.839834  2.266277  \n",
       "3   5.777047  1.081284  \n",
       "4   2.630924  1.576024  \n",
       "\n",
       "[5 rows x 30 columns]"
      ]
     },
     "execution_count": 29,
     "metadata": {},
     "output_type": "execute_result"
    }
   ],
   "source": [
    "origin = read_excel(\"행정동병합테스트22_최종데이터.xlsx\")\n",
    "origin.head()"
   ]
  },
  {
   "cell_type": "markdown",
   "metadata": {},
   "source": [
    "## #03. 데이터 전처리"
   ]
  },
  {
   "cell_type": "markdown",
   "metadata": {},
   "source": [
    "### 필요한 데이터만 추출"
   ]
  },
  {
   "cell_type": "code",
   "execution_count": 4,
   "metadata": {},
   "outputs": [
    {
     "data": {
      "text/plain": [
       "Index(['시도명', '시군구코드', '시군구명', '행정동코드', '행정동코드수정', '읍면동명', '생성일자', '말소일자',\n",
       "       '지하철역수', '의료기관수', '사회복지시설수', '계(명)', '면적', '구성비', '행정동별공원수', '공공체육시설수',\n",
       "       '문화시설수', '학교수', '사업체수', '보육시설', '주차장개소', '주차장면수', '하천및한강여부', '아동인구',\n",
       "       '노인인구', '장애인인구', '세대당공원면적', '교통약자지수', '시민문화지수', '접근성지수'],\n",
       "      dtype='object')"
      ]
     },
     "execution_count": 4,
     "metadata": {},
     "output_type": "execute_result"
    }
   ],
   "source": [
    "origin.columns"
   ]
  },
  {
   "cell_type": "code",
   "execution_count": 34,
   "metadata": {},
   "outputs": [
    {
     "data": {
      "text/html": [
       "<div>\n",
       "<style scoped>\n",
       "    .dataframe tbody tr th:only-of-type {\n",
       "        vertical-align: middle;\n",
       "    }\n",
       "\n",
       "    .dataframe tbody tr th {\n",
       "        vertical-align: top;\n",
       "    }\n",
       "\n",
       "    .dataframe thead th {\n",
       "        text-align: right;\n",
       "    }\n",
       "</style>\n",
       "<table border=\"1\" class=\"dataframe\">\n",
       "  <thead>\n",
       "    <tr style=\"text-align: right;\">\n",
       "      <th></th>\n",
       "      <th>지하철역수</th>\n",
       "      <th>의료기관수</th>\n",
       "      <th>사회복지시설수</th>\n",
       "      <th>계(명)</th>\n",
       "      <th>면적</th>\n",
       "      <th>구성비</th>\n",
       "      <th>행정동별공원수</th>\n",
       "      <th>공공체육시설수</th>\n",
       "      <th>문화시설수</th>\n",
       "      <th>학교수</th>\n",
       "      <th>...</th>\n",
       "      <th>주차장개소</th>\n",
       "      <th>주차장면수</th>\n",
       "      <th>하천및한강여부</th>\n",
       "      <th>아동인구</th>\n",
       "      <th>노인인구</th>\n",
       "      <th>장애인인구</th>\n",
       "      <th>세대당공원면적</th>\n",
       "      <th>교통약자지수</th>\n",
       "      <th>시민문화지수</th>\n",
       "      <th>접근성지수</th>\n",
       "    </tr>\n",
       "  </thead>\n",
       "  <tbody>\n",
       "    <tr>\n",
       "      <th>0</th>\n",
       "      <td>NaN</td>\n",
       "      <td>11.0</td>\n",
       "      <td>5.0</td>\n",
       "      <td>11700</td>\n",
       "      <td>2.57</td>\n",
       "      <td>0.42</td>\n",
       "      <td>2.0</td>\n",
       "      <td>10.0</td>\n",
       "      <td>6.0</td>\n",
       "      <td>8.0</td>\n",
       "      <td>...</td>\n",
       "      <td>668</td>\n",
       "      <td>4592</td>\n",
       "      <td>무</td>\n",
       "      <td>612.0</td>\n",
       "      <td>2154</td>\n",
       "      <td>437</td>\n",
       "      <td>337.55</td>\n",
       "      <td>0.883757</td>\n",
       "      <td>12.240301</td>\n",
       "      <td>0.978054</td>\n",
       "    </tr>\n",
       "    <tr>\n",
       "      <th>1</th>\n",
       "      <td>2.0</td>\n",
       "      <td>75.0</td>\n",
       "      <td>1.0</td>\n",
       "      <td>9362</td>\n",
       "      <td>1.23</td>\n",
       "      <td>0.20</td>\n",
       "      <td>3.0</td>\n",
       "      <td>8.0</td>\n",
       "      <td>13.0</td>\n",
       "      <td>2.0</td>\n",
       "      <td>...</td>\n",
       "      <td>362</td>\n",
       "      <td>12605</td>\n",
       "      <td>무</td>\n",
       "      <td>488.0</td>\n",
       "      <td>1808</td>\n",
       "      <td>267</td>\n",
       "      <td>60.79</td>\n",
       "      <td>0.952852</td>\n",
       "      <td>35.399526</td>\n",
       "      <td>2.354708</td>\n",
       "    </tr>\n",
       "    <tr>\n",
       "      <th>2</th>\n",
       "      <td>NaN</td>\n",
       "      <td>11.0</td>\n",
       "      <td>NaN</td>\n",
       "      <td>2576</td>\n",
       "      <td>1.49</td>\n",
       "      <td>0.25</td>\n",
       "      <td>1.0</td>\n",
       "      <td>2.0</td>\n",
       "      <td>31.0</td>\n",
       "      <td>2.0</td>\n",
       "      <td>...</td>\n",
       "      <td>343</td>\n",
       "      <td>2237</td>\n",
       "      <td>무</td>\n",
       "      <td>108.0</td>\n",
       "      <td>626</td>\n",
       "      <td>110</td>\n",
       "      <td>956.51</td>\n",
       "      <td>0.715943</td>\n",
       "      <td>39.839834</td>\n",
       "      <td>2.266277</td>\n",
       "    </tr>\n",
       "    <tr>\n",
       "      <th>3</th>\n",
       "      <td>NaN</td>\n",
       "      <td>4.0</td>\n",
       "      <td>4.0</td>\n",
       "      <td>9377</td>\n",
       "      <td>2.27</td>\n",
       "      <td>0.38</td>\n",
       "      <td>1.0</td>\n",
       "      <td>5.0</td>\n",
       "      <td>5.0</td>\n",
       "      <td>4.0</td>\n",
       "      <td>...</td>\n",
       "      <td>596</td>\n",
       "      <td>3533</td>\n",
       "      <td>유</td>\n",
       "      <td>385.0</td>\n",
       "      <td>1814</td>\n",
       "      <td>311</td>\n",
       "      <td>0.00</td>\n",
       "      <td>0.710363</td>\n",
       "      <td>5.777047</td>\n",
       "      <td>1.081284</td>\n",
       "    </tr>\n",
       "    <tr>\n",
       "      <th>4</th>\n",
       "      <td>NaN</td>\n",
       "      <td>15.0</td>\n",
       "      <td>11.0</td>\n",
       "      <td>17658</td>\n",
       "      <td>8.87</td>\n",
       "      <td>1.47</td>\n",
       "      <td>NaN</td>\n",
       "      <td>5.0</td>\n",
       "      <td>11.0</td>\n",
       "      <td>4.0</td>\n",
       "      <td>...</td>\n",
       "      <td>1617</td>\n",
       "      <td>9390</td>\n",
       "      <td>유</td>\n",
       "      <td>1033.0</td>\n",
       "      <td>3495</td>\n",
       "      <td>491</td>\n",
       "      <td>1.14</td>\n",
       "      <td>0.714284</td>\n",
       "      <td>2.630924</td>\n",
       "      <td>1.576024</td>\n",
       "    </tr>\n",
       "  </tbody>\n",
       "</table>\n",
       "<p>5 rows × 22 columns</p>\n",
       "</div>"
      ],
      "text/plain": [
       "   지하철역수  의료기관수  사회복지시설수   계(명)    면적   구성비  행정동별공원수  공공체육시설수  문화시설수  학교수  \\\n",
       "0    NaN   11.0      5.0  11700  2.57  0.42      2.0     10.0    6.0  8.0   \n",
       "1    2.0   75.0      1.0   9362  1.23  0.20      3.0      8.0   13.0  2.0   \n",
       "2    NaN   11.0      NaN   2576  1.49  0.25      1.0      2.0   31.0  2.0   \n",
       "3    NaN    4.0      4.0   9377  2.27  0.38      1.0      5.0    5.0  4.0   \n",
       "4    NaN   15.0     11.0  17658  8.87  1.47      NaN      5.0   11.0  4.0   \n",
       "\n",
       "   ...  주차장개소  주차장면수  하천및한강여부    아동인구  노인인구  장애인인구  세대당공원면적    교통약자지수  \\\n",
       "0  ...    668   4592        무   612.0  2154    437   337.55  0.883757   \n",
       "1  ...    362  12605        무   488.0  1808    267    60.79  0.952852   \n",
       "2  ...    343   2237        무   108.0   626    110   956.51  0.715943   \n",
       "3  ...    596   3533        유   385.0  1814    311     0.00  0.710363   \n",
       "4  ...   1617   9390        유  1033.0  3495    491     1.14  0.714284   \n",
       "\n",
       "      시민문화지수     접근성지수  \n",
       "0  12.240301  0.978054  \n",
       "1  35.399526  2.354708  \n",
       "2  39.839834  2.266277  \n",
       "3   5.777047  1.081284  \n",
       "4   2.630924  1.576024  \n",
       "\n",
       "[5 rows x 22 columns]"
      ]
     },
     "execution_count": 34,
     "metadata": {},
     "output_type": "execute_result"
    }
   ],
   "source": [
    "df = origin.filter(['지하철역수', '의료기관수', '사회복지시설수', '계(명)', '면적', '구성비', '행정동별공원수', '공공체육시설수',\n",
    "       '문화시설수', '학교수', '사업체수', '보육시설', '주차장개소', '주차장면수', '하천및한강여부', '아동인구',\n",
    "       '노인인구', '장애인인구', '세대당공원면적', '교통약자지수', '시민문화지수', '접근성지수'])\n",
    "df.head()"
   ]
  },
  {
   "cell_type": "code",
   "execution_count": 35,
   "metadata": {},
   "outputs": [
    {
     "data": {
      "text/plain": [
       "지하철역수      0\n",
       "의료기관수      0\n",
       "사회복지시설수    0\n",
       "계(명)       0\n",
       "면적         0\n",
       "구성비        0\n",
       "행정동별공원수    0\n",
       "공공체육시설수    0\n",
       "문화시설수      0\n",
       "학교수        0\n",
       "사업체수       0\n",
       "보육시설       0\n",
       "주차장개소      0\n",
       "주차장면수      0\n",
       "하천및한강여부    0\n",
       "아동인구       0\n",
       "노인인구       0\n",
       "장애인인구      0\n",
       "세대당공원면적    0\n",
       "교통약자지수     0\n",
       "시민문화지수     0\n",
       "접근성지수      0\n",
       "dtype: int64"
      ]
     },
     "execution_count": 35,
     "metadata": {},
     "output_type": "execute_result"
    }
   ],
   "source": [
    "df = df.fillna(0)\n",
    "df.isna().sum()"
   ]
  },
  {
   "cell_type": "code",
   "execution_count": 36,
   "metadata": {},
   "outputs": [
    {
     "data": {
      "text/html": [
       "<div>\n",
       "<style scoped>\n",
       "    .dataframe tbody tr th:only-of-type {\n",
       "        vertical-align: middle;\n",
       "    }\n",
       "\n",
       "    .dataframe tbody tr th {\n",
       "        vertical-align: top;\n",
       "    }\n",
       "\n",
       "    .dataframe thead th {\n",
       "        text-align: right;\n",
       "    }\n",
       "</style>\n",
       "<table border=\"1\" class=\"dataframe\">\n",
       "  <thead>\n",
       "    <tr style=\"text-align: right;\">\n",
       "      <th></th>\n",
       "      <th>세대당공원면적</th>\n",
       "      <th>교통약자지수</th>\n",
       "      <th>시민문화지수</th>\n",
       "      <th>접근성지수</th>\n",
       "    </tr>\n",
       "  </thead>\n",
       "  <tbody>\n",
       "    <tr>\n",
       "      <th>0</th>\n",
       "      <td>337.55</td>\n",
       "      <td>0.883757</td>\n",
       "      <td>12.240301</td>\n",
       "      <td>0.978054</td>\n",
       "    </tr>\n",
       "    <tr>\n",
       "      <th>1</th>\n",
       "      <td>60.79</td>\n",
       "      <td>0.952852</td>\n",
       "      <td>35.399526</td>\n",
       "      <td>2.354708</td>\n",
       "    </tr>\n",
       "    <tr>\n",
       "      <th>2</th>\n",
       "      <td>956.51</td>\n",
       "      <td>0.715943</td>\n",
       "      <td>39.839834</td>\n",
       "      <td>2.266277</td>\n",
       "    </tr>\n",
       "    <tr>\n",
       "      <th>3</th>\n",
       "      <td>0.00</td>\n",
       "      <td>0.710363</td>\n",
       "      <td>5.777047</td>\n",
       "      <td>1.081284</td>\n",
       "    </tr>\n",
       "    <tr>\n",
       "      <th>4</th>\n",
       "      <td>1.14</td>\n",
       "      <td>0.714284</td>\n",
       "      <td>2.630924</td>\n",
       "      <td>1.576024</td>\n",
       "    </tr>\n",
       "  </tbody>\n",
       "</table>\n",
       "</div>"
      ],
      "text/plain": [
       "   세대당공원면적    교통약자지수     시민문화지수     접근성지수\n",
       "0   337.55  0.883757  12.240301  0.978054\n",
       "1    60.79  0.952852  35.399526  2.354708\n",
       "2   956.51  0.715943  39.839834  2.266277\n",
       "3     0.00  0.710363   5.777047  1.081284\n",
       "4     1.14  0.714284   2.630924  1.576024"
      ]
     },
     "execution_count": 36,
     "metadata": {},
     "output_type": "execute_result"
    }
   ],
   "source": [
    "X = df.filter(['세대당공원면적', '교통약자지수', '시민문화지수', '접근성지수'])\n",
    "X.head()"
   ]
  },
  {
   "cell_type": "markdown",
   "metadata": {},
   "source": [
    "### 결측치 확인"
   ]
  },
  {
   "cell_type": "code",
   "execution_count": 12,
   "metadata": {},
   "outputs": [
    {
     "data": {
      "text/plain": [
       "세대당공원면적    3\n",
       "교통약자지수     0\n",
       "시민문화지수     0\n",
       "접근성지수      0\n",
       "dtype: int64"
      ]
     },
     "execution_count": 12,
     "metadata": {},
     "output_type": "execute_result"
    }
   ],
   "source": [
    "X.isna().sum()"
   ]
  },
  {
   "cell_type": "code",
   "execution_count": 13,
   "metadata": {},
   "outputs": [
    {
     "data": {
      "text/plain": [
       "세대당공원면적    0\n",
       "교통약자지수     0\n",
       "시민문화지수     0\n",
       "접근성지수      0\n",
       "dtype: int64"
      ]
     },
     "execution_count": 13,
     "metadata": {},
     "output_type": "execute_result"
    }
   ],
   "source": [
    "X = X.fillna(0)\n",
    "X.isna().sum()"
   ]
  },
  {
   "cell_type": "markdown",
   "metadata": {},
   "source": [
    "### 이상치 `int` 확인"
   ]
  },
  {
   "cell_type": "code",
   "execution_count": 18,
   "metadata": {},
   "outputs": [
    {
     "data": {
      "text/plain": [
       "세대당공원면적    0\n",
       "교통약자지수     0\n",
       "시민문화지수     0\n",
       "접근성지수      0\n",
       "dtype: int64"
      ]
     },
     "execution_count": 18,
     "metadata": {},
     "output_type": "execute_result"
    }
   ],
   "source": [
    "is_inf = X.isin([np.inf, -np.inf])\n",
    "\n",
    "# 각 column별로 -inf 또는 inf 값을 포함하고 있는 행 수를 확인\n",
    "inf_count = is_inf.sum()\n",
    "\n",
    "# 결과 출력\n",
    "inf_count"
   ]
  },
  {
   "cell_type": "code",
   "execution_count": 19,
   "metadata": {},
   "outputs": [
    {
     "data": {
      "text/plain": [
       "Index(['세대당공원면적', '교통약자지수', '시민문화지수', '접근성지수'], dtype='object')"
      ]
     },
     "execution_count": 19,
     "metadata": {},
     "output_type": "execute_result"
    }
   ],
   "source": [
    "X.columns"
   ]
  },
  {
   "cell_type": "code",
   "execution_count": 21,
   "metadata": {},
   "outputs": [],
   "source": [
    "# X['교통약자지수'].unique()"
   ]
  },
  {
   "cell_type": "markdown",
   "metadata": {},
   "source": [
    "### 데이터 스케일링"
   ]
  },
  {
   "cell_type": "code",
   "execution_count": 22,
   "metadata": {},
   "outputs": [
    {
     "data": {
      "text/plain": [
       "array([[0.35289751, 0.06840039, 0.55142171, 0.10048566],\n",
       "       [0.06355396, 0.07374816, 0.58150179, 0.24192358],\n",
       "       [1.        , 0.05541202, 0.58726904, 0.23283811],\n",
       "       [0.        , 0.0549802 , 0.54302699, 0.11109153],\n",
       "       [0.00119183, 0.05528363, 0.53894068, 0.16192126]])"
      ]
     },
     "execution_count": 22,
     "metadata": {},
     "output_type": "execute_result"
    }
   ],
   "source": [
    "scaler = MinMaxScaler()\n",
    "n_data = scaler.fit_transform(X)\n",
    "n_data[:5]"
   ]
  },
  {
   "cell_type": "code",
   "execution_count": 23,
   "metadata": {},
   "outputs": [
    {
     "data": {
      "text/html": [
       "<div>\n",
       "<style scoped>\n",
       "    .dataframe tbody tr th:only-of-type {\n",
       "        vertical-align: middle;\n",
       "    }\n",
       "\n",
       "    .dataframe tbody tr th {\n",
       "        vertical-align: top;\n",
       "    }\n",
       "\n",
       "    .dataframe thead th {\n",
       "        text-align: right;\n",
       "    }\n",
       "</style>\n",
       "<table border=\"1\" class=\"dataframe\">\n",
       "  <thead>\n",
       "    <tr style=\"text-align: right;\">\n",
       "      <th></th>\n",
       "      <th>세대당공원면적</th>\n",
       "      <th>교통약자지수</th>\n",
       "      <th>시민문화지수</th>\n",
       "      <th>접근성지수</th>\n",
       "    </tr>\n",
       "  </thead>\n",
       "  <tbody>\n",
       "    <tr>\n",
       "      <th>0</th>\n",
       "      <td>0.352898</td>\n",
       "      <td>0.068400</td>\n",
       "      <td>0.551422</td>\n",
       "      <td>0.100486</td>\n",
       "    </tr>\n",
       "    <tr>\n",
       "      <th>1</th>\n",
       "      <td>0.063554</td>\n",
       "      <td>0.073748</td>\n",
       "      <td>0.581502</td>\n",
       "      <td>0.241924</td>\n",
       "    </tr>\n",
       "    <tr>\n",
       "      <th>2</th>\n",
       "      <td>1.000000</td>\n",
       "      <td>0.055412</td>\n",
       "      <td>0.587269</td>\n",
       "      <td>0.232838</td>\n",
       "    </tr>\n",
       "    <tr>\n",
       "      <th>3</th>\n",
       "      <td>0.000000</td>\n",
       "      <td>0.054980</td>\n",
       "      <td>0.543027</td>\n",
       "      <td>0.111092</td>\n",
       "    </tr>\n",
       "    <tr>\n",
       "      <th>4</th>\n",
       "      <td>0.001192</td>\n",
       "      <td>0.055284</td>\n",
       "      <td>0.538941</td>\n",
       "      <td>0.161921</td>\n",
       "    </tr>\n",
       "  </tbody>\n",
       "</table>\n",
       "</div>"
      ],
      "text/plain": [
       "    세대당공원면적    교통약자지수    시민문화지수     접근성지수\n",
       "0  0.352898  0.068400  0.551422  0.100486\n",
       "1  0.063554  0.073748  0.581502  0.241924\n",
       "2  1.000000  0.055412  0.587269  0.232838\n",
       "3  0.000000  0.054980  0.543027  0.111092\n",
       "4  0.001192  0.055284  0.538941  0.161921"
      ]
     },
     "execution_count": 23,
     "metadata": {},
     "output_type": "execute_result"
    }
   ],
   "source": [
    "ndf = DataFrame(n_data, columns=X.columns)\n",
    "ndf.head()"
   ]
  },
  {
   "cell_type": "markdown",
   "metadata": {},
   "source": [
    "> 전원 수치 데이터임으로 라벨링 필요 없음"
   ]
  },
  {
   "cell_type": "markdown",
   "metadata": {},
   "source": [
    "## #04. 계층 군집 수행"
   ]
  },
  {
   "cell_type": "markdown",
   "metadata": {},
   "source": [
    "### 1. scipy 패키지\n",
    "\n",
    "scipy는 모델 생성/시각화 과정이 반자동이지만 sklearn은 수동으로 설정(공식으로 판단할 것)\n",
    "\n",
    "linkage : 거리 측정 방법 지정<br/>\n",
    "기본 값 : `ward`<br/>\n",
    "그 외 값 : ‘ward’, ‘complete’, ‘average’, ‘single’"
   ]
  },
  {
   "cell_type": "code",
   "execution_count": 24,
   "metadata": {},
   "outputs": [
    {
     "data": {
      "image/png": "[encoded data removed]",
      "text/plain": [
       "<Figure size 1200x500 with 1 Axes>"
      ]
     },
     "metadata": {},
     "output_type": "display_data"
    }
   ],
   "source": [
    "lnk = linkage(ndf, method=\"ward\")\n",
    "plt.figure(figsize=(12,5))\n",
    "dendrogram(lnk, show_leaf_counts=True)\n",
    "plt.show()\n",
    "plt.close()"
   ]
  },
  {
   "cell_type": "markdown",
   "metadata": {},
   "source": [
    "### 2. sklearn 패키지\n",
    "\n",
    "n_clusters : 찾아야 할 클러스터 수(earlystopping과 유사)\n",
    "\n",
    "affinity : 클러스터 간 거리 측정 방법(euclidean, cityblock, manhattan, cosine)\n",
    "\n",
    "linkage : ward(기본값), complete, average, single\n",
    "\n",
    "compute_distances : 노드간의 거리 계산값을 저장할지 여부(시각화를 위해서는 True를 필수 적용)\n",
    "\n",
    "`n_clusters`은 K-Means에서 엘보우 그래프로 확인된 `4`를 사용."
   ]
  },
  {
   "cell_type": "code",
   "execution_count": 25,
   "metadata": {},
   "outputs": [
    {
     "data": {
      "image/png": "[encoded data removed]",
      "text/plain": [
       "<Figure size 1200x600 with 1 Axes>"
      ]
     },
     "metadata": {},
     "output_type": "display_data"
    }
   ],
   "source": [
    "# 모델 객체 생성\n",
    "ac = AgglomerativeClustering(n_clusters=5,  # 찾아야 할 클러스터 수(earlystopping과 유사)\n",
    "                             metric='euclidean',  # 클러스터 간 거리 측정 방법\n",
    "                             linkage='ward',    # 거리측정 방법\n",
    "                             compute_distances=True #시각화를 위하 반드시 필요\n",
    "                             )\n",
    "# clustering = ac.fit(n_data) #학습\n",
    "\n",
    "clustering = ac.fit(ndf) #학습\n",
    "# print(clustering.labels_)   #학습결과 확인\n",
    "\n",
    "# scipy는 아래의 과정을 자동으로 수행, sklearn은 수동으로 설정(공식으로 판단할 것)\n",
    "counts = np.zeros(clustering.children_.shape[0])    #zeros 모든 원소가 0인 요소\n",
    "n_samples = len(clustering.labels_)\n",
    "\n",
    "# 자식 노드를 반복하면서 점을 찍어준다(자식이 몇개 있는지 확인하는 과정)\n",
    "for i, merge in enumerate(clustering.children_):\n",
    "    current_count = 0\n",
    "    for child_idx in merge:\n",
    "        if child_idx < n_samples:\n",
    "            current_count += 1  # leaf node\n",
    "        else:\n",
    "            current_count += counts[child_idx - n_samples]\n",
    "    counts[i] = current_count\n",
    "\n",
    "# 자식 노드의 수를 저장하는 배열\n",
    "linkage_matrix = np.column_stack(\n",
    "    [clustering.children_, clustering.distances_, counts]\n",
    ").astype(float)\n",
    "\n",
    "# plt를 설정하지 않으면 쓸데 없는 값도 함께 추출됨\n",
    "# dendrogram(linkage_matrix)\n",
    "\n",
    "plt.figure(figsize=(12,6))\n",
    "dendrogram(linkage_matrix)\n",
    "plt.show()\n",
    "plt.close()"
   ]
  },
  {
   "cell_type": "markdown",
   "metadata": {},
   "source": [
    "### 군집수를 4로 설정한 분류 결과값"
   ]
  },
  {
   "cell_type": "code",
   "execution_count": 26,
   "metadata": {},
   "outputs": [
    {
     "data": {
      "text/plain": [
       "array([0, 1, 4, 0, 1, 0, 0, 1, 2, 2, 1, 1, 1, 0, 0, 1, 0, 2, 2, 2, 2, 1,\n",
       "       1, 2, 1, 0, 0, 0, 0, 0, 0, 0, 0, 0, 2, 0, 0, 0, 1, 0, 1, 0, 0, 1,\n",
       "       0, 1, 0, 0, 0, 0, 0, 0, 1, 0, 0, 0, 0, 0, 0, 0, 0, 0, 0, 0, 1, 0,\n",
       "       0, 1, 0, 1, 0, 1, 0, 0, 0, 0, 0, 0, 0, 0, 0, 0, 0, 0, 0, 0, 0, 0,\n",
       "       0, 0, 1, 0, 0, 0, 0, 4, 0, 0, 0, 0, 1, 0, 1, 0, 0, 0, 0, 0, 0, 0,\n",
       "       0, 0, 0, 0, 0, 0, 0, 0, 0, 0, 0, 0, 0, 0, 0, 0, 0, 0, 0, 0, 0, 0,\n",
       "       0, 0, 0, 0, 0, 0, 0, 0, 0, 0, 0, 0, 0, 0, 0, 0, 4, 0, 0, 0, 0, 0,\n",
       "       0, 0, 0, 1, 0, 0, 0, 0, 0, 0, 0, 0, 4, 0, 0, 0, 0, 0, 0, 0, 0, 0,\n",
       "       0, 0, 1, 0, 0, 0, 0, 0, 0, 0, 0, 0, 0, 0, 0, 0, 0, 0, 1, 0, 0, 0,\n",
       "       0, 0, 0, 0, 0, 0, 0, 0, 0, 0, 0, 0, 1, 0, 0, 1, 1, 0, 0, 0, 0, 0,\n",
       "       0, 0, 0, 0, 0, 0, 0, 0, 0, 0, 0, 0, 0, 0, 0, 0, 0, 0, 0, 0, 0, 0,\n",
       "       0, 0, 0, 0, 0, 0, 0, 0, 0, 0, 0, 0, 0, 0, 1, 0, 0, 0, 0, 0, 0, 0,\n",
       "       0, 0, 0, 0, 0, 0, 0, 0, 0, 0, 0, 0, 0, 0, 0, 0, 0, 0, 0, 0, 0, 0,\n",
       "       0, 0, 0, 0, 0, 0, 0, 0, 0, 0, 0, 0, 0, 0, 0, 0, 0, 0, 0, 0, 0, 0,\n",
       "       0, 0, 0, 0, 0, 0, 0, 0, 0, 0, 0, 0, 0, 0, 0, 0, 0, 0, 0, 0, 0, 0,\n",
       "       0, 0, 0, 0, 0, 0, 0, 0, 0, 0, 1, 0, 0, 0, 0, 3, 0, 0, 0, 0, 0, 0,\n",
       "       0, 0, 0, 0, 0, 4, 1, 1, 1, 0, 0, 1, 1, 0, 0, 1, 1, 0, 0, 0, 0, 0,\n",
       "       0, 0, 0, 0, 0, 0, 0, 0, 1, 0, 1, 1, 0, 0, 0, 0, 0, 0, 1, 1, 0, 0,\n",
       "       0, 0, 0, 0, 0, 1, 0, 0, 0, 0, 0, 0, 0, 0, 0, 0, 0, 0, 0, 0, 0, 0,\n",
       "       0, 0, 0, 1, 0, 0, 0, 0], dtype=int64)"
      ]
     },
     "execution_count": 26,
     "metadata": {},
     "output_type": "execute_result"
    }
   ],
   "source": [
    "clustering.labels_"
   ]
  },
  {
   "cell_type": "markdown",
   "metadata": {},
   "source": [
    "### 분류 결과를 DataFrame과 결합\n",
    "\n",
    "> 군집(label)을 포함한 DF 생성. <br/>labels를 hue로 잡고 진행하면 군집의 분류 결과를 알 수 있기 때문."
   ]
  },
  {
   "cell_type": "code",
   "execution_count": 37,
   "metadata": {},
   "outputs": [
    {
     "data": {
      "text/html": [
       "<div>\n",
       "<style scoped>\n",
       "    .dataframe tbody tr th:only-of-type {\n",
       "        vertical-align: middle;\n",
       "    }\n",
       "\n",
       "    .dataframe tbody tr th {\n",
       "        vertical-align: top;\n",
       "    }\n",
       "\n",
       "    .dataframe thead th {\n",
       "        text-align: right;\n",
       "    }\n",
       "</style>\n",
       "<table border=\"1\" class=\"dataframe\">\n",
       "  <thead>\n",
       "    <tr style=\"text-align: right;\">\n",
       "      <th></th>\n",
       "      <th>지하철역수</th>\n",
       "      <th>의료기관수</th>\n",
       "      <th>사회복지시설수</th>\n",
       "      <th>계(명)</th>\n",
       "      <th>면적</th>\n",
       "      <th>구성비</th>\n",
       "      <th>행정동별공원수</th>\n",
       "      <th>공공체육시설수</th>\n",
       "      <th>문화시설수</th>\n",
       "      <th>학교수</th>\n",
       "      <th>...</th>\n",
       "      <th>주차장면수</th>\n",
       "      <th>하천및한강여부</th>\n",
       "      <th>아동인구</th>\n",
       "      <th>노인인구</th>\n",
       "      <th>장애인인구</th>\n",
       "      <th>세대당공원면적</th>\n",
       "      <th>교통약자지수</th>\n",
       "      <th>시민문화지수</th>\n",
       "      <th>접근성지수</th>\n",
       "      <th>계층군집_결과</th>\n",
       "    </tr>\n",
       "  </thead>\n",
       "  <tbody>\n",
       "    <tr>\n",
       "      <th>0</th>\n",
       "      <td>0.0</td>\n",
       "      <td>11.0</td>\n",
       "      <td>5.0</td>\n",
       "      <td>11700</td>\n",
       "      <td>2.57</td>\n",
       "      <td>0.42</td>\n",
       "      <td>2.0</td>\n",
       "      <td>10.0</td>\n",
       "      <td>6.0</td>\n",
       "      <td>8.0</td>\n",
       "      <td>...</td>\n",
       "      <td>4592</td>\n",
       "      <td>무</td>\n",
       "      <td>612.0</td>\n",
       "      <td>2154</td>\n",
       "      <td>437</td>\n",
       "      <td>337.55</td>\n",
       "      <td>0.883757</td>\n",
       "      <td>12.240301</td>\n",
       "      <td>0.978054</td>\n",
       "      <td>0</td>\n",
       "    </tr>\n",
       "    <tr>\n",
       "      <th>1</th>\n",
       "      <td>2.0</td>\n",
       "      <td>75.0</td>\n",
       "      <td>1.0</td>\n",
       "      <td>9362</td>\n",
       "      <td>1.23</td>\n",
       "      <td>0.20</td>\n",
       "      <td>3.0</td>\n",
       "      <td>8.0</td>\n",
       "      <td>13.0</td>\n",
       "      <td>2.0</td>\n",
       "      <td>...</td>\n",
       "      <td>12605</td>\n",
       "      <td>무</td>\n",
       "      <td>488.0</td>\n",
       "      <td>1808</td>\n",
       "      <td>267</td>\n",
       "      <td>60.79</td>\n",
       "      <td>0.952852</td>\n",
       "      <td>35.399526</td>\n",
       "      <td>2.354708</td>\n",
       "      <td>1</td>\n",
       "    </tr>\n",
       "    <tr>\n",
       "      <th>2</th>\n",
       "      <td>0.0</td>\n",
       "      <td>11.0</td>\n",
       "      <td>0.0</td>\n",
       "      <td>2576</td>\n",
       "      <td>1.49</td>\n",
       "      <td>0.25</td>\n",
       "      <td>1.0</td>\n",
       "      <td>2.0</td>\n",
       "      <td>31.0</td>\n",
       "      <td>2.0</td>\n",
       "      <td>...</td>\n",
       "      <td>2237</td>\n",
       "      <td>무</td>\n",
       "      <td>108.0</td>\n",
       "      <td>626</td>\n",
       "      <td>110</td>\n",
       "      <td>956.51</td>\n",
       "      <td>0.715943</td>\n",
       "      <td>39.839834</td>\n",
       "      <td>2.266277</td>\n",
       "      <td>4</td>\n",
       "    </tr>\n",
       "    <tr>\n",
       "      <th>3</th>\n",
       "      <td>0.0</td>\n",
       "      <td>4.0</td>\n",
       "      <td>4.0</td>\n",
       "      <td>9377</td>\n",
       "      <td>2.27</td>\n",
       "      <td>0.38</td>\n",
       "      <td>1.0</td>\n",
       "      <td>5.0</td>\n",
       "      <td>5.0</td>\n",
       "      <td>4.0</td>\n",
       "      <td>...</td>\n",
       "      <td>3533</td>\n",
       "      <td>유</td>\n",
       "      <td>385.0</td>\n",
       "      <td>1814</td>\n",
       "      <td>311</td>\n",
       "      <td>0.00</td>\n",
       "      <td>0.710363</td>\n",
       "      <td>5.777047</td>\n",
       "      <td>1.081284</td>\n",
       "      <td>0</td>\n",
       "    </tr>\n",
       "    <tr>\n",
       "      <th>4</th>\n",
       "      <td>0.0</td>\n",
       "      <td>15.0</td>\n",
       "      <td>11.0</td>\n",
       "      <td>17658</td>\n",
       "      <td>8.87</td>\n",
       "      <td>1.47</td>\n",
       "      <td>0.0</td>\n",
       "      <td>5.0</td>\n",
       "      <td>11.0</td>\n",
       "      <td>4.0</td>\n",
       "      <td>...</td>\n",
       "      <td>9390</td>\n",
       "      <td>유</td>\n",
       "      <td>1033.0</td>\n",
       "      <td>3495</td>\n",
       "      <td>491</td>\n",
       "      <td>1.14</td>\n",
       "      <td>0.714284</td>\n",
       "      <td>2.630924</td>\n",
       "      <td>1.576024</td>\n",
       "      <td>1</td>\n",
       "    </tr>\n",
       "  </tbody>\n",
       "</table>\n",
       "<p>5 rows × 23 columns</p>\n",
       "</div>"
      ],
      "text/plain": [
       "   지하철역수  의료기관수  사회복지시설수   계(명)    면적   구성비  행정동별공원수  공공체육시설수  문화시설수  학교수  \\\n",
       "0    0.0   11.0      5.0  11700  2.57  0.42      2.0     10.0    6.0  8.0   \n",
       "1    2.0   75.0      1.0   9362  1.23  0.20      3.0      8.0   13.0  2.0   \n",
       "2    0.0   11.0      0.0   2576  1.49  0.25      1.0      2.0   31.0  2.0   \n",
       "3    0.0    4.0      4.0   9377  2.27  0.38      1.0      5.0    5.0  4.0   \n",
       "4    0.0   15.0     11.0  17658  8.87  1.47      0.0      5.0   11.0  4.0   \n",
       "\n",
       "   ...  주차장면수  하천및한강여부    아동인구  노인인구 장애인인구  세대당공원면적    교통약자지수     시민문화지수  \\\n",
       "0  ...   4592        무   612.0  2154   437   337.55  0.883757  12.240301   \n",
       "1  ...  12605        무   488.0  1808   267    60.79  0.952852  35.399526   \n",
       "2  ...   2237        무   108.0   626   110   956.51  0.715943  39.839834   \n",
       "3  ...   3533        유   385.0  1814   311     0.00  0.710363   5.777047   \n",
       "4  ...   9390        유  1033.0  3495   491     1.14  0.714284   2.630924   \n",
       "\n",
       "      접근성지수  계층군집_결과  \n",
       "0  0.978054        0  \n",
       "1  2.354708        1  \n",
       "2  2.266277        4  \n",
       "3  1.081284        0  \n",
       "4  1.576024        1  \n",
       "\n",
       "[5 rows x 23 columns]"
      ]
     },
     "execution_count": 37,
     "metadata": {},
     "output_type": "execute_result"
    }
   ],
   "source": [
    "df['계층군집_결과'] = clustering.labels_\n",
    "df.head()"
   ]
  },
  {
   "cell_type": "code",
   "execution_count": 32,
   "metadata": {},
   "outputs": [
    {
     "data": {
      "text/plain": [
       "Index(['세대당공원면적', '교통약자지수', '시민문화지수', '접근성지수'], dtype='object')"
      ]
     },
     "execution_count": 32,
     "metadata": {},
     "output_type": "execute_result"
    }
   ],
   "source": [
    "X.columns"
   ]
  },
  {
   "cell_type": "code",
   "execution_count": 39,
   "metadata": {},
   "outputs": [
    {
     "data": {
      "image/png": "[encoded data removed]",
      "text/plain": [
       "<Figure size 1200x500 with 1 Axes>"
      ]
     },
     "metadata": {},
     "output_type": "display_data"
    }
   ],
   "source": [
    "plt.figure(figsize=(12,5))\n",
    "# #sb.scatterplot(x=n_data[, 0], y=n_data[, 1])\n",
    "sb.scatterplot(data=df, x='세대당공원면적', y='교통약자지수', hue='계층군집_결과')\n",
    "plt.grid()\n",
    "plt.show()\n",
    "plt.close()"
   ]
  },
  {
   "cell_type": "code",
   "execution_count": null,
   "metadata": {},
   "outputs": [],
   "source": []
  }
 ],
 "metadata": {
  "kernelspec": {
   "display_name": "Python 3",
   "language": "python",
   "name": "python3"
  },
  "language_info": {
   "codemirror_mode": {
    "name": "ipython",
    "version": 3
   },
   "file_extension": ".py",
   "mimetype": "text/x-python",
   "name": "python",
   "nbconvert_exporter": "python",
   "pygments_lexer": "ipython3",
   "version": "3.9.13"
  }
 },
 "nbformat": 4,
 "nbformat_minor": 2
}
